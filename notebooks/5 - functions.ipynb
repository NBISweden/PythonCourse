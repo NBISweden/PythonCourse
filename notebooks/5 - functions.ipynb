{
 "cells": [
  {
   "cell_type": "markdown",
   "metadata": {},
   "source": [
    "<header id=\"nbis-notebooks\">\n",
    "<a href=\"https://nbis.se\"><img src=\"https://nbisweden.github.io/PythonCourse/img/nbis.png\" alt=\"NBIS\" /></a>\n",
    "<nav><a href=\"https://nbisweden.github.io/PythonCourse/ht17/\"><i class=\"fa fa-fw fa-home\"></i></a><a href=\"https://nbisweden.github.io/PythonCourse/ht17/topics\"><i class=\"fa fa-fw fa-tasks\"></i> Topics</a><a href=\"https://nbisweden.github.io/PythonCourse/ht17/project\"><i class=\"fa fa-briefcase\"></i> Project</a><a href=\"https://nbisweden.github.io/PythonCourse/ht17/preliminary\"><i class=\"fa fa-fw fa-hourglass-start\"></i> Preliminaries</a><a href=\"https://nbisweden.github.io/PythonCourse/ht17/help\"><i class=\"fa fa-fw fa-support\"></i> Help</a>\n",
    "</nav>\n",
    "<h1>Introduction to Python<small>HT17</small></h1>\n",
    "</header>\n",
    "\n",
    "\n",
    "Jupyter Notebooks are used to save the terminal output from the commands we potentially demonstrated in class.\n",
    "\n",
    "It conveniently allows you to re-run the session.\n",
    "\n",
    "You can also open a terminal, and start your `python` interpreter, by issuing the command:\n",
    "\n",
    "```\n",
    "$ python\n",
    "Python 3.5.0 (default, Sep 25 2015, 16:02:14)\n",
    "...\n",
    ">>>\n",
    "```\n",
    "\n",
    "----\n",
    "\n",
    "## Functions\n",
    "\n"
   ]
  },
  {
   "cell_type": "code",
   "execution_count": null,
   "metadata": {
    "collapsed": true
   },
   "outputs": [],
   "source": [
    "def format_nicely(arg1, arg2, arg3): # positional arguments\n",
    "    result = arg1 + '\\t' + arg2 + ' (' + arg3 +')'\n",
    "    return result"
   ]
  },
  {
   "cell_type": "code",
   "execution_count": null,
   "metadata": {},
   "outputs": [],
   "source": [
    "triplets = [\n",
    "    ('10',  'Great Movie', '2003' ), \n",
    "    ('9.4', 'Some Movie', '2017' ), \n",
    "    ('8.6', 'Not so good', '2000' ), \n",
    "]\n",
    "\n",
    "for (a,b,c) in triplets:\n",
    "    \n",
    "    print( format_nicely( a,b,c ) )\n"
   ]
  },
  {
   "cell_type": "code",
   "execution_count": null,
   "metadata": {},
   "outputs": [],
   "source": [
    "for (a,b,c) in triplets:\n",
    "    \n",
    "    print( format_nicely(c,b,a) )\n"
   ]
  },
  {
   "cell_type": "code",
   "execution_count": null,
   "metadata": {},
   "outputs": [],
   "source": [
    "for (a,b,c) in triplets:\n",
    "    \n",
    "    print( format_nicely( b,c ) )\n"
   ]
  },
  {
   "cell_type": "markdown",
   "metadata": {},
   "source": [
    "---\n",
    "## Scope"
   ]
  },
  {
   "cell_type": "code",
   "execution_count": null,
   "metadata": {},
   "outputs": [],
   "source": [
    "product = 0\n",
    "print('Product before', product)\n",
    "\n",
    "def do_calculation(a,b):\n",
    "    product = a * b\n",
    "    return product\n",
    "\n",
    "\n",
    "r = do_calculation(3,2)\n",
    "print('Result:', r)\n",
    "\n",
    "print('Product after', product)"
   ]
  },
  {
   "cell_type": "code",
   "execution_count": null,
   "metadata": {},
   "outputs": [],
   "source": [
    "product = 0\n",
    "print('Product before', product)\n",
    "\n",
    "def do_calculation(a,b):\n",
    "    global product\n",
    "    product = a * b\n",
    "    return product\n",
    "\n",
    "\n",
    "r = do_calculation(3,2)\n",
    "print('Result:', r)\n",
    "\n",
    "print('Product after', product)"
   ]
  },
  {
   "cell_type": "markdown",
   "metadata": {},
   "source": [
    "---\n",
    "## Keyword arguments (or named arguments) and default values"
   ]
  },
  {
   "cell_type": "code",
   "execution_count": null,
   "metadata": {},
   "outputs": [],
   "source": [
    "# Function definition\n",
    "# Given a name and an age\n",
    "# format them like that: [Name: 'name', Age: age]\n",
    "def format_name( name, age = 22 ):\n",
    "    result = \"[Name: \" + name + \", Age: \" + age + \"]\"\n",
    "    return result"
   ]
  },
  {
   "cell_type": "code",
   "execution_count": null,
   "metadata": {
    "scrolled": true
   },
   "outputs": [],
   "source": [
    "# Now we can call format_name\n",
    "p1 = format_name( age=41, name=\"Angelina\" )\n",
    "p2 = format_name( name=\"Brad\", age=53 )\n",
    "\n",
    "print(p1)\n",
    "print(p2)"
   ]
  },
  {
   "cell_type": "code",
   "execution_count": null,
   "metadata": {},
   "outputs": [],
   "source": [
    "# Function definition\n",
    "# Given a name and an age\n",
    "# format them like that: [Name: 'name', Age: age]\n",
    "def format_name( name, age = 22 ):\n",
    "    result = \"[Name: \" + name + \", Age: \" + str(age) + \"]\"\n",
    "    return result"
   ]
  },
  {
   "cell_type": "code",
   "execution_count": null,
   "metadata": {},
   "outputs": [],
   "source": [
    "# Now we can call format_name\n",
    "p1 = format_name( name=\"Brad\", age=53 )\n",
    "p2 = format_name( age=41, name=\"Angelina\" )\n",
    "\n",
    "print(p1)\n",
    "print(p2)"
   ]
  },
  {
   "cell_type": "code",
   "execution_count": null,
   "metadata": {},
   "outputs": [],
   "source": [
    "p3 = format_name( \"Fred\" )\n",
    "p4 = format_name( \"Alex\", 31 )\n",
    "\n",
    "print(p3)\n",
    "print(p4)"
   ]
  },
  {
   "cell_type": "code",
   "execution_count": null,
   "metadata": {},
   "outputs": [],
   "source": [
    "p5 = get_info( 37, \"Franck\" )\n",
    "\n",
    "print(p5)"
   ]
  },
  {
   "cell_type": "code",
   "execution_count": null,
   "metadata": {},
   "outputs": [],
   "source": [
    "p6 = format_name( age=49, \"Julia\" )\n",
    "\n",
    "print(p6)"
   ]
  },
  {
   "cell_type": "markdown",
   "metadata": {},
   "source": [
    "---\n",
    "## Positional arguments first, Keyword arguments then"
   ]
  },
  {
   "cell_type": "code",
   "execution_count": null,
   "metadata": {
    "collapsed": true
   },
   "outputs": [],
   "source": [
    "def do_calculation(a,b):\n",
    "    result = a + 3 * b\n",
    "    return result"
   ]
  },
  {
   "cell_type": "code",
   "execution_count": null,
   "metadata": {},
   "outputs": [],
   "source": [
    "r = do_calculation(10,2)\n",
    "print(r)"
   ]
  },
  {
   "cell_type": "code",
   "execution_count": null,
   "metadata": {},
   "outputs": [],
   "source": [
    "r = do_calculation(10,b=2)\n",
    "print(r)"
   ]
  },
  {
   "cell_type": "code",
   "execution_count": null,
   "metadata": {},
   "outputs": [],
   "source": [
    "r = do_calculation(a=10,b=2)\n",
    "print(r)"
   ]
  },
  {
   "cell_type": "code",
   "execution_count": null,
   "metadata": {},
   "outputs": [],
   "source": [
    "r = do_calculation(a=10,2)\n",
    "print(r)"
   ]
  },
  {
   "cell_type": "markdown",
   "metadata": {},
   "source": [
    "---\n",
    "## Documentation"
   ]
  },
  {
   "cell_type": "code",
   "execution_count": null,
   "metadata": {
    "collapsed": true
   },
   "outputs": [],
   "source": [
    "def format_name( name, age = 22 ):\n",
    "    '''Given a name and an age\n",
    "       format them like that:\n",
    "       [Name: 'name', Age: age]'''\n",
    "\n",
    "    result = \"[Name: \" + name + \", Age: \" + str(age) + \"]\"\n",
    "    return result"
   ]
  },
  {
   "cell_type": "code",
   "execution_count": null,
   "metadata": {},
   "outputs": [],
   "source": [
    "help(format_name)"
   ]
  },
  {
   "cell_type": "markdown",
   "metadata": {},
   "source": [
    "----"
   ]
  },
  {
   "cell_type": "code",
   "execution_count": 1,
   "metadata": {},
   "outputs": [
    {
     "data": {
      "text/html": [
       "<style>header#nbis-notebooks{box-sizing:border-box;background-color:#2b5b84;background:linear-gradient(0deg, #fff 30%, #2b5b84 40%);color:white;padding:1em 3em 0 3em}header#nbis-notebooks>a{text-decoration:none;cursor:pointer;display:inline-block;text-shadow:1px 1px 0 rgba(0,0,0,0.4);color:#ffffff;padding:0.3em 1em;border:0;background:transparent;position:absolute;left:0;top:center}header#nbis-notebooks>a:hover{box-shadow:0px 35px 15px -20px rgba(0,0,0,0.75)}header#nbis-notebooks nav{display:flex;justify-content:center;align-items:center;height:50px}header#nbis-notebooks nav a{text-decoration:none;cursor:pointer;display:inline-block;text-shadow:1px 1px 0 rgba(0,0,0,0.4);border:1px solid #080808;border-left:0;color:#ffffff;padding:0.3em 1em;background:#3c3c3c;background:linear-gradient(0deg, #3c3c3c 0%, #222 50%, #3c3c3c 100%)}header#nbis-notebooks nav a i{margin-right:0.5ex}header#nbis-notebooks nav a:hover{background:#080808;background:linear-gradient(0deg, #3c3c3c 0%, #080808 50%, #3c3c3c 100%)}header#nbis-notebooks nav a.active{background:#947878;background:linear-gradient(0deg, #3c3c3c 0%, #947878 50%, #3c3c3c 100%)}header#nbis-notebooks nav a:first-child{background:transparent;padding:0;border:0;margin-right:1ex}header#nbis-notebooks nav a:first-child:hover{color:black}header#nbis-notebooks nav a:nth-child(2){border-radius:1ex 0 0 1ex;border-left:1px solid #080808}header#nbis-notebooks nav a:last-child{border-radius:0 1ex 1ex 0}header#nbis-notebooks>img{display:block;max-width:100%}header#nbis-notebooks>h1{color:black;font-size:1.5em}header#nbis-notebooks>h2{color:black;font-size:1.5em}header#nbis-notebooks h1,header#nbis-notebooks h2{text-align:center;margin:0.4em 0}header#nbis-notebooks h1 small,header#nbis-notebooks h2 small{font-size:70%}header#nbis-notebooks h1 small:before,header#nbis-notebooks h2 small:before{content:'-';margin:0 1ex}header h2+h1{font-size:0.8em;position:absolute;top:0;left:50%;transform:translate(-50%, 0%);color:white;margin:0;padding:0}header h2+h1 small{font-size:100%}\n",
       "</style>"
      ],
      "text/plain": [
       "<IPython.core.display.HTML object>"
      ]
     },
     "execution_count": 1,
     "metadata": {},
     "output_type": "execute_result"
    }
   ],
   "source": [
    "from IPython.core.display import HTML\n",
    "from urllib.request import urlopen\n",
    "HTML('<style>{}</style>'.format(urlopen('https://nbisweden.github.io/PythonCourse/css/ipython.css').read().decode()))"
   ]
  }
 ],
 "metadata": {
  "kernelspec": {
   "display_name": "Python 3",
   "language": "python",
   "name": "python3"
  },
  "language_info": {
   "codemirror_mode": {
    "name": "ipython",
    "version": 3
   },
   "file_extension": ".py",
   "mimetype": "text/x-python",
   "name": "python",
   "nbconvert_exporter": "python",
   "pygments_lexer": "ipython3",
   "version": "3.6.1"
  }
 },
 "nbformat": 4,
 "nbformat_minor": 2
}
