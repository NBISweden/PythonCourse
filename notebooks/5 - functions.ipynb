{
 "cells": [
  {
   "cell_type": "markdown",
   "metadata": {},
   "source": [
    "<nav style=\"box-sizing:border-box;background-color:#2b5b84;background:linear-gradient(0deg, white 0%, #2b5b84 5%);padding:1em 3em;line-height:1.4;display:flex;justify-content:center;align-items:center;font-size:1em;\">\n",
    "<a href=\"https://nbisweden.github.io/PythonCourse/ht17/\" style=\"text-decoration:none;display:inline-block;color:#ffffff;padding:0.3em 1em;background:#3c3c3c;background:linear-gradient(0deg, #3c3c3c 0%, #222 50%, #3c3c3c 100%);border-radius:1ex 0 0 1ex;border:1px solid #080808;\"><i class=\"fa fa-fw fa-home\"></i> Home</a>\n",
    "<a  href=\"https://nbisweden.github.io/PythonCourse/ht17/topics\" style=\"text-decoration:none;display:inline-block;border:1px solid #080808;border-left:0;color:#ffffff;padding:0.3em 1em;background:#3c3c3c;background:linear-gradient(0deg, #3c3c3c 0%, #222 50%, #3c3c3c 100%);\"><i class=\"fa fa-fw fa-tasks\"></i> Topics</a>\n",
    "<a  href=\"https://nbisweden.github.io/PythonCourse/ht17/project\" style=\"text-decoration:none;display:inline-block;border:1px solid #080808;border-left:0;color:#ffffff;padding:0.3em 1em;background:#3c3c3c;background:linear-gradient(0deg, #3c3c3c 0%, #222 50%, #3c3c3c 100%);\"><i class=\"fa fa-briefcase\"></i> Project</a>\n",
    "<a  href=\"https://nbisweden.github.io/PythonCourse/ht17/preliminary\" style=\"text-decoration:none;display:inline-block;border:1px solid #080808;border-left:0;color:#ffffff;padding:0.3em 1em;background:#3c3c3c;background:linear-gradient(0deg, #3c3c3c 0%, #222 50%, #3c3c3c 100%);\"><i class=\"fa fa-fw fa-hourglass-start\"></i> Preliminaries</a>\n",
    "<a  href=\"https://nbisweden.github.io/PythonCourse/ht17/help\" style=\"text-decoration:none;display:inline-block;border:1px solid #080808;border-left:0;color:#ffffff;padding:0.3em 1em;background:#3c3c3c;background:linear-gradient(0deg, #3c3c3c 0%, #222 50%, #3c3c3c 100%);border-radius:0 1ex 1ex 0;\"><i class=\"fa fa-fw fa-support\"></i> Help</a>\n",
    "<a href=\"https://nbis.se\" style=\"text-decoration:none;display:inline-block;margin-left:auto;border:0;\"><img src=\"https://nbisweden.github.io/PythonCourse/img/nbis.png\" alt=\"NBIS\" height=\"50px\" /></a>\n",
    "</nav>\n",
    "\n",
    "<h1 style=\"text-align:center\">Introduction to Python<small> - HT17</small></h1>\n",
    "\n",
    "\n",
    "Jupyter Notebooks are used to save the terminal output from the commands we potentially demonstrated in class.\n",
    "\n",
    "It conveniently allows you to re-run the session.\n",
    "\n",
    "You can also open a terminal, and start your `python` interpreter, by issuing the command:\n",
    "\n",
    "```\n",
    "$ python\n",
    "Python 3.5.0 (default, Sep 25 2015, 16:02:14)\n",
    "...\n",
    ">>>\n",
    "```\n",
    "\n",
    "----\n",
    "\n",
    "## Functions\n",
    "\n"
   ]
  },
  {
   "cell_type": "code",
   "execution_count": null,
   "metadata": {
    "collapsed": true
   },
   "outputs": [],
   "source": [
    "def format_nicely(arg1, arg2, arg3): # positional arguments\n",
    "    result = arg1 + '\\t' + arg2 + ' (' + arg3 +')'\n",
    "    return result"
   ]
  },
  {
   "cell_type": "code",
   "execution_count": null,
   "metadata": {},
   "outputs": [],
   "source": [
    "triplets = [\n",
    "    ('10',  'Great Movie', '2003' ), \n",
    "    ('9.4', 'Some Movie', '2017' ), \n",
    "    ('8.6', 'Not so good', '2000' ), \n",
    "]\n",
    "\n",
    "for (a,b,c) in triplets:\n",
    "    \n",
    "    print( format_nicely( a,b,c ) )\n"
   ]
  },
  {
   "cell_type": "code",
   "execution_count": null,
   "metadata": {},
   "outputs": [],
   "source": [
    "for (a,b,c) in triplets:\n",
    "    \n",
    "    print( format_nicely(c,b,a) )\n"
   ]
  },
  {
   "cell_type": "code",
   "execution_count": null,
   "metadata": {},
   "outputs": [],
   "source": [
    "for (a,b,c) in triplets:\n",
    "    \n",
    "    print( format_nicely( b,c ) )\n"
   ]
  },
  {
   "cell_type": "markdown",
   "metadata": {},
   "source": [
    "---\n",
    "## Scope"
   ]
  },
  {
   "cell_type": "code",
   "execution_count": null,
   "metadata": {},
   "outputs": [],
   "source": [
    "product = 0\n",
    "print('Product before', product)\n",
    "\n",
    "def do_calculation(a,b):\n",
    "    product = a * b\n",
    "    return product\n",
    "\n",
    "\n",
    "r = do_calculation(3,2)\n",
    "print('Result:', r)\n",
    "\n",
    "print('Product after', product)"
   ]
  },
  {
   "cell_type": "code",
   "execution_count": null,
   "metadata": {},
   "outputs": [],
   "source": [
    "product = 0\n",
    "print('Product before', product)\n",
    "\n",
    "def do_calculation(a,b):\n",
    "    global product\n",
    "    product = a * b\n",
    "    return product\n",
    "\n",
    "\n",
    "r = do_calculation(3,2)\n",
    "print('Result:', r)\n",
    "\n",
    "print('Product after', product)"
   ]
  },
  {
   "cell_type": "markdown",
   "metadata": {},
   "source": [
    "---\n",
    "## Keyword arguments (or named arguments) and default values"
   ]
  },
  {
   "cell_type": "code",
   "execution_count": null,
   "metadata": {},
   "outputs": [],
   "source": [
    "# Function definition\n",
    "# Given a name and an age\n",
    "# format them like that: [Name: 'name', Age: age]\n",
    "def format_name( name, age = 22 ):\n",
    "    result = \"[Name: \" + name + \", Age: \" + age + \"]\"\n",
    "    return result"
   ]
  },
  {
   "cell_type": "code",
   "execution_count": null,
   "metadata": {
    "scrolled": true
   },
   "outputs": [],
   "source": [
    "# Now we can call format_name\n",
    "p1 = format_name( age=41, name=\"Angelina\" )\n",
    "p2 = format_name( name=\"Brad\", age=53 )\n",
    "\n",
    "print(p1)\n",
    "print(p2)"
   ]
  },
  {
   "cell_type": "code",
   "execution_count": null,
   "metadata": {},
   "outputs": [],
   "source": [
    "# Function definition\n",
    "# Given a name and an age\n",
    "# format them like that: [Name: 'name', Age: age]\n",
    "def format_name( name, age = 22 ):\n",
    "    result = \"[Name: \" + name + \", Age: \" + str(age) + \"]\"\n",
    "    return result"
   ]
  },
  {
   "cell_type": "code",
   "execution_count": null,
   "metadata": {},
   "outputs": [],
   "source": [
    "# Now we can call format_name\n",
    "p1 = format_name( name=\"Brad\", age=53 )\n",
    "p2 = format_name( age=41, name=\"Angelina\" )\n",
    "\n",
    "print(p1)\n",
    "print(p2)"
   ]
  },
  {
   "cell_type": "code",
   "execution_count": null,
   "metadata": {},
   "outputs": [],
   "source": [
    "p3 = format_name( \"Fred\" )\n",
    "p4 = format_name( \"Alex\", 31 )\n",
    "\n",
    "print(p3)\n",
    "print(p4)"
   ]
  },
  {
   "cell_type": "code",
   "execution_count": null,
   "metadata": {},
   "outputs": [],
   "source": [
    "p5 = get_info( 37, \"Franck\" )\n",
    "\n",
    "print(p5)"
   ]
  },
  {
   "cell_type": "code",
   "execution_count": null,
   "metadata": {},
   "outputs": [],
   "source": [
    "p6 = format_name( age=49, \"Julia\" )\n",
    "\n",
    "print(p6)"
   ]
  },
  {
   "cell_type": "markdown",
   "metadata": {},
   "source": [
    "---\n",
    "## Positional arguments first, Keyword arguments then"
   ]
  },
  {
   "cell_type": "code",
   "execution_count": null,
   "metadata": {
    "collapsed": true
   },
   "outputs": [],
   "source": [
    "def do_calculation(a,b):\n",
    "    result = a + 3 * b\n",
    "    return result"
   ]
  },
  {
   "cell_type": "code",
   "execution_count": null,
   "metadata": {},
   "outputs": [],
   "source": [
    "r = do_calculation(10,2)\n",
    "print(r)"
   ]
  },
  {
   "cell_type": "code",
   "execution_count": null,
   "metadata": {},
   "outputs": [],
   "source": [
    "r = do_calculation(10,b=2)\n",
    "print(r)"
   ]
  },
  {
   "cell_type": "code",
   "execution_count": null,
   "metadata": {},
   "outputs": [],
   "source": [
    "r = do_calculation(a=10,b=2)\n",
    "print(r)"
   ]
  },
  {
   "cell_type": "code",
   "execution_count": null,
   "metadata": {},
   "outputs": [],
   "source": [
    "r = do_calculation(a=10,2)\n",
    "print(r)"
   ]
  },
  {
   "cell_type": "markdown",
   "metadata": {},
   "source": [
    "---\n",
    "## Documentation"
   ]
  },
  {
   "cell_type": "code",
   "execution_count": null,
   "metadata": {
    "collapsed": true
   },
   "outputs": [],
   "source": [
    "def format_name( name, age = 22 ):\n",
    "    '''Given a name and an age\n",
    "       format them like that:\n",
    "       [Name: 'name', Age: age]'''\n",
    "\n",
    "    result = \"[Name: \" + name + \", Age: \" + str(age) + \"]\"\n",
    "    return result"
   ]
  },
  {
   "cell_type": "code",
   "execution_count": null,
   "metadata": {},
   "outputs": [],
   "source": [
    "help(format_name)"
   ]
  }
 ],
 "metadata": {
  "kernelspec": {
   "display_name": "Python 3",
   "language": "python",
   "name": "python3"
  },
  "language_info": {
   "codemirror_mode": {
    "name": "ipython",
    "version": 3
   },
   "file_extension": ".py",
   "mimetype": "text/x-python",
   "name": "python",
   "nbconvert_exporter": "python",
   "pygments_lexer": "ipython3",
   "version": "3.6.1"
  }
 },
 "nbformat": 4,
 "nbformat_minor": 2
}
