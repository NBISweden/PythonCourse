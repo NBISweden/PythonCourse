{
 "cells": [
  {
   "cell_type": "markdown",
   "metadata": {},
   "source": [
    "<header id=\"nbis-notebooks\">\n",
    "<a href=\"https://nbis.se\"><img src=\"https://nbisweden.github.io/PythonCourse/img/nbis.png\" alt=\"NBIS\" /></a>\n",
    "<nav><a href=\"https://nbisweden.github.io/PythonCourse/ht17/\"><i class=\"fa fa-fw fa-home\"></i></a><a href=\"https://nbisweden.github.io/PythonCourse/ht17/topics\"><i class=\"fa fa-fw fa-tasks\"></i> Topics</a><a href=\"https://nbisweden.github.io/PythonCourse/ht17/project\"><i class=\"fa fa-briefcase\"></i> Project</a><a href=\"https://nbisweden.github.io/PythonCourse/ht17/preliminary\"><i class=\"fa fa-fw fa-hourglass-start\"></i> Preliminaries</a><a href=\"https://nbisweden.github.io/PythonCourse/ht17/help\"><i class=\"fa fa-fw fa-support\"></i> Help</a>\n",
    "</nav>\n",
    "<h1>Introduction to Python<small>HT17</small></h1>\n",
    "</header>\n",
    "\n",
    "\n",
    "Jupyter Notebooks are used to save the terminal output from the commands we potentially demonstrated in class.\n",
    "\n",
    "It conveniently allows you to re-run the session.\n",
    "\n",
    "You can also open a terminal, and start your `python` interpreter, by issuing the command:\n",
    "\n",
    "```\n",
    "$ python\n",
    "Python 3.5.0 (default, Sep 25 2015, 16:02:14)\n",
    "...\n",
    ">>>\n",
    "```\n",
    "\n",
    "----\n",
    "\n",
    "## The `dict` type\n",
    "\n",
    "From the [documentation](https://docs.python.org/3.5/library/stdtypes.html#mapping-types-dict):\n"
   ]
  },
  {
   "cell_type": "code",
   "execution_count": null,
   "metadata": {
    "collapsed": true
   },
   "outputs": [],
   "source": [
    "d = {'Jack': 32, 'Jane': 25, 'Jones': 'hello', 'Me': None }"
   ]
  },
  {
   "cell_type": "code",
   "execution_count": null,
   "metadata": {},
   "outputs": [],
   "source": [
    "d['Jack']"
   ]
  },
  {
   "cell_type": "code",
   "execution_count": null,
   "metadata": {},
   "outputs": [],
   "source": [
    "result = d[17]"
   ]
  },
  {
   "cell_type": "code",
   "execution_count": null,
   "metadata": {},
   "outputs": [],
   "source": [
    "result = d.get(17)\n",
    "print(result)"
   ]
  },
  {
   "cell_type": "code",
   "execution_count": null,
   "metadata": {},
   "outputs": [],
   "source": [
    "result = d.get(17,'NotFound')\n",
    "result"
   ]
  },
  {
   "cell_type": "code",
   "execution_count": null,
   "metadata": {},
   "outputs": [],
   "source": [
    "print(id(d))\n",
    "d['Fred'] = 'Supercalifragilisticexpialidocious'"
   ]
  },
  {
   "cell_type": "code",
   "execution_count": null,
   "metadata": {},
   "outputs": [],
   "source": [
    "print(d)\n",
    "print(id(d))"
   ]
  },
  {
   "cell_type": "markdown",
   "metadata": {},
   "source": [
    "Ok... dict are mutable"
   ]
  },
  {
   "cell_type": "code",
   "execution_count": null,
   "metadata": {
    "collapsed": true
   },
   "outputs": [],
   "source": [
    "d['Jack'] = 1 # Overwrite"
   ]
  },
  {
   "cell_type": "code",
   "execution_count": null,
   "metadata": {},
   "outputs": [],
   "source": [
    "d['Jack'] += 1\n",
    "print(d)"
   ]
  },
  {
   "cell_type": "code",
   "execution_count": null,
   "metadata": {},
   "outputs": [],
   "source": [
    "del d['me']"
   ]
  },
  {
   "cell_type": "code",
   "execution_count": null,
   "metadata": {},
   "outputs": [],
   "source": [
    "del d['Me']\n",
    "print(d)"
   ]
  },
  {
   "cell_type": "markdown",
   "metadata": {},
   "source": [
    "Maybe not printed in the same order the mappings were entered. Nevermind."
   ]
  },
  {
   "cell_type": "code",
   "execution_count": null,
   "metadata": {},
   "outputs": [],
   "source": [
    "'Fred' in d"
   ]
  },
  {
   "cell_type": "code",
   "execution_count": null,
   "metadata": {},
   "outputs": [],
   "source": [
    "'fred' in d"
   ]
  },
  {
   "cell_type": "markdown",
   "metadata": {},
   "source": [
    "'fred' and 'Fred' don't have the same hash values"
   ]
  },
  {
   "cell_type": "code",
   "execution_count": null,
   "metadata": {},
   "outputs": [],
   "source": [
    "h1 = hash('Fred')\n",
    "h2 = hash('fred')\n",
    "print('h1:',h1,'equals h2',h2,'?', h1==h2)"
   ]
  },
  {
   "cell_type": "code",
   "execution_count": null,
   "metadata": {},
   "outputs": [],
   "source": [
    "print(d.keys())"
   ]
  },
  {
   "cell_type": "code",
   "execution_count": null,
   "metadata": {},
   "outputs": [],
   "source": [
    "print(d.values())"
   ]
  },
  {
   "cell_type": "markdown",
   "metadata": {},
   "source": [
    "dict_keys and dict_values ???\n",
    "Oh...is it like range? i.e. a convenient type for iteration?"
   ]
  },
  {
   "cell_type": "code",
   "execution_count": null,
   "metadata": {},
   "outputs": [],
   "source": [
    "for k in d.keys():\n",
    "    print('Key',k)"
   ]
  },
  {
   "cell_type": "code",
   "execution_count": null,
   "metadata": {},
   "outputs": [],
   "source": [
    "for v in d.values():\n",
    "    print('Value:',v)"
   ]
  },
  {
   "cell_type": "code",
   "execution_count": null,
   "metadata": {},
   "outputs": [],
   "source": [
    "for k,v in d.items(): # pair iterator\n",
    "    print('Key:',k,' | Value:',v)"
   ]
  },
  {
   "cell_type": "code",
   "execution_count": null,
   "metadata": {},
   "outputs": [],
   "source": [
    "print(d)\n",
    "d.update( {'new-key':'some-value', 'Jane': 2000  } )\n",
    "print(d)"
   ]
  },
  {
   "cell_type": "markdown",
   "metadata": {},
   "source": [
    "Go back to the exercises and print the number of movies per category."
   ]
  },
  {
   "cell_type": "markdown",
   "metadata": {},
   "source": [
    "----"
   ]
  },
  {
   "cell_type": "code",
   "execution_count": 1,
   "metadata": {},
   "outputs": [
    {
     "data": {
      "text/html": [
       "<style>header#nbis-notebooks{box-sizing:border-box;background-color:#2b5b84;background:linear-gradient(0deg, #fff 30%, #2b5b84 40%);color:white;padding:1em 3em 0 3em}header#nbis-notebooks>a{text-decoration:none;cursor:pointer;display:inline-block;text-shadow:1px 1px 0 rgba(0,0,0,0.4);color:#ffffff;padding:0.3em 1em;border:0;background:transparent;position:absolute;left:0;top:center}header#nbis-notebooks>a:hover{box-shadow:0px 35px 15px -20px rgba(0,0,0,0.75)}header#nbis-notebooks nav{display:flex;justify-content:center;align-items:center;height:50px}header#nbis-notebooks nav a{text-decoration:none;cursor:pointer;display:inline-block;text-shadow:1px 1px 0 rgba(0,0,0,0.4);border:1px solid #080808;border-left:0;color:#ffffff;padding:0.3em 1em;background:#3c3c3c;background:linear-gradient(0deg, #3c3c3c 0%, #222 50%, #3c3c3c 100%)}header#nbis-notebooks nav a i{margin-right:0.5ex}header#nbis-notebooks nav a:hover{background:#080808;background:linear-gradient(0deg, #3c3c3c 0%, #080808 50%, #3c3c3c 100%)}header#nbis-notebooks nav a.active{background:#947878;background:linear-gradient(0deg, #3c3c3c 0%, #947878 50%, #3c3c3c 100%)}header#nbis-notebooks nav a:first-child{background:transparent;padding:0;border:0;margin-right:1ex}header#nbis-notebooks nav a:first-child:hover{color:black}header#nbis-notebooks nav a:nth-child(2){border-radius:1ex 0 0 1ex;border-left:1px solid #080808}header#nbis-notebooks nav a:last-child{border-radius:0 1ex 1ex 0}header#nbis-notebooks>img{display:block;max-width:100%}header#nbis-notebooks>h1{color:black;font-size:1.5em}header#nbis-notebooks>h2{color:black;font-size:1.5em}header#nbis-notebooks h1,header#nbis-notebooks h2{text-align:center;margin:0.4em 0}header#nbis-notebooks h1 small,header#nbis-notebooks h2 small{font-size:70%}header#nbis-notebooks h1 small:before,header#nbis-notebooks h2 small:before{content:'-';margin:0 1ex}header h2+h1{font-size:0.8em;position:absolute;top:0;left:50%;transform:translate(-50%, 0%);color:white;margin:0;padding:0}header h2+h1 small{font-size:100%}\n",
       "</style>"
      ],
      "text/plain": [
       "<IPython.core.display.HTML object>"
      ]
     },
     "execution_count": 1,
     "metadata": {},
     "output_type": "execute_result"
    }
   ],
   "source": [
    "from IPython.core.display import HTML\n",
    "from urllib.request import urlopen\n",
    "HTML('<style>{}</style>'.format(urlopen('https://nbisweden.github.io/PythonCourse/css/ipython.css').read().decode()))"
   ]
  }
 ],
 "metadata": {
  "kernelspec": {
   "display_name": "Python 3",
   "language": "python",
   "name": "python3"
  },
  "language_info": {
   "codemirror_mode": {
    "name": "ipython",
    "version": 3
   },
   "file_extension": ".py",
   "mimetype": "text/x-python",
   "name": "python",
   "nbconvert_exporter": "python",
   "pygments_lexer": "ipython3",
   "version": "3.6.1"
  }
 },
 "nbformat": 4,
 "nbformat_minor": 2
}
