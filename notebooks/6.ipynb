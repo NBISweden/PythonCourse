{
 "cells": [
  {
   "cell_type": "markdown",
   "metadata": {},
   "source": [
    "<header id=\"nbis-notebooks\">\n",
    "<a href=\"https://nbis.se\"><img src=\"https://nbisweden.github.io/PythonCourse/img/nbis.png\" alt=\"NBIS\" /></a>\n",
    "<nav><a href=\"https://nbisweden.github.io/PythonCourse/ht17/\"><i class=\"fa fa-fw fa-home\"></i></a><a href=\"https://nbisweden.github.io/PythonCourse/ht17/topics\"><i class=\"fa fa-fw fa-tasks\"></i> Topics</a><a href=\"https://nbisweden.github.io/PythonCourse/ht17/project\"><i class=\"fa fa-briefcase\"></i> Project</a><a href=\"https://nbisweden.github.io/PythonCourse/ht17/preliminary\"><i class=\"fa fa-fw fa-hourglass-start\"></i> Preliminaries</a><a href=\"https://nbisweden.github.io/PythonCourse/ht17/help\"><i class=\"fa fa-fw fa-support\"></i> Help</a>\n",
    "</nav>\n",
    "<h1>Introduction to Python<small>HT17</small></h1>\n",
    "</header>\n",
    "\n",
    "Jupyter Notebooks are used to save the terminal output from the commands we potentially demonstrated in class.\n",
    "\n",
    "It conveniently allows you to re-run the session.\n",
    "\n",
    "You can also open a terminal, and start your `python` interpreter, by issuing the command:\n",
    "\n",
    "```\n",
    "$ python\n",
    "Python 3.5.0 (default, Sep 25 2015, 16:02:14)\n",
    "...\n",
    ">>>\n",
    "```\n",
    "\n",
    "----\n",
    "\n",
    "## Formatting strings\n",
    "\n"
   ]
  },
  {
   "cell_type": "code",
   "execution_count": null,
   "metadata": {
    "collapsed": true
   },
   "outputs": [],
   "source": [
    "valueA = 3\n",
    "valueB = 'pigs'\n",
    "valueC = 'Story'"
   ]
  },
  {
   "cell_type": "code",
   "execution_count": null,
   "metadata": {},
   "outputs": [],
   "source": [
    "\"The '{} little {}' book is a nice {}\".format(valueA,valueB,valueC)"
   ]
  },
  {
   "cell_type": "code",
   "execution_count": null,
   "metadata": {},
   "outputs": [],
   "source": [
    "\"The '{0} little {1}' book is a nice {2}\".format(valueA,valueB,valueC)"
   ]
  },
  {
   "cell_type": "code",
   "execution_count": null,
   "metadata": {},
   "outputs": [],
   "source": [
    "\"The '{0} little {0}' book is a nice {0}\".format(valueA,valueB,valueC)"
   ]
  },
  {
   "cell_type": "code",
   "execution_count": null,
   "metadata": {},
   "outputs": [],
   "source": [
    "\"The '{32} little {33}' book is a nice {34}\".format(valueA,valueB,valueC)"
   ]
  },
  {
   "cell_type": "code",
   "execution_count": null,
   "metadata": {
    "scrolled": true
   },
   "outputs": [],
   "source": [
    "\"The '{num} little {name}' book is a nice {thing}\".format(num=valueA,name=valueB,thing=valueC)"
   ]
  },
  {
   "cell_type": "code",
   "execution_count": null,
   "metadata": {},
   "outputs": [],
   "source": [
    "\"The '{0} little {1}' book is a nice {2}\".format(num=valueA,name=valueB,thing=valueC)"
   ]
  },
  {
   "cell_type": "markdown",
   "metadata": {},
   "source": [
    "Positional arguments first, keyword arguments then\n",
    "\n",
    "---"
   ]
  },
  {
   "cell_type": "code",
   "execution_count": null,
   "metadata": {},
   "outputs": [],
   "source": [
    "\"The '{0} little {1}' book is a nice {2}\".format(valueA,valueB,valueC)"
   ]
  },
  {
   "cell_type": "markdown",
   "metadata": {},
   "source": [
    "Field width"
   ]
  },
  {
   "cell_type": "code",
   "execution_count": null,
   "metadata": {},
   "outputs": [],
   "source": [
    "\"The '{0:10} little {1:20}' book is a nice {2:30}\".format(valueA,valueB,valueC)"
   ]
  },
  {
   "cell_type": "markdown",
   "metadata": {},
   "source": [
    "Alignment"
   ]
  },
  {
   "cell_type": "code",
   "execution_count": null,
   "metadata": {},
   "outputs": [],
   "source": [
    "\"The '{0:<10} little {1:>20}' book is a nice {2:^30}\".format(valueA,valueB,valueC)"
   ]
  },
  {
   "cell_type": "markdown",
   "metadata": {},
   "source": [
    "Filling"
   ]
  },
  {
   "cell_type": "code",
   "execution_count": null,
   "metadata": {},
   "outputs": [],
   "source": [
    "\"The '{0:å<10} little {1:Ä>20}' book is a nice {2:Ö^30}\".format(valueA,valueB,valueC)"
   ]
  },
  {
   "cell_type": "code",
   "execution_count": null,
   "metadata": {},
   "outputs": [],
   "source": [
    "\"|{0:-^20}|{1:-^20}|{2:-^20}|\".format('Lines','Words','Characters')"
   ]
  },
  {
   "cell_type": "code",
   "execution_count": null,
   "metadata": {},
   "outputs": [],
   "source": [
    "\"|{0:-^20}|{1:-^20}|{2:-^20}|\".format(' Lines ',' Words ',' Characters ')"
   ]
  },
  {
   "cell_type": "markdown",
   "metadata": {},
   "source": [
    "Conversion"
   ]
  },
  {
   "cell_type": "code",
   "execution_count": null,
   "metadata": {},
   "outputs": [],
   "source": [
    "\"int: {0:d};  hex: {0:x};  oct: {0:o};  bin: {0:b}\".format(42)"
   ]
  },
  {
   "cell_type": "code",
   "execution_count": null,
   "metadata": {},
   "outputs": [],
   "source": [
    "\"int: {0:d};  hex: {0:#x};  oct: {0:#o};  bin: {0:#b}\".format(42)"
   ]
  },
  {
   "cell_type": "markdown",
   "metadata": {},
   "source": [
    "Rounding"
   ]
  },
  {
   "cell_type": "code",
   "execution_count": null,
   "metadata": {},
   "outputs": [],
   "source": [
    "points = 19\n",
    "total = 22\n",
    "'Score: {:.2}'.format( points / total )"
   ]
  },
  {
   "cell_type": "code",
   "execution_count": null,
   "metadata": {},
   "outputs": [],
   "source": [
    "'Score: {:.2%}'.format( points / total )"
   ]
  },
  {
   "cell_type": "markdown",
   "metadata": {},
   "source": [
    "---"
   ]
  },
  {
   "cell_type": "code",
   "execution_count": null,
   "metadata": {},
   "outputs": [],
   "source": [
    "import datetime\n",
    "d = datetime.datetime(2010, 7, 4, 12, 15, 58)\n",
    "'{:%Y-%m-%d %H:%M:%S}'.format(d)"
   ]
  },
  {
   "cell_type": "code",
   "execution_count": null,
   "metadata": {
    "scrolled": true
   },
   "outputs": [],
   "source": [
    "now = datetime.datetime.now()\n",
    "'{:%Y-%m-%d %H:%M:%S}'.format(now)"
   ]
  },
  {
   "cell_type": "markdown",
   "metadata": {},
   "source": [
    "---\n",
    "Nesting arguments"
   ]
  },
  {
   "cell_type": "code",
   "execution_count": null,
   "metadata": {},
   "outputs": [],
   "source": [
    "width = 5\n",
    "for num in range(5,12): \n",
    "    for base in 'dXob':\n",
    "        print('Base {base}: {0:{width}{base}}\\t'.format(num, base=base, width=width), end=' ')\n",
    "    print()"
   ]
  },
  {
   "cell_type": "markdown",
   "metadata": {},
   "source": [
    "---\n",
    "Older syntax"
   ]
  },
  {
   "cell_type": "code",
   "execution_count": null,
   "metadata": {},
   "outputs": [],
   "source": [
    "'The \"%d little %s\" is a nice %s' % (valueA,valueB,valueC)"
   ]
  },
  {
   "cell_type": "markdown",
   "metadata": {},
   "source": [
    "---\n",
    "## Regular Expressions"
   ]
  },
  {
   "cell_type": "code",
   "execution_count": null,
   "metadata": {},
   "outputs": [],
   "source": [
    "import re"
   ]
  },
  {
   "cell_type": "code",
   "execution_count": null,
   "metadata": {},
   "outputs": [],
   "source": [
    "p = re.compile('ab*')\n",
    "p"
   ]
  },
  {
   "cell_type": "code",
   "execution_count": null,
   "metadata": {},
   "outputs": [],
   "source": [
    "p = re.compile('ab*', re.IGNORECASE)\n",
    "p"
   ]
  },
  {
   "cell_type": "code",
   "execution_count": null,
   "metadata": {},
   "outputs": [],
   "source": [
    "m = p.match('tempo')\n",
    "print(m)"
   ]
  },
  {
   "cell_type": "markdown",
   "metadata": {},
   "source": [
    "---\n",
    "### Matching"
   ]
  },
  {
   "cell_type": "code",
   "execution_count": null,
   "metadata": {},
   "outputs": [],
   "source": [
    "p = re.compile('[a-z]+') # any letter but at least one."
   ]
  },
  {
   "cell_type": "code",
   "execution_count": null,
   "metadata": {
    "collapsed": true
   },
   "outputs": [],
   "source": [
    "result = p.match('Hello World!')"
   ]
  },
  {
   "cell_type": "code",
   "execution_count": null,
   "metadata": {},
   "outputs": [],
   "source": [
    "print(result)"
   ]
  },
  {
   "cell_type": "code",
   "execution_count": null,
   "metadata": {},
   "outputs": [],
   "source": [
    "result = p.match('tempo')\n",
    "#print(result)"
   ]
  },
  {
   "cell_type": "markdown",
   "metadata": {},
   "source": [
    "**result.group()**: Return the string matched by the RE\n",
    "\n",
    "**result.start()**: Return the starting position of the match\n",
    "\n",
    "**result.end()**: Return the ending position of the match\n",
    "\n",
    "**result.span()**: Return both (start, end)"
   ]
  },
  {
   "cell_type": "code",
   "execution_count": null,
   "metadata": {},
   "outputs": [],
   "source": [
    "result.group()"
   ]
  },
  {
   "cell_type": "code",
   "execution_count": null,
   "metadata": {},
   "outputs": [],
   "source": [
    "result.start()"
   ]
  },
  {
   "cell_type": "code",
   "execution_count": null,
   "metadata": {},
   "outputs": [],
   "source": [
    "result.end()"
   ]
  },
  {
   "cell_type": "markdown",
   "metadata": {},
   "source": [
    "---"
   ]
  },
  {
   "cell_type": "code",
   "execution_count": null,
   "metadata": {},
   "outputs": [],
   "source": [
    "p = re.compile('.*HELLO.*') # smg HELLO smg"
   ]
  },
  {
   "cell_type": "code",
   "execution_count": null,
   "metadata": {},
   "outputs": [],
   "source": [
    "m = p.match('gsdfgsdfgs  HELLO  __!@£§≈[|ÅÄÖ‚…’ﬁ]')"
   ]
  },
  {
   "cell_type": "code",
   "execution_count": null,
   "metadata": {},
   "outputs": [],
   "source": [
    "m.group()"
   ]
  },
  {
   "cell_type": "code",
   "execution_count": null,
   "metadata": {
    "collapsed": true
   },
   "outputs": [],
   "source": [
    "p = re.compile('HELLO') # smg HELLO smg, and find position\n",
    "\n",
    "m = p.match('gsdfgsdfgs  HELLO  __!@£§≈[|ÅÄÖ‚…’ﬁ]')"
   ]
  },
  {
   "cell_type": "code",
   "execution_count": null,
   "metadata": {},
   "outputs": [],
   "source": [
    "m.group()"
   ]
  },
  {
   "cell_type": "markdown",
   "metadata": {},
   "source": [
    "**Typical code structure:**\n",
    "\n",
    "```python\n",
    "p = re.compile( ... )\n",
    "m = p.match( 'string goes here' )\n",
    "if m:\n",
    "    print('Match found: ', m.group())\n",
    "else:\n",
    "    print('No match')\n",
    "```\n",
    "\n",
    "---\n",
    "### Searching"
   ]
  },
  {
   "cell_type": "code",
   "execution_count": null,
   "metadata": {},
   "outputs": [],
   "source": [
    "p = re.compile('HELLO') # smg HELLO smg, and find position\n",
    "m = p.search('gsdfgsdfgs  HELLO  __!@£§≈[|ÅÄÖ‚…’ﬁ]')\n",
    "\n",
    "m.group()"
   ]
  },
  {
   "cell_type": "code",
   "execution_count": null,
   "metadata": {},
   "outputs": [],
   "source": [
    "m.start()"
   ]
  },
  {
   "cell_type": "code",
   "execution_count": null,
   "metadata": {},
   "outputs": [],
   "source": [
    "m.end()"
   ]
  },
  {
   "cell_type": "code",
   "execution_count": null,
   "metadata": {
    "collapsed": true
   },
   "outputs": [],
   "source": [
    "m = p.search('gsdfgsdfgs  HeLLo  __!@£§≈[|ÅÄÖ‚…’ﬁ]  HELLO  ...ÖQ!§<>kds')"
   ]
  },
  {
   "cell_type": "code",
   "execution_count": null,
   "metadata": {},
   "outputs": [],
   "source": [
    "print(m)"
   ]
  },
  {
   "cell_type": "code",
   "execution_count": null,
   "metadata": {},
   "outputs": [],
   "source": [
    "m.start()"
   ]
  },
  {
   "cell_type": "markdown",
   "metadata": {},
   "source": [
    "---\n",
    "### Finding all the matching patterns"
   ]
  },
  {
   "cell_type": "code",
   "execution_count": null,
   "metadata": {
    "collapsed": true
   },
   "outputs": [],
   "source": [
    "p = re.compile('HELLO') # smg HELLO smg, and find position\n",
    "matches = p.findall('gsdfgsdfgs  HeLLo  __!@£§≈[|ÅÄÖ‚…’ﬁ]  HELLO  ...ÖQ!§<>kds')"
   ]
  },
  {
   "cell_type": "code",
   "execution_count": null,
   "metadata": {},
   "outputs": [],
   "source": [
    "print(matches)"
   ]
  },
  {
   "cell_type": "code",
   "execution_count": null,
   "metadata": {},
   "outputs": [],
   "source": [
    "matches = p.findall('gsdfgsdfgs  HELLO  __!@£§≈[|ÅÄÖ‚…’ﬁ]  HELLO  ...ÖQ!§<>kds')\n",
    "print(matches)"
   ]
  },
  {
   "cell_type": "code",
   "execution_count": null,
   "metadata": {},
   "outputs": [],
   "source": [
    "for m in matches:\n",
    "    print('Found {0:30} at position {1}'.format(m.group(), m.start()) )"
   ]
  },
  {
   "cell_type": "markdown",
   "metadata": {},
   "source": [
    "---"
   ]
  },
  {
   "cell_type": "code",
   "execution_count": null,
   "metadata": {},
   "outputs": [],
   "source": [
    "objects = p.finditer('gsdfgsdfgs  HELLO  __!@£§≈[|ÅÄÖ‚…’ﬁ]  HELLO  ...ÖQ!§<>kds')\n",
    "print(objects)"
   ]
  },
  {
   "cell_type": "code",
   "execution_count": null,
   "metadata": {},
   "outputs": [],
   "source": [
    "for m in objects:\n",
    "    print('Found {0:^30} at position {1}'.format(m.group(), m.start()) )"
   ]
  },
  {
   "cell_type": "code",
   "execution_count": null,
   "metadata": {},
   "outputs": [],
   "source": [
    "for m in objects:\n",
    "    print('Found {0:^30} at position {1}'.format(m.group(), m.start()) )"
   ]
  },
  {
   "cell_type": "code",
   "execution_count": null,
   "metadata": {
    "scrolled": true
   },
   "outputs": [],
   "source": [
    "objects = p.finditer('gsdfgsdfgs  HELLO  __!@£§≈[|ÅÄÖ‚…’ﬁ]  HELLO  ...ÖQ!§<>kds')\n",
    "for m in objects:\n",
    "    print('Found {0:^30} at position {1}'.format(m.group(), m.span()) )"
   ]
  },
  {
   "cell_type": "markdown",
   "metadata": {},
   "source": [
    "---\n",
    "To describe the pattern to search for, we have a new language:\n",
    "For example, **\\d+** says any digits, but at least one"
   ]
  },
  {
   "cell_type": "code",
   "execution_count": null,
   "metadata": {},
   "outputs": [],
   "source": [
    "p = re.compile('\\d+') # any digits\n",
    "p.findall('12 drummers drumming, 11 pipers piping, 10 lords a-leaping')"
   ]
  },
  {
   "cell_type": "markdown",
   "metadata": {},
   "source": [
    "---\n",
    "Ramesh example: RxLR, where x can be anything.\n",
    "\n",
    "The pattern to search for is written: **R.LR** because . matches any character."
   ]
  },
  {
   "cell_type": "code",
   "execution_count": null,
   "metadata": {
    "collapsed": true
   },
   "outputs": [],
   "source": [
    "data = \"MGCRYAVLALAVAYFAGSIAANDSQIVAVKGPASIRFTPAIHVVRGRFLRAANTADERNEDRGINLKSMPGFEKIASLFTKKNTPGPLLSWFEKKKSPDYVFLKLKINKGKQQLFDHPDWNVWVQYTTSVVKSDPEEAMIAALRTHYTDDILSKLLESAKNVPKTSGLATKMQMEHWVASKTPSQMFQFLRLDKVRNGVLDDPTLSIWINYMKLYNSKPVNKKQQVTLVSMLTTHYKDRGVLDIIEAAKKVPKTAPAARQLEMEQIQFWLKNGKSPDELLTVLSLDKAGNQLLASPRFKFWSKYVDNYNRDFPDEATTVMATLRNQLGDEDITPILIAAGKVPSTEKAAAKLQAEQFKSWLRENEDPAKVFQLLKLDNSADDLLGSPQFKLWGKYVEDLNLKPEHNDLQVSIITILRKNYGDDVLGNMVLAGKKAPSTSFMARRLEDELYKGWIAAGSSPDGVFKHLKFDKAGENVIQSPLWGLYTKFLEHYYKSFPTPMMSALAKGYDGDALAKLLIAAEKIPTSNTLATKLQTGQIQRWLDDKDQPGKIFKALLLDDMADDILTSPLFNTWTRYLDEFNKKFPDEKVSMTDTFRTSLDDETLKSLLITAKELPDMKTLSTKLQTVQIERWLASKTSPEDAFAVLALNKAGGNVLSKPLLNTWAAYLESFNAKFPRSRVSMIDTFREFFGDKALLTTLAAAKEVESTKKVATSLQDSLLSKWVLAKKPPSGVAKLVGTDEAGAKLLKTYTTKYMERYGQ\""
   ]
  },
  {
   "cell_type": "code",
   "execution_count": null,
   "metadata": {},
   "outputs": [],
   "source": [
    "p = re.compile('R.LR')\n",
    "m = p.search(data)"
   ]
  },
  {
   "cell_type": "code",
   "execution_count": null,
   "metadata": {},
   "outputs": [],
   "source": [
    "m.group()"
   ]
  },
  {
   "cell_type": "code",
   "execution_count": null,
   "metadata": {},
   "outputs": [],
   "source": [
    "m.span()"
   ]
  },
  {
   "cell_type": "markdown",
   "metadata": {},
   "source": [
    "After RxLR, we should also look for second pattern **EER**.\n"
   ]
  },
  {
   "cell_type": "code",
   "execution_count": null,
   "metadata": {
    "collapsed": true
   },
   "outputs": [],
   "source": [
    "p2 = re.compile('ERR')\n",
    "m2 = p2.search(data)"
   ]
  },
  {
   "cell_type": "code",
   "execution_count": null,
   "metadata": {},
   "outputs": [],
   "source": [
    "m2.start()"
   ]
  },
  {
   "cell_type": "code",
   "execution_count": null,
   "metadata": {
    "collapsed": true
   },
   "outputs": [],
   "source": [
    "p = re.compile('R.LR.*ERR') # RxLR....anything....ERR\n",
    "m = p.search(data)"
   ]
  },
  {
   "cell_type": "code",
   "execution_count": null,
   "metadata": {},
   "outputs": [],
   "source": [
    "if m:\n",
    "    print('Match found: {} at position {}'.format(m.group(), m.span()) )\n",
    "else:\n",
    "    print('No match')"
   ]
  },
  {
   "cell_type": "markdown",
   "metadata": {},
   "source": [
    "<div style=\"text-align:center;border:0;padding: 1em;margin: 0 auto;width: 60%;border-radius: 1em;box-shadow: 0px 0px 3px 0px rgba(0,0,0,0.75);\">\n",
    "Go to the <a href=\"https://github.com/NBISweden/PythonCourse/tree/vt17/regexp\">RxLR example</a> on the course repository\n",
    "</div>"
   ]
  },
  {
   "cell_type": "markdown",
   "metadata": {},
   "source": [
    "----"
   ]
  },
  {
   "cell_type": "code",
   "execution_count": 1,
   "metadata": {},
   "outputs": [
    {
     "data": {
      "text/html": [
       "<style>header#nbis-notebooks{box-sizing:border-box;background-color:#2b5b84;background:linear-gradient(0deg, #fff 30%, #2b5b84 40%);color:white;padding:1em 3em 0 3em}header#nbis-notebooks>a{text-decoration:none;cursor:pointer;display:inline-block;text-shadow:1px 1px 0 rgba(0,0,0,0.4);color:#ffffff;padding:0.3em 1em;border:0;background:transparent;position:absolute;left:0;top:center}header#nbis-notebooks>a:hover{box-shadow:0px 35px 15px -20px rgba(0,0,0,0.75)}header#nbis-notebooks nav{display:flex;justify-content:center;align-items:center;height:50px}header#nbis-notebooks nav a{text-decoration:none;cursor:pointer;display:inline-block;text-shadow:1px 1px 0 rgba(0,0,0,0.4);border:1px solid #080808;border-left:0;color:#ffffff;padding:0.3em 1em;background:#3c3c3c;background:linear-gradient(0deg, #3c3c3c 0%, #222 50%, #3c3c3c 100%)}header#nbis-notebooks nav a i{margin-right:0.5ex}header#nbis-notebooks nav a:hover{background:#080808;background:linear-gradient(0deg, #3c3c3c 0%, #080808 50%, #3c3c3c 100%)}header#nbis-notebooks nav a.active{background:#947878;background:linear-gradient(0deg, #3c3c3c 0%, #947878 50%, #3c3c3c 100%)}header#nbis-notebooks nav a:first-child{background:transparent;padding:0;border:0;margin-right:1ex}header#nbis-notebooks nav a:first-child:hover{color:black}header#nbis-notebooks nav a:nth-child(2){border-radius:1ex 0 0 1ex;border-left:1px solid #080808}header#nbis-notebooks nav a:last-child{border-radius:0 1ex 1ex 0}header#nbis-notebooks>img{display:block;max-width:100%}header#nbis-notebooks>h1{color:black;font-size:1.5em}header#nbis-notebooks>h2{color:black;font-size:1.5em}header#nbis-notebooks h1,header#nbis-notebooks h2{text-align:center;margin:0.4em 0}header#nbis-notebooks h1 small,header#nbis-notebooks h2 small{font-size:70%}header#nbis-notebooks h1 small:before,header#nbis-notebooks h2 small:before{content:'-';margin:0 1ex}header h2+h1{font-size:0.8em;position:absolute;top:0;left:50%;transform:translate(-50%, 0%);color:white;margin:0;padding:0}header h2+h1 small{font-size:100%}\n",
       "</style>"
      ],
      "text/plain": [
       "<IPython.core.display.HTML object>"
      ]
     },
     "execution_count": 1,
     "metadata": {},
     "output_type": "execute_result"
    }
   ],
   "source": [
    "from IPython.core.display import HTML\n",
    "from urllib.request import urlopen\n",
    "HTML('<style>{}</style>'.format(urlopen('https://nbisweden.github.io/PythonCourse/css/ipython.css').read().decode()))"
   ]
  }
 ],
 "metadata": {
  "kernelspec": {
   "display_name": "Python 3",
   "language": "python",
   "name": "python3"
  },
  "language_info": {
   "codemirror_mode": {
    "name": "ipython",
    "version": 3
   },
   "file_extension": ".py",
   "mimetype": "text/x-python",
   "name": "python",
   "nbconvert_exporter": "python",
   "pygments_lexer": "ipython3",
   "version": "3.6.1"
  }
 },
 "nbformat": 4,
 "nbformat_minor": 2
}
