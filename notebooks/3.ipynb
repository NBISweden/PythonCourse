{
 "cells": [
  {
   "cell_type": "markdown",
   "metadata": {},
   "source": [
    "<header id=\"nbis-notebooks\">\n",
    "<a href=\"https://nbis.se\"><img src=\"https://nbisweden.github.io/PythonCourse/img/nbis.png\" alt=\"NBIS\" /></a>\n",
    "<nav><a href=\"https://nbisweden.github.io/PythonCourse/ht17/\"><i class=\"fa fa-fw fa-home\"></i></a><a href=\"https://nbisweden.github.io/PythonCourse/ht17/topics\"><i class=\"fa fa-fw fa-tasks\"></i> Topics</a><a href=\"https://nbisweden.github.io/PythonCourse/ht17/project\"><i class=\"fa fa-briefcase\"></i> Project</a><a href=\"https://nbisweden.github.io/PythonCourse/ht17/preliminary\"><i class=\"fa fa-fw fa-hourglass-start\"></i> Preliminaries</a><a href=\"https://nbisweden.github.io/PythonCourse/ht17/help\"><i class=\"fa fa-fw fa-support\"></i> Help</a>\n",
    "</nav>\n",
    "<h1>Introduction to Python<small>HT17</small></h1>\n",
    "</header>\n",
    "\n",
    "\n",
    "Jupyter Notebooks are used to save the terminal output from the commands we potentially demonstrated in class.\n",
    "\n",
    "It conveniently allows you to re-run the session.\n",
    "\n",
    "You can also open a terminal, and start your `python` interpreter, by issuing the command:\n",
    "\n",
    "```\n",
    "$ python\n",
    "Python 3.5.0 (default, Sep 25 2015, 16:02:14)\n",
    "...\n",
    ">>>\n",
    "```\n",
    "\n",
    "----\n",
    "\n",
    "## The `min` function\n",
    "\n",
    "From the [documentation](https://docs.python.org/3.5/library/functions.html#min):\n",
    "\n",
    "`min(iterable, *[, key, default])`<br>`min(arg1, arg2, *args[, key])`\n",
    "\n",
    "Return the smallest item in an iterable or the smallest of two or more arguments.\n",
    "\n",
    "If one positional argument is provided, it should be an `iterable`. The smallest item in the iterable is returned.  If two or more positional arguments are provided, the smallest of the positional arguments is returned.\n",
    "\n",
    "There are two optional keyword-only arguments. The _key_ argument specifies a one-argument ordering function like that used for `list.sort()`. The _default_ argument specifies an object to return if the provided iterable is empty. If the iterable is empty and _default_ is not provided, a `ValueError` is raised.\n",
    "\n",
    "If multiple items are minimal, the function returns the first one encountered.  This is consistent with other sort-stability preserving tools such as `sorted(iterable, key=keyfunc)[0]` and `heapq.nsmallest(1,iterable,key=keyfunc)`.\n",
    "\n",
    "_New in version 3.4_: The _default_ keyword-only argument.\n"
   ]
  },
  {
   "cell_type": "code",
   "execution_count": null,
   "metadata": {},
   "outputs": [],
   "source": [
    "items = [10, 223, 35, 4, -5, 102, -13.4]\n",
    "min(items)"
   ]
  },
  {
   "cell_type": "code",
   "execution_count": null,
   "metadata": {
    "collapsed": true
   },
   "outputs": [],
   "source": [
    "m = min(items)"
   ]
  },
  {
   "cell_type": "code",
   "execution_count": null,
   "metadata": {},
   "outputs": [],
   "source": [
    "type(m)"
   ]
  },
  {
   "cell_type": "code",
   "execution_count": null,
   "metadata": {},
   "outputs": [],
   "source": [
    "lastone = pop(items)"
   ]
  },
  {
   "cell_type": "markdown",
   "metadata": {},
   "source": [
    "Go to the [documentation on operations for lists](https://docs.python.org/3/library/stdtypes.html#mutable-sequence-types)"
   ]
  },
  {
   "cell_type": "code",
   "execution_count": null,
   "metadata": {},
   "outputs": [],
   "source": [
    "lastone = items.pop() # last one, ie items[-1]\n",
    "print(lastone)"
   ]
  },
  {
   "cell_type": "code",
   "execution_count": null,
   "metadata": {},
   "outputs": [],
   "source": [
    "print(items)"
   ]
  },
  {
   "cell_type": "code",
   "execution_count": null,
   "metadata": {
    "collapsed": true
   },
   "outputs": [],
   "source": [
    "m = min(items)"
   ]
  },
  {
   "cell_type": "code",
   "execution_count": null,
   "metadata": {},
   "outputs": [],
   "source": [
    "type(m)"
   ]
  },
  {
   "cell_type": "code",
   "execution_count": null,
   "metadata": {},
   "outputs": [],
   "source": [
    "m"
   ]
  },
  {
   "cell_type": "code",
   "execution_count": null,
   "metadata": {},
   "outputs": [],
   "source": [
    "name = 'HELLO'\n",
    "\n",
    "min(name)"
   ]
  },
  {
   "cell_type": "code",
   "execution_count": null,
   "metadata": {
    "collapsed": true
   },
   "outputs": [],
   "source": [
    "items.append(-23)"
   ]
  },
  {
   "cell_type": "code",
   "execution_count": null,
   "metadata": {},
   "outputs": [],
   "source": [
    "m = min(items)\n",
    "print(m)"
   ]
  },
  {
   "cell_type": "markdown",
   "metadata": {},
   "source": [
    "---\n",
    "## The `sum` function\n",
    "\n",
    "Go to the [documentation](https://docs.python.org/3/library/functions.html#sum)"
   ]
  },
  {
   "cell_type": "code",
   "execution_count": null,
   "metadata": {},
   "outputs": [],
   "source": [
    "sum(items)"
   ]
  },
  {
   "cell_type": "code",
   "execution_count": null,
   "metadata": {},
   "outputs": [],
   "source": [
    "sum(name)"
   ]
  },
  {
   "cell_type": "code",
   "execution_count": null,
   "metadata": {},
   "outputs": [],
   "source": [
    "sum(items, 100)"
   ]
  },
  {
   "cell_type": "code",
   "execution_count": null,
   "metadata": {},
   "outputs": [],
   "source": [
    "sum(range(100))"
   ]
  },
  {
   "cell_type": "markdown",
   "metadata": {},
   "source": [
    "Storing each lines in a list, and summing the length of each line."
   ]
  },
  {
   "cell_type": "code",
   "execution_count": null,
   "metadata": {},
   "outputs": [],
   "source": [
    "with open('book_chapter.txt','r',encoding='utf-8') as f:\n",
    "\n",
    "    all_lines = [] # the main container\n",
    "    \n",
    "    for line in f:\n",
    "        all_lines.append(line.strip())\n",
    "\n",
    "    # Now, outside the loop, I print the total\n",
    "    total = 0\n",
    "    for line in all_lines:\n",
    "        total = total + len(line) # or total += len(line)\n",
    "        \n",
    "    # Now I have the total\n",
    "    print(total)"
   ]
  },
  {
   "cell_type": "markdown",
   "metadata": {},
   "source": [
    "Just to scare you a little, here is a one liner: (ok... 2 lines...chill)\n"
   ]
  },
  {
   "cell_type": "code",
   "execution_count": null,
   "metadata": {},
   "outputs": [],
   "source": [
    "with open('book_chapter.txt','r',encoding='utf-8') as f:\n",
    "    print( sum(len(line.strip()) for line in f) ) # Not very readable for non-experts"
   ]
  },
  {
   "cell_type": "markdown",
   "metadata": {},
   "source": [
    "---\n",
    "## Condition with if/else/elif"
   ]
  },
  {
   "cell_type": "code",
   "execution_count": null,
   "metadata": {},
   "outputs": [],
   "source": [
    "shopping = ['milk','eggs','bread','butter']\n",
    "left_todo = []\n",
    "\n",
    "# del shopping[0]\n",
    "# del shopping[0]\n",
    "\n",
    "for item in shopping:\n",
    "    if item.startswith('b'):\n",
    "        print(\"Get on it\")\n",
    "    else:\n",
    "        print('Skip the', item)\n",
    "        left_todo.append(item)\n",
    "\n",
    "if left_todo:\n",
    "    print('Still not done?')\n",
    "else:\n",
    "    print('Finito')"
   ]
  },
  {
   "cell_type": "markdown",
   "metadata": {},
   "source": [
    "---\n",
    "## New sequence type: `tuple`"
   ]
  },
  {
   "cell_type": "code",
   "execution_count": null,
   "metadata": {},
   "outputs": [],
   "source": [
    "choices = ( 'y', 'yes', 'Yes', 'YES', 'n', 'no', 'No', 'NO', 'maybe', 'Maybe', 'MAYBE' )\n",
    "\n",
    "type(choices)"
   ]
  },
  {
   "cell_type": "code",
   "execution_count": null,
   "metadata": {},
   "outputs": [],
   "source": [
    "for choice in choices:\n",
    "    print('You can type:',choice)"
   ]
  },
  {
   "cell_type": "code",
   "execution_count": null,
   "metadata": {},
   "outputs": [],
   "source": [
    "len(choices)"
   ]
  },
  {
   "cell_type": "code",
   "execution_count": null,
   "metadata": {},
   "outputs": [],
   "source": [
    "min(choices)"
   ]
  },
  {
   "cell_type": "code",
   "execution_count": null,
   "metadata": {},
   "outputs": [],
   "source": [
    "max(choices)"
   ]
  },
  {
   "cell_type": "code",
   "execution_count": null,
   "metadata": {},
   "outputs": [],
   "source": [
    "sum(choices)"
   ]
  },
  {
   "cell_type": "code",
   "execution_count": null,
   "metadata": {
    "collapsed": true
   },
   "outputs": [],
   "source": [
    "nums = tuple( range(10) )"
   ]
  },
  {
   "cell_type": "code",
   "execution_count": null,
   "metadata": {},
   "outputs": [],
   "source": [
    "print(nums) ''' just print.\n",
    "                Returns nothing.\n",
    "                Can't dump the result into a variable '''"
   ]
  },
  {
   "cell_type": "code",
   "execution_count": null,
   "metadata": {},
   "outputs": [],
   "source": [
    "nums"
   ]
  },
  {
   "cell_type": "code",
   "execution_count": null,
   "metadata": {},
   "outputs": [],
   "source": [
    "nums[2:5]"
   ]
  },
  {
   "cell_type": "code",
   "execution_count": null,
   "metadata": {},
   "outputs": [],
   "source": [
    "nums[-1]"
   ]
  },
  {
   "cell_type": "code",
   "execution_count": null,
   "metadata": {},
   "outputs": [],
   "source": [
    "len(nums)"
   ]
  },
  {
   "cell_type": "code",
   "execution_count": null,
   "metadata": {},
   "outputs": [],
   "source": [
    "del nums[2:5]"
   ]
  },
  {
   "cell_type": "code",
   "execution_count": null,
   "metadata": {},
   "outputs": [],
   "source": [
    "nums.append(10)"
   ]
  },
  {
   "cell_type": "code",
   "execution_count": null,
   "metadata": {},
   "outputs": [],
   "source": [
    "nums[0]='bla'"
   ]
  },
  {
   "cell_type": "markdown",
   "metadata": {},
   "source": [
    "Oh...a tuple is _immutable_. Got it."
   ]
  },
  {
   "cell_type": "markdown",
   "metadata": {},
   "source": [
    "----"
   ]
  },
  {
   "cell_type": "code",
   "execution_count": 1,
   "metadata": {},
   "outputs": [
    {
     "data": {
      "text/html": [
       "<style>header#nbis-notebooks{box-sizing:border-box;background-color:#2b5b84;background:linear-gradient(0deg, #fff 30%, #2b5b84 40%);color:white;padding:1em 3em 0 3em}header#nbis-notebooks>a{text-decoration:none;cursor:pointer;display:inline-block;text-shadow:1px 1px 0 rgba(0,0,0,0.4);color:#ffffff;padding:0.3em 1em;border:0;background:transparent;position:absolute;left:0;top:center}header#nbis-notebooks>a:hover{box-shadow:0px 35px 15px -20px rgba(0,0,0,0.75)}header#nbis-notebooks nav{display:flex;justify-content:center;align-items:center;height:50px}header#nbis-notebooks nav a{text-decoration:none;cursor:pointer;display:inline-block;text-shadow:1px 1px 0 rgba(0,0,0,0.4);border:1px solid #080808;border-left:0;color:#ffffff;padding:0.3em 1em;background:#3c3c3c;background:linear-gradient(0deg, #3c3c3c 0%, #222 50%, #3c3c3c 100%)}header#nbis-notebooks nav a i{margin-right:0.5ex}header#nbis-notebooks nav a:hover{background:#080808;background:linear-gradient(0deg, #3c3c3c 0%, #080808 50%, #3c3c3c 100%)}header#nbis-notebooks nav a.active{background:#947878;background:linear-gradient(0deg, #3c3c3c 0%, #947878 50%, #3c3c3c 100%)}header#nbis-notebooks nav a:first-child{background:transparent;padding:0;border:0;margin-right:1ex}header#nbis-notebooks nav a:first-child:hover{color:black}header#nbis-notebooks nav a:nth-child(2){border-radius:1ex 0 0 1ex;border-left:1px solid #080808}header#nbis-notebooks nav a:last-child{border-radius:0 1ex 1ex 0}header#nbis-notebooks>img{display:block;max-width:100%}header#nbis-notebooks>h1{color:black;font-size:1.5em}header#nbis-notebooks>h2{color:black;font-size:1.5em}header#nbis-notebooks h1,header#nbis-notebooks h2{text-align:center;margin:0.4em 0}header#nbis-notebooks h1 small,header#nbis-notebooks h2 small{font-size:70%}header#nbis-notebooks h1 small:before,header#nbis-notebooks h2 small:before{content:'-';margin:0 1ex}header h2+h1{font-size:0.8em;position:absolute;top:0;left:50%;transform:translate(-50%, 0%);color:white;margin:0;padding:0}header h2+h1 small{font-size:100%}\n",
       "</style>"
      ],
      "text/plain": [
       "<IPython.core.display.HTML object>"
      ]
     },
     "execution_count": 1,
     "metadata": {},
     "output_type": "execute_result"
    }
   ],
   "source": [
    "from IPython.core.display import HTML\n",
    "from urllib.request import urlopen\n",
    "HTML('<style>{}</style>'.format(urlopen('https://nbisweden.github.io/PythonCourse/css/ipython.css').read().decode()))"
   ]
  }
 ],
 "metadata": {
  "kernelspec": {
   "display_name": "Python 3",
   "language": "python",
   "name": "python3"
  },
  "language_info": {
   "codemirror_mode": {
    "name": "ipython",
    "version": 3
   },
   "file_extension": ".py",
   "mimetype": "text/x-python",
   "name": "python",
   "nbconvert_exporter": "python",
   "pygments_lexer": "ipython3",
   "version": "3.6.1"
  }
 },
 "nbformat": 4,
 "nbformat_minor": 2
}
