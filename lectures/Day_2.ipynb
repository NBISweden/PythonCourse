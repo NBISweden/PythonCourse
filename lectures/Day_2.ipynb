{
 "cells": [
  {
   "cell_type": "code",
   "execution_count": 1,
   "metadata": {
    "slideshow": {
     "slide_type": "skip"
    }
   },
   "outputs": [],
   "source": [
    "from IPython.display import Image\n",
    "from IPython.display import clear_output\n",
    "from IPython.display import FileLink, FileLinks"
   ]
  },
  {
   "cell_type": "markdown",
   "metadata": {
    "slideshow": {
     "slide_type": "slide"
    }
   },
   "source": [
    "## Introduction to\n",
    "\n",
    "![title](../img/python-logo-master-flat.png)\n",
    "\n",
    "### with Application to Bioinformatics\n",
    "\n",
    "#### - Day 2"
   ]
  },
  {
   "cell_type": "markdown",
   "metadata": {
    "slideshow": {
     "slide_type": "slide"
    }
   },
   "source": [
    "## Review Day 1\n",
    "\n",
    "Give an example of the following:\n",
    "\n",
    "- A number of type float  \n",
    "- A variable containing an integer  \n",
    "- A Boolean / A list / A string      \n",
    "- What character represents a comment?  \n",
    "- What happens if I take a list plus a list?  \n",
    "- How do I find out if x is present in a list?  \n",
    "- How do I find out if 5 is larger than 3 and the integer 4 is the same as the float 4?  \n",
    "- How do I find the second item in a list?  \n",
    "- An example of a mutable sequence  \n",
    "- An example of an immutable sequence  \n",
    "- Something iterable (apart from a list)  \n",
    "- How do I do if I want to print ‘Yes’ if x is bigger than y?  \n",
    "- How do I open a file handle to read a file called ‘somerandomfile.txt’?    \n",
    "- The file contains several lines, how do I print each line?  "
   ]
  },
  {
   "cell_type": "markdown",
   "metadata": {
    "slideshow": {
     "slide_type": "slide"
    }
   },
   "source": [
    "## Variables and Types\n",
    "\n",
    "<b>A number of type float:</b>  \n",
    "3.14  \n",
    "\n",
    "<b>A variable containing an integer:</b>  \n",
    "a = 5  \n",
    "x = 349852  \n",
    "\n",
    "<b>A Boolean:</b>  \n",
    "True  \n",
    "\n",
    "<b>A list:</b>  \n",
    "[2,6,4,8,9]  \n",
    "\n",
    "<b>A string:</b>  \n",
    "'this is a string'"
   ]
  },
  {
   "cell_type": "markdown",
   "metadata": {
    "slideshow": {
     "slide_type": "slide"
    }
   },
   "source": [
    "### Literals\n",
    "\n",
    "All literals have a type:\n",
    "\n",
    "<li> Strings (str) &emsp; &emsp; &nbsp;      ‘Hello’ “Hi”\n",
    "<li> Integers (int)\t&emsp; &emsp;             5\n",
    "<li> Floats (float)\t&emsp; &emsp;             3.14\n",
    "<li> Boolean (bool) &emsp; &nbsp;  True or False"
   ]
  },
  {
   "cell_type": "code",
   "execution_count": 2,
   "metadata": {
    "slideshow": {
     "slide_type": "-"
    }
   },
   "outputs": [
    {
     "data": {
      "text/plain": [
       "str"
      ]
     },
     "execution_count": 2,
     "metadata": {},
     "output_type": "execute_result"
    }
   ],
   "source": [
    "type('Hello')"
   ]
  },
  {
   "cell_type": "markdown",
   "metadata": {
    "slideshow": {
     "slide_type": "slide"
    }
   },
   "source": [
    "### Variables\n",
    "\n",
    "Used to store values and to assign them a name."
   ]
  },
  {
   "cell_type": "code",
   "execution_count": 3,
   "metadata": {
    "slideshow": {
     "slide_type": "-"
    }
   },
   "outputs": [
    {
     "data": {
      "text/plain": [
       "3.14"
      ]
     },
     "execution_count": 3,
     "metadata": {},
     "output_type": "execute_result"
    }
   ],
   "source": [
    "a = 3.14\n",
    "a"
   ]
  },
  {
   "cell_type": "markdown",
   "metadata": {
    "slideshow": {
     "slide_type": "fragment"
    }
   },
   "source": [
    "### Lists\n",
    "\n",
    "A collection of values."
   ]
  },
  {
   "cell_type": "code",
   "execution_count": 4,
   "metadata": {
    "slideshow": {
     "slide_type": "-"
    }
   },
   "outputs": [
    {
     "data": {
      "text/plain": [
       "list"
      ]
     },
     "execution_count": 4,
     "metadata": {},
     "output_type": "execute_result"
    }
   ],
   "source": [
    "x = [1,5,3,7,8]\n",
    "y = ['a','b','c']\n",
    "type(x)"
   ]
  },
  {
   "cell_type": "markdown",
   "metadata": {
    "slideshow": {
     "slide_type": "slide"
    }
   },
   "source": [
    "## Operations\n",
    "\n",
    "<b>What character represents a comment?</b>  \n",
    "\\#  \n",
    "\n",
    "<b>What happens if I take a list plus a list?</b>  \n",
    "The lists will be concatenated  \n",
    "\n",
    "<b>How do I find out if x is present in a list?</b>  \n",
    "x in [1,2,3,4]  \n",
    "\n",
    "<b>How do I find out if 5 is larger than 3 and the integer 4 is the same as the float 4?</b>  \n",
    "5 > 3 and 4 == 4.0  "
   ]
  },
  {
   "cell_type": "markdown",
   "metadata": {
    "slideshow": {
     "slide_type": "slide"
    }
   },
   "source": [
    "### Basic operations\n",
    "\n",
    "<b>Type &emsp; &emsp; &emsp; &emsp;  Operations </b>\n",
    "\n",
    "int &emsp; &emsp; &emsp; &emsp; &emsp;        +  -  *  /  **  %  // ...  \n",
    "float &emsp; &emsp; &emsp; &emsp; &nbsp;      +  -  *  /  **  %  // ...  \n",
    "string &emsp; &emsp; &emsp; &ensp; &nbsp;           + *"
   ]
  },
  {
   "cell_type": "code",
   "execution_count": 5,
   "metadata": {
    "slideshow": {
     "slide_type": "-"
    }
   },
   "outputs": [],
   "source": [
    "a = 2\n",
    "b = 5.46\n",
    "c = [1,2,3,4]\n",
    "d = [5,6,7,8]"
   ]
  },
  {
   "cell_type": "markdown",
   "metadata": {
    "slideshow": {
     "slide_type": "slide"
    }
   },
   "source": [
    " ### Comparison/Logical/Membership operators\n",
    " \n",
    " <img src=\"../img/operators_summary.png\" alt=\"Drawing\" style=\"width: 800px;\"/> "
   ]
  },
  {
   "cell_type": "code",
   "execution_count": 6,
   "metadata": {
    "slideshow": {
     "slide_type": "-"
    }
   },
   "outputs": [
    {
     "data": {
      "text/plain": [
       "True"
      ]
     },
     "execution_count": 6,
     "metadata": {},
     "output_type": "execute_result"
    }
   ],
   "source": [
    "a = [1,2,3,4,5,6,7,8]\n",
    "b = 5\n",
    "c = 10\n",
    "b in a"
   ]
  },
  {
   "cell_type": "markdown",
   "metadata": {
    "slideshow": {
     "slide_type": "slide"
    }
   },
   "source": [
    "## Sequences\n",
    "\n",
    "<b>How do I find the second item in a list?</b>  \n",
    "list_a[1]  \n",
    "\n",
    "<b>An example of a mutable sequence:</b>  \n",
    "[1,2,3,4,5,6]\n",
    "\n",
    "<b>An example of an immutable sequence:</b>  \n",
    "'a string is immutable'  \n",
    "\n",
    "<b>Something iterable (apart from a list):</b>  \n",
    "'a string is also iterable'  "
   ]
  },
  {
   "cell_type": "markdown",
   "metadata": {
    "slideshow": {
     "slide_type": "slide"
    }
   },
   "source": [
    "### Indexing\n",
    "\n",
    "Lists (and strings) are an ORDERED collection of elements where every element can be access through an index.\n",
    "\n",
    "a[0]  = first item in list a\n",
    "\n",
    "REMEMBER! Indexing starts at 0 in python"
   ]
  },
  {
   "cell_type": "code",
   "execution_count": 7,
   "metadata": {
    "slideshow": {
     "slide_type": "-"
    }
   },
   "outputs": [
    {
     "data": {
      "text/plain": [
       "[1, 2]"
      ]
     },
     "execution_count": 7,
     "metadata": {},
     "output_type": "execute_result"
    }
   ],
   "source": [
    "a = [1,2,3,4,5]\n",
    "b = ['a','b','c']\n",
    "c = 'a random string'\n",
    "\n",
    "a[0:2]"
   ]
  },
  {
   "cell_type": "markdown",
   "metadata": {
    "slideshow": {
     "slide_type": "slide"
    }
   },
   "source": [
    "### Mutable / Immutable sequences and iterables\n",
    "\n",
    "Lists are mutable object, meaning you can use an index to change the list, while strings are immutable and therefore not changeable.\n",
    "\n",
    "An iterable sequence is anything you can loop over, ie, lists and strings."
   ]
  },
  {
   "cell_type": "code",
   "execution_count": 8,
   "metadata": {
    "slideshow": {
     "slide_type": "-"
    }
   },
   "outputs": [
    {
     "data": {
      "text/plain": [
       "[59, 2, 3, 4, 5]"
      ]
     },
     "execution_count": 8,
     "metadata": {},
     "output_type": "execute_result"
    }
   ],
   "source": [
    "a = [1,2,3,4,5]         # mutable\n",
    "b = ['a','b','c']       # mutable\n",
    "c = 'a random string'   # immutable\n",
    "\n",
    "a[0] = 59\n",
    "a"
   ]
  },
  {
   "cell_type": "markdown",
   "metadata": {
    "slideshow": {
     "slide_type": "slide"
    }
   },
   "source": [
    "## New data type: tuples\n",
    "\n",
    "- A tuple is a sequence of immutable objects\n",
    "- Unlike a list, nothing can be changed in a tuple\n",
    "- Still iterable"
   ]
  },
  {
   "cell_type": "code",
   "execution_count": 52,
   "metadata": {
    "slideshow": {
     "slide_type": "-"
    }
   },
   "outputs": [
    {
     "name": "stdout",
     "output_type": "stream",
     "text": [
      "<class 'tuple'>\n",
      "(1, 2, 3, 4, 'a', 'b', 'c', [42, 43, 44])\n",
      "1\n",
      "2\n",
      "3\n",
      "4\n",
      "a\n",
      "b\n",
      "c\n",
      "[42, 43, 44]\n"
     ]
    }
   ],
   "source": [
    "myTuple = (1,2,3,4,'a','b','c',[42,43,44])\n",
    "print(type(myTuple))\n",
    "print(myTuple)\n",
    "len(myTuple)\n",
    "for i in myTuple:\n",
    "    print(i)"
   ]
  },
  {
   "cell_type": "markdown",
   "metadata": {
    "slideshow": {
     "slide_type": "slide"
    }
   },
   "source": [
    "## If/ Else statements\n",
    "\n",
    "<b>How do I do if I want to print ‘Yes’ if x is bigger than y?</b>  \n",
    "if x > y:  \n",
    "&emsp;print('Yes')"
   ]
  },
  {
   "cell_type": "code",
   "execution_count": 9,
   "metadata": {
    "slideshow": {
     "slide_type": "-"
    }
   },
   "outputs": [
    {
     "name": "stdout",
     "output_type": "stream",
     "text": [
      "5 is not in the list\n"
     ]
    }
   ],
   "source": [
    "a = 5\n",
    "b = [1,2,3,4]\n",
    "if a in b:\n",
    "    print(str(a)+' is found in the list b')\n",
    "else:\n",
    "    print(str(a)+' is not in the list')"
   ]
  },
  {
   "cell_type": "markdown",
   "metadata": {
    "slideshow": {
     "slide_type": "slide"
    }
   },
   "source": [
    "## Files and loops\n",
    "\n",
    "<b>How do I open a file handle to read a file called ‘somerandomfile.txt’?</b>  \n",
    "fh = open('somerandomfile.txt', 'r', encoding = 'utf-8')  \n",
    "fh.close()\n",
    "\n",
    "<b>The file contains several lines, how do I print each line?</b>  \n",
    "for line in fh:  \n",
    "&emsp;print(line.rstrip())"
   ]
  },
  {
   "cell_type": "code",
   "execution_count": 10,
   "metadata": {
    "slideshow": {
     "slide_type": "-"
    }
   },
   "outputs": [
    {
     "name": "stdout",
     "output_type": "stream",
     "text": [
      "just a strange\n",
      "file with\n",
      "some\n",
      "nonsense lines\n"
     ]
    }
   ],
   "source": [
    "fh = open('../files/somerandomfile.txt','r', encoding = 'utf-8')\n",
    "for line in fh:\n",
    "    print(line.rstrip())\n",
    "fh.close()"
   ]
  },
  {
   "cell_type": "code",
   "execution_count": 11,
   "metadata": {
    "slideshow": {
     "slide_type": "-"
    }
   },
   "outputs": [
    {
     "name": "stdout",
     "output_type": "stream",
     "text": [
      "5\n",
      "6\n",
      "7\n",
      "8\n"
     ]
    }
   ],
   "source": [
    "numbers = [5,6,7,8]\n",
    "i = 0\n",
    "while i < len(numbers):\n",
    "    print(numbers[i])\n",
    "    i += 1"
   ]
  },
  {
   "cell_type": "markdown",
   "metadata": {
    "slideshow": {
     "slide_type": "slide"
    }
   },
   "source": [
    "# Questions?"
   ]
  },
  {
   "cell_type": "markdown",
   "metadata": {
    "slideshow": {
     "slide_type": "fragment"
    }
   },
   "source": [
    "<b>&rarr; Any unfinished exercises from Day 1</b>"
   ]
  },
  {
   "cell_type": "markdown",
   "metadata": {
    "slideshow": {
     "slide_type": "slide"
    }
   },
   "source": [
    "## How to approach a coding task\n",
    "\n",
    "Problem:  \n",
    "You have a VCF file with a larger number of samples. You are interested in only one of samples (sample1) and one region (chr5, 1000000-1005000). What you want to know is whether this sample has any variants in this region, and if so, what variants.\n"
   ]
  },
  {
   "cell_type": "markdown",
   "metadata": {
    "slideshow": {
     "slide_type": "slide"
    }
   },
   "source": [
    "### What is your input?\n",
    "\n",
    "A VCF file that is iterable\n",
    "\n",
    "<img src=\"../img/vcf_header.png\" alt=\"Drawing\" style=\"width: 1000px;\"/> "
   ]
  },
  {
   "cell_type": "code",
   "execution_count": 12,
   "metadata": {
    "scrolled": true,
    "slideshow": {
     "slide_type": "fragment"
    }
   },
   "outputs": [
    {
     "name": "stdout",
     "output_type": "stream",
     "text": [
      "1\t10492\t.\tC\tT\t550.31\tLOW_VQSLOD\tAN=26;AC=2\tGT:AD:DP:GQ:PGT:PID:PL\t./.:0,0:0:.:.:.:.\t./.:0,0:0:.:.:.:.\t./.:0,0:0:.:.:.:.\t./.:0,0:0:.:.:.:.\t./.:0,0:0:.:.:.:.\t0/1:12,7:19:99:0|1:10403_ACCCTAACCCTAACCCTAACCCTAACCCTAACCCTAAC_A:196,0,340\t./.:0,0:0:.:.:.:.\t./.:0,0:0:.:.:.:.\t./.:0,0:0:.:.:.:.\t./.:0,0:0:.:.:.:.\t0/1:18,4:22:48:.:.:48,0,504\t./.:0,0:0:.:.:.:.\t./.:0,0:0:.:.:.:.\n"
     ]
    }
   ],
   "source": [
    "fh = open('C:/Users/Nina/Documents/courses/Python_Beginner_Course/genotypes.vcf', 'r', encoding = 'utf-8')\n",
    "for line in fh:\n",
    "    if not line.startswith('#'):  \n",
    "        print(line.strip())\n",
    "        break\n",
    "fh.close()\n",
    "# Next, find chromosome 5"
   ]
  },
  {
   "cell_type": "markdown",
   "metadata": {
    "slideshow": {
     "slide_type": "slide"
    }
   },
   "source": [
    "<img src=\"../img/vcf_header.png\" alt=\"Drawing\" style=\"width: 1000px;\"/> "
   ]
  },
  {
   "cell_type": "code",
   "execution_count": 13,
   "metadata": {
    "slideshow": {
     "slide_type": "-"
    }
   },
   "outputs": [
    {
     "name": "stdout",
     "output_type": "stream",
     "text": [
      "5\n"
     ]
    }
   ],
   "source": [
    "fh = open('C:/Users/Nina/Documents/courses/Python_Beginner_Course/genotypes.vcf', 'r', encoding = 'utf-8')\n",
    "for line in fh:\n",
    "    if not line.startswith('#'):\n",
    "        cols = line.strip().split('\\t')\n",
    "        if cols[0] == '5':\n",
    "            print(cols[0])\n",
    "            break\n",
    "fh.close()\n",
    "\n",
    "# Next, find the correct region"
   ]
  },
  {
   "cell_type": "markdown",
   "metadata": {
    "slideshow": {
     "slide_type": "slide"
    }
   },
   "source": [
    "<img src=\"../img/vcf_header.png\" alt=\"Drawing\" style=\"width: 1000px;\"/> "
   ]
  },
  {
   "cell_type": "code",
   "execution_count": 14,
   "metadata": {
    "slideshow": {
     "slide_type": "-"
    }
   },
   "outputs": [
    {
     "name": "stdout",
     "output_type": "stream",
     "text": [
      "5\t1000080\t.\tA\tT\t2557.1\tPASS\tAN=26;AC=2\tGT:AD:DP:GQ:PL\t0/1:15,18:33:99:489,0,357\t./.:0,0:0:.:.\t./.:0,0:0:.:.\t./.:0,0:0:.:.\t./.:0,0:0:.:.\t./.:0,0:0:.:.\t./.:0,0:0:.:.\t./.:0,0:0:.:.\t0/1:21,19:40:99:481,0,542\t./.:0,0:0:.:.\t./.:0,0:0:.:.\t./.:0,0:0:.:.\t./.:0,0:0:.:.\n",
      "\n"
     ]
    }
   ],
   "source": [
    "fh = open('C:/Users/Nina/Documents/courses/Python_Beginner_Course/genotypes.vcf', 'r', encoding = 'utf-8')\n",
    "for line in fh:\n",
    "    if not line.startswith('#'):\n",
    "        cols = line.strip().split('\\t')\n",
    "        if cols[0] == '5' and int(cols[1]) >= 1000000 and int(cols[1]) <= 1005000:\n",
    "            print(line)\n",
    "            break\n",
    "fh.close()\n",
    "# Next, find the genotypes for sample1"
   ]
  },
  {
   "cell_type": "markdown",
   "metadata": {
    "slideshow": {
     "slide_type": "slide"
    }
   },
   "source": [
    "<img src=\"../img/vcf_header.png\" alt=\"Drawing\" style=\"width: 1000px;\"/> "
   ]
  },
  {
   "cell_type": "code",
   "execution_count": 15,
   "metadata": {
    "slideshow": {
     "slide_type": "-"
    }
   },
   "outputs": [
    {
     "name": "stdout",
     "output_type": "stream",
     "text": [
      "0/1\n"
     ]
    }
   ],
   "source": [
    "fh = open('C:/Users/Nina/Documents/courses/Python_Beginner_Course/genotypes.vcf', 'r', encoding = 'utf-8')\n",
    "for line in fh:\n",
    "    if not line.startswith('#'):\n",
    "        cols = line.strip().split('\\t')\n",
    "        if cols[0] == '5' and int(cols[1]) >= 1000000 and int(cols[1]) <= 1005000:\n",
    "            geno = cols[9].split(':')[0]\n",
    "            print(geno)\n",
    "            break\n",
    "fh.close()\n",
    "# Next, find in which positions sample1 has alternate alleles"
   ]
  },
  {
   "cell_type": "markdown",
   "metadata": {
    "slideshow": {
     "slide_type": "slide"
    }
   },
   "source": [
    "<img src=\"../img/vcf_header.png\" alt=\"Drawing\" style=\"width: 1000px;\"/> "
   ]
  },
  {
   "cell_type": "code",
   "execution_count": 16,
   "metadata": {
    "slideshow": {
     "slide_type": "-"
    }
   },
   "outputs": [
    {
     "name": "stdout",
     "output_type": "stream",
     "text": [
      "['5', '1000080', '.', 'A', 'T']\n",
      "['5', '1000156', '.', 'G', 'A']\n",
      "['5', '1001097', '.', 'C', 'A']\n",
      "['5', '1001193', '.', 'C', 'T']\n",
      "['5', '1001245', '.', 'T', 'C']\n",
      "['5', '1001339', '.', 'C', 'T']\n",
      "['5', '1001344', '.', 'G', 'C']\n",
      "['5', '1001683', '.', 'G', 'T']\n",
      "['5', '1001755', '.', 'G', 'A']\n",
      "['5', '1002374', '.', 'G', 'A']\n",
      "['5', '1002382', '.', 'G', 'C']\n",
      "['5', '1002620', '.', 'T', 'C']\n",
      "['5', '1002722', '.', 'G', 'A']\n",
      "['5', '1002819', '.', 'C', 'A']\n",
      "['5', '1003043', '.', 'G', 'T']\n",
      "['5', '1003099', '.', 'C', 'T']\n",
      "['5', '1003135', '.', 'G', 'A']\n",
      "['5', '1004648', '.', 'A', 'G']\n",
      "['5', '1004650', '.', 'A', 'C']\n",
      "['5', '1004665', '.', 'A', 'G']\n",
      "['5', '1004702', '.', 'G', 'T']\n",
      "['5', '1004879', '.', 'T', 'C']\n"
     ]
    }
   ],
   "source": [
    "fh = open('C:/Users/Nina/Documents/courses/Python_Beginner_Course/genotypes.vcf', 'r', encoding = 'utf-8')\n",
    "for line in fh:\n",
    "    if not line.startswith('#'):\n",
    "        cols = line.strip().split('\\t')\n",
    "        if cols[0] == '5' and int(cols[1]) >= 1000000 and int(cols[1]) <= 1005000:\n",
    "            geno = cols[9].split(':')[0]\n",
    "            if geno == '0/1':\n",
    "                print(cols[0:5])\n",
    "fh.close()"
   ]
  },
  {
   "cell_type": "markdown",
   "metadata": {
    "slideshow": {
     "slide_type": "slide"
    }
   },
   "source": [
    "<b>&rarr; Notebook Day_2_Exercise_1  (~30 minutes) </b>"
   ]
  },
  {
   "cell_type": "markdown",
   "metadata": {
    "slideshow": {
     "slide_type": "slide"
    }
   },
   "source": [
    "## Comments for Exercise 1"
   ]
  },
  {
   "cell_type": "code",
   "execution_count": 16,
   "metadata": {
    "slideshow": {
     "slide_type": "-"
    }
   },
   "outputs": [
    {
     "name": "stdout",
     "output_type": "stream",
     "text": [
      "The frequency of the rs4988235 SNP is: 0.7833333333333333\n"
     ]
    }
   ],
   "source": [
    "fh  = open('../files/genotypes_small.vcf', 'r', encoding = 'utf-8')\n",
    "\n",
    "wt  = 0\n",
    "het = 0\n",
    "hom = 0\n",
    "\n",
    "for line in fh:\n",
    "    if not line.startswith('#'):\n",
    "        cols  = line.strip().split('\\t')\n",
    "        chrom = cols[0]                         \n",
    "        pos   = cols[1]                          \n",
    "        if chrom == '2' and pos == '136608646':  \n",
    "            for geno in cols[9:]:                \n",
    "                alleles = geno[0:3]  \n",
    "                if alleles == '0/0':            \n",
    "                    wt += 1                      \n",
    "                elif alleles == '0/1':\n",
    "                    het += 1\n",
    "                elif alleles == '1/1':        \n",
    "                    hom += 1\n",
    "                    \n",
    "freq = (2*hom + het)/((wt+hom+het)*2)                       \n",
    "print('The frequency of the rs4988235 SNP is: '+str(freq)) \n",
    "\n",
    "fh.close()"
   ]
  },
  {
   "cell_type": "code",
   "execution_count": 17,
   "metadata": {
    "slideshow": {
     "slide_type": "slide"
    }
   },
   "outputs": [
    {
     "name": "stdout",
     "output_type": "stream",
     "text": [
      "The frequency of the rs4988235 SNP is: 0.7833333333333333\n"
     ]
    }
   ],
   "source": [
    "with open('../files/genotypes_small.vcf', 'r', encoding = 'utf-8') as fh:\n",
    "    for line in fh:\n",
    "        if line.startswith('2\\t136608646'):\n",
    "            alleles = [int(item) for sub in [geno[0:3].split('/') for geno in line.strip().split('\\t')[9:]] for item in sub]\n",
    "            print('The frequency of the rs4988235 SNP is: '+str(sum(alleles)/len(alleles)))\n",
    "            break"
   ]
  },
  {
   "cell_type": "markdown",
   "metadata": {
    "slideshow": {
     "slide_type": "fragment"
    }
   },
   "source": [
    "Although much shorter, but maybe not as intuitive..."
   ]
  },
  {
   "cell_type": "code",
   "execution_count": 19,
   "metadata": {
    "slideshow": {
     "slide_type": "slide"
    }
   },
   "outputs": [
    {
     "name": "stdout",
     "output_type": "stream",
     "text": [
      "The frequency of the rs4988235 SNP is: 0.7833333333333333\n"
     ]
    }
   ],
   "source": [
    "with open('../files/genotypes_small.vcf', 'r', encoding = 'utf-8') as fh:\n",
    "    for line in fh:\n",
    "        if line.startswith('2\\t136608646'):\n",
    "            genoInfo  = [geno for geno in line.strip().split('\\t')[9:]]  # extract comlete geno info to list\n",
    "            genotypes = [g[0:3].split('/') for g in genoInfo]            # split into alleles to nested list\n",
    "            alleles   = [int(item) for sub in genotypes for item in sub] # flatten the nested list to normal list\n",
    "            print('The frequency of the rs4988235 SNP is: '+str(sum(alleles)/len(alleles))) # use sum and len to calculate freq\n",
    "            break"
   ]
  },
  {
   "cell_type": "markdown",
   "metadata": {
    "slideshow": {
     "slide_type": "fragment"
    }
   },
   "source": [
    "Shorter than the first version, but easier to follow than the second version"
   ]
  },
  {
   "cell_type": "markdown",
   "metadata": {
    "slideshow": {
     "slide_type": "slide"
    }
   },
   "source": [
    "## More useful functions and methods\n",
    "\n",
    "<b> What is the difference between a function and a method?</b>\n",
    "\n",
    "A method always belongs to an object of a specific class, a function does not have to. For example:\n",
    "\n",
    "<i>print('a string')</i> and <i>print(42)</i> both works, even though one is a string and one is an integer\n",
    "\n",
    "<i>'a string '.strip()</i> works, but <i>[1,2,3,4].strip()</i> does not work. strip() is a method that only works on strings\n"
   ]
  },
  {
   "cell_type": "markdown",
   "metadata": {
    "slideshow": {
     "slide_type": "slide"
    }
   },
   "source": [
    "<b> What does it matter to me?</b>\n",
    "\n",
    "For now, you mostly need to be aware of the difference, and know the different syntaxes:\n",
    "\n",
    "<b>A function:</b>  \n",
    "functionName()\n",
    "\n",
    "<b>A method:</b>  \n",
    "&lt;object>.methodName()\n"
   ]
  },
  {
   "cell_type": "code",
   "execution_count": 20,
   "metadata": {
    "slideshow": {
     "slide_type": "slide"
    }
   },
   "outputs": [
    {
     "ename": "TypeError",
     "evalue": "unsupported operand type(s) for +: 'int' and 'str'",
     "output_type": "error",
     "traceback": [
      "\u001b[1;31m---------------------------------------------------------------------------\u001b[0m",
      "\u001b[1;31mTypeError\u001b[0m                                 Traceback (most recent call last)",
      "\u001b[1;32m<ipython-input-20-d1764f4abdf1>\u001b[0m in \u001b[0;36m<module>\u001b[1;34m()\u001b[0m\n\u001b[0;32m      7\u001b[0m \u001b[0mlen\u001b[0m\u001b[1;33m(\u001b[0m\u001b[1;34m'a string'\u001b[0m\u001b[1;33m)\u001b[0m\u001b[1;33m\u001b[0m\u001b[0m\n\u001b[0;32m      8\u001b[0m \u001b[0mlen\u001b[0m\u001b[1;33m(\u001b[0m\u001b[1;33m[\u001b[0m\u001b[1;36m1\u001b[0m\u001b[1;33m,\u001b[0m\u001b[1;36m2\u001b[0m\u001b[1;33m,\u001b[0m\u001b[1;36m3\u001b[0m\u001b[1;33m]\u001b[0m\u001b[1;33m)\u001b[0m\u001b[1;33m\u001b[0m\u001b[0m\n\u001b[1;32m----> 9\u001b[1;33m \u001b[0msum\u001b[0m\u001b[1;33m(\u001b[0m\u001b[1;34m'string'\u001b[0m\u001b[1;33m)\u001b[0m\u001b[1;33m\u001b[0m\u001b[0m\n\u001b[0m",
      "\u001b[1;31mTypeError\u001b[0m: unsupported operand type(s) for +: 'int' and 'str'"
     ]
    }
   ],
   "source": [
    "sum([1,2,3])\n",
    "#sum('a string')\n",
    "\n",
    "'a string '.strip()\n",
    "#[1,2,3].strip()\n",
    "\n",
    "len('a string')\n",
    "len([1,2,3])\n",
    "sum('string')"
   ]
  },
  {
   "cell_type": "markdown",
   "metadata": {
    "slideshow": {
     "slide_type": "slide"
    }
   },
   "source": [
    "## Functions"
   ]
  },
  {
   "cell_type": "markdown",
   "metadata": {
    "slideshow": {
     "slide_type": "-"
    }
   },
   "source": [
    "<img src=\"../img/built-in_functions.png\" alt=\"Drawing\" style=\"width: 1000px;\"/> "
   ]
  },
  {
   "cell_type": "markdown",
   "metadata": {
    "slideshow": {
     "slide_type": "-"
    }
   },
   "source": [
    "[Python Built-in functions](https://docs.python.org/3/library/functions.html#)"
   ]
  },
  {
   "cell_type": "markdown",
   "metadata": {
    "slideshow": {
     "slide_type": "slide"
    }
   },
   "source": [
    "<img src=\"../img/built-in_functions_int.png\" alt=\"Drawing\" style=\"width: 800px;\"/> "
   ]
  },
  {
   "cell_type": "code",
   "execution_count": null,
   "metadata": {
    "slideshow": {
     "slide_type": "-"
    }
   },
   "outputs": [],
   "source": [
    "abs(-5)"
   ]
  },
  {
   "cell_type": "markdown",
   "metadata": {
    "slideshow": {
     "slide_type": "slide"
    }
   },
   "source": [
    "<img src=\"../img/built-in_functions_list.png\" alt=\"Drawing\" style=\"width: 800px;\"/> "
   ]
  },
  {
   "cell_type": "code",
   "execution_count": 22,
   "metadata": {
    "slideshow": {
     "slide_type": "-"
    }
   },
   "outputs": [
    {
     "data": {
      "text/plain": [
       "10"
      ]
     },
     "execution_count": 22,
     "metadata": {},
     "output_type": "execute_result"
    }
   ],
   "source": [
    "sum([1,2,3,4])"
   ]
  },
  {
   "cell_type": "markdown",
   "metadata": {
    "slideshow": {
     "slide_type": "slide"
    }
   },
   "source": [
    "### From Python documentation\n",
    "\n",
    "<br></br>\n",
    "\n",
    "<img src=\"../img/sum_function.png\" alt=\"Drawing\" style=\"width: 800px;\"/> "
   ]
  },
  {
   "cell_type": "code",
   "execution_count": 23,
   "metadata": {
    "slideshow": {
     "slide_type": "-"
    }
   },
   "outputs": [
    {
     "data": {
      "text/plain": [
       "15"
      ]
     },
     "execution_count": 23,
     "metadata": {},
     "output_type": "execute_result"
    }
   ],
   "source": [
    "sum([1,2,3,4],5)"
   ]
  },
  {
   "cell_type": "markdown",
   "metadata": {
    "slideshow": {
     "slide_type": "slide"
    }
   },
   "source": [
    "<img src=\"../img/built-in_functions_misc.png\" alt=\"Drawing\" style=\"width: 800px;\"/> "
   ]
  },
  {
   "cell_type": "code",
   "execution_count": 26,
   "metadata": {
    "slideshow": {
     "slide_type": "-"
    }
   },
   "outputs": [
    {
     "data": {
      "text/plain": [
       "['a', ' ', 's', 't', 'r', 'i', 'n', 'g']"
      ]
     },
     "execution_count": 26,
     "metadata": {},
     "output_type": "execute_result"
    }
   ],
   "source": [
    "list('a string')"
   ]
  },
  {
   "cell_type": "markdown",
   "metadata": {
    "slideshow": {
     "slide_type": "slide"
    }
   },
   "source": [
    "## Methods\n",
    "\n",
    "### Useful operations on strings\n",
    "\n",
    "<img src=\"../img/string_methods.png\" alt=\"Drawing\" style=\"width: 400px;\"/> "
   ]
  },
  {
   "cell_type": "markdown",
   "metadata": {
    "slideshow": {
     "slide_type": "fragment"
    }
   },
   "source": [
    "<img src=\"../img/strip.png\" alt=\"Drawing\" style=\"width: 800px;\"/> "
   ]
  },
  {
   "cell_type": "markdown",
   "metadata": {
    "slideshow": {
     "slide_type": "slide"
    }
   },
   "source": [
    "<img src=\"../img/lstrip.png\" alt=\"Drawing\" style=\"width: 800px;\"/>  \n",
    "\n",
    "<img src=\"../img/rstrip.png\" alt=\"Drawing\" style=\"width: 800px;\"/> "
   ]
  },
  {
   "cell_type": "code",
   "execution_count": 34,
   "metadata": {
    "slideshow": {
     "slide_type": "-"
    }
   },
   "outputs": [
    {
     "data": {
      "text/plain": [
       "'spaciousWith5678.com'"
      ]
     },
     "execution_count": 34,
     "metadata": {},
     "output_type": "execute_result"
    }
   ],
   "source": [
    "'    spaciousWith5678.com   '.strip()"
   ]
  },
  {
   "cell_type": "markdown",
   "metadata": {
    "slideshow": {
     "slide_type": "slide"
    }
   },
   "source": [
    "<img src=\"../img/split.png\" alt=\"Drawing\" style=\"width: 800px;\"/> "
   ]
  },
  {
   "cell_type": "code",
   "execution_count": 68,
   "metadata": {
    "slideshow": {
     "slide_type": "-"
    }
   },
   "outputs": [
    {
     "data": {
      "text/plain": [
       "['split', 'a', 'string', 'into', 'a', 'list']"
      ]
     },
     "execution_count": 68,
     "metadata": {},
     "output_type": "execute_result"
    }
   ],
   "source": [
    "'  split a string into a list '.split()"
   ]
  },
  {
   "cell_type": "markdown",
   "metadata": {
    "slideshow": {
     "slide_type": "slide"
    }
   },
   "source": [
    "<img src=\"../img/join.png\" alt=\"Drawing\" style=\"width: 800px;\"/> "
   ]
  },
  {
   "cell_type": "code",
   "execution_count": 72,
   "metadata": {
    "slideshow": {
     "slide_type": "-"
    }
   },
   "outputs": [
    {
     "data": {
      "text/plain": [
       "'split a string into a list'"
      ]
     },
     "execution_count": 72,
     "metadata": {},
     "output_type": "execute_result"
    }
   ],
   "source": [
    "' '.join(['split', 'a', 'string', 'into', 'a', 'list'])"
   ]
  },
  {
   "cell_type": "markdown",
   "metadata": {
    "slideshow": {
     "slide_type": "slide"
    }
   },
   "source": [
    "<img src=\"../img/startswith.png\" alt=\"Drawing\" style=\"width: 800px;\"/>  \n",
    "\n",
    "<img src=\"../img/endswith.png\" alt=\"Drawing\" style=\"width: 800px;\"/> "
   ]
  },
  {
   "cell_type": "code",
   "execution_count": 84,
   "metadata": {
    "slideshow": {
     "slide_type": "-"
    }
   },
   "outputs": [
    {
     "data": {
      "text/plain": [
       "True"
      ]
     },
     "execution_count": 84,
     "metadata": {},
     "output_type": "execute_result"
    }
   ],
   "source": [
    "'long string'.startswith('long')\n",
    "#'long string'.endswith('string')"
   ]
  },
  {
   "cell_type": "markdown",
   "metadata": {
    "slideshow": {
     "slide_type": "slide"
    }
   },
   "source": [
    "<img src=\"../img/upper.png\" alt=\"Drawing\" style=\"width: 800px;\"/>  \n",
    "\n",
    "<img src=\"../img/lower.png\" alt=\"Drawing\" style=\"width: 800px;\"/>  "
   ]
  },
  {
   "cell_type": "code",
   "execution_count": 28,
   "metadata": {
    "slideshow": {
     "slide_type": "-"
    }
   },
   "outputs": [
    {
     "data": {
      "text/plain": [
       "'longrandomstring'"
      ]
     },
     "execution_count": 28,
     "metadata": {},
     "output_type": "execute_result"
    }
   ],
   "source": [
    "'LongRandomString'.lower()"
   ]
  },
  {
   "cell_type": "markdown",
   "metadata": {
    "slideshow": {
     "slide_type": "slide"
    }
   },
   "source": [
    "### Useful operations on Mutable sequences\n",
    "\n",
    "<br></br>\n",
    "\n",
    "<img src=\"../img/list_methods.png\" alt=\"Drawing\" style=\"width: 400px;\"/> "
   ]
  },
  {
   "cell_type": "code",
   "execution_count": 102,
   "metadata": {
    "slideshow": {
     "slide_type": "-"
    }
   },
   "outputs": [
    {
     "data": {
      "text/plain": [
       "[1, 2, 3, 4, 5, 5, 5, 5]"
      ]
     },
     "execution_count": 102,
     "metadata": {},
     "output_type": "execute_result"
    }
   ],
   "source": [
    "a = [1,2,3,4,5,5,5,5]\n",
    "a.append(6)\n",
    "a.pop()\n",
    "a"
   ]
  },
  {
   "cell_type": "markdown",
   "metadata": {
    "slideshow": {
     "slide_type": "slide"
    }
   },
   "source": [
    "<b>&rarr; Notebook Day_2_Exercise_2  (~20 minutes) </b>"
   ]
  },
  {
   "cell_type": "markdown",
   "metadata": {
    "slideshow": {
     "slide_type": "slide"
    }
   },
   "source": [
    "## IMDb\n",
    "\n",
    "Download the 250.imdb file from the course website\n",
    "\n",
    "This format of this file is:  \n",
    "- Line by line  \n",
    "- Columns separated by the \\| character\n",
    "- Header starting with #\n",
    "\n",
    "<img src=\"../img/header_imdb.png\" alt=\"Drawing\" style=\"width: 1000px;\"/>  \n",
    "\n",
    "\\# Votes | Rating | Year | Runtime | URL | Genres | Title"
   ]
  },
  {
   "cell_type": "markdown",
   "metadata": {
    "slideshow": {
     "slide_type": "slide"
    }
   },
   "source": [
    "### Find the movie with the highest rating\n",
    "\n",
    "<img src=\"../img/header_imdb.png\" alt=\"Drawing\" style=\"width: 1000px;\"/> "
   ]
  },
  {
   "cell_type": "code",
   "execution_count": 165,
   "metadata": {
    "slideshow": {
     "slide_type": "fragment"
    }
   },
   "outputs": [
    {
     "name": "stdout",
     "output_type": "stream",
     "text": [
      "[9.3, 'The Shawshank Redemption']\n"
     ]
    }
   ],
   "source": [
    "fh   = open('../files/250.imdb', 'r', encoding = 'utf-8')\n",
    "best = [0,'']\n",
    "for line in fh:\n",
    "    if not line.startswith('#'):\n",
    "        cols   = line.strip().split('|')\n",
    "        rating = float(cols[1].strip())\n",
    "        if rating > best[0]:\n",
    "            best = [rating,cols[6]]\n",
    "print(best)"
   ]
  },
  {
   "cell_type": "markdown",
   "metadata": {
    "slideshow": {
     "slide_type": "slide"
    }
   },
   "source": [
    "### For the genre Adventure\n",
    "\n",
    "Find:\n",
    "- The top movie by votes\n",
    "- The flop movie by votes\n",
    "\n",
    "<img src=\"../img/header_imdb.png\" alt=\"Drawing\" style=\"width: 1000px;\"/> "
   ]
  },
  {
   "cell_type": "markdown",
   "metadata": {
    "slideshow": {
     "slide_type": "fragment"
    }
   },
   "source": [
    "### Answer\n",
    "\n",
    "Top movie:  \n",
    "Inception with 1.538.265 votes  \n",
    "\n",
    "Flop movie:  \n",
    "The Message with 34.090 votes"
   ]
  },
  {
   "cell_type": "code",
   "execution_count": 166,
   "metadata": {
    "slideshow": {
     "slide_type": "slide"
    }
   },
   "outputs": [
    {
     "name": "stdout",
     "output_type": "stream",
     "text": [
      "[1538265, 'Inception']\n",
      "[34090, 'The Message']\n"
     ]
    }
   ],
   "source": [
    "fh   = open('../files/250.imdb', 'r', encoding = 'utf-8')\n",
    "top  = [0,'']\n",
    "flop = [float('inf'),'']\n",
    "\n",
    "for line in fh:\n",
    "    if not line.startswith('#'):\n",
    "        cols  = line.strip().split('|')\n",
    "        genre = cols[5].strip()\n",
    "        glist = genre.split(',')\n",
    "        if 'Adventure' in glist:\n",
    "            votes = int(cols[0].strip())\n",
    "            if votes > top[0]:\n",
    "                top = [votes,cols[6]]\n",
    "            if votes < flop[0]:\n",
    "                flop = [votes,cols[6]]        \n",
    "print(top)\n",
    "print(flop)"
   ]
  },
  {
   "cell_type": "markdown",
   "metadata": {
    "slideshow": {
     "slide_type": "slide"
    }
   },
   "source": [
    "### Find the number of genres\n",
    "\n",
    "<img src=\"../img/header_imdb.png\" alt=\"Drawing\" style=\"width: 1000px;\"/> "
   ]
  },
  {
   "cell_type": "markdown",
   "metadata": {
    "slideshow": {
     "slide_type": "fragment"
    }
   },
   "source": [
    "### Answer\n",
    "\n",
    "Watch out for the upper/lower cases!\n",
    "\n",
    "The correct answer is 22"
   ]
  },
  {
   "cell_type": "code",
   "execution_count": 167,
   "metadata": {
    "slideshow": {
     "slide_type": "slide"
    }
   },
   "outputs": [
    {
     "name": "stdout",
     "output_type": "stream",
     "text": [
      "['action', 'adventure', 'animation', 'biography', 'comedy', 'crime', 'drama', 'family', 'fantasy', 'film-noir', 'historical', 'history', 'horror', 'music', 'musical', 'mystery', 'romance', 'sci-fi', 'sport', 'thriller', 'war', 'western']\n",
      "22\n"
     ]
    }
   ],
   "source": [
    "fh     = open('../files/250.imdb', 'r', encoding = 'utf-8')\n",
    "genres = []\n",
    "\n",
    "for line in fh:\n",
    "    if not line.startswith('#'):\n",
    "        cols  = line.strip().split('|')\n",
    "        genre = cols[5].strip()\n",
    "        glist = genre.split(',')\n",
    "        for entry in glist:\n",
    "            if entry.lower() not in genres:\n",
    "                genres.append(entry.lower())   \n",
    "print(sorted(genres))\n",
    "print(len(genres))"
   ]
  },
  {
   "cell_type": "markdown",
   "metadata": {
    "slideshow": {
     "slide_type": "slide"
    }
   },
   "source": [
    "## New data type: SET\n",
    "\n",
    "- A set contains an unordered collection of unique and immutable objects\n",
    "\n",
    "Syntax:  \n",
    "setName = set()\n",
    "\n",
    "### Common operations on sets\n",
    "\n",
    "set.add(a)  \n",
    "len(set)  \n",
    "a in set  "
   ]
  },
  {
   "cell_type": "code",
   "execution_count": 83,
   "metadata": {
    "slideshow": {
     "slide_type": "-"
    }
   },
   "outputs": [
    {
     "name": "stdout",
     "output_type": "stream",
     "text": [
      "{3, 100, 4, 50, 25}\n",
      "3\n",
      "100\n",
      "4\n",
      "50\n",
      "25\n"
     ]
    }
   ],
   "source": [
    "x = set()\n",
    "x.add(100)\n",
    "x.add(25)\n",
    "x.add(3)\n",
    "x.add(50)\n",
    "x.add(4)\n",
    "print(x)\n",
    "for i in x:\n",
    "    print(i)"
   ]
  },
  {
   "cell_type": "markdown",
   "metadata": {
    "slideshow": {
     "slide_type": "slide"
    }
   },
   "source": [
    "### Find the number of genres\n",
    "\n",
    "<img src=\"../img/header_imdb.png\" alt=\"Drawing\" style=\"width: 1000px;\"/>  \n",
    "\n",
    "Modify your code to use sets"
   ]
  },
  {
   "cell_type": "code",
   "execution_count": 168,
   "metadata": {
    "slideshow": {
     "slide_type": "fragment"
    }
   },
   "outputs": [
    {
     "name": "stdout",
     "output_type": "stream",
     "text": [
      "{'drama', 'family', 'biography', 'sport', 'crime', 'comedy', 'animation', 'adventure', 'sci-fi', 'history', 'western', 'film-noir', 'fantasy', 'romance', 'war', 'music', 'historical', 'musical', 'mystery', 'horror', 'action', 'thriller'}\n",
      "22\n"
     ]
    }
   ],
   "source": [
    "fh     = open('../files/250.imdb', 'r', encoding = 'utf-8')\n",
    "genres = set()\n",
    "\n",
    "for line in fh:\n",
    "    if not line.startswith('#'):\n",
    "        cols  = line.strip().split('|')\n",
    "        genre = cols[5].strip()\n",
    "        glist = genre.split(',')\n",
    "        for entry in glist:\n",
    "            genres.add(entry.lower())  \n",
    "print(genres)\n",
    "print(len(genres))"
   ]
  },
  {
   "cell_type": "markdown",
   "metadata": {
    "slideshow": {
     "slide_type": "slide"
    }
   },
   "source": [
    "### Find the number of movies per genre\n",
    "\n",
    "<img src=\"../img/header_imdb.png\" alt=\"Drawing\" style=\"width: 1000px;\"/>  "
   ]
  },
  {
   "cell_type": "markdown",
   "metadata": {
    "slideshow": {
     "slide_type": "fragment"
    }
   },
   "source": [
    ".... Hmmm, now it's starting to get difficult..."
   ]
  },
  {
   "cell_type": "markdown",
   "metadata": {
    "slideshow": {
     "slide_type": "slide"
    }
   },
   "source": [
    "## New data type: DICTIONARY\n",
    "\n",
    "- A dictionary is a mapping of unique keys to values\n",
    "- Dictionaries are mutable\n",
    "\n",
    "Syntax:  \n",
    "a = {} (create empty dictionary)  \n",
    "d = {'key1':1, 'key2':2, 'key3':3}"
   ]
  },
  {
   "cell_type": "code",
   "execution_count": 71,
   "metadata": {
    "slideshow": {
     "slide_type": "-"
    }
   },
   "outputs": [
    {
     "data": {
      "text/plain": [
       "{'drama': 4, 'romance': 5, 'thriller': 2}"
      ]
     },
     "execution_count": 71,
     "metadata": {},
     "output_type": "execute_result"
    }
   ],
   "source": [
    "myDict = {'drama': 4,\n",
    "          'thriller': 2,\n",
    "          'romance': 5}\n",
    "myDict"
   ]
  },
  {
   "cell_type": "markdown",
   "metadata": {
    "slideshow": {
     "slide_type": "slide"
    }
   },
   "source": [
    "### Operations on Dictionaries"
   ]
  },
  {
   "cell_type": "markdown",
   "metadata": {
    "slideshow": {
     "slide_type": "-"
    }
   },
   "source": [
    "<img src=\"../img/dictionary.png\" alt=\"Drawing\" style=\"width: 600px;\"/>  "
   ]
  },
  {
   "cell_type": "code",
   "execution_count": 96,
   "metadata": {
    "slideshow": {
     "slide_type": "-"
    }
   },
   "outputs": [
    {
     "data": {
      "text/plain": [
       "dict_items([('drama', 4), ('thriller', 2), ('romance', 5)])"
      ]
     },
     "execution_count": 96,
     "metadata": {},
     "output_type": "execute_result"
    }
   ],
   "source": [
    "myDict = {'drama': 4,\n",
    "          'thriller': 2,\n",
    "          'romance': 5}\n",
    "len(myDict)\n",
    "myDict['drama']\n",
    "myDict['horror'] = 2\n",
    "myDict\n",
    "del myDict['horror']\n",
    "myDict\n",
    "'drama' in myDict\n",
    "myDict.keys()\n",
    "myDict.items()"
   ]
  },
  {
   "cell_type": "markdown",
   "metadata": {
    "slideshow": {
     "slide_type": "slide"
    }
   },
   "source": [
    "### Exercise"
   ]
  },
  {
   "cell_type": "code",
   "execution_count": 120,
   "metadata": {
    "slideshow": {
     "slide_type": "-"
    }
   },
   "outputs": [],
   "source": [
    "myDict = {'drama': 182, \n",
    "          'war': 30, \n",
    "          'adventure': 55, \n",
    "          'comedy': 46, \n",
    "          'family': 24, \n",
    "          'animation': 17, \n",
    "          'biography': 25}"
   ]
  },
  {
   "cell_type": "markdown",
   "metadata": {
    "slideshow": {
     "slide_type": "-"
    }
   },
   "source": [
    "- How many entries are there in this dictionary?\n",
    "- How do you find out how many movies are in the genre 'comedy'?\n",
    "- You're not interested in biographies, delete this entry\n",
    "- You are however interested in fantasy, add that we have 29 movies of the genre fantasy to the list\n",
    "- What genres are listed in this dictionary?\n",
    "- You remembered another comedy movie, increase the number of comedies by one"
   ]
  },
  {
   "cell_type": "code",
   "execution_count": null,
   "metadata": {
    "slideshow": {
     "slide_type": "-"
    }
   },
   "outputs": [],
   "source": []
  },
  {
   "cell_type": "markdown",
   "metadata": {
    "slideshow": {
     "slide_type": "slide"
    }
   },
   "source": [
    "### Find the number of movies per genre\n",
    "\n",
    "<img src=\"../img/header_imdb.png\" alt=\"Drawing\" style=\"width: 1000px;\"/>  \n",
    "\n",
    "\n",
    "Hint! If the genre is not already in the dictionary, you have to add it first"
   ]
  },
  {
   "cell_type": "markdown",
   "metadata": {
    "slideshow": {
     "slide_type": "fragment"
    }
   },
   "source": [
    "### Answer\n",
    "\n",
    "<img src=\"../img/movie_dict.png\" alt=\"Drawing\" style=\"width: 500px;\"/>  "
   ]
  },
  {
   "cell_type": "code",
   "execution_count": 169,
   "metadata": {
    "slideshow": {
     "slide_type": "slide"
    }
   },
   "outputs": [
    {
     "name": "stdout",
     "output_type": "stream",
     "text": [
      "{'drama': 182, 'war': 30, 'adventure': 55, 'comedy': 46, 'family': 24, 'animation': 17, 'biography': 25, 'history': 18, 'action': 31, 'crime': 62, 'mystery': 41, 'thriller': 65, 'fantasy': 29, 'romance': 24, 'sci-fi': 28, 'western': 8, 'musical': 5, 'music': 3, 'historical': 1, 'sport': 7, 'film-noir': 7, 'horror': 5}\n"
     ]
    }
   ],
   "source": [
    "fh        = open('../files/250.imdb', 'r', encoding = 'utf-8')\n",
    "genreDict = {}\n",
    "\n",
    "for line in fh:\n",
    "    if not line.startswith('#'):\n",
    "        cols  = line.strip().split('|')\n",
    "        genre = cols[5].strip()\n",
    "        glist = genre.split(',')\n",
    "        for entry in glist:\n",
    "            if not entry.lower() in genreDict:\n",
    "                genreDict[entry.lower()] = 1\n",
    "            else:\n",
    "                genreDict[entry.lower()] += 1 \n",
    "\n",
    "print(genreDict)"
   ]
  },
  {
   "cell_type": "markdown",
   "metadata": {
    "slideshow": {
     "slide_type": "slide"
    }
   },
   "source": [
    "### What is the average length of the movies (hours and minutes) in each genre?\n",
    "\n",
    "<img src=\"../img/header_imdb.png\" alt=\"Drawing\" style=\"width: 1000px;\"/>  "
   ]
  },
  {
   "cell_type": "markdown",
   "metadata": {
    "slideshow": {
     "slide_type": "fragment"
    }
   },
   "source": [
    "### Answer\n",
    "\n",
    "<img src=\"../img/average_length.png\" alt=\"Drawing\" style=\"width: 500px;\"/>  "
   ]
  },
  {
   "cell_type": "code",
   "execution_count": 158,
   "metadata": {
    "slideshow": {
     "slide_type": "slide"
    }
   },
   "outputs": [
    {
     "name": "stdout",
     "output_type": "stream",
     "text": [
      "The average length for movies in genre drama is 2h14min\n",
      "The average length for movies in genre war is 2h30min\n",
      "The average length for movies in genre adventure is 2h13min\n",
      "The average length for movies in genre comedy is 1h53min\n",
      "The average length for movies in genre family is 1h44min\n",
      "The average length for movies in genre animation is 1h40min\n",
      "The average length for movies in genre biography is 2h30min\n",
      "The average length for movies in genre history is 2h47min\n",
      "The average length for movies in genre action is 2h18min\n",
      "The average length for movies in genre crime is 2h11min\n",
      "The average length for movies in genre mystery is 2h3min\n",
      "The average length for movies in genre thriller is 2h11min\n",
      "The average length for movies in genre fantasy is 2h2min\n",
      "The average length for movies in genre romance is 2h2min\n",
      "The average length for movies in genre sci-fi is 2h6min\n",
      "The average length for movies in genre western is 2h11min\n",
      "The average length for movies in genre musical is 1h57min\n",
      "The average length for movies in genre music is 2h24min\n",
      "The average length for movies in genre historical is 2h38min\n",
      "The average length for movies in genre sport is 2h17min\n",
      "The average length for movies in genre film-noir is 1h43min\n",
      "The average length for movies in genre horror is 1h59min\n"
     ]
    }
   ],
   "source": [
    "fh        = open('../files/250.imdb', 'r', encoding = 'utf-8')\n",
    "genreDict = {}\n",
    "\n",
    "for line in fh:\n",
    "    if not line.startswith('#'):\n",
    "        cols    = line.strip().split('|')\n",
    "        genre   = cols[5].strip()\n",
    "        glist   = genre.split(',')\n",
    "        runtime = cols[3]\n",
    "        for entry in glist:\n",
    "            if not entry.lower() in genreDict:\n",
    "                genreDict[entry.lower()] = [int(runtime)]\n",
    "            else:\n",
    "                genreDict[entry.lower()].append(int(runtime))\n",
    "\n",
    "for genre in genreDict:\n",
    "    average = sum(genreDict[genre])/len(genreDict[genre])\n",
    "    hours   = average/3600\n",
    "    minutes = (average - (3600*int(hours)))/60\n",
    "    print('The average length for movies in genre '+genre+' is '+str(int(hours))+'h'+str(round(minutes))+'min')"
   ]
  },
  {
   "cell_type": "markdown",
   "metadata": {
    "slideshow": {
     "slide_type": "slide"
    }
   },
   "source": [
    "### Which genre contains the longest movies on average, and how long are they?\n",
    "\n",
    "<img src=\"../img/header_imdb.png\" alt=\"Drawing\" style=\"width: 1000px;\"/>  "
   ]
  },
  {
   "cell_type": "markdown",
   "metadata": {
    "slideshow": {
     "slide_type": "fragment"
    }
   },
   "source": [
    "### Answer\n",
    "\n",
    "History is the genre with the longest movies on average, with a length of 2h47min"
   ]
  },
  {
   "cell_type": "code",
   "execution_count": 162,
   "metadata": {
    "slideshow": {
     "slide_type": "slide"
    }
   },
   "outputs": [
    {
     "name": "stdout",
     "output_type": "stream",
     "text": [
      "history is the genre with the longest movies at 2h47min\n"
     ]
    }
   ],
   "source": [
    "fh        = open('../files/250.imdb', 'r', encoding = 'utf-8')\n",
    "genreDict = {}\n",
    "\n",
    "for line in fh:\n",
    "    if not line.startswith('#'):\n",
    "        cols    = line.strip().split('|')\n",
    "        genre   = cols[5].strip()\n",
    "        glist   = genre.split(',')\n",
    "        runtime = cols[3]\n",
    "        for entry in glist:\n",
    "            if not entry.lower() in genreDict:\n",
    "                genreDict[entry.lower()] = [int(runtime)]\n",
    "            else:\n",
    "                genreDict[entry.lower()].append(int(runtime))\n",
    "\n",
    "longest = [0,'']\n",
    "for genre in genreDict:\n",
    "    average = sum(genreDict[genre])/len(genreDict[genre])\n",
    "    if average > longest[0]:\n",
    "        longest = [average, genre]\n",
    "\n",
    "hours   = longest[0]/3600\n",
    "minutes = (longest[0] - (3600*int(hours)))/60\n",
    "print(longest[1]+' is the genre with the longest movies at '+str(int(hours))+'h'+str(round(minutes))+'min')"
   ]
  }
 ],
 "metadata": {
  "celltoolbar": "Slideshow",
  "kernelspec": {
   "display_name": "Python 3",
   "language": "python",
   "name": "python3"
  },
  "language_info": {
   "codemirror_mode": {
    "name": "ipython",
    "version": 3
   },
   "file_extension": ".py",
   "mimetype": "text/x-python",
   "name": "python",
   "nbconvert_exporter": "python",
   "pygments_lexer": "ipython3",
   "version": "3.6.2"
  },
  "livereveal": {
   "height": 768,
   "scroll": true,
   "width": 1024
  }
 },
 "nbformat": 4,
 "nbformat_minor": 2
}
