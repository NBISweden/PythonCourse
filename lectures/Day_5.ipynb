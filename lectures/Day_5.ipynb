{
 "cells": [
  {
   "cell_type": "code",
   "execution_count": null,
   "metadata": {
    "slideshow": {
     "slide_type": "skip"
    }
   },
   "outputs": [],
   "source": [
    "# from IPython.display import Image\n",
    "from IPython.display import clear_output\n",
    "from IPython.display import FileLink, FileLinks"
   ]
  },
  {
   "cell_type": "markdown",
   "metadata": {
    "slideshow": {
     "slide_type": "slide"
    }
   },
   "source": [
    "## Introduction to\n",
    "\n",
    "![title](img/python-logo-master-flat.png)\n",
    "\n",
    "### with Application to Bioinformatics\n",
    "\n",
    "#### - Day 5"
   ]
  },
  {
   "cell_type": "markdown",
   "metadata": {
    "slideshow": {
     "slide_type": "slide"
    }
   },
   "source": [
    "## Review Day 4\n",
    "\n",
    "- More control!\n",
    "\n",
    "  - `break`, `continue`, `pass`\n",
    "  - keyword arguments\n",
    "  \n",
    "- Modules\n",
    "\n",
    "  - importing code\n",
    "  - documentation: reading and writing"
   ]
  },
  {
   "cell_type": "markdown",
   "metadata": {
    "slideshow": {
     "slide_type": "slide"
    }
   },
   "source": [
    "#### Control loops\n",
    "\n",
    "- `break` a loop => stop it\n",
    "\n",
    "<center>\n",
    "<img src=\"img/break.png\" alt=\"break\" width=\"30%\"/>\n",
    "</center>\n"
   ]
  },
  {
   "cell_type": "markdown",
   "metadata": {
    "slideshow": {
     "slide_type": "slide"
    }
   },
   "source": [
    "#### Control loops\n",
    "\n",
    "- `continue` => go on to the next iteration\n",
    "\n",
    "<center>\n",
    "<img src=\"img/continue.png\" alt=\"break\" width=\"30%\"/>\n",
    "</center>"
   ]
  },
  {
   "cell_type": "markdown",
   "metadata": {
    "slideshow": {
     "slide_type": "slide"
    }
   },
   "source": [
    "#### Control statements\n",
    "\n",
    "- `pass`  => do nothing\n",
    "\n",
    "```py\n",
    "for line in file:\n",
    "    if len(line) > 40:\n",
    "        # TODO find out what to do here\n",
    "        pass\n",
    "    do_something(line)\n",
    "```"
   ]
  },
  {
   "cell_type": "markdown",
   "metadata": {},
   "source": [
    "#### None\n",
    "\n",
    "`None` means \"nothing\". Is neither true nor false.\n",
    "\n",
    "```py\n",
    "if value:\n",
    "   print('value is not None')\n",
    "```"
   ]
  },
  {
   "cell_type": "markdown",
   "metadata": {
    "slideshow": {
     "slide_type": "slide"
    }
   },
   "source": [
    "#### Keyword arguments\n",
    "\n",
    "```py\n",
    "open(filename, encoding=\"utf-8\")\n",
    "```"
   ]
  },
  {
   "cell_type": "markdown",
   "metadata": {},
   "source": [
    "```py\n",
    "open(file, mode='r', buffering=-1, encoding=None, errors=None, newline=None, closefd=True, opener=None)\n",
    "```\n"
   ]
  },
  {
   "cell_type": "markdown",
   "metadata": {},
   "source": [
    "#### Keyword arguments\n",
    "\n",
    "- programmer: set default values\n",
    "- user: ignore parameters\n",
    "- better overview"
   ]
  },
  {
   "cell_type": "markdown",
   "metadata": {
    "slideshow": {
     "slide_type": "slide"
    }
   },
   "source": [
    "#### Using code\n",
    "\n",
    "- Python standard modules\n",
    "- Your colleague's code\n"
   ]
  },
  {
   "cell_type": "markdown",
   "metadata": {
    "slideshow": {
     "slide_type": "fragment"
    }
   },
   "source": [
    "- `import datetime`\n",
    "- `import xml.etree.ElementTree as ET`\n",
    "- `from collections import defaultdict`\n"
   ]
  },
  {
   "cell_type": "markdown",
   "metadata": {
    "slideshow": {
     "slide_type": "fragment"
    }
   },
   "source": [
    "- `help(datetime)`"
   ]
  },
  {
   "cell_type": "markdown",
   "metadata": {
    "slideshow": {
     "slide_type": "skip"
    }
   },
   "source": [
    "#### Using code\n",
    "\n",
    "**`Counter`** - a handy type of dictionary."
   ]
  },
  {
   "cell_type": "markdown",
   "metadata": {
    "slideshow": {
     "slide_type": "skip"
    }
   },
   "source": [
    "```py\n",
    "help(Counter)\n",
    "```\n",
    "\n",
    "\n",
    "> Dict subclass... Elements are stored as dictionary keys and their counts are stored as dictionary values.\n",
    "...\n"
   ]
  },
  {
   "cell_type": "code",
   "execution_count": null,
   "metadata": {
    "slideshow": {
     "slide_type": "skip"
    }
   },
   "outputs": [],
   "source": [
    "from collections import Counter"
   ]
  },
  {
   "cell_type": "code",
   "execution_count": null,
   "metadata": {
    "slideshow": {
     "slide_type": "skip"
    }
   },
   "outputs": [],
   "source": [
    "text = 'lettercountingstring'"
   ]
  },
  {
   "cell_type": "code",
   "execution_count": null,
   "metadata": {
    "slideshow": {
     "slide_type": "skip"
    }
   },
   "outputs": [],
   "source": [
    "c = Counter(text)\n",
    "c"
   ]
  },
  {
   "cell_type": "code",
   "execution_count": null,
   "metadata": {
    "slideshow": {
     "slide_type": "skip"
    }
   },
   "outputs": [],
   "source": [
    "c.most_common(3)"
   ]
  },
  {
   "cell_type": "code",
   "execution_count": null,
   "metadata": {
    "slideshow": {
     "slide_type": "skip"
    }
   },
   "outputs": [],
   "source": [
    "for letter in \"a nice story about books\":\n",
    "    if letter != \" \":\n",
    "        c[letter] += 1\n",
    "        \n",
    "for letter in \"unimportant letters\":\n",
    "    if letter != \" \":\n",
    "        c[letter] -= 1"
   ]
  },
  {
   "cell_type": "code",
   "execution_count": null,
   "metadata": {
    "slideshow": {
     "slide_type": "skip"
    }
   },
   "outputs": [],
   "source": [
    "c.most_common(3)\n",
    "\n",
    "Counter([\"heouash\", \"heshua\"])"
   ]
  },
  {
   "cell_type": "markdown",
   "metadata": {
    "slideshow": {
     "slide_type": "fragment"
    }
   },
   "source": [
    "https://docs.python.org/3/py-modindex.html"
   ]
  },
  {
   "cell_type": "markdown",
   "metadata": {
    "slideshow": {
     "slide_type": "slide"
    }
   },
   "source": [
    "#### Your code being used"
   ]
  },
  {
   "cell_type": "markdown",
   "metadata": {
    "slideshow": {
     "slide_type": "fragment"
    }
   },
   "source": [
    "- write comments       `# why do I do this?`\n",
    "- write documentation  `\"\"\"what is this? how do you use it?\"\"\"`"
   ]
  },
  {
   "cell_type": "markdown",
   "metadata": {
    "slideshow": {
     "slide_type": "slide"
    }
   },
   "source": [
    "#### Your code being used"
   ]
  },
  {
   "cell_type": "markdown",
   "metadata": {
    "slideshow": {
     "slide_type": "fragment"
    }
   },
   "source": [
    "```py\n",
    "def f(a, b):\n",
    "    for c in open(a):\n",
    "        if c.startswith(b):\n",
    "            print(c)\n",
    "            ```"
   ]
  },
  {
   "cell_type": "markdown",
   "metadata": {
    "slideshow": {
     "slide_type": "fragment"
    }
   },
   "source": [
    "==>"
   ]
  },
  {
   "cell_type": "markdown",
   "metadata": {
    "slideshow": {
     "slide_type": "-"
    }
   },
   "source": [
    "```py\n",
    "def print_lines(filename, start):\n",
    "    for line in open(filename):\n",
    "        if line.startswith(start):\n",
    "            print(line)\n",
    "            ```"
   ]
  },
  {
   "cell_type": "markdown",
   "metadata": {
    "slideshow": {
     "slide_type": "fragment"
    }
   },
   "source": [
    "**<center>Care about the names of your variables and functions</center>**"
   ]
  },
  {
   "cell_type": "markdown",
   "metadata": {
    "slideshow": {
     "slide_type": "slide"
    }
   },
   "source": [
    "#### Your code being used"
   ]
  },
  {
   "cell_type": "markdown",
   "metadata": {},
   "source": [
    "```py\n",
    "def main(input):\n",
    "    ...\n",
    "    \n",
    "    \n",
    "if __name__ == \"__main__\":\n",
    "    main(sys.argv[1])\n",
    "    ```"
   ]
  },
  {
   "cell_type": "markdown",
   "metadata": {
    "slideshow": {
     "slide_type": "slide"
    }
   },
   "source": [
    "## TODAY\n",
    "\n",
    "- Formatting\n",
    "- Regular expressions\n",
    "- Sum up of the course"
   ]
  },
  {
   "cell_type": "markdown",
   "metadata": {
    "slideshow": {
     "slide_type": "slide"
    }
   },
   "source": [
    "## String formatting\n",
    "\n",
    "\n",
    "Putting your values into tables or other nice looking strings."
   ]
  },
  {
   "cell_type": "markdown",
   "metadata": {
    "slideshow": {
     "slide_type": "slide"
    }
   },
   "source": [
    "`\"A string with formatting instructions\".format(some, values, to, put, in, string)`"
   ]
  },
  {
   "cell_type": "code",
   "execution_count": null,
   "metadata": {
    "slideshow": {
     "slide_type": "skip"
    }
   },
   "outputs": [],
   "source": [
    "\"The movie '{}' got {} votes\".format('Beauty and the Beast', 10)"
   ]
  },
  {
   "cell_type": "code",
   "execution_count": null,
   "metadata": {
    "slideshow": {
     "slide_type": "fragment"
    }
   },
   "outputs": [],
   "source": [
    "def pretty(val1, val2):\n",
    "    print(\"The movie '\"+ val1 +\"' got \"+ val2 +\" votes.\")\n",
    "\n",
    "pretty('Beauty and the Beast', '10')\n",
    "pretty('It', '10000')"
   ]
  },
  {
   "cell_type": "code",
   "execution_count": null,
   "metadata": {
    "slideshow": {
     "slide_type": "slide"
    }
   },
   "outputs": [],
   "source": [
    "def pretty(val1, val2):\n",
    "    print(\"{:20} got {:^10} votes.\".format(val1, val2))\n",
    "\n",
    "    \n",
    "pretty('Beauty and Beast', '10')\n",
    "pretty('It', '10000')"
   ]
  },
  {
   "cell_type": "code",
   "execution_count": null,
   "metadata": {
    "slideshow": {
     "slide_type": "fragment"
    }
   },
   "outputs": [],
   "source": [
    "def prettyheader(val1, val2):\n",
    "    print('|{:-^20}|{:-^20}|'.format(val1, val2))\n",
    "\n",
    "\n",
    "prettyheader(\"Movie\", \"Votes\")\n",
    "pretty('Beauty and Beast', '10')\n",
    "pretty('It', '10000')"
   ]
  },
  {
   "cell_type": "code",
   "execution_count": null,
   "metadata": {
    "slideshow": {
     "slide_type": "slide"
    }
   },
   "outputs": [],
   "source": [
    "\"some text, some values here: {} and here: {}\".format(42, \"value\")"
   ]
  },
  {
   "cell_type": "markdown",
   "metadata": {
    "slideshow": {
     "slide_type": "slide"
    }
   },
   "source": [
    "#### Positional arguments"
   ]
  },
  {
   "cell_type": "code",
   "execution_count": 93,
   "metadata": {
    "slideshow": {
     "slide_type": "fragment"
    }
   },
   "outputs": [
    {
     "data": {
      "text/plain": [
       "\"The movie 'Beauty and the Beast' got 10 votes.\""
      ]
     },
     "execution_count": 93,
     "metadata": {},
     "output_type": "execute_result"
    }
   ],
   "source": [
    "\"The movie '{}' got {} votes.\".format(\"Beauty and the Beast\", \"10\")  "
   ]
  },
  {
   "cell_type": "code",
   "execution_count": null,
   "metadata": {
    "slideshow": {
     "slide_type": "skip"
    }
   },
   "outputs": [],
   "source": [
    "\"The movie '{0}' got {1} votes.\".format(\"Beauty and the Beast\", \"10\")"
   ]
  },
  {
   "cell_type": "code",
   "execution_count": null,
   "metadata": {
    "slideshow": {
     "slide_type": "skip"
    }
   },
   "outputs": [],
   "source": [
    "\"The movie '{1}' got {1} votes.\".format(\"Beauty and the Beast\", \"10\")"
   ]
  },
  {
   "cell_type": "code",
   "execution_count": null,
   "metadata": {
    "slideshow": {
     "slide_type": "skip"
    }
   },
   "outputs": [],
   "source": [
    "\"The movie '{3}' got {43} votes.\".format(\"Beauty and the Beast\", \"10\")"
   ]
  },
  {
   "cell_type": "markdown",
   "metadata": {
    "slideshow": {
     "slide_type": "slide"
    }
   },
   "source": [
    "#### Keyword arguments"
   ]
  },
  {
   "cell_type": "code",
   "execution_count": null,
   "metadata": {
    "slideshow": {
     "slide_type": "fragment"
    }
   },
   "outputs": [],
   "source": [
    "\"The movie '{movie}' got {number} votes.\".format(movie=\"Beauty and the Beast\", number=\"10\")"
   ]
  },
  {
   "cell_type": "code",
   "execution_count": null,
   "metadata": {
    "slideshow": {
     "slide_type": "fragment"
    }
   },
   "outputs": [],
   "source": [
    "\"The movie '{movie}' got {movie} votes.\".format(movie=\"Beauty and the Beast\", number=\"10\")"
   ]
  },
  {
   "cell_type": "code",
   "execution_count": null,
   "metadata": {
    "slideshow": {
     "slide_type": "skip"
    }
   },
   "outputs": [],
   "source": [
    "\"The movie '{0}' got {1} votes.\".format(movie=\"Beauty and the Beast\", number=\"10\")"
   ]
  },
  {
   "cell_type": "code",
   "execution_count": null,
   "metadata": {
    "slideshow": {
     "slide_type": "skip"
    }
   },
   "outputs": [],
   "source": [
    "\"The movie '{0}' got {number} votes.\".format(\"Beauty and the Beast\", number=\"10\")"
   ]
  },
  {
   "cell_type": "markdown",
   "metadata": {
    "slideshow": {
     "slide_type": "skip"
    }
   },
   "source": [
    "Positional arguments comes first, keyword arguments after!"
   ]
  },
  {
   "cell_type": "code",
   "execution_count": null,
   "metadata": {
    "slideshow": {
     "slide_type": "skip"
    }
   },
   "outputs": [],
   "source": [
    "\"The movie '{movie}' got {1} votes.\".format(movie=\"Beauty and the Beast\", \"10\")"
   ]
  },
  {
   "cell_type": "markdown",
   "metadata": {
    "slideshow": {
     "slide_type": "slide"
    }
   },
   "source": [
    "### Printing a table"
   ]
  },
  {
   "cell_type": "markdown",
   "metadata": {
    "slideshow": {
     "slide_type": "-"
    }
   },
   "source": [
    "#### Field width"
   ]
  },
  {
   "cell_type": "code",
   "execution_count": null,
   "metadata": {
    "slideshow": {
     "slide_type": "fragment"
    }
   },
   "outputs": [],
   "source": [
    "\"The movie '{movie:30}' got {number:10} votes.\".format(movie=\"Beauty and the Beast\", number=\"10\")"
   ]
  },
  {
   "cell_type": "markdown",
   "metadata": {
    "slideshow": {
     "slide_type": "fragment"
    }
   },
   "source": [
    "#### Alignment"
   ]
  },
  {
   "cell_type": "code",
   "execution_count": null,
   "metadata": {
    "slideshow": {
     "slide_type": "fragment"
    }
   },
   "outputs": [],
   "source": [
    "\"The movie '{movie:<30}' got {number:>10} votes.\".format(movie=\"Beauty and the Beast\", number=\"10\")"
   ]
  },
  {
   "cell_type": "code",
   "execution_count": null,
   "metadata": {
    "slideshow": {
     "slide_type": "fragment"
    }
   },
   "outputs": [],
   "source": [
    "\"The movie '{movie:^30}' got {number:^10} votes.\".format(movie=\"Beauty and the Beast\", number=\"10\")"
   ]
  },
  {
   "cell_type": "code",
   "execution_count": null,
   "metadata": {
    "slideshow": {
     "slide_type": "slide"
    }
   },
   "outputs": [],
   "source": [
    "def pretty(val1, val2):\n",
    "    print(\"{:20} got {:^10} votes.\".format(val1, val2))\n",
    "    \n",
    "pretty('Beauty and the Beast', 10)\n",
    "pretty('It', 10000)"
   ]
  },
  {
   "cell_type": "markdown",
   "metadata": {
    "slideshow": {
     "slide_type": "slide"
    }
   },
   "source": [
    "**Alignment and field width**\n",
    "```py\n",
    "{val:alignment width}```\n",
    "\n",
    "**Alignment types:**\n",
    "- `<`  left-aligned\n",
    "\n",
    "- `>`  right-aligned\n",
    "\n",
    "- `^`  centered\n",
    "\n",
    "**Field width**\n",
    "\n",
    "The minimum size of the field"
   ]
  },
  {
   "cell_type": "markdown",
   "metadata": {
    "slideshow": {
     "slide_type": "slide"
    }
   },
   "source": [
    "### Printing a table hedear\n"
   ]
  },
  {
   "cell_type": "markdown",
   "metadata": {
    "slideshow": {
     "slide_type": "-"
    }
   },
   "source": [
    "#### Filling"
   ]
  },
  {
   "cell_type": "code",
   "execution_count": null,
   "metadata": {
    "slideshow": {
     "slide_type": "fragment"
    }
   },
   "outputs": [],
   "source": [
    "\"The movie '{movie:_<30}' got {number:*^10} votes.\".format(movie=\"Beauty and the Beast\", number=\"10\")"
   ]
  },
  {
   "cell_type": "code",
   "execution_count": null,
   "metadata": {
    "slideshow": {
     "slide_type": "fragment"
    }
   },
   "outputs": [],
   "source": [
    "\"|{0:-^20}|{1:-^20}|\".format(' Movie ',' Votes ')"
   ]
  },
  {
   "cell_type": "markdown",
   "metadata": {
    "slideshow": {
     "slide_type": "slide"
    }
   },
   "source": [
    "**Filling**\n",
    "```py\n",
    "{val:filling alignment width}\n",
    "\n",
    "{header:-^20}\n",
    "```\n",
    "\n"
   ]
  },
  {
   "cell_type": "markdown",
   "metadata": {
    "slideshow": {
     "slide_type": "slide"
    }
   },
   "source": [
    "#### Rounding"
   ]
  },
  {
   "cell_type": "code",
   "execution_count": null,
   "metadata": {
    "slideshow": {
     "slide_type": "fragment"
    }
   },
   "outputs": [],
   "source": [
    "points = 19\n",
    "total = 23\n",
    "'Score: {}'.format( points / total )"
   ]
  },
  {
   "cell_type": "code",
   "execution_count": null,
   "metadata": {
    "slideshow": {
     "slide_type": "fragment"
    }
   },
   "outputs": [],
   "source": [
    "'Score: {:.2f}'.format( points / total )"
   ]
  },
  {
   "cell_type": "code",
   "execution_count": null,
   "metadata": {
    "slideshow": {
     "slide_type": "fragment"
    }
   },
   "outputs": [],
   "source": [
    "'Score: {:.2%}'.format( points / total )"
   ]
  },
  {
   "cell_type": "markdown",
   "metadata": {
    "slideshow": {
     "slide_type": "slide"
    }
   },
   "source": [
    "**Rounding**\n",
    "```\n",
    "{val:filling alignment width precision type}\n",
    "```\n",
    "\n",
    "Precision:\n",
    "- `.2`: show 2 decimals\n",
    "\n",
    "Type:\n",
    "- `f`:  fixed number of decimals\n",
    "\n",
    "- `%`:  percent\n",
    "\n",
    "\n"
   ]
  },
  {
   "cell_type": "markdown",
   "metadata": {
    "slideshow": {
     "slide_type": "slide"
    }
   },
   "source": [
    "**The formatting instruction**"
   ]
  },
  {
   "cell_type": "markdown",
   "metadata": {
    "slideshow": {
     "slide_type": "-"
    }
   },
   "source": [
    "**Syntax**\n",
    "\n",
    "<pre>\n",
    "{[field_name] [: <font color=\"green\">format_spec</font>]}\n",
    "</pre>\n",
    "\n",
    "*Format_spec:*\n",
    "<pre>\n",
    "<font color=\"green\">filling alignment width precision type</font>\n",
    "   -       &gt;        10    .2       f\n",
    "</pre>"
   ]
  },
  {
   "cell_type": "markdown",
   "metadata": {
    "slideshow": {
     "slide_type": "skip"
    }
   },
   "source": [
    "#### Formatting dates"
   ]
  },
  {
   "cell_type": "code",
   "execution_count": null,
   "metadata": {
    "slideshow": {
     "slide_type": "skip"
    }
   },
   "outputs": [],
   "source": [
    "import datetime\n",
    "d = datetime.datetime(2010, 7, 4, 12, 15, 58)\n",
    "d"
   ]
  },
  {
   "cell_type": "code",
   "execution_count": null,
   "metadata": {
    "slideshow": {
     "slide_type": "skip"
    }
   },
   "outputs": [],
   "source": [
    "'{:%Y-%m-%d %H:%M:%S}'.format(d)"
   ]
  },
  {
   "cell_type": "code",
   "execution_count": null,
   "metadata": {
    "slideshow": {
     "slide_type": "skip"
    }
   },
   "outputs": [],
   "source": [
    "now = datetime.datetime.now()\n",
    "'{:%Y-%m-%d week:%W %A %H:%M:%S}'.format(now)"
   ]
  },
  {
   "cell_type": "markdown",
   "metadata": {
    "slideshow": {
     "slide_type": "notes"
    }
   },
   "source": [
    "Learn more: [strftime.org](http://strftime.org)"
   ]
  },
  {
   "cell_type": "markdown",
   "metadata": {
    "slideshow": {
     "slide_type": "slide"
    }
   },
   "source": [
    "\n",
    "### Printing a  full table"
   ]
  },
  {
   "cell_type": "code",
   "execution_count": null,
   "metadata": {
    "slideshow": {
     "slide_type": "fragment"
    }
   },
   "outputs": [],
   "source": [
    "# movies :: [(name, votes, total score)]\n",
    "movies = [('Beauty and the Beast', 12, 55), ('It', 10000, 30450)]\n",
    " \n",
    "print('|{:-^30}|{:-^10}|{:-^10}|'.format('Movie', 'Votes', 'Average'))\n",
    "for movie, votes, total in movies: \n",
    "    print('|{:30}|{:^10}|{:^10.2f}|'.format(movie, votes, total/votes))"
   ]
  },
  {
   "cell_type": "markdown",
   "metadata": {
    "slideshow": {
     "slide_type": "fragment"
    }
   },
   "source": [
    "Learn more from the [Python docs](https://docs.python.org/3.4/library/string.html#format-string-syntax)!"
   ]
  },
  {
   "cell_type": "markdown",
   "metadata": {
    "slideshow": {
     "slide_type": "slide"
    }
   },
   "source": [
    "\n",
    "### Older syntax"
   ]
  },
  {
   "cell_type": "code",
   "execution_count": null,
   "metadata": {
    "slideshow": {
     "slide_type": "fragment"
    }
   },
   "outputs": [],
   "source": [
    "print(\"I've read the story '%s' %s times\" % ('Alice in Wonderland', 10))"
   ]
  },
  {
   "cell_type": "markdown",
   "metadata": {
    "slideshow": {
     "slide_type": "fragment"
    }
   },
   "source": [
    "\n",
    "### Alternative syntax: `f-string`"
   ]
  },
  {
   "cell_type": "code",
   "execution_count": null,
   "metadata": {
    "slideshow": {
     "slide_type": "fragment"
    }
   },
   "outputs": [],
   "source": [
    "story = \"Alice in Wonderland\"\n",
    "num = 10\n",
    "print(f\"I've read the story '{story}' {num} times\")"
   ]
  },
  {
   "cell_type": "markdown",
   "metadata": {},
   "source": [
    "(*version >= 3.6*)"
   ]
  },
  {
   "cell_type": "markdown",
   "metadata": {
    "slideshow": {
     "slide_type": "slide"
    }
   },
   "source": [
    "### Exercise"
   ]
  },
  {
   "cell_type": "markdown",
   "metadata": {},
   "source": [
    "The input:\n",
    "```py\n",
    "animals = {'a': 'Aligator', 'b': 'Bear', 'c': 'Cat', 'd': 'Dolphin'}\n",
    "```\n",
    "\n",
    "The code:\n",
    "```py\n",
    "for letter, animal in animals.items():\n",
    "    print(\"WHAT TO PRINT?\")  # Write code here\n",
    "```\n",
    "\n",
    "Output:\n",
    "```\n",
    "Aligator       a     \n",
    "Bear           b     \n",
    "Cat            c     \n",
    "Dolphin        d     \n",
    "```"
   ]
  },
  {
   "cell_type": "code",
   "execution_count": null,
   "metadata": {
    "slideshow": {
     "slide_type": "fragment"
    }
   },
   "outputs": [],
   "source": [
    "animals = {'a': 'Aligator', 'b': 'Bear', 'c': 'Cat', 'd': 'Dolphin'}\n",
    "\n",
    "for letter, animal in animals.items():\n",
    "    print(\"{animal:10} {letter:^10}\".format(animal=animal, letter=letter))"
   ]
  },
  {
   "cell_type": "markdown",
   "metadata": {
    "slideshow": {
     "slide_type": "slide"
    }
   },
   "source": [
    "## Regular Expressions\n",
    "\n",
    "<br><br><br>\n",
    "- **A smarter way of searching text**\n",
    "\n",
    "- **search&replace**"
   ]
  },
  {
   "cell_type": "markdown",
   "metadata": {
    "slideshow": {
     "slide_type": "slide"
    }
   },
   "source": [
    "## Regular Expressions"
   ]
  },
  {
   "cell_type": "markdown",
   "metadata": {
    "slideshow": {
     "slide_type": "skip"
    }
   },
   "source": [
    "Search for patterns in text.\n",
    "\n"
   ]
  },
  {
   "cell_type": "markdown",
   "metadata": {
    "slideshow": {
     "slide_type": "fragment"
    }
   },
   "source": [
    "- A formal language for defining search patterns"
   ]
  },
  {
   "cell_type": "markdown",
   "metadata": {
    "slideshow": {
     "slide_type": "fragment"
    }
   },
   "source": [
    "- Lets you search not only for exact strings but controlled variations of that string."
   ]
  },
  {
   "cell_type": "markdown",
   "metadata": {
    "slideshow": {
     "slide_type": "fragment"
    }
   },
   "source": [
    "- Why?"
   ]
  },
  {
   "cell_type": "markdown",
   "metadata": {
    "slideshow": {
     "slide_type": "fragment"
    }
   },
   "source": [
    "- Examples:\n",
    "   - Find variations in a protein or DNA sequence\n",
    "     - `\"MVR???A\"`\n",
    "     - `\"ATG???TAG`\n",
    "   - American/British spelling, endings and other variants:\n",
    "     - salpeter, salpetre, saltpeter, nitre, niter or KNO3\n",
    "     - hemaglobin, heamoglobin, hemaglobins, heamoglobin's\n",
    "     - catalyze, catalyse, catalyzed...\n",
    "   - A pattern in a vcf file\n",
    "     - a digit appearing after a tab"
   ]
  },
  {
   "cell_type": "markdown",
   "metadata": {
    "slideshow": {
     "slide_type": "slide"
    }
   },
   "source": [
    "## Regular Expressions"
   ]
  },
  {
   "cell_type": "markdown",
   "metadata": {
    "slideshow": {
     "slide_type": "fragment"
    }
   },
   "source": [
    "- When?"
   ]
  },
  {
   "cell_type": "markdown",
   "metadata": {
    "slideshow": {
     "slide_type": "fragment"
    }
   },
   "source": [
    "\n",
    "- To find information\n",
    "    - in your `vcf` or `fasta` files\n",
    "    - in your code\n",
    "    - in your next essay\n",
    "    - in a database\n",
    "    - online\n",
    "    - in a bunch of articles\n",
    "    - ..."
   ]
  },
  {
   "cell_type": "markdown",
   "metadata": {
    "slideshow": {
     "slide_type": "fragment"
    }
   },
   "source": [
    " - Search/replace\n",
    "   - becuase &rarr; because\n",
    "   - color &rarr; colour\n",
    "   - `\\t` (tab) &rarr; `\"    \"` (four spaces)"
   ]
  },
  {
   "cell_type": "markdown",
   "metadata": {
    "slideshow": {
     "slide_type": "fragment"
    }
   },
   "source": [
    "- Supported by most programming languages, text editors, search engines..."
   ]
  },
  {
   "cell_type": "markdown",
   "metadata": {
    "slideshow": {
     "slide_type": "slide"
    }
   },
   "source": [
    "### Defining a search pattern"
   ]
  },
  {
   "cell_type": "markdown",
   "metadata": {},
   "source": [
    "<center>\n",
    "<img src=\"img/color.png\" alt=\"regex\" width=\"50%\"/>\n",
    "<img src=\"img/salpeter.png\" alt=\"regex\" width=\"50%\"/>\n",
    "\n",
    "</center>"
   ]
  },
  {
   "cell_type": "markdown",
   "metadata": {
    "slideshow": {
     "slide_type": "slide"
    }
   },
   "source": [
    "#### Common operations\n",
    "- `.` matches any character (once)\n",
    "- `?` repeat previous pattern 0 or 1 times\n",
    "- `*` repeat previous pattern 0 or more times\n",
    "- `+` repeat previous pattern 1 or more times"
   ]
  },
  {
   "cell_type": "markdown",
   "metadata": {},
   "source": [
    "`colour.*`\n",
    "\n",
    "`salt?peter`"
   ]
  },
  {
   "cell_type": "markdown",
   "metadata": {
    "slideshow": {
     "slide_type": "fragment"
    }
   },
   "source": [
    "`.*` matches everything (including the empty string)!"
   ]
  },
  {
   "cell_type": "markdown",
   "metadata": {
    "slideshow": {
     "slide_type": "fragment"
    }
   },
   "source": [
    "\n",
    "<center><code>\"salt?pet..\"</code></center>\n",
    "\n"
   ]
  },
  {
   "cell_type": "markdown",
   "metadata": {
    "slideshow": {
     "slide_type": "fragment"
    }
   },
   "source": [
    "<center><font color=\"green\">saltpeter</font></center>\n",
    "\n",
    "\n",
    "<center><font color=\"red\">\"saltpet88\"</font></center>\n",
    "<center><font color=\"red\">\"salpetin\"</font></center>\n",
    "<center><font color=\"red\">\"saltpet  \"</font></center>\n"
   ]
  },
  {
   "cell_type": "markdown",
   "metadata": {
    "slideshow": {
     "slide_type": "slide"
    }
   },
   "source": [
    "#### More common operations - classes of characters\n",
    "\n",
    "- `\\w` matches any letter or number, and the underscore\n",
    "- `\\d` matches any digit\n",
    "- `\\D` matches any non-digit\n",
    "- `\\s` matches any whitespace (spaces, tabs, ...)\n",
    "- `\\S` matches any non-whitespace"
   ]
  },
  {
   "cell_type": "markdown",
   "metadata": {
    "slideshow": {
     "slide_type": "slide"
    }
   },
   "source": [
    "#### More common operations - classes of characters\n",
    "\n",
    "- `\\w` matches any letter or number, and the underscore\n",
    "- `\\d` matches any digit\n",
    "- `\\D` matches any non-digit\n",
    "- `\\s` matches any whitespace (spaces, tabs, ...)\n",
    "- `\\S` matches any non-whitespace"
   ]
  },
  {
   "cell_type": "markdown",
   "metadata": {},
   "source": [
    "`\\w+`\n",
    "\n",
    "![result](img/regex_w.png)"
   ]
  },
  {
   "cell_type": "markdown",
   "metadata": {
    "slideshow": {
     "slide_type": "slide"
    }
   },
   "source": [
    "#### More common operations - classes of characters\n",
    "\n",
    "- `\\w` matches any letter or number, and the underscore\n",
    "- `\\d` matches any digit\n",
    "- `\\D` matches any non-digit\n",
    "- `\\s` matches any whitespace (spaces, tabs, ...)\n",
    "- `\\S` matches any non-whitespace"
   ]
  },
  {
   "cell_type": "markdown",
   "metadata": {},
   "source": [
    "`\\d+`\n",
    "\n",
    "![result](img/regex_d.png)"
   ]
  },
  {
   "cell_type": "markdown",
   "metadata": {
    "slideshow": {
     "slide_type": "slide"
    }
   },
   "source": [
    "#### More common operations - classes of characters\n",
    "\n",
    "- `\\w` matches any letter or number, and the underscore\n",
    "- `\\d` matches any digit\n",
    "- `\\D` matches any non-digit\n",
    "- `\\s` matches any whitespace (spaces, tabs, ...)\n",
    "- `\\S` matches any non-whitespace"
   ]
  },
  {
   "cell_type": "markdown",
   "metadata": {},
   "source": [
    "`\\s+`\n",
    "\n",
    "![result](img/regex_s.png)"
   ]
  },
  {
   "cell_type": "markdown",
   "metadata": {
    "slideshow": {
     "slide_type": "slide"
    }
   },
   "source": [
    "#### More common operations - classes of characters\n",
    "\n",
    "- `\\w` matches any letter or number, and the underscore\n",
    "- `\\d` matches any digit\n",
    "- `\\D` matches any non-digit\n",
    "- `\\s` matches any whitespace (spaces, tabs, ...)\n",
    "- `\\S` matches any non-whitespace\n",
    "- `[abc]` matches a single character defined in this set {a, b, c}\n",
    "- `[^abc]` matches a single character that is **not** a, b or c"
   ]
  },
  {
   "cell_type": "markdown",
   "metadata": {
    "slideshow": {
     "slide_type": "fragment"
    }
   },
   "source": [
    "#### `[a-z]` matches all letters between `a` and `z` (the english alphabet).\n",
    "\n",
    "#### `[a-z]+` matches any (lowercased) english word."
   ]
  },
  {
   "cell_type": "markdown",
   "metadata": {
    "slideshow": {
     "slide_type": "fragment"
    }
   },
   "source": [
    "<center><code>salt<font color=\"red\">?</font>pet<font color=\"red\">[</font>er<font color=\"red\">]+</font>\n",
    "</code></center>\n",
    "\n",
    "   <font color=\"green\"><center>saltpeter</center>\n",
    "    <font color=\"green\"><center>salpetre</center>\n",
    "\n",
    "<center><strike><font color=\"red\">\"saltpet88\"</font></strike></center>\n",
    "<center><strike><font color=\"red\">\"salpetin\"</font></strike></center>\n",
    "<center><strike><font color=\"red\">\"saltpet  \"</font></strike></center>"
   ]
  },
  {
   "cell_type": "markdown",
   "metadata": {
    "slideshow": {
     "slide_type": "slide"
    }
   },
   "source": [
    "## Exercise 1\n",
    "\n",
    "\n",
    "- `.` matches any character (once)\n",
    "- `?` repeat previous pattern 0 or 1 times\n",
    "- `*` repeat previous pattern 0 or more times\n",
    "- `+` repeat previous pattern 1 or more times\n",
    "- `\\w` matches any letter or number, and the underscore\n",
    "- `\\d` matches any digit\n",
    "- `\\D` matches any non-digit\n",
    "- `\\s` matches any whitespace (spaces, tabs, ...)\n",
    "- `\\S` matches any non-whitespace\n",
    "- `[abc]` matches a single character defined in this set {a, b, c}\n",
    "- `[^abc]` matches a single character that is **not** a, b or c\n",
    "- `[a-z]` matches any (lowercased) letter from the english alphabet\n",
    "- `.*` matches anything\n",
    "\n",
    "<b>&rarr; Notebook Day_5_Exercise_1  (~30 minutes) </b>"
   ]
  },
  {
   "cell_type": "markdown",
   "metadata": {
    "slideshow": {
     "slide_type": "slide"
    }
   },
   "source": [
    "### Regular expressions in Python"
   ]
  },
  {
   "cell_type": "code",
   "execution_count": null,
   "metadata": {
    "slideshow": {
     "slide_type": "fragment"
    }
   },
   "outputs": [],
   "source": [
    "import re"
   ]
  },
  {
   "cell_type": "code",
   "execution_count": null,
   "metadata": {
    "slideshow": {
     "slide_type": "fragment"
    }
   },
   "outputs": [],
   "source": [
    "p = re.compile('ab*')\n",
    "p"
   ]
  },
  {
   "cell_type": "markdown",
   "metadata": {
    "slideshow": {
     "slide_type": "slide"
    }
   },
   "source": [
    "### Searching"
   ]
  },
  {
   "cell_type": "code",
   "execution_count": null,
   "metadata": {
    "slideshow": {
     "slide_type": "fragment"
    }
   },
   "outputs": [],
   "source": [
    "p = re.compile('ab*')\n",
    "\n",
    "p.search('abc')"
   ]
  },
  {
   "cell_type": "code",
   "execution_count": null,
   "metadata": {
    "slideshow": {
     "slide_type": "fragment"
    }
   },
   "outputs": [],
   "source": [
    "print(p.search('cb'))"
   ]
  },
  {
   "cell_type": "code",
   "execution_count": null,
   "metadata": {
    "slideshow": {
     "slide_type": "fragment"
    }
   },
   "outputs": [],
   "source": [
    "p = re.compile('HELLO')\n",
    "m = p.search('gsdfgsdfgs  HELLO  __!@£§≈[|ÅÄÖ‚…’ﬁ]')\n",
    "\n",
    "print(m)"
   ]
  },
  {
   "cell_type": "markdown",
   "metadata": {
    "slideshow": {
     "slide_type": "slide"
    }
   },
   "source": [
    "### Case insensitiveness"
   ]
  },
  {
   "cell_type": "code",
   "execution_count": 90,
   "metadata": {
    "slideshow": {
     "slide_type": "-"
    }
   },
   "outputs": [
    {
     "name": "stdout",
     "output_type": "stream",
     "text": [
      "None\n"
     ]
    }
   ],
   "source": [
    "p = re.compile('[a-z]+')\n",
    "result = p.search('ATGAAA')\n",
    "print(result)"
   ]
  },
  {
   "cell_type": "code",
   "execution_count": 91,
   "metadata": {
    "slideshow": {
     "slide_type": "fragment"
    }
   },
   "outputs": [
    {
     "data": {
      "text/plain": [
       "<_sre.SRE_Match object; span=(0, 6), match='ATGAAA'>"
      ]
     },
     "execution_count": 91,
     "metadata": {},
     "output_type": "execute_result"
    }
   ],
   "source": [
    "p = re.compile('[a-z]+', re.IGNORECASE)\n",
    "\n",
    "result = p.search('ATGAAA')\n",
    "result"
   ]
  },
  {
   "cell_type": "markdown",
   "metadata": {
    "slideshow": {
     "slide_type": "slide"
    }
   },
   "source": [
    "### The match object"
   ]
  },
  {
   "cell_type": "code",
   "execution_count": 92,
   "metadata": {
    "slideshow": {
     "slide_type": "fragment"
    }
   },
   "outputs": [],
   "source": [
    "result = p.search('123 ATGAAA 456')"
   ]
  },
  {
   "cell_type": "markdown",
   "metadata": {
    "slideshow": {
     "slide_type": "fragment"
    }
   },
   "source": [
    "`result.group()`: Return the string matched by the expression\n",
    "\n",
    "`result.start()`: Return the starting position of the match\n",
    "\n",
    "`result.end()`: Return the ending position of the match\n",
    "\n",
    "`result.span()`: Return both (start, end)"
   ]
  },
  {
   "cell_type": "code",
   "execution_count": null,
   "metadata": {
    "slideshow": {
     "slide_type": "fragment"
    }
   },
   "outputs": [],
   "source": [
    "result.group()"
   ]
  },
  {
   "cell_type": "code",
   "execution_count": null,
   "metadata": {
    "slideshow": {
     "slide_type": "fragment"
    }
   },
   "outputs": [],
   "source": [
    "result.start()"
   ]
  },
  {
   "cell_type": "code",
   "execution_count": null,
   "metadata": {},
   "outputs": [],
   "source": [
    "result.end()"
   ]
  },
  {
   "cell_type": "code",
   "execution_count": null,
   "metadata": {},
   "outputs": [],
   "source": [
    "result.span()"
   ]
  },
  {
   "cell_type": "markdown",
   "metadata": {
    "slideshow": {
     "slide_type": "slide"
    }
   },
   "source": [
    "### Zero or more...?"
   ]
  },
  {
   "cell_type": "code",
   "execution_count": null,
   "metadata": {
    "slideshow": {
     "slide_type": "-"
    }
   },
   "outputs": [],
   "source": [
    "p = re.compile('.*HELLO.*')"
   ]
  },
  {
   "cell_type": "code",
   "execution_count": null,
   "metadata": {
    "slideshow": {
     "slide_type": "fragment"
    }
   },
   "outputs": [],
   "source": [
    "m = p.search('lots of text  HELLO  more text and characters!!! ^^')"
   ]
  },
  {
   "cell_type": "code",
   "execution_count": null,
   "metadata": {
    "slideshow": {
     "slide_type": "fragment"
    }
   },
   "outputs": [],
   "source": [
    "m.group()"
   ]
  },
  {
   "cell_type": "markdown",
   "metadata": {
    "slideshow": {
     "slide_type": "fragment"
    }
   },
   "source": [
    "The `*` is **greedy**."
   ]
  },
  {
   "cell_type": "markdown",
   "metadata": {
    "slideshow": {
     "slide_type": "slide"
    }
   },
   "source": [
    "### Finding all the matching patterns"
   ]
  },
  {
   "cell_type": "code",
   "execution_count": null,
   "metadata": {
    "slideshow": {
     "slide_type": "-"
    }
   },
   "outputs": [],
   "source": [
    "p = re.compile('HELLO')\n",
    "objects = p.finditer('lots of text  HELLO  more text  HELLO ... and characters!!! ^^')\n",
    "print(objects)"
   ]
  },
  {
   "cell_type": "code",
   "execution_count": null,
   "metadata": {
    "slideshow": {
     "slide_type": "fragment"
    }
   },
   "outputs": [],
   "source": [
    "for m in objects:\n",
    "    print('Found {0:30} at position {1}'.format(m.group(), m.start()) )"
   ]
  },
  {
   "cell_type": "markdown",
   "metadata": {
    "slideshow": {
     "slide_type": "slide"
    }
   },
   "source": [
    "### How to find a full stop?"
   ]
  },
  {
   "cell_type": "code",
   "execution_count": null,
   "metadata": {},
   "outputs": [],
   "source": [
    "txt = \"The first full stop is here: .\"\n",
    "p = re.compile('.')\n",
    "\n",
    "m = p.search(txt)\n",
    "print('\"{}\" at position {}'.format(m.group(), m.start()))"
   ]
  },
  {
   "cell_type": "code",
   "execution_count": null,
   "metadata": {
    "slideshow": {
     "slide_type": "fragment"
    }
   },
   "outputs": [],
   "source": [
    "p = re.compile('\\.')\n",
    "\n",
    "m = p.search(txt)\n",
    "print('\"{}\" at position {}'.format(m.group(), m.start()))"
   ]
  },
  {
   "cell_type": "markdown",
   "metadata": {
    "slideshow": {
     "slide_type": "slide"
    }
   },
   "source": [
    "### More operations\n",
    "- `\\` escaping a character\n",
    "- `^` beginning of the string\n",
    "- `$` end of string\n",
    "- `|` boolean `or`"
   ]
  },
  {
   "cell_type": "markdown",
   "metadata": {
    "slideshow": {
     "slide_type": "fragment"
    }
   },
   "source": [
    "<center>\n",
    "    <code>salt<font color=\"red\">?</font>pet<font color=\"red\">(</font>er<font color=\"red\">|</font>re<font color=\"red\">)</font> <font color=\"red\">|</font> nit<font color=\"red\">(</font>er<font color=\"red\">|</font>re<font color=\"red\">)</font> <font color=\"red\">|</font> KNO3</code>\n",
    "</center>"
   ]
  },
  {
   "cell_type": "markdown",
   "metadata": {
    "slideshow": {
     "slide_type": "slide"
    }
   },
   "source": [
    "### Substitution"
   ]
  },
  {
   "cell_type": "code",
   "execution_count": null,
   "metadata": {
    "slideshow": {
     "slide_type": "skip"
    }
   },
   "outputs": [],
   "source": [
    "p = re.compile('gmail')\n",
    "p.sub('hotmail', email1)"
   ]
  },
  {
   "cell_type": "code",
   "execution_count": null,
   "metadata": {
    "slideshow": {
     "slide_type": "skip"
    }
   },
   "outputs": [],
   "source": [
    "p = re.compile('@.*\\.')\n",
    "e1 = p.sub('@hotmail.', email1)\n",
    "e2 = p.sub('@hotmail.', email2)\n",
    "print(e1)\n",
    "print(e2)"
   ]
  },
  {
   "cell_type": "markdown",
   "metadata": {
    "slideshow": {
     "slide_type": "-"
    }
   },
   "source": [
    "#### Finally, we can fix our spelling mistakes!"
   ]
  },
  {
   "cell_type": "code",
   "execution_count": null,
   "metadata": {
    "slideshow": {
     "slide_type": "-"
    }
   },
   "outputs": [],
   "source": [
    "txt = \"Do it becuase I say so, not becuase you want!\""
   ]
  },
  {
   "cell_type": "code",
   "execution_count": null,
   "metadata": {
    "slideshow": {
     "slide_type": "fragment"
    }
   },
   "outputs": [],
   "source": [
    "p = re.compile('becuase')\n",
    "p.sub('because', txt)"
   ]
  },
  {
   "cell_type": "code",
   "execution_count": null,
   "metadata": {
    "slideshow": {
     "slide_type": "fragment"
    }
   },
   "outputs": [],
   "source": [
    "p = re.compile('\\s')\n",
    "p.sub('_', txt)"
   ]
  },
  {
   "cell_type": "markdown",
   "metadata": {
    "slideshow": {
     "slide_type": "slide"
    }
   },
   "source": [
    "#### Overview"
   ]
  },
  {
   "cell_type": "markdown",
   "metadata": {
    "slideshow": {
     "slide_type": "-"
    }
   },
   "source": [
    " - Construct regular expressions\n",
    " \n",
    "     ```py\n",
    "     p = re.compile()```\n",
    "     \n",
    " - Searching\n",
    " \n",
    "     ```py\n",
    "     p.search(text)\n",
    "     ```\n",
    "     \n",
    " - Substitution\n",
    " \n",
    "     ```py\n",
    "     p.sub(replacement, text)\n",
    "     ```"
   ]
  },
  {
   "cell_type": "markdown",
   "metadata": {
    "slideshow": {
     "slide_type": "slide"
    }
   },
   "source": [
    "**Typical code structure:**\n",
    "\n",
    "```python\n",
    "p = re.compile( ... )\n",
    "m = p.search('string goes here')\n",
    "if m:\n",
    "    print('Match found: ', m.group())\n",
    "else:\n",
    "    print('No match')\n",
    "```"
   ]
  },
  {
   "cell_type": "markdown",
   "metadata": {
    "slideshow": {
     "slide_type": "slide"
    }
   },
   "source": [
    "### Regular expressions\n",
    "\n",
    "\n",
    "- A powerful tool to search and modify text\n",
    "\n",
    "- There is much more to read in the [docs](https://docs.python.org/3/library/re.html)\n",
    "\n",
    "- Note: regex comes in different flavours. If you use it outside Python, there might be small variations in the syntax."
   ]
  },
  {
   "cell_type": "markdown",
   "metadata": {
    "slideshow": {
     "slide_type": "slide"
    }
   },
   "source": [
    "## Exercise 2\n",
    "         \n",
    "- `.` matches any character (once)\n",
    "- `?` repeat previous pattern 0 or 1 times\n",
    "- `*` repeat previous pattern 0 or more times\n",
    "- `+` repeat previous pattern 1 or more times\n",
    "- `\\w` matches any letter or number, and the underscore\n",
    "- `\\d` matches any digit\n",
    "- `\\D` matches any non-digit\n",
    "- `\\s` matches any whitespace (spaces, tabs, ...)\n",
    "- `\\S` matches any non-whitespace\n",
    "- `[abc]` matches a single character defined in this set {a, b, c}\n",
    "- `[^abc]` matches a single character that is **not** a, b or c\n",
    "- `[a-z]` matches any (lowercased) letter from the english alphabet\n",
    "- `.*` matches anything\n",
    "- `\\` escaping a character\n",
    "- `^` beginning of the string\n",
    "- `$` end of string\n",
    "- `|` boolean `or`\n",
    "  \n",
    "Read more: full documentation https://docs.python.org/3.6/library/re.html\n",
    "<br/>\n",
    "<b>&rarr; Notebook Day_5_Exercise_2  (~30 minutes) </b>\n"
   ]
  },
  {
   "cell_type": "markdown",
   "metadata": {
    "slideshow": {
     "slide_type": "slide"
    }
   },
   "source": [
    "<h3> <center>Sum up!</center></h3>"
   ]
  },
  {
   "cell_type": "markdown",
   "metadata": {
    "slideshow": {
     "slide_type": "slide"
    }
   },
   "source": [
    "#### Processing files - looping through the lines\n",
    "\n",
    "```py\n",
    "\n",
    "for line in open('myfile.txt', 'r'):\n",
    "    do_stuff(line)\n",
    "```"
   ]
  },
  {
   "cell_type": "markdown",
   "metadata": {
    "slideshow": {
     "slide_type": "slide"
    }
   },
   "source": [
    "#### Store values\n",
    "\n",
    "```py\n",
    "iterations = 0\n",
    "information = []\n",
    "\n",
    "for line in open('myfile.txt', 'r'):\n",
    "    iterations += 1\n",
    "    information += do_stuff(line)\n",
    "```"
   ]
  },
  {
   "cell_type": "markdown",
   "metadata": {
    "slideshow": {
     "slide_type": "slide"
    }
   },
   "source": [
    "#### Values\n",
    "\n",
    "- Literals:\n",
    "\n",
    "    - ```py\n",
    "    str     \"hello\"```\n",
    "    - ```py\n",
    "    int     5```\n",
    "    - ```py\n",
    "    float   5.2```\n",
    "    - ```py\n",
    "    bool    True```\n",
    "    \n",
    "- Collections:\n",
    "\n",
    "    - ```py\n",
    "    list  [\"a\", \"b\", \"c\"]```\n",
    "    - ```py\n",
    "    dict  {\"a\": \"alligator\", \"b\": \"bear\", \"c\": \"cat\"}```\n",
    "    - ```py\n",
    "    tuple (\"this\", \"that\")```\n",
    "    - ```py\n",
    "    set   {\"drama\", \"sci-fi\"}```"
   ]
  },
  {
   "cell_type": "markdown",
   "metadata": {
    "slideshow": {
     "slide_type": "slide"
    }
   },
   "source": [
    "#### Modify values and compare\n",
    "\n",
    "- ```py\n",
    "+, -, *,...   # mathematical```\n",
    "- ```py\n",
    "and, or, not  # logical ```\n",
    "- ```py\n",
    "==, !=        # comparisons```\n",
    "- ```py\n",
    "<, >, <=, >=  # comparisons```\n",
    "- ```py\n",
    "in            # membership\n",
    "```"
   ]
  },
  {
   "cell_type": "markdown",
   "metadata": {
    "slideshow": {
     "slide_type": "slide"
    }
   },
   "source": [
    "#### Deciding what to do\n",
    "\n",
    "```py\n",
    "if count > 10:\n",
    "   print('big')\n",
    "elif count > 5:\n",
    "   print('medium')\n",
    "else:\n",
    "   print('small')\n",
    "```"
   ]
  },
  {
   "cell_type": "markdown",
   "metadata": {
    "slideshow": {
     "slide_type": "slide"
    }
   },
   "source": [
    "#### Deciding what to do - if statement\n",
    "\n",
    "<img src=\"img/if_else_statement.png\" alt=\"Drawing\" style=\"width: 600px;\"/> "
   ]
  },
  {
   "cell_type": "markdown",
   "metadata": {
    "slideshow": {
     "slide_type": "slide"
    }
   },
   "source": [
    "#### Program flow - for loops\n",
    "\n",
    "```py\n",
    "iterations = 0\n",
    "information = []\n",
    "\n",
    "for line in open('myfile.txt', 'r'):\n",
    "    if is_comment(line):\n",
    "       use_comment(line)\n",
    "    else:\n",
    "       information = read_data(line)\n",
    "```"
   ]
  },
  {
   "cell_type": "markdown",
   "metadata": {
    "slideshow": {
     "slide_type": "slide"
    }
   },
   "source": [
    "#### Program flow - while loops\n",
    "\n",
    "```py\n",
    "keep_going = True\n",
    "information = []\n",
    "index = 0\n",
    "\n",
    "while keep_going:\n",
    "    current_line = lines[index]\n",
    "    information += read_line(current_line)\n",
    "    index += 1\n",
    "    if check_someting(current_line):\n",
    "        keep_going = False\n",
    "```"
   ]
  },
  {
   "cell_type": "markdown",
   "metadata": {
    "slideshow": {
     "slide_type": "slide"
    }
   },
   "source": [
    "#### Different types of loops\n",
    "\n",
    "__`For` loop__\n",
    "\n",
    "Is a control flow statement that performs operations over a known amount of steps.\n",
    "\n",
    "__`While` loop__\n",
    "\n",
    "Is a control flow statement that allows code to be executed repeatedly based on a given Boolean condition.\n",
    "\n",
    "<br></br>\n",
    "\n",
    "__Which one to use?__\n",
    "\n",
    "`For` loops - standard for iterations over lists and other iterable objects\n",
    "\n",
    "`While` loops - more flexible and can iterate an unspecified number of times\n"
   ]
  },
  {
   "cell_type": "markdown",
   "metadata": {
    "slideshow": {
     "slide_type": "slide"
    }
   },
   "source": [
    "#### Controlling loops\n",
    "\n",
    "- `break` - stop the loop\n",
    "- `continue` - go on to the next iteration"
   ]
  },
  {
   "cell_type": "markdown",
   "metadata": {
    "slideshow": {
     "slide_type": "slide"
    }
   },
   "source": [
    "#### Strings\n",
    "\n",
    "Raw text\n",
    "\n",
    "- Common manipulations:\n",
    " \n",
    "  - ```py\n",
    "  s.strip()  # remove unwanted spacing```\n",
    "  - ```py\n",
    "  s.split()  # split line into columns```\n",
    "  - ```py\n",
    "  s.upper(), s.lower()  # change the case```\n"
   ]
  },
  {
   "cell_type": "markdown",
   "metadata": {
    "slideshow": {
     "slide_type": "fragment"
    }
   },
   "source": [
    "\n",
    "- Regular expressions help you find and replace strings.\n",
    "\n",
    "  - ```py\n",
    "  p = re.compile('A.A.A')\n",
    "  p.search(dnastring)\n",
    "  ```\n",
    "  - ```py\n",
    "  p = re.compile('T')\n",
    "  p.sub('U', dnastring)\n",
    "  ```"
   ]
  },
  {
   "cell_type": "markdown",
   "metadata": {
    "slideshow": {
     "slide_type": "slide"
    }
   },
   "source": [
    "#### Collections\n",
    "\n",
    "Can contain strings, integer, booleans...\n",
    "- **Mutable**: you can *add*, *remove*, *change* values\n",
    "\n",
    "  - Lists:\n",
    "  ```py\n",
    "    mylist.append('value')\n",
    "```\n",
    "\n",
    "  - Dicts:\n",
    "  ```py\n",
    "    mydict['key'] = 'value'```\n",
    "\n",
    "  - Sets:\n",
    "```py\n",
    "    myset.add('value')```"
   ]
  },
  {
   "cell_type": "markdown",
   "metadata": {
    "slideshow": {
     "slide_type": "slide"
    }
   },
   "source": [
    "#### Mutable objects\n",
    "\n",
    "- Test for membership:\n",
    "```py\n",
    "value in myobj\n",
    "```\n",
    "\n",
    "- Check size:\n",
    "```py\n",
    "len(myobj)\n",
    "```"
   ]
  },
  {
   "cell_type": "markdown",
   "metadata": {
    "slideshow": {
     "slide_type": "slide"
    }
   },
   "source": [
    "#### Lists\n",
    "\n",
    "- Ordered!\n",
    "\n",
    "```py\n",
    "mylist = [\"a\", \"b\", \"c\"]\n",
    "\n",
    "mylist.sort()\n",
    "mylist.reverse()\n",
    "mylist[2]\n",
    "mylist[-1]\n",
    "mylist[2:6]\n",
    "```"
   ]
  },
  {
   "cell_type": "markdown",
   "metadata": {
    "slideshow": {
     "slide_type": "slide"
    }
   },
   "source": [
    "#### Dictionaries\n",
    "\n",
    "- Keys have values\n",
    "\n",
    "```py\n",
    "mydict = {\"a\": \"alligator\", \"b\": \"bear\", \"c\": \"cat\"}\n",
    "counter = {\"cats\": 55, \"dogs\": 8}\n",
    "\n",
    "mydict[\"a\"]\n",
    "mydict.keys()\n",
    "mydict.values()\n",
    "```\n",
    "\n"
   ]
  },
  {
   "cell_type": "markdown",
   "metadata": {
    "slideshow": {
     "slide_type": "slide"
    }
   },
   "source": [
    "#### Sets\n",
    "\n",
    "- Bag of values\n",
    " \n",
    "  - No order\n",
    "  \n",
    "  - No duplicates \n",
    "\n",
    "  - Fast membership checks\n",
    "  \n",
    "  - Logical set operations (union, difference, intersection..)\n",
    "\n",
    "\n",
    "```py\n",
    "myset = {\"drama\", \"sci-fi\"}\n",
    "\n",
    "myset.add(\"comedy\")\n",
    "\n",
    "myset.remove(\"drama\")\n",
    "```\n"
   ]
  },
  {
   "cell_type": "markdown",
   "metadata": {
    "slideshow": {
     "slide_type": "slide"
    }
   },
   "source": [
    "#### Strings\n",
    "\n",
    "- Works like a list of characters\n",
    "  - ```py\n",
    "  s += \"more words\"  # add content```\n",
    "  - ```py\n",
    "  s[4]               # get character at index 4```\n",
    "  - ```py\n",
    "  'e' in s           # check for membership```\n",
    "  \n",
    "  - ```py\n",
    "  len(s)             # check size```\n"
   ]
  },
  {
   "cell_type": "markdown",
   "metadata": {
    "slideshow": {
     "slide_type": "fragment"
    }
   },
   "source": [
    "- But are immutable\n",
    "\n",
    "  - ```py\n",
    "  > s[2] = 'i'```\n",
    "  ---\n",
    "  ```py\n",
    "  Traceback (most recent call last):\n",
    "  File \"<stdin>\", line 1, in <module>\n",
    "  TypeError: 'str' object does not support item assignment\n",
    "```"
   ]
  },
  {
   "cell_type": "markdown",
   "metadata": {
    "slideshow": {
     "slide_type": "slide"
    }
   },
   "source": [
    "#### Tuples\n",
    "\n",
    "- A group (usually two) of values that belong together\n",
    "  \n",
    "  - ```py\n",
    "tup = (max_lenght, sequence)\n",
    "```\n",
    "  - An ordered sequence (like lists)\n",
    "\n",
    "  - ```py\n",
    "length = tup[0]  # get content at index 0\n",
    "```\n",
    "  - Immutable"
   ]
  },
  {
   "cell_type": "markdown",
   "metadata": {
    "slideshow": {
     "slide_type": "slide"
    }
   },
   "source": [
    "#### Input/Output\n",
    "\n",
    "- In:\n",
    "\n",
    "  - Read files: `open(filename, 'r')`\n",
    "\n",
    "  - Read information from command line: `sys.argv[1:]`\n",
    "\n",
    "- Out:\n",
    "\n",
    "  - Printing: `print('my_information')`\n",
    "\n",
    "  - Write files: `open(filename, 'w').write(text)`\n",
    "\n"
   ]
  },
  {
   "cell_type": "markdown",
   "metadata": {
    "slideshow": {
     "slide_type": "slide"
    }
   },
   "source": [
    "#### Formatting"
   ]
  },
  {
   "cell_type": "markdown",
   "metadata": {
    "slideshow": {
     "slide_type": "-"
    }
   },
   "source": [
    "<pre>\n",
    "{[field_name] [: <font color=\"green\">format_spec</font>]}\n",
    "</pre>\n",
    "\n",
    "*Format_spec:*\n",
    "<pre>\n",
    "<font color=\"green\">filling alignment width precision type</font>\n",
    "   -       &gt;        10    .2       f\n",
    "</pre>\n",
    "\n",
    "```py\n",
    " print('|{:30}|{:^10}|{:^10.2f}|'.format(movie, votes, total/votes))\n",
    "```"
   ]
  },
  {
   "cell_type": "markdown",
   "metadata": {
    "slideshow": {
     "slide_type": "slide"
    }
   },
   "source": [
    "#### Code structure\n",
    "\n",
    "- Functions\n",
    "- Modules"
   ]
  },
  {
   "cell_type": "markdown",
   "metadata": {
    "slideshow": {
     "slide_type": "slide"
    }
   },
   "source": [
    "#### Functions\n",
    "\n",
    "- A named piece of code that performs a certain task.\n",
    "\n",
    "<img src=\"img/function_structure_explained.png\" alt=\"Drawing\" style=\"width: 600px;\"/>  \n",
    "\n",
    "\n",
    "- Is given a number of input arguments\n",
    "  - to be used (are in scope) within the function body\n",
    "- Returns a result (maybe `None`)"
   ]
  },
  {
   "cell_type": "markdown",
   "metadata": {
    "slideshow": {
     "slide_type": "slide"
    }
   },
   "source": [
    "#### Functions - keyword arguments\n",
    "\n",
    "```py\n",
    "def prettyprinter(name, value, delim=\":\", end=None):\n",
    "    out = \"The \" + name + \" is \" + delim + \" \" + value\n",
    "    if end:\n",
    "        out += end\n",
    "    return out\n",
    "```\n",
    "\n",
    "\n",
    "- used to set default values (often `None`)\n",
    "- can be skipped in function calls\n",
    "- improve readability"
   ]
  },
  {
   "cell_type": "markdown",
   "metadata": {
    "slideshow": {
     "slide_type": "slide"
    }
   },
   "source": [
    "#### Modules\n",
    "\n",
    "- A (larger) piece of code containing functions, classes...\n",
    "- Corresponds to a file\n",
    "- Can be imported\n",
    "\n",
    "```py\n",
    "import mymodule\n",
    "```\n",
    "- Can be run as a script\n",
    "\n",
    "```> python3 mymodule.py```"
   ]
  },
  {
   "cell_type": "markdown",
   "metadata": {
    "slideshow": {
     "slide_type": "slide"
    }
   },
   "source": [
    "#### Using your code\n",
    "\n",
    "Any longer pieces of code that have been used and will be re-used SHOULD be saved\n",
    "\n",
    "Two options:\n",
    "- Save it as a text file `    .py`\n",
    "- Save it as a notebook file `.ipynb`\n",
    "\n",
    "To run it:\n",
    "`python3 mycode.py`\n",
    "\n",
    "Import it:\n",
    "`import mycode`\n",
    "\n",
    "\n"
   ]
  },
  {
   "cell_type": "markdown",
   "metadata": {
    "slideshow": {
     "slide_type": "slide"
    }
   },
   "source": [
    "#### Documentation and comments\n",
    "\n",
    "- ```py\n",
    "\"\"\" This is a doc-string explaining what the purpose of this function/module is \"\"\"```\n",
    "- ```py\n",
    "# This is a comment that helps understanding the code\n",
    "```"
   ]
  },
  {
   "cell_type": "markdown",
   "metadata": {
    "slideshow": {
     "slide_type": "fragment"
    }
   },
   "source": [
    "- Comments *will* help you"
   ]
  },
  {
   "cell_type": "markdown",
   "metadata": {
    "slideshow": {
     "slide_type": "fragment"
    }
   },
   "source": [
    "- Undocumented code rarely gets used"
   ]
  },
  {
   "cell_type": "markdown",
   "metadata": {
    "slideshow": {
     "slide_type": "fragment"
    }
   },
   "source": [
    "- Try to keep your code readable: use informative variable and function names"
   ]
  },
  {
   "cell_type": "markdown",
   "metadata": {
    "slideshow": {
     "slide_type": "slide"
    }
   },
   "source": [
    "<div style=\"overflow-y:scroll; max-height:900px\">\n",
    "<img src=\"img/example_code.png\" alt=\"Module\"/>\n",
    "    </div>"
   ]
  },
  {
   "cell_type": "markdown",
   "metadata": {
    "slideshow": {
     "slide_type": "slide"
    }
   },
   "source": [
    "#### Why programming?\n",
    "\n",
    "Endless possibilities!  \n",
    "- reverse complement DNA\n",
    "- custom filtering of VCF files\n",
    "- plotting of results\n",
    "- all excel stuff!"
   ]
  },
  {
   "cell_type": "markdown",
   "metadata": {
    "slideshow": {
     "slide_type": "slide"
    }
   },
   "source": [
    "#### Why programming?\n",
    "\n",
    "- Computers are fast\n",
    "- Computers don't get bored\n",
    "- Computers don't get sloppy"
   ]
  },
  {
   "cell_type": "markdown",
   "metadata": {
    "slideshow": {
     "slide_type": "fragment"
    }
   },
   "source": [
    "- Create reproducable results\n",
    "- Extract large amount of information"
   ]
  },
  {
   "cell_type": "markdown",
   "metadata": {
    "slideshow": {
     "slide_type": "slide"
    }
   },
   "source": [
    "#### Final advice\n",
    "\n",
    "- Stop to think before you start coding\n",
    "    - use pseudocode\n",
    "    - use top-down programming\n",
    "    - use paper and pen\n",
    "    - take breaks"
   ]
  },
  {
   "cell_type": "markdown",
   "metadata": {
    "slideshow": {
     "slide_type": "fragment"
    }
   },
   "source": [
    "- You know the basics - don't be afraid to try\n",
    "- You will get faster"
   ]
  },
  {
   "cell_type": "markdown",
   "metadata": {
    "slideshow": {
     "slide_type": "slide"
    }
   },
   "source": [
    "#### Final advice\n",
    "\n",
    "- Getting help\n",
    "  - ask colleauges\n",
    "  - talk about your problem (get a rubber duck)\n",
    "  - search the web\n",
    "  - take breaks!\n",
    "  - NBIS drop-ins"
   ]
  },
  {
   "cell_type": "markdown",
   "metadata": {
    "slideshow": {
     "slide_type": "slide"
    }
   },
   "source": [
    "<center>Now you know Python!</center>\n",
    "\n",
    "￼￼￼￼<center><font size=20> 🎉 </font></center>\n",
    "    \n",
    " ￼￼￼￼<center><font size=20>    Well done!</font></center>\n"
   ]
  }
 ],
 "metadata": {
  "celltoolbar": "Slideshow",
  "kernelspec": {
   "display_name": "Python 3",
   "language": "python",
   "name": "python3"
  },
  "language_info": {
   "codemirror_mode": {
    "name": "ipython",
    "version": 3
   },
   "file_extension": ".py",
   "mimetype": "text/x-python",
   "name": "python",
   "nbconvert_exporter": "python",
   "pygments_lexer": "ipython3",
   "version": "3.6.5"
  }
 },
 "nbformat": 4,
 "nbformat_minor": 2
}
