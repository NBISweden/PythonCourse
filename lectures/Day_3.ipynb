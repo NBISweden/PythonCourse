{
 "cells": [
  {
   "cell_type": "code",
   "execution_count": 80,
   "metadata": {
    "slideshow": {
     "slide_type": "skip"
    }
   },
   "outputs": [],
   "source": [
    "from IPython.display import Image\n",
    "from IPython.display import clear_output\n",
    "from IPython.display import FileLink, FileLinks"
   ]
  },
  {
   "cell_type": "markdown",
   "metadata": {
    "slideshow": {
     "slide_type": "slide"
    }
   },
   "source": [
    "## Introduction to\n",
    "\n",
    "![title](../img/python-logo-master-flat.png)\n",
    "\n",
    "### with Application to Bioinformatics\n",
    "\n",
    "#### - Day 3"
   ]
  },
  {
   "cell_type": "markdown",
   "metadata": {
    "slideshow": {
     "slide_type": "slide"
    }
   },
   "source": [
    "## Review Day 2\n",
    "\n",
    "- Give an example of a tuple   \n",
    "- What is the difference between a tuple and a list?\n",
    "- How would you approach a complicated coding task?\n",
    "- What is the different syntax between a function and a method?\n",
    "- Calculate the average of the list [1,2,3.5,5,6.2] to one decimal\n",
    "- Take the list ['i','know','python'] as input and output the string 'I KNOW PYTHON'\n",
    "- What are the characteristics of a set?\n",
    "- Create a set containing the integers 1,2,3, and 4, add 3,4,5, and 6 to the set. How long is the set?\n",
    "- Create a dictionary where 'a' is 1, 'b' is 2, etc. \n",
    "  - How do you access the value of 'a'?\n",
    "  - How many entries are there in the dictionary?\n",
    "  - Check if you have 'h' is 8 in the dictionary, add it otherwise\n",
    "  - Print a list of all keys in the dictionary\n",
    "  - Print a list of all the values in the dictionary\n"
   ]
  },
  {
   "cell_type": "markdown",
   "metadata": {
    "slideshow": {
     "slide_type": "slide"
    }
   },
   "source": [
    "## Tuples\n",
    "\n",
    "<b>Give an example of a tuple:</b>   "
   ]
  },
  {
   "cell_type": "code",
   "execution_count": 18,
   "metadata": {
    "slideshow": {
     "slide_type": "-"
    }
   },
   "outputs": [
    {
     "data": {
      "text/plain": [
       "(1, 2, 3, 'a', 'b', [4, 5, 6])"
      ]
     },
     "execution_count": 18,
     "metadata": {},
     "output_type": "execute_result"
    }
   ],
   "source": [
    "myTuple = (1,2,3,'a','b',[4,5,6])\n",
    "myTuple"
   ]
  },
  {
   "cell_type": "markdown",
   "metadata": {
    "slideshow": {
     "slide_type": "-"
    }
   },
   "source": [
    "<b>What is the difference between a tuple and a list?</b>  \n",
    "A tuple is immutable while a list is mutable"
   ]
  },
  {
   "cell_type": "markdown",
   "metadata": {
    "slideshow": {
     "slide_type": "slide"
    }
   },
   "source": [
    "## How to approach a coding task\n",
    "\n",
    "- Decide on what output you want\n",
    "- What input files do you have?\n",
    "- How is the input structured, can you iterate over it?\n",
    "- If you can iterate, where is the information you need located?\n",
    "- Do you need to save a lot of information while iterating?\n",
    "  - Decide on how to save the information as you go\n",
    "  - Dictionaries are good for a lot of structured information\n",
    "  - Sets are good for non-duplicate single entry information\n",
    "  - Lists are good for ordered data\n",
    "- When you have collected the data needed, decide on how to process it\n",
    "- Are you writing your results to a file?"
   ]
  },
  {
   "cell_type": "markdown",
   "metadata": {
    "slideshow": {
     "slide_type": "slide"
    }
   },
   "source": [
    "## Functions and methods\n",
    "\n",
    "<b>What is the different syntax between a function and a method?</b>  \n",
    "functionName()  &emsp; &emsp;  &lt;object>.methodName()"
   ]
  },
  {
   "cell_type": "markdown",
   "metadata": {
    "slideshow": {
     "slide_type": "fragment"
    }
   },
   "source": [
    "<b>Calculate the average of the list [1,2,3.5,5,6.2] to one decimal</b>"
   ]
  },
  {
   "cell_type": "code",
   "execution_count": 24,
   "metadata": {
    "slideshow": {
     "slide_type": "-"
    }
   },
   "outputs": [
    {
     "data": {
      "text/plain": [
       "4"
      ]
     },
     "execution_count": 24,
     "metadata": {},
     "output_type": "execute_result"
    }
   ],
   "source": [
    "myList = [1,2,3.5,5,6.2]\n",
    "round(sum(myList)/len(myList))"
   ]
  },
  {
   "cell_type": "markdown",
   "metadata": {
    "slideshow": {
     "slide_type": "slide"
    }
   },
   "source": [
    "<b>Take the list ['i','know','python'] as input and output the string 'I KNOW PYTHON'</b>"
   ]
  },
  {
   "cell_type": "code",
   "execution_count": 25,
   "metadata": {
    "slideshow": {
     "slide_type": "-"
    }
   },
   "outputs": [
    {
     "data": {
      "text/plain": [
       "'I KNOW PYTHON'"
      ]
     },
     "execution_count": 25,
     "metadata": {},
     "output_type": "execute_result"
    }
   ],
   "source": [
    "' '.join(['i','know','python']).upper()"
   ]
  },
  {
   "cell_type": "markdown",
   "metadata": {
    "slideshow": {
     "slide_type": "slide"
    }
   },
   "source": [
    "## Sets\n",
    "\n",
    "<b>What are the characteristics of a set?</b>  \n",
    "A set contains an unordered collection of unique and immutable objects\n",
    "\n",
    "\n",
    "<b>Create a set containing the integers 1,2,3, and 4, add 3,4,5, and 6 to the set. How long is the set?</b>"
   ]
  },
  {
   "cell_type": "code",
   "execution_count": 37,
   "metadata": {
    "slideshow": {
     "slide_type": "-"
    }
   },
   "outputs": [
    {
     "data": {
      "text/plain": [
       "6"
      ]
     },
     "execution_count": 37,
     "metadata": {},
     "output_type": "execute_result"
    }
   ],
   "source": [
    "mySet = {1,2,3,4}\n",
    "mySet.add(3)\n",
    "mySet.add(4)\n",
    "mySet.add(5)\n",
    "mySet.add(6)\n",
    "len(mySet)"
   ]
  },
  {
   "cell_type": "markdown",
   "metadata": {
    "slideshow": {
     "slide_type": "slide"
    }
   },
   "source": [
    "## Dictionaries\n",
    "\n",
    "<b>Create a dictionary where 'a' is 1, 'b' is 2, etc.</b> "
   ]
  },
  {
   "cell_type": "code",
   "execution_count": 39,
   "metadata": {
    "slideshow": {
     "slide_type": "-"
    }
   },
   "outputs": [],
   "source": [
    "myDict = {'a':1, 'b':2, 'c':3,\n",
    "          'd':4, 'e':5, 'f':6,\n",
    "          'g':7}"
   ]
  },
  {
   "cell_type": "markdown",
   "metadata": {
    "slideshow": {
     "slide_type": "fragment"
    }
   },
   "source": [
    "<b> How do you access the value of 'a'?</b>"
   ]
  },
  {
   "cell_type": "code",
   "execution_count": 41,
   "metadata": {},
   "outputs": [
    {
     "data": {
      "text/plain": [
       "1"
      ]
     },
     "execution_count": 41,
     "metadata": {},
     "output_type": "execute_result"
    }
   ],
   "source": [
    "myDict['a']"
   ]
  },
  {
   "cell_type": "markdown",
   "metadata": {
    "slideshow": {
     "slide_type": "slide"
    }
   },
   "source": [
    "<b>How many entries are there in the dictionary?</b>"
   ]
  },
  {
   "cell_type": "code",
   "execution_count": 42,
   "metadata": {
    "slideshow": {
     "slide_type": "-"
    }
   },
   "outputs": [
    {
     "data": {
      "text/plain": [
       "7"
      ]
     },
     "execution_count": 42,
     "metadata": {},
     "output_type": "execute_result"
    }
   ],
   "source": [
    "len(myDict)"
   ]
  },
  {
   "cell_type": "markdown",
   "metadata": {
    "slideshow": {
     "slide_type": "fragment"
    }
   },
   "source": [
    "<b>Check if you have 'h' is 8 in the dictionary, add it otherwise</b>"
   ]
  },
  {
   "cell_type": "code",
   "execution_count": 43,
   "metadata": {
    "slideshow": {
     "slide_type": "-"
    }
   },
   "outputs": [
    {
     "data": {
      "text/plain": [
       "{'a': 1, 'b': 2, 'c': 3, 'd': 4, 'e': 5, 'f': 6, 'g': 7, 'h': 8}"
      ]
     },
     "execution_count": 43,
     "metadata": {},
     "output_type": "execute_result"
    }
   ],
   "source": [
    "if not 'h' in myDict:\n",
    "    myDict['h'] = 8\n",
    "myDict"
   ]
  },
  {
   "cell_type": "markdown",
   "metadata": {
    "slideshow": {
     "slide_type": "slide"
    }
   },
   "source": [
    "<b>Print a list of all keys in the dictionary</b>"
   ]
  },
  {
   "cell_type": "code",
   "execution_count": 45,
   "metadata": {
    "slideshow": {
     "slide_type": "-"
    }
   },
   "outputs": [
    {
     "data": {
      "text/plain": [
       "['a', 'b', 'c', 'd', 'e', 'f', 'g', 'h']"
      ]
     },
     "execution_count": 45,
     "metadata": {},
     "output_type": "execute_result"
    }
   ],
   "source": [
    "list(myDict.keys())"
   ]
  },
  {
   "cell_type": "markdown",
   "metadata": {
    "slideshow": {
     "slide_type": "fragment"
    }
   },
   "source": [
    "<b>Print a list of all the values in the dictionary</b>"
   ]
  },
  {
   "cell_type": "code",
   "execution_count": 48,
   "metadata": {
    "slideshow": {
     "slide_type": "-"
    }
   },
   "outputs": [
    {
     "data": {
      "text/plain": [
       "[1, 2, 3, 4, 5, 6, 7, 8]"
      ]
     },
     "execution_count": 48,
     "metadata": {},
     "output_type": "execute_result"
    }
   ],
   "source": [
    "list(myDict.values())"
   ]
  },
  {
   "cell_type": "markdown",
   "metadata": {
    "slideshow": {
     "slide_type": "slide"
    }
   },
   "source": [
    "## IMDb\n",
    "\n",
    "### Find the number of movies per genre\n",
    "\n",
    "<img src=\"../img/header_imdb.png\" alt=\"Drawing\" style=\"width: 1000px;\"/>  "
   ]
  },
  {
   "cell_type": "code",
   "execution_count": 61,
   "metadata": {
    "slideshow": {
     "slide_type": "fragment"
    }
   },
   "outputs": [
    {
     "name": "stdout",
     "output_type": "stream",
     "text": [
      "{'drama': 182, 'war': 30, 'adventure': 55, 'comedy': 46, 'family': 24, 'animation': 17, 'biography': 25, 'history': 18, 'action': 31, 'crime': 62, 'mystery': 41, 'thriller': 65, 'fantasy': 29, 'romance': 24, 'sci-fi': 28, 'western': 8, 'musical': 5, 'music': 3, 'historical': 1, 'sport': 7, 'film-noir': 7, 'horror': 5}\n"
     ]
    }
   ],
   "source": [
    "fh        = open('../files/250.imdb', 'r', encoding = 'utf-8')\n",
    "genreDict = {}     # create empty dictionary\n",
    "\n",
    "for line in fh:\n",
    "    if not line.startswith('#'):\n",
    "        cols  = line.strip().split('|')\n",
    "        genre = cols[5].strip()\n",
    "        glist = genre.split(',')\n",
    "        for entry in glist:\n",
    "            if not entry.lower() in genreDict: # check if genre is not in dictionary, add 1\n",
    "                genreDict[entry.lower()] = 1\n",
    "            else:\n",
    "                genreDict[entry.lower()] += 1   # if genre is in dictionary, increase count with 1\n",
    "fh.close()\n",
    "print(genreDict)"
   ]
  },
  {
   "cell_type": "markdown",
   "metadata": {
    "slideshow": {
     "slide_type": "slide"
    }
   },
   "source": [
    "### What is the average length of the movies (hours and minutes) in each genre?\n",
    "\n",
    "<img src=\"../img/header_imdb.png\" alt=\"Drawing\" style=\"width: 1000px;\"/>  "
   ]
  },
  {
   "cell_type": "markdown",
   "metadata": {
    "slideshow": {
     "slide_type": "subslide"
    }
   },
   "source": [
    "### Answer\n",
    "\n",
    "<img src=\"../img/average_length.png\" alt=\"Drawing\" style=\"width: 500px;\"/>  "
   ]
  },
  {
   "cell_type": "code",
   "execution_count": 12,
   "metadata": {
    "slideshow": {
     "slide_type": "subslide"
    }
   },
   "outputs": [
    {
     "name": "stdout",
     "output_type": "stream",
     "text": [
      "The average length for movies in genre drama is 2h14min\n",
      "The average length for movies in genre war is 2h30min\n",
      "The average length for movies in genre adventure is 2h13min\n",
      "The average length for movies in genre comedy is 1h53min\n",
      "The average length for movies in genre family is 1h44min\n",
      "The average length for movies in genre animation is 1h40min\n",
      "The average length for movies in genre biography is 2h30min\n",
      "The average length for movies in genre history is 2h47min\n",
      "The average length for movies in genre action is 2h18min\n",
      "The average length for movies in genre crime is 2h11min\n",
      "The average length for movies in genre mystery is 2h3min\n",
      "The average length for movies in genre thriller is 2h11min\n",
      "The average length for movies in genre fantasy is 2h2min\n",
      "The average length for movies in genre romance is 2h2min\n",
      "The average length for movies in genre sci-fi is 2h6min\n",
      "The average length for movies in genre western is 2h11min\n",
      "The average length for movies in genre musical is 1h57min\n",
      "The average length for movies in genre music is 2h24min\n",
      "The average length for movies in genre historical is 2h38min\n",
      "The average length for movies in genre sport is 2h17min\n",
      "The average length for movies in genre film-noir is 1h43min\n",
      "The average length for movies in genre horror is 1h59min\n"
     ]
    }
   ],
   "source": [
    "fh        = open('../files/250.imdb', 'r', encoding = 'utf-8')\n",
    "genreDict = {}\n",
    "\n",
    "for line in fh:\n",
    "    if not line.startswith('#'):\n",
    "        cols    = line.strip().split('|')\n",
    "        genre   = cols[5].strip()\n",
    "        glist   = genre.split(',')\n",
    "        runtime = cols[3]      # length of movie in seconds\n",
    "        for entry in glist:\n",
    "            if not entry.lower() in genreDict:\n",
    "                genreDict[entry.lower()] = [int(runtime)]   # add a list with the runtime\n",
    "            else:\n",
    "                genreDict[entry.lower()].append(int(runtime))   # append runtime to existing list\n",
    "fh.close()\n",
    "                \n",
    "for genre in genreDict:      # loop over the genres in the dictionaries\n",
    "    average = sum(genreDict[genre])/len(genreDict[genre])  # calculate average length per genre\n",
    "    hours   = average/3600                                 # format seconds to hours\n",
    "    minutes = (average - (3600*int(hours)))/60             # format seconds to minutes\n",
    "    print('The average length for movies in genre '+genre\\\n",
    "          +' is '+str(int(hours))+'h'+str(round(minutes))+'min')"
   ]
  },
  {
   "cell_type": "markdown",
   "metadata": {
    "slideshow": {
     "slide_type": "slide"
    }
   },
   "source": [
    "## NEW TOPIC: Functions"
   ]
  },
  {
   "cell_type": "markdown",
   "metadata": {
    "slideshow": {
     "slide_type": "fragment"
    }
   },
   "source": [
    "<img src=\"../img/for_function.png\" alt=\"Drawing\" style=\"width: 500px;\"/>  "
   ]
  },
  {
   "cell_type": "markdown",
   "metadata": {
    "slideshow": {
     "slide_type": "-"
    }
   },
   "source": [
    "A lot of ugly formatting for calculating hours and minutes from seconds..."
   ]
  },
  {
   "cell_type": "code",
   "execution_count": 13,
   "metadata": {
    "slideshow": {
     "slide_type": "slide"
    }
   },
   "outputs": [
    {
     "name": "stdout",
     "output_type": "stream",
     "text": [
      "The average length for movies in genre drama is 2h14min\n",
      "The average length for movies in genre war is 2h30min\n",
      "The average length for movies in genre adventure is 2h13min\n",
      "The average length for movies in genre comedy is 1h53min\n",
      "The average length for movies in genre family is 1h44min\n",
      "The average length for movies in genre animation is 1h40min\n",
      "The average length for movies in genre biography is 2h30min\n",
      "The average length for movies in genre history is 2h47min\n",
      "The average length for movies in genre action is 2h18min\n",
      "The average length for movies in genre crime is 2h11min\n",
      "The average length for movies in genre mystery is 2h3min\n",
      "The average length for movies in genre thriller is 2h11min\n",
      "The average length for movies in genre fantasy is 2h2min\n",
      "The average length for movies in genre romance is 2h2min\n",
      "The average length for movies in genre sci-fi is 2h6min\n",
      "The average length for movies in genre western is 2h11min\n",
      "The average length for movies in genre musical is 1h57min\n",
      "The average length for movies in genre music is 2h24min\n",
      "The average length for movies in genre historical is 2h38min\n",
      "The average length for movies in genre sport is 2h17min\n",
      "The average length for movies in genre film-noir is 1h43min\n",
      "The average length for movies in genre horror is 1h59min\n"
     ]
    }
   ],
   "source": [
    "def FormatSec(genre):   # input a list of seconds\n",
    "    average   = sum(genreDict[genre])/len(genreDict[genre])\n",
    "    hours     = average/3600\n",
    "    minutes   = (average - (3600*int(hours)))/60   \n",
    "    return str(int(hours))+'h'+str(round(minutes))+'min'\n",
    "\n",
    "\n",
    "fh        = open('../files/250.imdb', 'r', encoding = 'utf-8')\n",
    "genreDict = {}\n",
    "\n",
    "for line in fh:\n",
    "    if not line.startswith('#'):\n",
    "        cols    = line.strip().split('|')\n",
    "        genre   = cols[5].strip()\n",
    "        glist   = genre.split(',')\n",
    "        runtime = cols[3]      # length of movie in seconds\n",
    "        for entry in glist:\n",
    "            if not entry.lower() in genreDict:\n",
    "                genreDict[entry.lower()] = [int(runtime)]   # add a list with the runtime\n",
    "            else:\n",
    "                genreDict[entry.lower()].append(int(runtime))   # append runtime to existing list\n",
    "fh.close()\n",
    "                \n",
    "for genre in genreDict:\n",
    "    print('The average length for movies in genre '+genre\\\n",
    "          +' is '+FormatSec(genre))"
   ]
  },
  {
   "cell_type": "markdown",
   "metadata": {
    "slideshow": {
     "slide_type": "slide"
    }
   },
   "source": [
    "### Function structure\n",
    "\n",
    "<img src=\"../img/function_structure.png\" alt=\"Drawing\" style=\"width: 600px;\"/>  "
   ]
  },
  {
   "cell_type": "markdown",
   "metadata": {
    "slideshow": {
     "slide_type": "slide"
    }
   },
   "source": [
    "### Function structure\n",
    "\n",
    "<img src=\"../img/function_structure_explained.png\" alt=\"Drawing\" style=\"width: 600px;\"/>  "
   ]
  },
  {
   "cell_type": "code",
   "execution_count": 14,
   "metadata": {
    "slideshow": {
     "slide_type": "slide"
    }
   },
   "outputs": [
    {
     "data": {
      "text/plain": [
       "9"
      ]
     },
     "execution_count": 14,
     "metadata": {},
     "output_type": "execute_result"
    }
   ],
   "source": [
    "def addFive(number):    \n",
    "    final = number + 5\n",
    "    return final\n",
    "\n",
    "addFive(4)"
   ]
  },
  {
   "cell_type": "code",
   "execution_count": 14,
   "metadata": {
    "slideshow": {
     "slide_type": "fragment"
    }
   },
   "outputs": [
    {
     "data": {
      "text/plain": [
       "'14:54:01.619661'"
      ]
     },
     "execution_count": 14,
     "metadata": {},
     "output_type": "execute_result"
    }
   ],
   "source": [
    "from datetime import datetime\n",
    "\n",
    "def whatTimeIsIt():\n",
    "    time = str(datetime.now().time())\n",
    "    return time\n",
    "\n",
    "whatTimeIsIt()"
   ]
  },
  {
   "cell_type": "code",
   "execution_count": 49,
   "metadata": {
    "slideshow": {
     "slide_type": "fragment"
    }
   },
   "outputs": [
    {
     "data": {
      "text/plain": [
       "9"
      ]
     },
     "execution_count": 49,
     "metadata": {},
     "output_type": "execute_result"
    }
   ],
   "source": [
    "def addFive(number):\n",
    "    final = number + 5\n",
    "    return final\n",
    "\n",
    "addFive(4)\n",
    "final\n",
    "\n",
    "final = addFive(4)\n",
    "final"
   ]
  },
  {
   "cell_type": "markdown",
   "metadata": {
    "slideshow": {
     "slide_type": "slide"
    }
   },
   "source": [
    "### Variables in functions\n",
    "\n",
    "- Variables within functions\n",
    "- Global variables"
   ]
  },
  {
   "cell_type": "code",
   "execution_count": 47,
   "metadata": {
    "slideshow": {
     "slide_type": "fragment"
    }
   },
   "outputs": [
    {
     "name": "stdout",
     "output_type": "stream",
     "text": [
      "another string\n"
     ]
    }
   ],
   "source": [
    "def someFunction():\n",
    "    s = 'a string'\n",
    "    print(s)\n",
    "    \n",
    "s = 'another string'\n",
    "someFunction()"
   ]
  },
  {
   "cell_type": "markdown",
   "metadata": {
    "slideshow": {
     "slide_type": "slide"
    }
   },
   "source": [
    "## Why use functions?\n",
    "\n",
    "- Cleaner code\n",
    "- Better defined tasks in code\n",
    "- Re-usability\n",
    "- Better structure"
   ]
  },
  {
   "cell_type": "markdown",
   "metadata": {
    "slideshow": {
     "slide_type": "slide"
    }
   },
   "source": [
    "## Importing functions\n",
    "\n",
    "- Collect all your functions in another file\n",
    "- Keeps main code cleaner\n",
    "- Easy to use across different code"
   ]
  },
  {
   "cell_type": "markdown",
   "metadata": {
    "slideshow": {
     "slide_type": "slide"
    }
   },
   "source": [
    "Example:\n",
    "1. Create a file called myFunctions.py, located in the same folder as your script\n",
    "2. Put a function called formatSec in the file\n",
    "3. Start writing your code in a separate file and import the function"
   ]
  },
  {
   "cell_type": "code",
   "execution_count": 65,
   "metadata": {
    "slideshow": {
     "slide_type": "fragment"
    }
   },
   "outputs": [
    {
     "data": {
      "text/plain": [
       "'5h53min'"
      ]
     },
     "execution_count": 65,
     "metadata": {},
     "output_type": "execute_result"
    }
   ],
   "source": [
    "from myFunctions import formatSec\n",
    "\n",
    "seconds = 21154\n",
    "\n",
    "formatSec(seconds)"
   ]
  },
  {
   "cell_type": "code",
   "execution_count": 11,
   "metadata": {
    "slideshow": {
     "slide_type": "slide"
    }
   },
   "outputs": [
    {
     "name": "stdout",
     "output_type": "stream",
     "text": [
      "5h53min\n",
      "79005\n"
     ]
    }
   ],
   "source": [
    "from myFunctions import  formatSec, toSec\n",
    "\n",
    "seconds = 21154\n",
    "print(formatSec(seconds))\n",
    "\n",
    "days    = 0\n",
    "hours   = 21\n",
    "minutes = 56\n",
    "seconds = 45\n",
    "\n",
    "print(toSec(days, hours, minutes, seconds))"
   ]
  },
  {
   "cell_type": "markdown",
   "metadata": {
    "slideshow": {
     "slide_type": "slide"
    }
   },
   "source": [
    "### myFunctions.py\n",
    "\n",
    "<img src=\"../img/myFunctions.png\" alt=\"Drawing\" style=\"width: 600px;\"/>  "
   ]
  },
  {
   "cell_type": "markdown",
   "metadata": {
    "slideshow": {
     "slide_type": "slide"
    }
   },
   "source": [
    "<b>&rarr; Notebook Day_3_Exercise_1  (~30 minutes) </b>"
   ]
  },
  {
   "cell_type": "markdown",
   "metadata": {
    "slideshow": {
     "slide_type": "slide"
    }
   },
   "source": [
    "## NEW TOPIC AGAIN: sys.argv\n",
    "\n",
    "- Avoid hardcoding the filename in the code\n",
    "- Easier to re-use code for different input files\n",
    "- Uses command-line arguments\n",
    "- Input is list of strings:\n",
    "    - Position 0: the program name\n",
    "    - Position 1: the first argument"
   ]
  },
  {
   "cell_type": "markdown",
   "metadata": {
    "slideshow": {
     "slide_type": "slide"
    }
   },
   "source": [
    "Instead of:"
   ]
  },
  {
   "cell_type": "markdown",
   "metadata": {
    "slideshow": {
     "slide_type": "-"
    }
   },
   "source": [
    "<img src=\"../img/non-sysargv.png\" alt=\"Drawing\" style=\"width: 700px;\"/>  "
   ]
  },
  {
   "cell_type": "markdown",
   "metadata": {
    "slideshow": {
     "slide_type": "slide"
    }
   },
   "source": [
    "do:"
   ]
  },
  {
   "cell_type": "markdown",
   "metadata": {
    "slideshow": {
     "slide_type": "-"
    }
   },
   "source": [
    "<img src=\"../img/sysargv.png\" alt=\"Drawing\" style=\"width: 800px;\"/>  "
   ]
  },
  {
   "cell_type": "markdown",
   "metadata": {
    "slideshow": {
     "slide_type": "-"
    }
   },
   "source": [
    "Run with:"
   ]
  },
  {
   "cell_type": "markdown",
   "metadata": {
    "slideshow": {
     "slide_type": "-"
    }
   },
   "source": [
    "<img src=\"../img/sysargv_run.png\" alt=\"Drawing\" style=\"width: 900px;\"/>  "
   ]
  },
  {
   "cell_type": "markdown",
   "metadata": {},
   "source": [
    "## Summary\n",
    "\n",
    "- A function is a block of organized, reusable code that is used to perform a single, related action\n",
    "- Variables within a function are local variables\n",
    "- Functions can be organized in separate files and imported to the main code\n",
    "- sys.argv imports command line arguments to be used within the code"
   ]
  },
  {
   "cell_type": "markdown",
   "metadata": {
    "slideshow": {
     "slide_type": "slide"
    }
   },
   "source": [
    "### IMDb\n",
    "\n",
    "<b>Re-structure and write the output to a new file as below</b>\n",
    "\n",
    "<img src=\"../img/re-structured.png\" alt=\"Drawing\" style=\"width: 400px;\"/>  \n",
    "\n",
    "Note:\n",
    "- Use a text editor, not notebooks for this\n",
    "- Use functions as much as possible\n",
    "- Use sys.argv for input/output"
   ]
  },
  {
   "cell_type": "markdown",
   "metadata": {
    "slideshow": {
     "slide_type": "slide"
    }
   },
   "source": [
    "### Answer -  Example\n",
    "<img src=\"../img/reformat_imdb.png\" alt=\"Drawing\" style=\"width: 1000px;\"/>  \n",
    "\n",
    "Run with:\n",
    "<img src=\"../img/run_reformat.png\" alt=\"Drawing\" style=\"width: 700px;\"/>  "
   ]
  }
 ],
 "metadata": {
  "celltoolbar": "Slideshow",
  "kernelspec": {
   "display_name": "Python 3",
   "language": "python",
   "name": "python3"
  },
  "language_info": {
   "codemirror_mode": {
    "name": "ipython",
    "version": 3
   },
   "file_extension": ".py",
   "mimetype": "text/x-python",
   "name": "python",
   "nbconvert_exporter": "python",
   "pygments_lexer": "ipython3",
   "version": "3.6.2"
  },
  "livereveal": {
   "height": 768,
   "scroll": true,
   "width": 1024
  }
 },
 "nbformat": 4,
 "nbformat_minor": 2
}
