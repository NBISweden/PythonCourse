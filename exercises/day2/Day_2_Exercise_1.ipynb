{
 "cells": [
  {
   "cell_type": "markdown",
   "metadata": {
    "slideshow": {
     "slide_type": "slide"
    }
   },
   "source": [
    "## Notebook 1"
   ]
  },
  {
   "cell_type": "markdown",
   "metadata": {
    "slideshow": {
     "slide_type": "slide"
    }
   },
   "source": [
    "## Lactose intolerance\n",
    "\n",
    "The SNP rs4988235 located in the MCM6 gene is associated with lactose persistence, and much more common in scandinavian countries than elsewhere, meaning people from there are less likely to be lactose intolerant. The rs4988235 SNP is located on chromosome 2, position 136608646.  \n",
    "\n",
    "What is the frequency of the rs4988235 SNP amongst the samples in the VCF file 'files/genotypes_small.vcf'?  \n",
    "\n",
    "Hint:  \n",
    "\n",
    "A VCF file is structured like this:\n",
    "<img src=\"../../img/vcf_header.png\" alt=\"Drawing\" style=\"width: 1000px;\"/> \n",
    "\n",
    "The genotypes starts from column 10 (index 9). The first part of the genotypes denoted which alleles each individual has. 0/0 has no alternate alleles, 0/1 has one alternate allele, and 1/1 has 2 alternate alleles. \n",
    "\n",
    "So here you have to count the number of alternate alleles, and divide by the total number of alleles.\n",
    "\n",
    "Feel free to use the code presented in the lecture for this dataset, and modify it accordingly. Best is to start with code example 2.\n",
    "\n",
    "Hint 2:  \n",
    "It is possible to loop over a list starting from a specified position using:  \n",
    "for x in list[9:]  \n",
    "\n",
    "Hint 3:  \n",
    "Before starting to write any code, divide the problem into smaller pieces, and make a plan for how to solve each piece individually.  \n",
    "\n",
    "Hint 4:  \n",
    "There is always more than one solution to a problem, if you find another way to reach the same results, that's perfectly fine.\n",
    "\n",
    "<b>If you get stuck, the answers (one of the possible answers) will be presented piece by piece. So you can always scroll down a bit, look at a part of the code, and try from there.</b>"
   ]
  },
  {
   "cell_type": "markdown",
   "metadata": {},
   "source": [
    "<br></br>\n",
    "<br></br>"
   ]
  },
  {
   "cell_type": "markdown",
   "metadata": {},
   "source": [
    "### Lactose intolerance - Answers\n",
    "\n",
    "Below is the second code from the lecture, let's start with that one and modify it."
   ]
  },
  {
   "cell_type": "code",
   "execution_count": 1,
   "metadata": {},
   "outputs": [
    {
     "name": "stdout",
     "output_type": "stream",
     "text": [
      "5\n"
     ]
    }
   ],
   "source": [
    "fh = open('../../files/genotypes_small.vcf', 'r', encoding = 'utf-8')\n",
    "for line in fh:\n",
    "    if not line.startswith('#'):\n",
    "        cols = line.strip().split('\\t')\n",
    "        if cols[0] == '5':\n",
    "            print(cols[0])\n",
    "            break\n",
    "fh.close()"
   ]
  },
  {
   "cell_type": "markdown",
   "metadata": {},
   "source": [
    "Now let's start modifying it:\n",
    "\n",
    "- First we want to find the line with the SNP we are interested in"
   ]
  },
  {
   "cell_type": "code",
   "execution_count": 2,
   "metadata": {},
   "outputs": [
    {
     "name": "stdout",
     "output_type": "stream",
     "text": [
      "2\t136608646\t.\tG\tA\t22320.2\tPASS\tAN=26;AC=8\tGT:AD:DP:GQ:PL\t0/1:13,17:30:99:471,0,350\t1/1:30,0:30:0:45\t1/1:19,0:19:0:23\t0/0:0,31:31:0:54\t1/1:27,0:27:0:67\t0/1:15,17:32:99:478,0,385\t1/1:39,1:40:99:683,0,471\t0/0:0,19:19:0:2\t0/1:36,17:53:99:407,0,1002\t1/1:37,0:37:99:369,0,648\t1/1:28,0:28:99:386,0,355\t0/1:17,18:35:99:496,0,402\t0/1:15,24:39:99:686,0,381\n",
      "\n"
     ]
    }
   ],
   "source": [
    "fh = open('../../files/genotypes_small.vcf', 'r', encoding = 'utf-8')\n",
    "for line in fh:\n",
    "    if not line.startswith('#'):\n",
    "        cols  = line.strip().split('\\t')\n",
    "        chrom = cols[0]                          # This is the chromosome\n",
    "        pos   = cols[1]                          # This is the position of the SNP on the chromsome\n",
    "        if chrom == '2' and pos == '136608646':  # Check if chrom and pos match. Notice the type! python reads all as strings!\n",
    "            print(line)                          # Print the line to see if it looks correct\n",
    "fh.close()"
   ]
  },
  {
   "cell_type": "markdown",
   "metadata": {},
   "source": [
    "When making comparisons, it is extremely important to think about the type of the value you compare. When python reads in a file everything will be read in as strings, therefore, if you want to make a comparison to an integer you have to change the type first. On this occation we compare chrom to '2' (a string). As chromosomes don't have to be integers (X,Y,M etc), this would make sense. The position on the other hand will always be an integer, so depending on the comparison you might have to change type. In this case it works, as we are interested in exact matches ('136608646' == '136608646' will always be true). However, if you would be looking for any position after this ('136608646' > '136608646'), that would not work. In that case you would have to change the type (int(pos) > 136608646)\n",
    "\n",
    "So now we have the line we are interested in, what next?\n",
    "- Let's try to print out only the genotypes:"
   ]
  },
  {
   "cell_type": "code",
   "execution_count": 3,
   "metadata": {},
   "outputs": [
    {
     "name": "stdout",
     "output_type": "stream",
     "text": [
      "0/1:13,17:30:99:471,0,350\n",
      "1/1:30,0:30:0:45\n",
      "1/1:19,0:19:0:23\n",
      "0/0:0,31:31:0:54\n",
      "1/1:27,0:27:0:67\n",
      "0/1:15,17:32:99:478,0,385\n",
      "1/1:39,1:40:99:683,0,471\n",
      "0/0:0,19:19:0:2\n",
      "0/1:36,17:53:99:407,0,1002\n",
      "1/1:37,0:37:99:369,0,648\n",
      "1/1:28,0:28:99:386,0,355\n",
      "0/1:17,18:35:99:496,0,402\n",
      "0/1:15,24:39:99:686,0,381\n"
     ]
    }
   ],
   "source": [
    "fh = open('../../files/genotypes_small.vcf', 'r', encoding = 'utf-8')\n",
    "for line in fh:\n",
    "    if not line.startswith('#'):\n",
    "        cols  = line.strip().split('\\t')\n",
    "        chrom = cols[0]                          # This is the chromosome\n",
    "        pos   = cols[1]                          # This is the position of the SNP on the chromsome\n",
    "        if chrom == '2' and pos == '136608646':  # Check if chrom and pos match. Notice the type! python reads all as strings!\n",
    "            for geno in cols[9:]:                # Loop over the items in cols, starting from index 9\n",
    "                print(geno)\n",
    "fh.close()"
   ]
  },
  {
   "cell_type": "markdown",
   "metadata": {},
   "source": [
    "cols is here a list, and a list is an iterable, meaning we can loop over it. By writing cols[9:] we also use indexing to tell it to start the loop from index 9 in the list, and loop until the end.  \n",
    "\n",
    "\n",
    "So, now we have the full genotype information, but we are only interested in the first part before the : separator, so let's remove that:"
   ]
  },
  {
   "cell_type": "code",
   "execution_count": 4,
   "metadata": {},
   "outputs": [
    {
     "name": "stdout",
     "output_type": "stream",
     "text": [
      "0/1\n",
      "1/1\n",
      "1/1\n",
      "0/0\n",
      "1/1\n",
      "0/1\n",
      "1/1\n",
      "0/0\n",
      "0/1\n",
      "1/1\n",
      "1/1\n",
      "0/1\n",
      "0/1\n"
     ]
    }
   ],
   "source": [
    "fh = open('../../files/genotypes_small.vcf', 'r', encoding = 'utf-8')\n",
    "for line in fh:\n",
    "    if not line.startswith('#'):\n",
    "        cols  = line.strip().split('\\t')\n",
    "        chrom = cols[0]                          # This is the chromosome\n",
    "        pos   = cols[1]                          # This is the position of the SNP on the chromsome\n",
    "        if chrom == '2' and pos == '136608646':  # Check if chrom and pos match. Notice the type! python reads all as strings!\n",
    "            for geno in cols[9:]:                # Loop over the items in cols, starting from index 9\n",
    "                alleles = geno[0:3]              # Here we take the first 3 characters in the string geno\n",
    "                print(alleles)\n",
    "fh.close()"
   ]
  },
  {
   "cell_type": "markdown",
   "metadata": {},
   "source": [
    "There are several ways on how to do this. Another example could be to do:  \n",
    "alleles = geno.split(':')[0]  \n",
    "were you split the string geno on : into a list, and from the list take the first item. If the genotypes would have been of a different length (say we would have 10 different alternate alleles, which means we could have 0/10) this option would have been safer.\n",
    "\n",
    "Now we have the alleles for each individual, now it's time to count them:"
   ]
  },
  {
   "cell_type": "code",
   "execution_count": 6,
   "metadata": {},
   "outputs": [
    {
     "name": "stdout",
     "output_type": "stream",
     "text": [
      "2\n",
      "5\n",
      "6\n"
     ]
    }
   ],
   "source": [
    "fh  = open('../../files/genotypes_small.vcf', 'r', encoding = 'utf-8')\n",
    "\n",
    "wt  = 0      # Remember to initialize the counting outside the loop, otherwise it will reset for every iteration\n",
    "het = 0\n",
    "hom = 0\n",
    "\n",
    "for line in fh:\n",
    "    if not line.startswith('#'):\n",
    "        cols  = line.strip().split('\\t')\n",
    "        chrom = cols[0]                          # This is the chromosome\n",
    "        pos   = cols[1]                          # This is the position of the SNP on the chromsome\n",
    "        if chrom == '2' and pos == '136608646':  # Check if chrom and pos match. Notice the type! python reads all as strings!\n",
    "            for geno in cols[9:]:                # Loop over the items in cols, starting from index 9\n",
    "                alleles = geno[0:3]              # Here we take the first 3 characters in the string geno\n",
    "                if alleles == '0/0':             # Conditional to test whether alleles matches '0/0'\n",
    "                    wt += 1                      # If match, wt is increased by 1\n",
    "                elif alleles == '0/1':\n",
    "                    het += 1\n",
    "                elif alleles == '1/1':        \n",
    "                    hom += 1\n",
    "                    \n",
    "print(wt)        # After looping through the entire file, print the counts for the different genotypes\n",
    "print(het)\n",
    "print(hom)\n",
    "\n",
    "fh.close()"
   ]
  },
  {
   "cell_type": "markdown",
   "metadata": {},
   "source": [
    "Here we set three counters in the beginning, for the three different combinations of alleles we have (actually you could have more combinations of alternate alleles, but for this exercises, and this specific SNP, we will only use one ref and one alternate allele). For each genotype we increase the corresponding counter with 1, and in the end we print our results.\n",
    "\n",
    "Almost there! Now let's finish it off by calculating the allele frequency, here (2\\*hom + het)/(wt\\*2+hom\\*2+het\\*2):"
   ]
  },
  {
   "cell_type": "code",
   "execution_count": 7,
   "metadata": {},
   "outputs": [
    {
     "name": "stdout",
     "output_type": "stream",
     "text": [
      "The frequency of the rs4988235 SNP is: 0.6538461538461539\n"
     ]
    }
   ],
   "source": [
    "fh  = open('../../files/genotypes_small.vcf', 'r', encoding = 'utf-8')\n",
    "\n",
    "wt  = 0      # Remember to initialize the counting outside the loop, otherwise it will reset for every iteration\n",
    "het = 0\n",
    "hom = 0\n",
    "\n",
    "for line in fh:\n",
    "    if not line.startswith('#'):\n",
    "        cols  = line.strip().split('\\t')\n",
    "        chrom = cols[0]                          # This is the chromosome\n",
    "        pos   = cols[1]                          # This is the position of the SNP on the chromsome\n",
    "        if chrom == '2' and pos == '136608646':  # Check if chrom and pos match. Notice the type! python reads all as strings!\n",
    "            for geno in cols[9:]:                # Loop over the items in cols, starting from index 9\n",
    "                alleles = geno[0:3]              # Here we take the first 3 characters in the string geno\n",
    "                if alleles == '0/0':             # Conditional to test whether alleles matches '0/0'\n",
    "                    wt += 1                      # If match, wt is increased by 1\n",
    "                elif alleles == '0/1':\n",
    "                    het += 1\n",
    "                elif alleles == '1/1':        \n",
    "                    hom += 1\n",
    "                    \n",
    "freq = (2*hom + het)/((wt+hom+het)*2)                       # Calculate the alllele frequency\n",
    "print('The frequency of the rs4988235 SNP is: '+str(freq))  # Print a nice message and format freq to a string before printing\n",
    "\n",
    "fh.close()"
   ]
  },
  {
   "cell_type": "markdown",
   "metadata": {},
   "source": [
    "<b>All done!</b>"
   ]
  }
 ],
 "metadata": {
  "kernelspec": {
   "display_name": "Python 3",
   "language": "python",
   "name": "python3"
  },
  "language_info": {
   "codemirror_mode": {
    "name": "ipython",
    "version": 3
   },
   "file_extension": ".py",
   "mimetype": "text/x-python",
   "name": "python",
   "nbconvert_exporter": "python",
   "pygments_lexer": "ipython3",
   "version": "3.6.2"
  }
 },
 "nbformat": 4,
 "nbformat_minor": 2
}
