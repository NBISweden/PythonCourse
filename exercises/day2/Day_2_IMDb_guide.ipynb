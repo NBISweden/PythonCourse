{
 "cells": [
  {
   "cell_type": "markdown",
   "metadata": {},
   "source": [
    "# IMDb guide"
   ]
  },
  {
   "cell_type": "markdown",
   "metadata": {},
   "source": [
    "Learning to think in code is not easy if you've never programmed before. If you need a nudge along the way while solving the IMDb problems presented in class, here follows some pseudocode/advice for each task. There will be no answers in here, just tips and advice in how to solve the problems."
   ]
  },
  {
   "cell_type": "markdown",
   "metadata": {},
   "source": [
    "## Find the movie with the highest rating"
   ]
  },
  {
   "cell_type": "markdown",
   "metadata": {},
   "source": [
    "1. A good place to start is always to manually inspect the file in any text editor. Identify how the structure of the file is, what delimiters it's using, and which columns you are interested in.\n",
    "2. Open the file and loop over the lines. You can also print the lines, but be aware that the output might be huge, and potentiella crash your computer. The `break` statement is good, which if inserted after the `print` statement will break out of the loop after printing just one line.\n",
    "3. Isolate the column containing the rating (Think about what type it is also)\n",
    "4. So how do you find out which rating is the best? One option is to initiate a counter with the value 0 before the loop, and compare the rating to that one, and if it is better, replace it with that rating instead. After the loop that counter should contain the highest rating.\n",
    "5. To also save the name of the movie in your counter you can use a list as your counter, where the first item in your list is the name of the movie, and the second item is the rating. When comparing ratings you simple compare the current rating with the second item in your counter list."
   ]
  },
  {
   "cell_type": "markdown",
   "metadata": {},
   "source": [
    "## For the genre Adventure - Find the top movie by rating"
   ]
  },
  {
   "cell_type": "markdown",
   "metadata": {},
   "source": [
    "1. Use the previous code and build on that.\n",
    "2. Here you also have to identify the genre of the movie. The tricky part here is that the same movie can belong to several genres. Easiest is to save all genres for that movie into a list and use an `if` statement to check if movie belongs to genre \"Adventure\" before checking the rating."
   ]
  },
  {
   "cell_type": "markdown",
   "metadata": {},
   "source": [
    "## Find the number of genres"
   ]
  },
  {
   "cell_type": "markdown",
   "metadata": {},
   "source": [
    "1. Use the code from the previous exercise as a base, but no need to check for ratings now.\n",
    "2. From previous you have the list of genres that each movie belongs to. Now you want to find all different genres listed in the file. Start by initializing an empty list outside the loop, to keep track of all the genres.\n",
    "3. Loop over the genre list for each movie, and use an if statement to check if it already is in your genre list, if not, add it to the list.\n",
    "4. There are some irregularities with upper and lower case spelling, so before checking if the genre is in the list, make it into upper or lower case.\n",
    "5. After the loop has finished, use the length of the list to find out how many genres were listed in the file."
   ]
  },
  {
   "cell_type": "markdown",
   "metadata": {},
   "source": [
    "## Find the number of genres (using sets)"
   ]
  },
  {
   "cell_type": "markdown",
   "metadata": {},
   "source": [
    "1. Use the previous code\n",
    "2. Instead of initializing an empty `list` before the loop, make an empty `set`\n",
    "3. The advantage with `sets`are that it will not add an item to a set if it already exists, which is exactly what we are interested in. So here we don't have to check if the item is in the set, we can just loop of the genre list and add the item to the set, and it will automatically make sure there are only one of each genre.\n",
    "4. Just make sure that you still make the genre upper och lower case first."
   ]
  }
 ],
 "metadata": {
  "kernelspec": {
   "display_name": "Python 3",
   "language": "python",
   "name": "python3"
  },
  "language_info": {
   "codemirror_mode": {
    "name": "ipython",
    "version": 3
   },
   "file_extension": ".py",
   "mimetype": "text/x-python",
   "name": "python",
   "nbconvert_exporter": "python",
   "pygments_lexer": "ipython3",
   "version": "3.6.2"
  }
 },
 "nbformat": 4,
 "nbformat_minor": 2
}
