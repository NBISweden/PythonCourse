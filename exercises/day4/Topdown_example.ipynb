{
 "cells": [
  {
   "cell_type": "code",
   "execution_count": null,
   "metadata": {
    "slideshow": {
     "slide_type": "skip"
    }
   },
   "outputs": [],
   "source": [
    "from IPython.display import Image\n",
    "from IPython.display import clear_output\n",
    "from IPython.display import FileLink, FileLinks"
   ]
  },
  {
   "cell_type": "markdown",
   "metadata": {
    "slideshow": {
     "slide_type": "slide"
    }
   },
   "source": [
    "## Exercise 4.1 using top-down programming\n"
   ]
  },
  {
   "cell_type": "markdown",
   "metadata": {
    "slideshow": {
     "slide_type": "slide"
    }
   },
   "source": [
    "Create a movie picker function!"
   ]
  },
  {
   "cell_type": "markdown",
   "metadata": {
    "slideshow": {
     "slide_type": "fragment"
    }
   },
   "source": [
    "**The function definition**\n",
    "\n",
    "- `year`, `genre`, `min_rating`, `max_rating`\n",
    "- keyword arguments!\n",
    "- default values?"
   ]
  },
  {
   "cell_type": "markdown",
   "metadata": {
    "slideshow": {
     "slide_type": "fragment"
    }
   },
   "source": [
    "￼\n",
    "```py\n",
    "def pick_movie(year=None, genre=None, min_rating=None, max_rating=None):\n",
    "    ```\n"
   ]
  },
  {
   "cell_type": "markdown",
   "metadata": {
    "slideshow": {
     "slide_type": "slide"
    }
   },
   "source": [
    "- Go through the lines of the files\n",
    "- Skip comments"
   ]
  },
  {
   "cell_type": "markdown",
   "metadata": {
    "slideshow": {
     "slide_type": "fragment"
    }
   },
   "source": [
    " ```py\n",
    " \n",
    "for line in open(imdb):\n",
    "    if line.startswith('#'):\n",
    "        continue\n",
    "    work_with_line()\n",
    "```"
   ]
  },
  {
   "cell_type": "markdown",
   "metadata": {
    "slideshow": {
     "slide_type": "fragment"
    }
   },
   "source": [
    " - Use `continue`..."
   ]
  },
  {
   "cell_type": "markdown",
   "metadata": {
    "slideshow": {
     "slide_type": "fragment"
    }
   },
   "source": [
    " - or test for the opposite:"
   ]
  },
  {
   "cell_type": "markdown",
   "metadata": {
    "slideshow": {
     "slide_type": "-"
    }
   },
   "source": [
    " ```py\n",
    " for line in open(imdb):\n",
    "     if not line.startswith('#'):\n",
    "         work_with_line()\n",
    "```"
   ]
  },
  {
   "cell_type": "markdown",
   "metadata": {
    "slideshow": {
     "slide_type": "slide"
    }
   },
   "source": [
    "**Top-down programming**"
   ]
  },
  {
   "cell_type": "code",
   "execution_count": null,
   "metadata": {
    "slideshow": {
     "slide_type": "-"
    }
   },
   "outputs": [],
   "source": [
    "def pick_movie(year=None, genre=None, min_rating=None, max_rating=None):\n",
    "    for line in read_imdb():\n",
    "        if line.startswith('#'):\n",
    "            continue\n",
    "        movie = interpret_line(line)\n",
    "        ok = movie_is_ok(movie, year, genre, min_rating, max_rating)\n",
    "        if ok:\n",
    "            print_movie(movie)\n",
    "            break"
   ]
  },
  {
   "cell_type": "markdown",
   "metadata": {
    "slideshow": {
     "slide_type": "slide"
    }
   },
   "source": [
    "**Top-down programming**"
   ]
  },
  {
   "cell_type": "code",
   "execution_count": null,
   "metadata": {
    "slideshow": {
     "slide_type": "-"
    }
   },
   "outputs": [],
   "source": [
    "def pick_movie(year=None, genre=None, min_rating=None, max_rating=None):\n",
    "    for line in read_imdb():\n",
    "        if line.startswith('#'):\n",
    "            continue\n",
    "        movie = interpret_line(line)\n",
    "        ok = movie_is_ok(movie, year, genre, min_rating, max_rating)\n",
    "        if ok:\n",
    "            print_movie(movie)\n",
    "            break\n",
    "\n",
    "def interpret_line(line):\n",
    "    pass\n",
    "    \n",
    "def movie_is_ok(movie):\n",
    "    pass\n",
    "\n",
    "def print_movie(movie):\n",
    "    pass\n",
    "\n",
    "def read_imdb():\n",
    "    pass"
   ]
  },
  {
   "cell_type": "markdown",
   "metadata": {
    "slideshow": {
     "slide_type": "slide"
    }
   },
   "source": [
    "**`movie_is_ok(movie, year, genre, min_rating, max_rating)`**\n",
    "\n",
    "- check if each criteriton is ok!"
   ]
  },
  {
   "cell_type": "markdown",
   "metadata": {
    "slideshow": {
     "slide_type": "fragment"
    }
   },
   "source": [
    "- we haven't decided how the `movie` is constructed yet... let's assume it's a dictionary!\n"
   ]
  },
  {
   "cell_type": "markdown",
   "metadata": {
    "slideshow": {
     "slide_type": "fragment"
    }
   },
   "source": [
    "```py\n",
    "{\"title\": \"The Lord of the Rings\", \"genre\": [\"Drama\", \"Fantasy\"]...}```"
   ]
  },
  {
   "cell_type": "markdown",
   "metadata": {
    "slideshow": {
     "slide_type": "fragment"
    }
   },
   "source": [
    "- the movie year is ok if it matches the year given by the user:"
   ]
  },
  {
   "cell_type": "code",
   "execution_count": null,
   "metadata": {
    "slideshow": {
     "slide_type": "fragment"
    }
   },
   "outputs": [],
   "source": [
    "def movie_is_ok(movie, year, genre, min_rating, max_rating):\n",
    "    ok_year = movie['year'] == year\n"
   ]
  },
  {
   "cell_type": "markdown",
   "metadata": {
    "slideshow": {
     "slide_type": "fragment"
    }
   },
   "source": [
    "- ...or if the user didn't specify any year. In that case, `year` is `None`."
   ]
  },
  {
   "cell_type": "code",
   "execution_count": null,
   "metadata": {
    "slideshow": {
     "slide_type": "fragment"
    }
   },
   "outputs": [],
   "source": [
    "def movie_is_ok(movie, year, genre, min_rating, max_rating):\n",
    "    ok_year = not year or movie['year'] == year"
   ]
  },
  {
   "cell_type": "markdown",
   "metadata": {
    "slideshow": {
     "slide_type": "slide"
    }
   },
   "source": [
    "- Keep testing!"
   ]
  },
  {
   "cell_type": "code",
   "execution_count": null,
   "metadata": {
    "slideshow": {
     "slide_type": "-"
    }
   },
   "outputs": [],
   "source": [
    "def movie_is_ok(movie, year, genre, min_rating, max_rating):\n",
    "    ok_year = not year or movie['year'] == year \n",
    "    ok_genre = not genre or genre in movie['genres']  # there can be many genres\n",
    "    ok_min = not min_rating or min_rating <= movie['rating']\n",
    "    ok_max = not max_rating or max_rating >= movie['rating']"
   ]
  },
  {
   "cell_type": "markdown",
   "metadata": {
    "slideshow": {
     "slide_type": "slide"
    }
   },
   "source": [
    "- Return the result of the comparisions"
   ]
  },
  {
   "cell_type": "code",
   "execution_count": null,
   "metadata": {
    "slideshow": {
     "slide_type": "-"
    }
   },
   "outputs": [],
   "source": [
    "def movie_is_ok(movie, year, genre, min_rating, max_rating):\n",
    "    ok_year = not year or movie['year'] == year \n",
    "    ok_genre = not genre or genre in movie['genres']  # there can be many genres\n",
    "    ok_min = not min_rating or min_rating <= movie['rating']\n",
    "    ok_max = not max_rating or max_rating >= movie['rating']\n",
    "    if ok_year and ok_genre or ok_min and ok_max:\n",
    "        return True\n",
    "    return False"
   ]
  },
  {
   "cell_type": "markdown",
   "metadata": {
    "slideshow": {
     "slide_type": "fragment"
    }
   },
   "source": [
    "- and... simplify!"
   ]
  },
  {
   "cell_type": "code",
   "execution_count": null,
   "metadata": {
    "slideshow": {
     "slide_type": "-"
    }
   },
   "outputs": [],
   "source": [
    "def movie_is_ok(movie, year, genre, min_rating, max_rating):\n",
    "    ok_year = not movie or movie['year'] == year \n",
    "    ok_genre = not genre or genre in movie['genres']  # there can be many genres\n",
    "    ok_min = not min_rating or min_rating <= movie['rating']\n",
    "    ok_max = not max_rating or max_rating >= movie['rating']\n",
    "    return ok_year and ok_genre and ok_min and ok_max"
   ]
  },
  {
   "cell_type": "code",
   "execution_count": null,
   "metadata": {
    "slideshow": {
     "slide_type": "slide"
    }
   },
   "outputs": [],
   "source": [
    "def pick_movie(year=None, genre=None, min_rating=None, max_rating=None):\n",
    "    for line in read_imdb():\n",
    "        if line.startswith('#'):\n",
    "            continue\n",
    "        movie = iterpret_line(line)\n",
    "        ok = movie_is_ok(movie, year, genre, min_rating, max_rating)\n",
    "        if ok:\n",
    "            print_movie(movie)\n",
    "            break\n",
    "\n",
    "            \n",
    "def iterpret_line(line):\n",
    "    pass\n",
    "\n",
    "\n",
    "def movie_is_ok(movie, year, genre, min_rating, max_rating):\n",
    "    ok_year = movie['year'] == year \n",
    "    ok_genre = not genre or genre in movie['genres']  # there can be many genres\n",
    "    ok_min = not min_rating or min_rating <= movie['rating']\n",
    "    ok_max = not max_rating or max_rating >= movie['rating']\n",
    "    return ok_year and ok_genre and ok_min and ok_max\n",
    "\n",
    "\n",
    "def print_movie(movie):\n",
    "    pass\n",
    "\n",
    "def read_imdb():\n",
    "    pass"
   ]
  },
  {
   "cell_type": "markdown",
   "metadata": {
    "slideshow": {
     "slide_type": "slide"
    }
   },
   "source": [
    "**`interpret_line(line)`**"
   ]
  },
  {
   "cell_type": "code",
   "execution_count": null,
   "metadata": {
    "slideshow": {
     "slide_type": "-"
    }
   },
   "outputs": [],
   "source": [
    "def interpret_line(line):\n",
    "    # input: a string of imdb data\n",
    "    # output: a dictionary\n",
    "    pass"
   ]
  },
  {
   "cell_type": "markdown",
   "metadata": {
    "slideshow": {
     "slide_type": "fragment"
    }
   },
   "source": [
    "- Let's do the standard parsing"
   ]
  },
  {
   "cell_type": "code",
   "execution_count": null,
   "metadata": {
    "slideshow": {
     "slide_type": "-"
    }
   },
   "outputs": [],
   "source": [
    "def interpret_line(line):\n",
    "    # input: a string of imdb data\n",
    "    # output: a dictionary\n",
    "    rating = float(fields[1].strip())\n",
    "    title = fields[-1].strip()\n",
    "    year = fields[2].strip()\n",
    "    genres = fields[-2].strip().split(',')\n",
    "    return a_dictionary  # TODO"
   ]
  },
  {
   "cell_type": "code",
   "execution_count": null,
   "metadata": {
    "slideshow": {
     "slide_type": "slide"
    }
   },
   "outputs": [],
   "source": [
    "def interpret_line(line):\n",
    "    fields = line.split('|')\n",
    "    # Remeber to type cast to float\n",
    "    rating = float(fields[1].strip())\n",
    "    title = fields[-1].strip()\n",
    "    year = fields[2].strip()\n",
    "    genres = fields[-2].strip().split(',')\n",
    "    return {'rating': rating, 'title': title, 'year': year, 'genres': genres}"
   ]
  },
  {
   "cell_type": "code",
   "execution_count": null,
   "metadata": {
    "slideshow": {
     "slide_type": "slide"
    }
   },
   "outputs": [],
   "source": [
    "def pick_movie(year=None, genre=None, min_rating=None, max_rating=None):\n",
    "    for line in read_imdb():\n",
    "        if line.startswith('#'):\n",
    "            continue\n",
    "        movie = interpret_line(line)\n",
    "        ok = movie_is_ok(movie, year, genre, min_rating, max_rating)\n",
    "        if ok:\n",
    "            print_movie(movie)\n",
    "            break\n",
    "\n",
    "            \n",
    "def interpret_line(line):\n",
    "    fields = line.split('|')\n",
    "    # Remeber to type cast to float\n",
    "    rating = float(fields[1].strip())\n",
    "    title = fields[-1].strip()\n",
    "    year = fields[2].strip()\n",
    "    genres = fields[-2].strip().split(',')\n",
    "    return {'rating': rating, 'title': title, 'year': year, 'genres': genres}\n",
    "\n",
    "\n",
    "def movie_is_ok(movie, year, genre, min_rating, max_rating):\n",
    "    ok_year = not year or movie['year'] == year \n",
    "    ok_genre = not genre or genre in movie['genres']  # there can be many genres\n",
    "    ok_min = not min_rating or min_rating <= movie['rating']\n",
    "    ok_max = not max_rating or max_rating >= movie['rating']\n",
    "    return ok_year and ok_genre and ok_min and ok_max\n",
    "\n",
    "\n",
    "def print_movie(movie):\n",
    "    pass\n",
    "\n",
    "def read_imdb():\n",
    "    pass"
   ]
  },
  {
   "cell_type": "markdown",
   "metadata": {
    "slideshow": {
     "slide_type": "slide"
    }
   },
   "source": [
    "**print_movie(movie)**\n",
    "\n",
    "- Should print the movie title"
   ]
  },
  {
   "cell_type": "code",
   "execution_count": null,
   "metadata": {},
   "outputs": [],
   "source": [
    "def print_movie(movie):\n",
    "    pass"
   ]
  },
  {
   "cell_type": "code",
   "execution_count": null,
   "metadata": {
    "slideshow": {
     "slide_type": "fragment"
    }
   },
   "outputs": [],
   "source": [
    "def print_movie(movie):\n",
    "    print(movie['title'])"
   ]
  },
  {
   "cell_type": "code",
   "execution_count": null,
   "metadata": {
    "slideshow": {
     "slide_type": "slide"
    }
   },
   "outputs": [],
   "source": [
    "def pick_movie(year=None, genre=None, min_rating=None, max_rating=None):\n",
    "    for line in read_imdb(imdb):\n",
    "        if line.startswith('#'):\n",
    "            continue\n",
    "        movie = interpret_line(line)\n",
    "        ok = movie_is_ok(movie, year, genre, min_rating, max_rating)\n",
    "        if ok:\n",
    "            print_movie(movie)\n",
    "            break\n",
    "\n",
    "            \n",
    "def interpret_line(line):\n",
    "    fields = line.split('|')\n",
    "    # Remeber to type cast to float\n",
    "    rating = float(fields[1].strip())\n",
    "    title = fields[-1].strip()\n",
    "    year = fields[2].strip()\n",
    "    genres = fields[-2].strip().split(',')\n",
    "    return {'rating': rating, 'title': title, 'year': year, 'genres': genres}\n",
    "\n",
    "\n",
    "def movie_is_ok(movie, year, genre, min_rating, max_rating):\n",
    "    ok_year = not year or movie['year'] == year \n",
    "    ok_genre = not genre or genre in movie['genres']  # there can be many genres\n",
    "    ok_min = not min_rating or min_rating <= movie['rating']\n",
    "    ok_max = not max_rating or max_rating >= movie['rating']\n",
    "    return ok_year and ok_genre and ok_min and ok_max\n",
    "\n",
    "\n",
    "def print_movie(movie):\n",
    "    print(movie['title'])\n",
    "    \n",
    "    \n",
    "def read_imdb():\n",
    "    pass"
   ]
  },
  {
   "cell_type": "code",
   "execution_count": null,
   "metadata": {
    "slideshow": {
     "slide_type": "slide"
    }
   },
   "outputs": [],
   "source": [
    "def pick_movie(year=None, genre=None, min_rating=None, max_rating=None):\n",
    "    for line in read_imdb():\n",
    "        if line.startswith('#'):\n",
    "            continue\n",
    "        movie = interpret_line(line)\n",
    "        ok = movie_is_ok(movie, year, genre, min_rating, max_rating)\n",
    "        if ok:\n",
    "            print_movie(movie)\n",
    "            break\n",
    "\n",
    "            \n",
    "def interpret_line(line):\n",
    "    fields = line.split('|')\n",
    "    # Remeber to type cast to float\n",
    "    rating = float(fields[1].strip())\n",
    "    title = fields[-1].strip()\n",
    "    year = fields[2].strip()\n",
    "    genres = fields[-2].strip().split(',')\n",
    "    return {'rating': rating, 'title': title, 'year': year, 'genres': genres}\n",
    "\n",
    "\n",
    "def movie_is_ok(movie, year, genre, min_rating, max_rating):\n",
    "    ok_year = not year or movie['year'] == year \n",
    "    ok_genre = not genre or genre in movie['genres']  # there can be many genres\n",
    "    ok_min = not min_rating or min_rating <= movie['rating']\n",
    "    ok_max = not max_rating or max_rating >= movie['rating']\n",
    "    return ok_year and ok_genre and ok_min and ok_max\n",
    "\n",
    "\n",
    "def print_movie(movie):\n",
    "    print(movie['title'])\n",
    "    \n",
    "\n",
    "def read_imdb():\n",
    "    return open('../downloads/250.imdb', 'r')"
   ]
  },
  {
   "cell_type": "code",
   "execution_count": null,
   "metadata": {
    "slideshow": {
     "slide_type": "slide"
    }
   },
   "outputs": [],
   "source": [
    "def pick_movie(year=None, genre=None, min_rating=None, max_rating=None):\n",
    "    for line in read_imdb():\n",
    "        if line.startswith('#'):\n",
    "            continue\n",
    "        movie = intepret_line(line)\n",
    "        ok = movie_is_ok(movie, year, genre, min_rating, max_rating)\n",
    "        if ok:\n",
    "            print_movie(movie)\n",
    "            break\n",
    "\n",
    "            \n",
    "def intepret_line(line):\n",
    "    fields = line.split('|')\n",
    "    # Remeber to type cast to float\n",
    "    rating = float(fields[1].strip())\n",
    "    title = fields[-1].strip()\n",
    "    year = fields[2].strip()\n",
    "    genres = fields[-2].strip().split(',')\n",
    "    return {'rating': rating, 'title': title, 'year': year, 'genres': genres}\n",
    "\n",
    "\n",
    "def movie_is_ok(movie, year, genre, min_rating, max_rating):\n",
    "    ok_year = not movie or movie['year'] == year \n",
    "    ok_genre = not genre or  genre in movie['genres']  # there can be many genres\n",
    "    ok_min = not min_rating or min_rating <= movie['rating']\n",
    "    ok_max = not max_rating or max_rating >= movie['rating']\n",
    "    return ok_year and ok_genre and ok_min and ok_max\n",
    "\n",
    "\n",
    "def print_movie(movie):\n",
    "    print(movie['title'])\n",
    "    \n",
    "\n",
    "def read_imdb():\n",
    "    return open('../../downloads/250.imdb', 'r')\n",
    "\n",
    "pick_movie('2006', genre='Mystery', min_rating=8.5)"
   ]
  },
  {
   "cell_type": "code",
   "execution_count": null,
   "metadata": {
    "slideshow": {
     "slide_type": "slide"
    }
   },
   "outputs": [],
   "source": [
    "pick_movie('2010', genre='Family', min_rating=8)"
   ]
  },
  {
   "cell_type": "code",
   "execution_count": null,
   "metadata": {
    "slideshow": {
     "slide_type": "-"
    }
   },
   "outputs": [],
   "source": [
    "pick_movie('1984', genre='Action', max_rating=8)"
   ]
  },
  {
   "cell_type": "code",
   "execution_count": null,
   "metadata": {
    "slideshow": {
     "slide_type": "-"
    }
   },
   "outputs": [],
   "source": [
    "pick_movie(genre='Drama', min_rating=9.3)"
   ]
  }
 ],
 "metadata": {
  "celltoolbar": "Slideshow",
  "kernelspec": {
   "display_name": "Python 3",
   "language": "python",
   "name": "python3"
  },
  "language_info": {
   "codemirror_mode": {
    "name": "ipython",
    "version": 3
   },
   "file_extension": ".py",
   "mimetype": "text/x-python",
   "name": "python",
   "nbconvert_exporter": "python",
   "pygments_lexer": "ipython3",
   "version": "3.6.5"
  }
 },
 "nbformat": 4,
 "nbformat_minor": 2
}
