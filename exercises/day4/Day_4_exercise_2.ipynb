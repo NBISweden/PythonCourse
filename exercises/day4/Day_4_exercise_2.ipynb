{
 "cells": [
  {
   "cell_type": "markdown",
   "metadata": {},
   "source": [
    "## Exercise 2"
   ]
  },
  {
   "cell_type": "markdown",
   "metadata": {},
   "source": [
    "**a)** Scan all modules in the [Python module index](https://docs.python.org/3.6/tutorial/modules.html)."
   ]
  },
  {
   "cell_type": "markdown",
   "metadata": {},
   "source": [
    "**b)** The `math` module provides mathematical functions like sine and cosine, logarithms...\n",
    "\n",
    "Use the module to write a function that solves the following problem:"
   ]
  },
  {
   "cell_type": "markdown",
   "metadata": {},
   "source": [
    "- Given 2 points on a flat surface, with coordinates `(x1,y1)` and `(x2,y2)`, define a function that calculates the distance between the two points."
   ]
  },
  {
   "cell_type": "markdown",
   "metadata": {},
   "source": [
    "Not a mathematician? Search the web for the formula to use."
   ]
  },
  {
   "cell_type": "markdown",
   "metadata": {},
   "source": [
    "**c)** Import the module `datetime`, a module that provides functionality for working with dates. Use it to calculate your age in days, hours and seconds repsectively.\n",
    "\n",
    "Write a function that accepts a birth date of a person:\n",
    "\n",
    "`> calculate_age(1999, 1, 2, hour=12, minute=2, second=33)`\n",
    "\n",
    "Year, month and date is required, the other values are optional. The default values of hour, minute and second should be 0.\n",
    "\n",
    "The function should print the following:\n",
    "\n",
    "- How many days is the person?\n",
    "- How many hours is the person?\n",
    "- How many seconds is the person?\n",
    "\n",
    "\n",
    "Hints:\n",
    "- The module contains some different classes and methods. Use the `datetime Object` to solve the exercise.\n",
    "\n",
    "- Find out how to make a `datetime` object representing the current time.\n",
    "\n",
    "- Find out how to make a `datetime` object representing a given date and time (the birth date). \n",
    "\n",
    "- Look at the supported operations for this type.\n",
    "\n",
    "- You will get difference represented as an object. Find out what type this object is, and then how it can be used."
   ]
  },
  {
   "cell_type": "markdown",
   "metadata": {},
   "source": [
    "**d)** Test your functions by giving it different input and make sure that they give the expected output."
   ]
  }
 ],
 "metadata": {
  "kernelspec": {
   "display_name": "Python 3",
   "language": "python",
   "name": "python3"
  },
  "language_info": {
   "codemirror_mode": {
    "name": "ipython",
    "version": 3
   },
   "file_extension": ".py",
   "mimetype": "text/x-python",
   "name": "python",
   "nbconvert_exporter": "python",
   "pygments_lexer": "ipython3",
   "version": "3.6.5"
  }
 },
 "nbformat": 4,
 "nbformat_minor": 2
}
