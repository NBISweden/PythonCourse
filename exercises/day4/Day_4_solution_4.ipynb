{
 "cells": [
  {
   "cell_type": "markdown",
   "metadata": {},
   "source": [
    "**Proposed solution for a) and b)**"
   ]
  },
  {
   "cell_type": "markdown",
   "metadata": {},
   "source": [
    "First, we do all imports and set the coordinates of the 'center'"
   ]
  },
  {
   "cell_type": "code",
   "execution_count": null,
   "metadata": {},
   "outputs": [],
   "source": [
    "from db import HomeDB\n",
    "from db import haversine as get_distance\n",
    "from db import plot\n",
    "\n",
    "lat = 59.865795990339876\n",
    "lng = 17.64583576202392\n",
    "radius = 2000  # in m\n",
    "\n",
    "\n",
    "db = HomeDB('../../files/uppsala.sqlite')"
   ]
  },
  {
   "cell_type": "markdown",
   "metadata": {},
   "source": [
    "We define a help function that gets all houses that are central and returns them sorted by price:"
   ]
  },
  {
   "cell_type": "code",
   "execution_count": null,
   "metadata": {},
   "outputs": [],
   "source": [
    "def cheap_central():\n",
    "    \"\"\" Find the within 2000m from the center and sort by increasing price \"\"\"\n",
    "    db.connect()\n",
    "    homes = db.select()\n",
    "    db.disconnect()\n",
    "    # solution without lambda?\n",
    "    homes.sort(key=lambda x: x.get_price())\n",
    "    return [home for home in homes if get_distance(*home.get_location(), lat, lng) <= 2000]"
   ]
  },
  {
   "cell_type": "markdown",
   "metadata": {},
   "source": [
    "For a), we just print the first item of the list"
   ]
  },
  {
   "cell_type": "code",
   "execution_count": null,
   "metadata": {},
   "outputs": [],
   "source": [
    "def part_a():\n",
    "    print('Cheapest house: ' + str(cheap_central()[0].get_price()))"
   ]
  },
  {
   "cell_type": "markdown",
   "metadata": {},
   "source": [
    "For b), we select the 100 first items and plot them. `outfile` is the name of the resulting html file."
   ]
  },
  {
   "cell_type": "code",
   "execution_count": null,
   "metadata": {},
   "outputs": [],
   "source": [
    "def part_b(outfile):\n",
    "    num = 100\n",
    "    central = cheap_central()\n",
    "    pos = set()\n",
    "    for home in central[:num]:\n",
    "        pos.add(home.get_location())\n",
    "    plot(central[:num],\n",
    "         output=outfile,\n",
    "         special=central[0],\n",
    "         zoom=14,\n",
    "         latitude=lat,\n",
    "         longitude=lng,\n",
    "         radius=radius,\n",
    "         google_key='key'\n",
    "    )"
   ]
  },
  {
   "cell_type": "markdown",
   "metadata": {},
   "source": [
    "**Proposed solution for c) and d)**"
   ]
  },
  {
   "cell_type": "markdown",
   "metadata": {},
   "source": [
    "We define another help function to find the most expensive houses."
   ]
  },
  {
   "cell_type": "code",
   "execution_count": null,
   "metadata": {},
   "outputs": [],
   "source": [
    "def expensive():\n",
    "    \"\"\" Sort houses by price per square meter \"\"\"\n",
    "    db.connect()\n",
    "    homes = db.select()\n",
    "    db.disconnect()\n",
    "    homes = [home for home in homes if home.get_area() > 0]\n",
    "    homes.sort(key=lambda x: x.get_price()/(x.get_area()), reverse=True)\n",
    "    return homes"
   ]
  },
  {
   "cell_type": "markdown",
   "metadata": {},
   "source": [
    "For c), we get the first item and print it."
   ]
  },
  {
   "cell_type": "code",
   "execution_count": null,
   "metadata": {},
   "outputs": [],
   "source": [
    "def part_c():\n",
    "    house = expensive()[0]\n",
    "    print('Most expensive:', house.get_price(), house.get_area())"
   ]
  },
  {
   "cell_type": "markdown",
   "metadata": {},
   "source": [
    "For d), we plot it. Again, `outfile` is the name of the resulting html file."
   ]
  },
  {
   "cell_type": "code",
   "execution_count": null,
   "metadata": {},
   "outputs": [],
   "source": [
    "def part_d(outfile):\n",
    "    house = expensive()[0]\n",
    "    plot([house],\n",
    "         output=outfile,\n",
    "         special=house,\n",
    "         zoom=13,  # We zoom out a bit since the most expensive house may not be central\n",
    "         latitude=lat,\n",
    "         longitude=lng,\n",
    "         radius=radius,\n",
    "         google_key='key'\n",
    "    )"
   ]
  },
  {
   "cell_type": "markdown",
   "metadata": {},
   "source": [
    "Optionally, add a main function to print all answers."
   ]
  },
  {
   "cell_type": "code",
   "execution_count": null,
   "metadata": {},
   "outputs": [],
   "source": [
    "if __name__ == \"__main__\":\n",
    "    print('Part a:')\n",
    "    part_a()\n",
    "    print()\n",
    "    part_b('selection_b.html')\n",
    "    print('Part b:', 'selection_b.html')\n",
    "    print()\n",
    "    print('Part c:')\n",
    "    part_c()\n",
    "    print()\n",
    "    part_d('selection_d.html')\n",
    "    print('Part d:', 'selection_d.html')"
   ]
  }
 ],
 "metadata": {
  "kernelspec": {
   "display_name": "Python 3",
   "language": "python",
   "name": "python3"
  },
  "language_info": {
   "codemirror_mode": {
    "name": "ipython",
    "version": 3
   },
   "file_extension": ".py",
   "mimetype": "text/x-python",
   "name": "python",
   "nbconvert_exporter": "python",
   "pygments_lexer": "ipython3",
   "version": "3.6.5"
  }
 },
 "nbformat": 4,
 "nbformat_minor": 2
}
