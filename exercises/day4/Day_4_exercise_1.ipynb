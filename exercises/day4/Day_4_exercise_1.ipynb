{
 "cells": [
  {
   "cell_type": "markdown",
   "metadata": {},
   "source": [
    "## Exercise 1"
   ]
  },
  {
   "cell_type": "markdown",
   "metadata": {},
   "source": [
    "### IMDB movie picker"
   ]
  },
  {
   "cell_type": "markdown",
   "metadata": {},
   "source": [
    "In this exercise we will go back to the IMDB data. Feel free to reuse parts of your code from previous days!"
   ]
  },
  {
   "cell_type": "markdown",
   "metadata": {},
   "source": [
    "**a)**\n",
    "\n",
    "Create a movie picker function. The function will pick the first movie that fits the user's requirements\n",
    "and print it's title:\n",
    "\n",
    "`>>> pick_movie(genre=\"Drama\")`\n",
    "\n",
    "`The Paths of Glory`\n",
    "\n",
    "`>>> pick_movie(year=\"2001\")`\n",
    "\n",
    "`Donnie Darko`\n",
    "\n",
    "`>>> pick_movie(rating_min=8)`\n",
    "\n",
    "`Paths of Glory`\n",
    "\n",
    "The user can choose to pick a movie based on year, genre, minimal or maximal rating.\n",
    "\n",
    "**b)**\n",
    "\n",
    "Allow the user to combine the requirments:\n",
    "\n",
    "`>>> pick_movie(year=\"2009\", genre=\"Mystery\")`\n",
    "\n",
    "`The Secret in Their Eyes`\n",
    "\n"
   ]
  },
  {
   "cell_type": "markdown",
   "metadata": {},
   "source": [
    "Tip: use keyword arguments and control statements."
   ]
  },
  {
   "cell_type": "markdown",
   "metadata": {},
   "source": [
    "### Hints:\n",
    "    \n",
    "**a)**\n",
    "Reuse parts of your old code to create a loop that goes through the imdb file and parses each row.\n",
    "\n",
    "In order to compare the ratings, the type of that value most be a `float`.\n",
    "\n",
    "Your function must allow keyword arguments. Think about what default values should be.\n",
    "\n",
    "For each criteria (year, genre, min/max rating), check if it is active (the user has given a value).\n",
    "\n",
    "If active, check if the given value matches the current movie.\n",
    "\n",
    "If so, you're done! Make sure the loop doesn't continue."
   ]
  },
  {
   "cell_type": "markdown",
   "metadata": {},
   "source": [
    "**b)**\n",
    "Again, you have to check all criteria for each movie. But this time, you are more interested in failures;\n",
    "if a criterion fails, you can discard the movie and go on to the next loop iteration.\n",
    "\n",
    "If no criterion fails, the movie matches the user's selection and can be printed."
   ]
  }
 ],
 "metadata": {
  "kernelspec": {
   "display_name": "Python 3",
   "language": "python",
   "name": "python3"
  },
  "language_info": {
   "codemirror_mode": {
    "name": "ipython",
    "version": 3
   },
   "file_extension": ".py",
   "mimetype": "text/x-python",
   "name": "python",
   "nbconvert_exporter": "python",
   "pygments_lexer": "ipython3",
   "version": "3.6.5"
  }
 },
 "nbformat": 4,
 "nbformat_minor": 2
}
