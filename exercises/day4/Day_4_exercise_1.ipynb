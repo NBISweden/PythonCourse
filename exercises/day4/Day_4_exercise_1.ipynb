{
 "cells": [
  {
   "cell_type": "markdown",
   "metadata": {},
   "source": [
    "## Exercise 1"
   ]
  },
  {
   "cell_type": "markdown",
   "metadata": {},
   "source": [
    "### IMDB movie picker"
   ]
  },
  {
   "cell_type": "markdown",
   "metadata": {},
   "source": [
    "In this exercise we will go back to the IMDB data. Feel free to reuse parts of your code from previous days!"
   ]
  },
  {
   "cell_type": "markdown",
   "metadata": {},
   "source": [
    "Create a movie picker function. The function will pick the first movie that fits the user's requirements:\n",
    "\n",
    "`>>> pick_movie(genre=\"Drama\")`\n",
    "\n",
    "`The Gold Rush`\n",
    "\n",
    "`>>> pick_movie(year=2001)`\n",
    "\n",
    "`Donnie Darko`\n",
    "\n",
    "`>>> pick_movie(rating_min=8)`\n",
    "\n",
    "`Paths of Glory`\n",
    "\n",
    "The user can choose to pick a movie based on year, genre, minimal or maximal rating.\n",
    "\n",
    "The user can also combine the requirments:\n",
    "\n",
    "`>>> pick_movie(year=200, genre=\"Mystery\")`\n",
    "\n",
    "`The Secret in Their Eyes`\n",
    "\n"
   ]
  },
  {
   "cell_type": "markdown",
   "metadata": {},
   "source": [
    "Tip: use keyword arguments and control statements."
   ]
  }
 ],
 "metadata": {
  "kernelspec": {
   "display_name": "Python 3",
   "language": "python",
   "name": "python3"
  },
  "language_info": {
   "codemirror_mode": {
    "name": "ipython",
    "version": 3
   },
   "file_extension": ".py",
   "mimetype": "text/x-python",
   "name": "python",
   "nbconvert_exporter": "python",
   "pygments_lexer": "ipython3",
   "version": "3.6.5"
  }
 },
 "nbformat": 4,
 "nbformat_minor": 2
}
