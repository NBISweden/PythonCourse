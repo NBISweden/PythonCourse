{
 "cells": [
  {
   "cell_type": "markdown",
   "metadata": {},
   "source": [
    "## Exercise 1"
   ]
  },
  {
   "cell_type": "markdown",
   "metadata": {},
   "source": [
    "### IMDB movie picker"
   ]
  },
  {
   "cell_type": "markdown",
   "metadata": {},
   "source": [
    "In this exercise we will go back to the IMDB data. Feel free to reuse parts of your code from previous days!"
   ]
  },
  {
   "cell_type": "markdown",
   "metadata": {},
   "source": [
    "Your solution should make use of both keyword arguments and control statements (`break`, `continue`)."
   ]
  },
  {
   "cell_type": "markdown",
   "metadata": {},
   "source": [
    "**a) Using `break`**\n",
    "\n",
    "Create a movie picker function. The function will pick the first movie that fits the user's requirements\n",
    "and print it's title. The user can choose to pick a movie based on the four requirements `year`, `genre`, `minimal rating` or `maximal rating`.\n",
    "\n",
    "`>>> pick_movie(genre=\"Drama\")`\n",
    "\n",
    "`The Paths of Glory`\n",
    "\n",
    "`>>> pick_movie(year=\"2001\")`\n",
    "\n",
    "`Donnie Darko`\n",
    "\n",
    "`>>> pick_movie(rating_min=8)`\n",
    "\n",
    "`Paths of Glory`\n",
    "\n",
    "\n",
    "**b) Using `continue`**\n",
    "\n",
    "Allow the user to combine the requirments:\n",
    "\n",
    "`>>> pick_movie(year=\"2009\", genre=\"Mystery\")`\n",
    "\n",
    "`The Secret in Their Eyes`"
   ]
  },
  {
   "cell_type": "markdown",
   "metadata": {},
   "source": [
    "### Hints:\n",
    "    \n",
    "**a)**\n",
    "Reuse parts of your old code to create a loop that goes through the imdb file and splits each row into values.\n",
    "\n",
    "In order to compare if the given rating is greater/smaller than the movie's, the type of that value most be a `float`, not `string`.\n",
    "\n",
    "Your function must allow keyword arguments. \n",
    "The function definition could look like this:\n",
    "\n",
    "`def pick_movie(year=None, genre=None, min_rating=None, max_rating=None):`\n",
    "\n",
    "For each criteria (year, genre, min/max rating),\n",
    "\n",
    "- check if it is active (the user has given a value)\n",
    "\n",
    "- if active, check if the given value matches the current movie\n",
    "\n",
    "- if so, you're done! Make sure the loop doesn't continue.\n"
   ]
  },
  {
   "cell_type": "markdown",
   "metadata": {},
   "source": [
    "**b)**\n",
    "Again, you have to check all criteria for each movie. But this time, you are more interested in failures;\n",
    "if a criterion fails, you can discard the movie and go on to the next loop iteration. A criterion fails if it is a) active and b) not matching.\n",
    "\n",
    "If no criterion fails, the movie matches the user's selection and can be printed."
   ]
  },
  {
   "cell_type": "markdown",
   "metadata": {},
   "source": [
    "----\n",
    "<br><br><br><br>\n",
    "<h2>Proposed solution</h2>"
   ]
  },
  {
   "cell_type": "markdown",
   "metadata": {
    "slideshow": {
     "slide_type": "fragment"
    }
   },
   "source": [
    "First, let's just save the path to our imdb file in a variable."
   ]
  },
  {
   "cell_type": "code",
   "execution_count": 1,
   "metadata": {},
   "outputs": [],
   "source": [
    "# Path to imdb file\n",
    "imdb = \"../../downloads/250.imdb\""
   ]
  },
  {
   "cell_type": "markdown",
   "metadata": {},
   "source": [
    "**Solution for a)**"
   ]
  },
  {
   "cell_type": "markdown",
   "metadata": {},
   "source": [
    "We start by giving the function definition and reading the lines of the file, as usual.\n",
    "```py\n",
    "def pick_movie_a(year=None, genre=None, rating_min=None, rating_max=None):\n",
    "    for line in open(imdb):\n",
    "        if line.startswith('#'):\n",
    "            continue\n",
    "```"
   ]
  },
  {
   "cell_type": "markdown",
   "metadata": {},
   "source": [
    "For each line, we must parse it (split into to meaningful units). Remember to type cast the rating to float, and to split the genre string into a list."
   ]
  },
  {
   "cell_type": "markdown",
   "metadata": {},
   "source": [
    "```py\n",
    "def pick_movie_a(year=None, genre=None, rating_min=None, rating_max=None):\n",
    "    for line in open(imdb):\n",
    "        if line.startswith('#'):\n",
    "            continue\n",
    "        fields = line.split('|')\n",
    "        # Remeber to type cast to float\n",
    "        rating = float(fields[1].strip())\n",
    "        title = fields[-1].strip()\n",
    "        m_year = fields[2].strip()\n",
    "        genres = fields[-2].strip().split(',')````"
   ]
  },
  {
   "cell_type": "markdown",
   "metadata": {},
   "source": [
    "Now the real work begins! For each criterion, we will:\n",
    "\n",
    "- check if it is active (the user has given a value)\n",
    "\n",
    "- if active, check if the given value matches the current movie\n",
    "\n",
    "- if so, you're done! Make sure the loop doesn't continue.\n",
    "\n",
    "Let's try it for the year. `year` is the user input, `m_year` is the movie's year.\n",
    "\n",
    "- check if it is active (the user has given a value)\n",
    "  ```py\n",
    "  if year:\n",
    "    # it's active!\n",
    "  ```\n",
    "\n",
    "- if active, check if the given value matches the current movie\n",
    "   ```py\n",
    "    if year:\n",
    "        # it's active\n",
    "        if year == m_year:\n",
    "            # it's a match!\n",
    "   ```\n",
    "   or\n",
    "   ```py\n",
    "   if year and year == m_year:\n",
    "       # it's active, and it's a match```\n",
    "\n",
    "- if so, you're done! Make sure the loop doesn't continue.\n",
    "  ```py\n",
    "   if year and year == m_year:\n",
    "       print(title)\n",
    "       break\n",
    "   ```\n"
   ]
  },
  {
   "cell_type": "markdown",
   "metadata": {},
   "source": [
    "The complete function:"
   ]
  },
  {
   "cell_type": "code",
   "execution_count": 2,
   "metadata": {},
   "outputs": [],
   "source": [
    "def pick_movie_a(year=None, genre=None, rating_min=None, rating_max=None):\n",
    "    for line in open(imdb):\n",
    "        if line.startswith('#'):\n",
    "            continue\n",
    "        fields = line.split('|')\n",
    "        # Remeber to type cast to float\n",
    "        rating = float(fields[1].strip())\n",
    "        title = fields[-1].strip()\n",
    "        m_year = fields[2].strip()\n",
    "        genres = fields[-2].strip().split(',')\n",
    "        # Go through criterias. If the movie mathces one active criterion, print\n",
    "        # it and break the loop\n",
    "        if year and m_year == year:\n",
    "            print(title)\n",
    "            break\n",
    "        if  genre and genre in genres:\n",
    "            print(title)\n",
    "            break\n",
    "        if rating_min and rating_min <= rating:\n",
    "            print(title)\n",
    "            break\n",
    "        if rating_max and rating_max >= rating:\n",
    "            print(title)\n",
    "            break\n"
   ]
  },
  {
   "cell_type": "markdown",
   "metadata": {},
   "source": [
    "Let's test it!"
   ]
  },
  {
   "cell_type": "code",
   "execution_count": 3,
   "metadata": {},
   "outputs": [
    {
     "name": "stdout",
     "output_type": "stream",
     "text": [
      "Paths of Glory\n"
     ]
    }
   ],
   "source": [
    "pick_movie_a(genre=\"Drama\")"
   ]
  },
  {
   "cell_type": "code",
   "execution_count": 4,
   "metadata": {},
   "outputs": [
    {
     "name": "stdout",
     "output_type": "stream",
     "text": [
      "Donnie Darko\n"
     ]
    }
   ],
   "source": [
    "pick_movie_a(year=\"2001\")"
   ]
  },
  {
   "cell_type": "code",
   "execution_count": 5,
   "metadata": {},
   "outputs": [
    {
     "name": "stdout",
     "output_type": "stream",
     "text": [
      "Groundhog Day\n"
     ]
    }
   ],
   "source": [
    "pick_movie_a(rating_max=8)"
   ]
  },
  {
   "cell_type": "markdown",
   "metadata": {},
   "source": [
    "#### Proposed solution for b)"
   ]
  },
  {
   "cell_type": "markdown",
   "metadata": {},
   "source": [
    "We start of just like last time:"
   ]
  },
  {
   "cell_type": "markdown",
   "metadata": {},
   "source": [
    "```py\n",
    "def pick_movie_b(year=None, genre=None, rating_min=None, rating_max=None):\n",
    "    for line in open(imdb):\n",
    "        if line.startswith('#'):\n",
    "            continue\n",
    "        fields = line.split('|')\n",
    "        # Remeber to type cast to float\n",
    "        rating = float(fields[1].strip())\n",
    "        title = fields[-1].strip()\n",
    "        m_year = fields[2].strip()\n",
    "        genres = fields[-2].strip().split(',')````"
   ]
  },
  {
   "cell_type": "markdown",
   "metadata": {},
   "source": [
    "Now, if a criterion fails, we can discard the movie and go on to the next loop iteration. . A criterion fails if it is a) active and b) not matching."
   ]
  },
  {
   "cell_type": "markdown",
   "metadata": {},
   "source": [
    "Let's try it for the year. year is the user input, m_year is the movie's year.\n",
    "\n",
    "```py\n",
    "if year:\n",
    "    # it is active!\n",
    "    if year and m_year:\n",
    "        # it's not matching\n",
    "```\n",
    "or, shorter:\n",
    "```py\n",
    "if year and m_year != year:\n",
    "    # it's active but not matching\n",
    "```"
   ]
  },
  {
   "cell_type": "markdown",
   "metadata": {},
   "source": [
    "In this case (a criterion as active but not matching, we will discard the movie and go on to the next iteration. We use `continue` for this!\n",
    "\n",
    "```py\n",
    "if year and m_year != year:\n",
    "    # it's active but not mathing\n",
    "    continue\n",
    "    ```"
   ]
  },
  {
   "cell_type": "markdown",
   "metadata": {},
   "source": [
    "We do this for all criteria, and if none of them fail, we have a matching movie. Print it and break the loop!"
   ]
  },
  {
   "cell_type": "code",
   "execution_count": 6,
   "metadata": {},
   "outputs": [],
   "source": [
    "def pick_movie_b(year=None, genre=None, rating_min=None, rating_max=None):\n",
    "    for line in open(imdb):\n",
    "        if line.startswith('#'):\n",
    "            continue\n",
    "        fields = line.split('|')\n",
    "        # Remeber to type cast to float\n",
    "        rating = float(fields[1].strip())\n",
    "        title = fields[-1].strip()\n",
    "        m_year = fields[2].strip()\n",
    "        genres = fields[-2].strip().split(',')\n",
    "        # Go through criterias and reject the movie if it doesn't fit\n",
    "        if year and m_year != year:\n",
    "            continue\n",
    "        if genre and genre not in genres:\n",
    "            continue\n",
    "        if rating_min and rating_min > rating:\n",
    "            continue\n",
    "        if rating_max and rating_max < rating:\n",
    "            continue\n",
    "        # All criterias ok, print the movie and break the loop\n",
    "        print(title)\n",
    "        break\n"
   ]
  },
  {
   "cell_type": "markdown",
   "metadata": {},
   "source": [
    "Let's test it!"
   ]
  },
  {
   "cell_type": "code",
   "execution_count": 7,
   "metadata": {},
   "outputs": [
    {
     "name": "stdout",
     "output_type": "stream",
     "text": [
      "The Secret in Their Eyes\n"
     ]
    }
   ],
   "source": [
    "pick_movie_b(year=\"2009\", genre=\"Mystery\")"
   ]
  },
  {
   "cell_type": "code",
   "execution_count": 10,
   "metadata": {},
   "outputs": [
    {
     "name": "stdout",
     "output_type": "stream",
     "text": [
      "Lock, Stock and Two Smoking Barrels\n"
     ]
    }
   ],
   "source": [
    "pick_movie_b(genre=\"Comedy\", year=\"1998\")"
   ]
  },
  {
   "cell_type": "code",
   "execution_count": 8,
   "metadata": {},
   "outputs": [
    {
     "name": "stdout",
     "output_type": "stream",
     "text": [
      "Paths of Glory\n"
     ]
    }
   ],
   "source": [
    "pick_movie_b(genre=\"Drama\")"
   ]
  },
  {
   "cell_type": "code",
   "execution_count": 21,
   "metadata": {},
   "outputs": [
    {
     "name": "stdout",
     "output_type": "stream",
     "text": [
      "Donnie Darko\n"
     ]
    }
   ],
   "source": [
    "pick_movie_b(year=\"2001\")"
   ]
  }
 ],
 "metadata": {
  "kernelspec": {
   "display_name": "Python 3",
   "language": "python",
   "name": "python3"
  },
  "language_info": {
   "codemirror_mode": {
    "name": "ipython",
    "version": 3
   },
   "file_extension": ".py",
   "mimetype": "text/x-python",
   "name": "python",
   "nbconvert_exporter": "python",
   "pygments_lexer": "ipython3",
   "version": "3.6.5"
  }
 },
 "nbformat": 4,
 "nbformat_minor": 2
}
