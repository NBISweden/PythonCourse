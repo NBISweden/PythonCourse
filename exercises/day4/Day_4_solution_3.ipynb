{
 "cells": [
  {
   "cell_type": "markdown",
   "metadata": {},
   "source": [
    "### The module"
   ]
  },
  {
   "cell_type": "markdown",
   "metadata": {},
   "source": [
    "```py\n",
    "\"\"\"\n",
    "Module for calculating distances between coordinates and dates\n",
    "\n",
    "Usage: python exercise3 1,3 3,5\n",
    "\"\"\"\n",
    "import datetime\n",
    "import math\n",
    "import sys\n",
    "\n",
    "\n",
    "def distance(a, b):\n",
    "    \"\"\"\n",
    "    Calculate the distance between two points\n",
    "    Uses the ￼Pythagorean theorem: a^2+b^2 = c^2\n",
    "    \"\"\"\n",
    "    x1, y1 = a\n",
    "    x2, y2 = b\n",
    "    return math.sqrt((x1-x2)**2 + (y1-y2)**2)\n",
    "\n",
    "\n",
    "def calculate_age(year, month, day, hour=0, minute=0, second=0):\n",
    "    \"\"\" Calculate the number of days, hours and seconds that have passed since a given date \"\"\"\n",
    "    # create a date object for current time\n",
    "    now = datetime.datetime.now()\n",
    "    # create a date object for the giventime\n",
    "    born = datetime.datetime(year, month, day, hour, minute, second)\n",
    "    # compare them\n",
    "    diff = now - born\n",
    "    # get the number of days that have passed\n",
    "    days = diff.days\n",
    "    # get the number of seconds\n",
    "    tot_seconds = int(diff.total_seconds())\n",
    "    # convert into hours using floor division\n",
    "    hours = tot_seconds // 3600\n",
    "    print('You are ' + str(days) + ' days old')\n",
    "    print('You are ' + str(hours) + ' hours old')\n",
    "    print('You are ' + str(tot_seconds) + ' seconds old')\n",
    "\n",
    "if __name__ == \"__main__\":\n",
    "    # usage: python ex2_solution 1,3 3,5\n",
    "    a = sys.argv[1].split(',')\n",
    "    b = sys.argv[2].split(',')\n",
    "    x1, y1 = float(a[0]), float(a[1])\n",
    "    x2, y2 = float(b[0]), float(b[1])\n",
    "    result = distance((x1, y1), (x2, y2))\n",
    "    print(result)\n",
    "```"
   ]
  },
  {
   "cell_type": "markdown",
   "metadata": {},
   "source": [
    "#### Running the script:"
   ]
  },
  {
   "cell_type": "markdown",
   "metadata": {},
   "source": [
    "```bash\n",
    ">  python3 exercise3.py 0,3 0,7\n",
    "4.0\n",
    "```"
   ]
  },
  {
   "cell_type": "markdown",
   "metadata": {},
   "source": [
    "#### Importing the module"
   ]
  },
  {
   "cell_type": "markdown",
   "metadata": {},
   "source": [
    "```bash\n",
    "> python3\n",
    "\n",
    ">>> import exercise3\n",
    ">>> exercise3.calculate_age(1999, 1, 1, hour=12)\n",
    "You are 7241 days old\n",
    "You are 173788 hours old\n",
    "You are 625640268 seconds old\n",
    "```"
   ]
  }
 ],
 "metadata": {
  "kernelspec": {
   "display_name": "Python 3",
   "language": "python",
   "name": "python3"
  },
  "language_info": {
   "codemirror_mode": {
    "name": "ipython",
    "version": 3
   },
   "file_extension": ".py",
   "mimetype": "text/x-python",
   "name": "python",
   "nbconvert_exporter": "python",
   "pygments_lexer": "ipython3",
   "version": "3.6.5"
  }
 },
 "nbformat": 4,
 "nbformat_minor": 2
}
