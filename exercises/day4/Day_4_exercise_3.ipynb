{
 "cells": [
  {
   "cell_type": "markdown",
   "metadata": {},
   "source": [
    "## Exercise 3"
   ]
  },
  {
   "cell_type": "markdown",
   "metadata": {},
   "source": [
    "### Make a module\n",
    "\n",
    "Revisit your solutions from last exercise. You should now create a proper module, which when run as a script,\n",
    "takes two points as input arguments and prints the distance between them:\n",
    "\n",
    "\n",
    "`> python3 mymodule.py 1,4  1,5`\n",
    "\n",
    "`1`"
   ]
  },
  {
   "cell_type": "markdown",
   "metadata": {},
   "source": [
    "Remember to\n",
    "\n",
    "- write comments when needed\n",
    "- write docstrings for all functions\n",
    "- write a main function"
   ]
  },
  {
   "cell_type": "markdown",
   "metadata": {},
   "source": [
    "Import your module in the python interpretor and test your functions from there."
   ]
  },
  {
   "cell_type": "markdown",
   "metadata": {},
   "source": [
    "**Hint: Reading the input data**\n",
    "\n",
    "- Use `sys.argv` to get the input to your program. Since there are two input arguments (eg. \"1,4\" and \"1,5\"), you will have to check both `sys.argv[1]` and `sys.argv[2]`.\n",
    "\n",
    "- To turn the string `\"1,4\"` into a tuple of integers, you can use this snippet:\n"
   ]
  },
  {
   "cell_type": "code",
   "execution_count": 11,
   "metadata": {},
   "outputs": [
    {
     "name": "stdout",
     "output_type": "stream",
     "text": [
      "input '1,4'\n",
      "after splitting ['1', '4']\n",
      "result (1, 4)\n"
     ]
    }
   ],
   "source": [
    "input = \"1,4\"\n",
    "print('input {!r}'.format(input))\n",
    "pointlist = input.split(',')\n",
    "print('after splitting {!r}'.format(pointlist))\n",
    "point1 = (int(pointlist[0]), int(pointlist[1]))\n",
    "print('result {!r}'.format(point1))"
   ]
  },
  {
   "cell_type": "markdown",
   "metadata": {},
   "source": [
    "(The `print` and `format()` are just to give you an idea of what's happening, you don't need them in your real code and you don't need to understand how they work.)"
   ]
  }
 ],
 "metadata": {
  "kernelspec": {
   "display_name": "Python 3",
   "language": "python",
   "name": "python3"
  },
  "language_info": {
   "codemirror_mode": {
    "name": "ipython",
    "version": 3
   },
   "file_extension": ".py",
   "mimetype": "text/x-python",
   "name": "python",
   "nbconvert_exporter": "python",
   "pygments_lexer": "ipython3",
   "version": "3.6.5"
  }
 },
 "nbformat": 4,
 "nbformat_minor": 2
}
