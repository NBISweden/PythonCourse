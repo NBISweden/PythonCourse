{
 "cells": [
  {
   "cell_type": "markdown",
   "metadata": {},
   "source": [
    "## Exercise 3"
   ]
  },
  {
   "cell_type": "markdown",
   "metadata": {},
   "source": [
    "### Make a module\n",
    "\n",
    "- Revisit your solutions from last exercise. You should now create a proper module, which when run as a script,\n",
    "takes a birthdate (a year, a month and a day) as input arguments and prints the age:\n",
    "\n",
    "\n",
    "```bash\n",
    "> python3 mymodule.py 1980 2 3\n",
    "You are 14155 days old\n",
    "You are 339731 hours old\n",
    "You are 1223032269 seconds old\n",
    "```"
   ]
  },
  {
   "cell_type": "markdown",
   "metadata": {},
   "source": [
    "- Remember to\n",
    "\n",
    "  - write comments when needed\n",
    "  - write docstrings for all functions\n",
    "  - write a main function"
   ]
  },
  {
   "cell_type": "markdown",
   "metadata": {},
   "source": [
    "- Run your module from the command line:\n",
    "```bash\n",
    "> python3 mymodule.py 1980 2 3\n",
    "```\n",
    "\n",
    "  Verify that the correct output is printed."
   ]
  },
  {
   "cell_type": "markdown",
   "metadata": {},
   "source": [
    "- Import your module in the python interpretor and test your functions from there:\n",
    "\n",
    "```py\n",
    ">>> import mymodule\n",
    "\n",
    ">>> mymodule.calculate_age(1980, 2, 3)\n",
    "\n",
    "```"
   ]
  },
  {
   "cell_type": "markdown",
   "metadata": {},
   "source": [
    "**Hint: Reading the input data**\n",
    "\n",
    "- Use `sys.argv` to get the input to your program. Since there are three input arguments (eg. \"1980\", \"2\" and \"3\"), you will have to check `sys.argv[1]`, `sys.argv[2]` and `sys.argv[3]`.\n",
    "\n",
    "- Remember to cast the input to integers before you send them to `calculate_age()`.\n"
   ]
  },
  {
   "cell_type": "markdown",
   "metadata": {},
   "source": [
    "-----\n",
    "<br><br><br><br>\n",
    "<br>\n",
    "<br>\n",
    "<h2>Proposed solution</h2>\n",
    "\n",
    "<br>\n",
    "You're file could look like this:\n",
    "<br>"
   ]
  },
  {
   "cell_type": "markdown",
   "metadata": {},
   "source": [
    "```py\n",
    "#!/usr/bin/env python3\n",
    "\"\"\"\n",
    "Module for calculating distances between coordinates and dates\n",
    "\n",
    "Usage: python exercise3 1,3 3,5\n",
    "\"\"\"\n",
    "import datetime\n",
    "import math\n",
    "import sys\n",
    "\n",
    "\n",
    "def calculate_age(year, month, day, hour=0, minute=0, second=0):\n",
    "    \"\"\" Calculate the number of days, hours and seconds that have passed since a given date \"\"\"\n",
    "    # create a date object for current time\n",
    "    now = datetime.datetime.now()\n",
    "    # create a date object for the giventime\n",
    "    born = datetime.datetime(year, month, day, hour, minute, second)\n",
    "    # compare them\n",
    "    diff = now - born\n",
    "    # get the number of days that have passed\n",
    "    days = diff.days\n",
    "    # get the number of seconds\n",
    "    tot_seconds = int(diff.total_seconds())\n",
    "    # convert into hours using floor division\n",
    "    hours = tot_seconds // 3600\n",
    "    print('You are ' + str(days) + ' days old')\n",
    "    print('You are ' + str(hours) + ' hours old')\n",
    "    print('You are ' + str(tot_seconds) + ' seconds old')\n",
    "\n",
    "if __name__ == \"__main__\":\n",
    "    # usage: python ex2_solution 1,3 3,5\n",
    "    # a = sys.argv[1].split(',')\n",
    "    # b = sys.argv[2].split(',')\n",
    "    # x1, y1 = float(a[0]), float(a[1])\n",
    "    # x2, y2 = float(b[0]), float(b[1])\n",
    "    # result = distance((x1, y1), (x2, y2))\n",
    "    # print(result)\n",
    "    year = int(sys.argv[1])\n",
    "    month = int(sys.argv[2])\n",
    "    day = int(sys.argv[3])\n",
    "    calculate_age(year, month, day)\n",
    "```"
   ]
  }
 ],
 "metadata": {
  "kernelspec": {
   "display_name": "Python 3",
   "language": "python",
   "name": "python3"
  },
  "language_info": {
   "codemirror_mode": {
    "name": "ipython",
    "version": 3
   },
   "file_extension": ".py",
   "mimetype": "text/x-python",
   "name": "python",
   "nbconvert_exporter": "python",
   "pygments_lexer": "ipython3",
   "version": "3.6.5"
  }
 },
 "nbformat": 4,
 "nbformat_minor": 2
}
