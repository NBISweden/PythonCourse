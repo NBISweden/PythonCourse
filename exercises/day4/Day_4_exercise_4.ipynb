{
 "cells": [
  {
   "cell_type": "markdown",
   "metadata": {},
   "source": [
    "## Exercise 4"
   ]
  },
  {
   "cell_type": "markdown",
   "metadata": {},
   "source": [
    "For this exercise you are given a database containing information about real estate around\n",
    "Uppsala. You are also given a Python module that helps working the database.\n",
    "\n",
    "- Download the [database](...) and the [code `db.py`](...)\n",
    "- Read the module's [documentation](../../files/db_module_documentation.html)"
   ]
  },
  {
   "cell_type": "markdown",
   "metadata": {},
   "source": [
    "The module `db.py` will help you produce a HTML file whit your results plotted on a map. This set-up uses OpenStreetMap. \n",
    "\n",
    "![result](../../img/mapOSM.jpg)"
   ]
  },
  {
   "cell_type": "markdown",
   "metadata": {},
   "source": [
    "The center is defined as the point:\n",
    "\n",
    "`latitude: 59.865795990339876`\n",
    "\n",
    "`longitude: 17.64583576202392`"
   ]
  },
  {
   "cell_type": "markdown",
   "metadata": {},
   "source": [
    "### Questions:\n"
   ]
  },
  {
   "cell_type": "markdown",
   "metadata": {},
   "source": [
    "a) What is the price of the cheapest house around the given center and within 2 kilometers?"
   ]
  },
  {
   "cell_type": "markdown",
   "metadata": {},
   "source": [
    "b) Plot the 100 cheapest houses in this area."
   ]
  },
  {
   "cell_type": "markdown",
   "metadata": {},
   "source": [
    "c) Find the most expensive house per square meter and print it's price and square meter. If a house have an area of 0 square meters, discard it!"
   ]
  },
  {
   "cell_type": "markdown",
   "metadata": {},
   "source": [
    "d) Print or plot this house."
   ]
  }
 ],
 "metadata": {
  "kernelspec": {
   "display_name": "Python 3",
   "language": "python",
   "name": "python3"
  },
  "language_info": {
   "codemirror_mode": {
    "name": "ipython",
    "version": 3
   },
   "file_extension": ".py",
   "mimetype": "text/x-python",
   "name": "python",
   "nbconvert_exporter": "python",
   "pygments_lexer": "ipython3",
   "version": "3.6.5"
  }
 },
 "nbformat": 4,
 "nbformat_minor": 2
}
