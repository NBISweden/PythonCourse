{
 "cells": [
  {
   "cell_type": "markdown",
   "metadata": {},
   "source": [
    "## Exercise 4"
   ]
  },
  {
   "cell_type": "markdown",
   "metadata": {},
   "source": [
    "For this exercise you are given a database containing information about real estate around\n",
    "Uppsala. You are also given a Python module that helps working the database.\n",
    "\n",
    "- Download the [database](...) and the [code `db.py`](...)\n",
    "- Read the module's [documentation](../../files/db_module_documentation.html)"
   ]
  },
  {
   "cell_type": "markdown",
   "metadata": {},
   "source": [
    "The module `db.py` will help you produce a HTML file whit your results plotted on a map. This set-up uses Google Maps, so you will need to fetch an [API key](https://developers.google.com/maps/documentation/javascript/get-api-key). If you do not have a Google account, or don’t want to bother with the API key, you can always content yourself with the print function.\n",
    "\n",
    "![result](../../img/map.jpg)"
   ]
  },
  {
   "cell_type": "markdown",
   "metadata": {},
   "source": [
    "### Questions:\n"
   ]
  },
  {
   "cell_type": "markdown",
   "metadata": {},
   "source": [
    "a) What is the price of the cheapest house around a given center and within 2 kilometers?\n",
    "\n",
    "The center is defined as the point:\n",
    "\n",
    "latitude: 59.865795990339876\n",
    "\n",
    "longitude: 17.64583576202392\n"
   ]
  },
  {
   "cell_type": "markdown",
   "metadata": {},
   "source": [
    "b) Find the most expensive hous per square meter"
   ]
  }
 ],
 "metadata": {
  "kernelspec": {
   "display_name": "Python 3",
   "language": "python",
   "name": "python3"
  },
  "language_info": {
   "codemirror_mode": {
    "name": "ipython",
    "version": 3
   },
   "file_extension": ".py",
   "mimetype": "text/x-python",
   "name": "python",
   "nbconvert_exporter": "python",
   "pygments_lexer": "ipython3",
   "version": "3.6.5"
  }
 },
 "nbformat": 4,
 "nbformat_minor": 2
}
