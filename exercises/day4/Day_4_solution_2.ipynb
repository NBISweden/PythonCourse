{
 "cells": [
  {
   "cell_type": "markdown",
   "metadata": {},
   "source": [
    "#### Proposed solution for b)"
   ]
  },
  {
   "cell_type": "code",
   "execution_count": null,
   "metadata": {},
   "outputs": [],
   "source": [
    "import math\n",
    "def distance(a, b):\n",
    "    \"\"\"\n",
    "    Calculate the distance between two points\n",
    "    Uses the ￼Pythagorean theorem: a^2+b^2 = c^2\n",
    "    \"\"\"\n",
    "    x1, y1 = a\n",
    "    x2, y2 = b\n",
    "    return math.sqrt((x1-x2)**2 + (y1-y2)**2)"
   ]
  },
  {
   "cell_type": "code",
   "execution_count": null,
   "metadata": {},
   "outputs": [],
   "source": [
    "distance((4,0), (5,0))"
   ]
  },
  {
   "cell_type": "code",
   "execution_count": null,
   "metadata": {},
   "outputs": [],
   "source": [
    "distance((0,2), (0,1))"
   ]
  },
  {
   "cell_type": "code",
   "execution_count": null,
   "metadata": {},
   "outputs": [],
   "source": [
    "distance((4,0), (0,4))"
   ]
  },
  {
   "cell_type": "markdown",
   "metadata": {},
   "source": [
    "#### Proposed solution for c)"
   ]
  },
  {
   "cell_type": "code",
   "execution_count": 54,
   "metadata": {},
   "outputs": [],
   "source": [
    "import datetime\n",
    "\n",
    "def calculate_age(year, month, day, hour=0, minute=0, second=0):\n",
    "    \"\"\" Calculate the number of days, hours and seconds that have passed since a given date \"\"\"\n",
    "    # create a date object for current time\n",
    "    now = datetime.datetime.now()\n",
    "    # create a date object for the giventime\n",
    "    born = datetime.datetime(year, month, day, hour, minute, second)\n",
    "    # compare them\n",
    "    diff = now - born\n",
    "    # get the number of days that have passed\n",
    "    days = diff.days\n",
    "    # get the number of seconds\n",
    "    tot_seconds = int(diff.total_seconds())\n",
    "    # convert into hours using floor division\n",
    "    hours = tot_seconds // 3600\n",
    "    print('You are ' + str(days) + ' days old')\n",
    "    print('You are ' + str(hours) + ' hours old')\n",
    "    print('You are ' + str(tot_seconds) + ' seconds old')"
   ]
  },
  {
   "cell_type": "code",
   "execution_count": null,
   "metadata": {},
   "outputs": [],
   "source": [
    "calculate_age(1986, 2, 17)"
   ]
  },
  {
   "cell_type": "markdown",
   "metadata": {},
   "source": [
    "#### Bonus exercise"
   ]
  },
  {
   "cell_type": "code",
   "execution_count": null,
   "metadata": {},
   "outputs": [],
   "source": [
    "import random\n",
    "\n",
    "imdb = \"../../downloads/250.imdb\"\n",
    "\n",
    "def pick_movie_b_ii(year=None, genre=None, rating_min=None, rating_max=None):\n",
    "    # read all lines and keep them in memory\n",
    "    lines = open(imdb).readlines()\n",
    "    # use random to shuffle the lines (put them in random order)\n",
    "    random.shuffle(lines)\n",
    "    # now go through the lines and return the first one that fits\n",
    "    for line in lines:\n",
    "        if line.startswith('#'):\n",
    "            continue\n",
    "        fields = line.split('|')\n",
    "        # Remeber to type cast to float\n",
    "        rating = float(fields[1].strip())\n",
    "        title = fields[-1].strip()\n",
    "        m_year = fields[2].strip()\n",
    "        genres = fields[-2].strip().split(',')\n",
    "        # Go through criterias\n",
    "        ok_year = not year or m_year == year\n",
    "        ok_genre = not genre or genre in genres\n",
    "        ok_min = not rating_min or rating_min <= rating\n",
    "        ok_max = not rating_max or rating_max >= rating\n",
    "        if ok_year and ok_genre and ok_min and ok_max:\n",
    "            # All criterias ok, print the movie and break the loop\n",
    "            print(title)\n",
    "            break\n"
   ]
  },
  {
   "cell_type": "code",
   "execution_count": null,
   "metadata": {},
   "outputs": [],
   "source": [
    "pick_movie_b_ii(year=\"2001\")\n"
   ]
  }
 ],
 "metadata": {
  "kernelspec": {
   "display_name": "Python 3",
   "language": "python",
   "name": "python3"
  },
  "language_info": {
   "codemirror_mode": {
    "name": "ipython",
    "version": 3
   },
   "file_extension": ".py",
   "mimetype": "text/x-python",
   "name": "python",
   "nbconvert_exporter": "python",
   "pygments_lexer": "ipython3",
   "version": "3.6.5"
  }
 },
 "nbformat": 4,
 "nbformat_minor": 2
}
