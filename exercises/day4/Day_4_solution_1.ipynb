{
 "cells": [
  {
   "cell_type": "code",
   "execution_count": null,
   "metadata": {},
   "outputs": [],
   "source": [
    "# Path to imdb file\n",
    "imdb = \"../../downloads/250.imdb\""
   ]
  },
  {
   "cell_type": "markdown",
   "metadata": {},
   "source": [
    "#### Proposed solution for a)"
   ]
  },
  {
   "cell_type": "code",
   "execution_count": null,
   "metadata": {},
   "outputs": [],
   "source": [
    "def pick_movie_a(year=None, genre=None, rating_min=None, rating_max=None):\n",
    "    for line in open(imdb):\n",
    "        if line.startswith('#'):\n",
    "            continue\n",
    "        fields = line.split('|')\n",
    "        # Remeber to type cast to float\n",
    "        rating = float(fields[1].strip())\n",
    "        title = fields[-1].strip()\n",
    "        m_year = fields[2].strip()\n",
    "        genres = fields[-2].strip().split(',')\n",
    "        # Go through criterias. If the movie mathces one active criterion, print\n",
    "        # it and break the loop\n",
    "        if year and m_year == year:\n",
    "            print(title)\n",
    "            break\n",
    "        if genre and genre in genres:\n",
    "            print(title)\n",
    "            break\n",
    "        if rating_min and rating_min <= rating:\n",
    "            print(title)\n",
    "            break\n",
    "        if rating_max and rating_max >= rating:\n",
    "            print(title)\n",
    "            break\n"
   ]
  },
  {
   "cell_type": "code",
   "execution_count": 44,
   "metadata": {},
   "outputs": [
    {
     "name": "stdout",
     "output_type": "stream",
     "text": [
      "Paths of Glory\n"
     ]
    }
   ],
   "source": [
    "pick_movie_a(genre=\"Drama\")"
   ]
  },
  {
   "cell_type": "code",
   "execution_count": 45,
   "metadata": {},
   "outputs": [
    {
     "name": "stdout",
     "output_type": "stream",
     "text": [
      "Donnie Darko\n"
     ]
    }
   ],
   "source": [
    "pick_movie_a(year=\"2001\")"
   ]
  },
  {
   "cell_type": "code",
   "execution_count": 46,
   "metadata": {},
   "outputs": [
    {
     "name": "stdout",
     "output_type": "stream",
     "text": [
      "Paths of Glory\n"
     ]
    }
   ],
   "source": [
    "pick_movie_a(rating_min=8)"
   ]
  },
  {
   "cell_type": "markdown",
   "metadata": {},
   "source": [
    "#### Proposed solution for b) using `continue`"
   ]
  },
  {
   "cell_type": "code",
   "execution_count": 47,
   "metadata": {},
   "outputs": [],
   "source": [
    "def pick_movie_b(year=None, genre=None, rating_min=None, rating_max=None):\n",
    "    for line in open(imdb):\n",
    "        if line.startswith('#'):\n",
    "            continue\n",
    "        fields = line.split('|')\n",
    "        # Remeber to type cast to float\n",
    "        rating = float(fields[1].strip())\n",
    "        title = fields[-1].strip()\n",
    "        m_year = fields[2].strip()\n",
    "        genres = fields[-2].strip().split(',')\n",
    "        # Go through criterias and reject the movie if it doesn't fit\n",
    "        if year and m_year != year:\n",
    "            continue\n",
    "        if genre and genre not in genres:\n",
    "            continue\n",
    "        if rating_min and rating_min > rating:\n",
    "            continue\n",
    "        if rating_max and rating_max < rating:\n",
    "            continue\n",
    "        # All criterias ok, print the movie and break the loop\n",
    "        print(title)\n",
    "        break\n"
   ]
  },
  {
   "cell_type": "code",
   "execution_count": 48,
   "metadata": {},
   "outputs": [
    {
     "name": "stdout",
     "output_type": "stream",
     "text": [
      "The Secret in Their Eyes\n"
     ]
    }
   ],
   "source": [
    "pick_movie_b(year=\"2009\", genre=\"Mystery\")"
   ]
  },
  {
   "cell_type": "markdown",
   "metadata": {},
   "source": [
    "#### Alternative solution for b)"
   ]
  },
  {
   "cell_type": "code",
   "execution_count": 49,
   "metadata": {},
   "outputs": [],
   "source": [
    "def pick_movie_b_ii(year=None, genre=None, rating_min=None, rating_max=None):\n",
    "    for line in open(imdb):\n",
    "        if line.startswith('#'):\n",
    "            continue\n",
    "        fields = line.split('|')\n",
    "        # Remeber to type cast to float\n",
    "        rating = float(fields[1].strip())\n",
    "        title = fields[-1].strip()\n",
    "        m_year = fields[2].strip()\n",
    "        genres = fields[-2].strip().split(',')\n",
    "        # Go through criterias\n",
    "        ok_year = not year or m_year == year\n",
    "        ok_genre = not genre or genre in genres\n",
    "        ok_min = not rating_min or rating_min <= rating\n",
    "        ok_max = not rating_max or rating_max >= rating\n",
    "        if ok_year and ok_genre and ok_min and ok_max:\n",
    "            # All criterias ok, print the movie and break the loop\n",
    "            print(title)\n",
    "            break\n"
   ]
  },
  {
   "cell_type": "code",
   "execution_count": 50,
   "metadata": {},
   "outputs": [
    {
     "name": "stdout",
     "output_type": "stream",
     "text": [
      "The Secret in Their Eyes\n"
     ]
    }
   ],
   "source": [
    "pick_movie_b_ii(year=\"2009\", genre=\"Mystery\")\n"
   ]
  }
 ],
 "metadata": {
  "kernelspec": {
   "display_name": "Python 3",
   "language": "python",
   "name": "python3"
  },
  "language_info": {
   "codemirror_mode": {
    "name": "ipython",
    "version": 3
   },
   "file_extension": ".py",
   "mimetype": "text/x-python",
   "name": "python",
   "nbconvert_exporter": "python",
   "pygments_lexer": "ipython3",
   "version": "3.6.5"
  }
 },
 "nbformat": 4,
 "nbformat_minor": 2
}
