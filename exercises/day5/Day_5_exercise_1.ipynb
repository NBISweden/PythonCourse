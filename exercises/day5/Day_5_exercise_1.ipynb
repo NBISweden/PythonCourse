{
 "cells": [
  {
   "cell_type": "markdown",
   "metadata": {},
   "source": [
    "## Exercise 1 - Find the pattern"
   ]
  },
  {
   "cell_type": "markdown",
   "metadata": {
    "slideshow": {
     "slide_type": "slide"
    }
   },
   "source": [
    "In this exercise you will look for patterns in text strings. You should express the pattern as a regular expression.\n",
    "\n",
    "You will be given a set of strings to match, and another set of strings that your pattern must not match.\n",
    "\n",
    "Your pattern should match the whole string, from the beginning to the end.\n",
    "\n",
    "**Example:**\n",
    "\n",
    "The string \"example\" is matched by the patterns:\n",
    "\n",
    "- `example` (the exact pattern)\n",
    "- `.*`      (matches everything)\n",
    "- `e.*`     (matches all words starting in 'e')\n",
    "- `.*mp.*`  (matches all words containing 'mp')\n",
    "\n",
    "It is not matched by the patterns:\n",
    "\n",
    "- `examples` (fails on the 's' in this pattern)\n",
    "- `exampl`   (does not match the 'e' in the string)\n",
    "- `o.*`      (only matches words starting with 'o')\n",
    "- `mp`       (only matches the word 'mp')"
   ]
  },
  {
   "cell_type": "markdown",
   "metadata": {},
   "source": [
    "- Download [`retester.py`](...)\n",
    "- Run it like so: `python3 retester.py`\n",
    "- To stop it: `ctrl+c`\n",
    "\n",
    "\n",
    "\n",
    "- Already done? Open `retester.py` in your editor and try to understand how it works.\n",
    "  - add more exercises for the patterns you already know\n",
    "  - find more [patterns](https://docs.python.org/3.6/howto/regex.html#regex-howto) and add exercises for them"
   ]
  },
  {
   "cell_type": "markdown",
   "metadata": {},
   "source": [
    "#### Want more?\n",
    "\n",
    "There is plenty of interactive online tools for learning to use regular expressions. Here are some:\n",
    "\n",
    "- https://regexone.com/\n",
    "- https://regexcrossword.com\n",
    "- https://regexr.com/"
   ]
  }
 ],
 "metadata": {
  "kernelspec": {
   "display_name": "Python 3",
   "language": "python",
   "name": "python3"
  },
  "language_info": {
   "codemirror_mode": {
    "name": "ipython",
    "version": 3
   },
   "file_extension": ".py",
   "mimetype": "text/x-python",
   "name": "python",
   "nbconvert_exporter": "python",
   "pygments_lexer": "ipython3",
   "version": "3.6.5"
  }
 },
 "nbformat": 4,
 "nbformat_minor": 2
}
