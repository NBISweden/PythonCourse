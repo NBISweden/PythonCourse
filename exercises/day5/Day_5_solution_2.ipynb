{
 "cells": [
  {
   "cell_type": "markdown",
   "metadata": {},
   "source": [
    "**Proposed solution for exercise 2a**"
   ]
  },
  {
   "cell_type": "markdown",
   "metadata": {},
   "source": [
    "We start by writing a function that reads each line in a file"
   ]
  },
  {
   "cell_type": "code",
   "execution_count": 2,
   "metadata": {},
   "outputs": [],
   "source": [
    "def check_protein(inputfile):\n",
    "    for line in open(inputfile):\n",
    "        if not line.startswith('>'):\n",
    "            # This is where we do something!\n",
    "            pass"
   ]
  },
  {
   "cell_type": "markdown",
   "metadata": {},
   "source": [
    "We now need to decide what pattern to look for. The original pattern is \"TPLTVETLAKT\", but \"VE\" is changed to \"Lx\" (\"x\" means anything).\n",
    "\n",
    "\"Any character\" is expressed by the period \".\", so the changed is expressed as \"L.\".\n",
    "\n",
    "We get:\n",
    "```py\n",
    "p = re.compile('TPLTL(.)TLAKT')\n",
    "```"
   ]
  },
  {
   "cell_type": "code",
   "execution_count": 3,
   "metadata": {},
   "outputs": [],
   "source": [
    "import re\n",
    "\n",
    "def check_protein(inputfile):\n",
    "    count = 0\n",
    "    variants = Counter()\n",
    "    p = re.compile('TPLTL(.)TLAKT')  # The pattern\n",
    "    for line in open(inputfile):\n",
    "        if not line.startswith('>'):\n",
    "            # This is where we do something!\n",
    "            pass\n",
    "    "
   ]
  },
  {
   "cell_type": "markdown",
   "metadata": {},
   "source": [
    "We search for the pattern using `re.search()`. If we get a match we count it. Since we also want to keep track of the different type of variants (and their frequency), we use a Counter."
   ]
  },
  {
   "cell_type": "code",
   "execution_count": 7,
   "metadata": {},
   "outputs": [],
   "source": [
    "import re\n",
    "from collections import Counter\n",
    "\n",
    "def check_protein(inputfile):\n",
    "    count = 0\n",
    "    variants = Counter()  # get an empty counter\n",
    "    p = re.compile('TPLTL(.)TLAKT')\n",
    "    for line in open(inputfile):\n",
    "        if not line.startswith('>'):\n",
    "            match = p.search(line)\n",
    "            if match:\n",
    "                count += 1  # if we found a match, count it\n",
    "                var = match.group(1)  # select the sequence that vary (the '.')\n",
    "                variants[var] += 1    # count this one\n",
    "    print('Found {} individuals with changed sequence'.format(count))\n",
    "    print('Found {} types of variations'.format(len(variants)))\n",
    "    print('Most common variation: {} ({} instances)'.format(*variants.most_common(1)[0]))"
   ]
  },
  {
   "cell_type": "markdown",
   "metadata": {},
   "source": [
    "Optionally, add a main function to run the code"
   ]
  },
  {
   "cell_type": "code",
   "execution_count": 8,
   "metadata": {},
   "outputs": [
    {
     "name": "stdout",
     "output_type": "stream",
     "text": [
      "Found 63 individuals with changed sequence\n",
      "Found 19 types of variations\n",
      "Most common variation: Q (6 instances)\n"
     ]
    }
   ],
   "source": [
    "\n",
    "if __name__ == \"__main__\":\n",
    "    check_protein('proteins.fasta')\n"
   ]
  }
 ],
 "metadata": {
  "kernelspec": {
   "display_name": "Python 3",
   "language": "python",
   "name": "python3"
  },
  "language_info": {
   "codemirror_mode": {
    "name": "ipython",
    "version": 3
   },
   "file_extension": ".py",
   "mimetype": "text/x-python",
   "name": "python",
   "nbconvert_exporter": "python",
   "pygments_lexer": "ipython3",
   "version": "3.6.5"
  }
 },
 "nbformat": 4,
 "nbformat_minor": 2
}
