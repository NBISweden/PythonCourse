{
 "cells": [
  {
   "cell_type": "markdown",
   "metadata": {},
   "source": [
    "## The final quiz"
   ]
  },
  {
   "cell_type": "markdown",
   "metadata": {},
   "source": [
    "This is the final quiz for your programming course. The task is to decode the message below. This notebook will help you through it, step by step, and you can also check all your answers on the way.\n",
    "All you have to do is read the instructions, run all the notebook cells and fill in your answers when prompted."
   ]
  },
  {
   "cell_type": "markdown",
   "metadata": {},
   "source": [
    "The coded message:\n",
    "\n",
    "`\"{name} {maybeis} {chr(the_sum)} {snake_selector(1)} {remmargorp} {chr(the_length)}\"`\n"
   ]
  },
  {
   "cell_type": "markdown",
   "metadata": {},
   "source": [
    "Oh, that looks like a lot of python variables, right? Your job will be to find the right values for these! But as stated above, all you have to do is to follow the instructions."
   ]
  },
  {
   "cell_type": "markdown",
   "metadata": {},
   "source": [
    "### Getting prepared - importing"
   ]
  },
  {
   "cell_type": "markdown",
   "metadata": {},
   "source": [
    "There is a python script called `checker.py` in the `downloads` folder. It should be imported to this notebook, so that it can help you check your answers. Depending on how you run this notebook, you might have to move the file `checker.py` so that it can be located by Python. Ask an instructor for help if you're not sure about this step!\n",
    "\n",
    "Import a module called checker."
   ]
  },
  {
   "cell_type": "code",
   "execution_count": null,
   "metadata": {},
   "outputs": [],
   "source": [
    "# write the import here"
   ]
  },
  {
   "cell_type": "markdown",
   "metadata": {},
   "source": [
    "Verify that it worked:"
   ]
  },
  {
   "cell_type": "code",
   "execution_count": null,
   "metadata": {},
   "outputs": [],
   "source": [
    "checker.check()"
   ]
  },
  {
   "cell_type": "markdown",
   "metadata": {},
   "source": [
    "### Start up - defining and using variables"
   ]
  },
  {
   "cell_type": "markdown",
   "metadata": {},
   "source": [
    "Define a variable of type string, containing your name.\n",
    "\n",
    "The variable should be called `name`."
   ]
  },
  {
   "cell_type": "code",
   "execution_count": null,
   "metadata": {},
   "outputs": [],
   "source": [
    "..."
   ]
  },
  {
   "cell_type": "markdown",
   "metadata": {},
   "source": [
    "Give the variable `name` as input to the function below, and run the cell:"
   ]
  },
  {
   "cell_type": "code",
   "execution_count": null,
   "metadata": {},
   "outputs": [],
   "source": [
    "checker.check_name(___)"
   ]
  },
  {
   "cell_type": "markdown",
   "metadata": {},
   "source": [
    "As a warm up, show that you can not only work with strings, but also with numbers.\n",
    "\n",
    "Here's a number. Turn it into a float!"
   ]
  },
  {
   "cell_type": "code",
   "execution_count": null,
   "metadata": {},
   "outputs": [],
   "source": [
    "number = '5'"
   ]
  },
  {
   "cell_type": "code",
   "execution_count": null,
   "metadata": {},
   "outputs": [],
   "source": [
    "# turn number into a float\n",
    "float_number = ..."
   ]
  },
  {
   "cell_type": "markdown",
   "metadata": {},
   "source": [
    "Run this test:"
   ]
  },
  {
   "cell_type": "code",
   "execution_count": null,
   "metadata": {},
   "outputs": [],
   "source": [
    "checker.check_number(float_number)"
   ]
  },
  {
   "cell_type": "markdown",
   "metadata": {},
   "source": [
    "### Built-in functions and calculating mean values"
   ]
  },
  {
   "cell_type": "markdown",
   "metadata": {},
   "source": [
    "Some parts of the secret message turn out to rely upon how much code a specific person produces."
   ]
  },
  {
   "cell_type": "markdown",
   "metadata": {},
   "source": [
    "The list below `code_lines_per_day` shows how many lines of code this person writes per day.\n",
    "Fill in the slots below to calculate the number of days in the experiment, the total number of code lines written and the average number of lines per day."
   ]
  },
  {
   "cell_type": "code",
   "execution_count": null,
   "metadata": {},
   "outputs": [],
   "source": [
    "# This represents the number of code lines a person writes per day\n",
    "code_lines_per_day = [1, 1, 1, 2, 2, 3, 0, 1, 8, 0, 8, 6, 1, 1, 0, 1, 3, 3, 2, 5, 3, 0, 0, 7, 3, 7, 8, 5, 3, 8, 0, 3, 1]\n",
    "\n",
    "# How many days are ther?\n",
    "the_length = ... # TODO change\n",
    "\n",
    "# How many lines did the person write?\n",
    "the_sum = ... # TODO change\n",
    "\n",
    "# How many lines of code on average?\n",
    "average = ... # TODO change\n",
    "\n",
    "print('The person wrote '+str(average)+' numbers of codes per day')\n",
    "checker.check_average(the_length, the_sum, average)"
   ]
  },
  {
   "cell_type": "markdown",
   "metadata": {},
   "source": [
    "### Creating and using dictionaries"
   ]
  },
  {
   "cell_type": "markdown",
   "metadata": {},
   "source": [
    "For the next part, you will work with dictionaries.\n",
    "\n",
    "Create a dictionary called `animals` with the keys 'dogs' and 'cats'. All values should be 1."
   ]
  },
  {
   "cell_type": "code",
   "execution_count": null,
   "metadata": {},
   "outputs": [],
   "source": [
    "# create the dictionary here\n",
    "..."
   ]
  },
  {
   "cell_type": "markdown",
   "metadata": {},
   "source": [
    "Then run this:"
   ]
  },
  {
   "cell_type": "code",
   "execution_count": null,
   "metadata": {},
   "outputs": [],
   "source": [
    "checker.check_animals(animals)"
   ]
  },
  {
   "cell_type": "markdown",
   "metadata": {},
   "source": [
    "Set the value for 'cats' to 5!\n"
   ]
  },
  {
   "cell_type": "code",
   "execution_count": null,
   "metadata": {},
   "outputs": [],
   "source": [
    "# Set the value for 'cats' to 5\n",
    "..."
   ]
  },
  {
   "cell_type": "markdown",
   "metadata": {},
   "source": [
    "And run the test:"
   ]
  },
  {
   "cell_type": "code",
   "execution_count": null,
   "metadata": {},
   "outputs": [],
   "source": [
    "checker.check_animals2(animals)"
   ]
  },
  {
   "cell_type": "markdown",
   "metadata": {},
   "source": [
    "Finally, do you remember how to get values from a dictionary?\n",
    "\n",
    "Use the dictionary `animals` to select the value of one of the animals. Select the animal you like most and save its value in `my_choice`."
   ]
  },
  {
   "cell_type": "code",
   "execution_count": null,
   "metadata": {},
   "outputs": [],
   "source": [
    "# Use the dictionary you created to get the value of your favorite animal\n",
    "my_choice = ..."
   ]
  },
  {
   "cell_type": "markdown",
   "metadata": {},
   "source": [
    "Test it:"
   ]
  },
  {
   "cell_type": "code",
   "execution_count": null,
   "metadata": {},
   "outputs": [],
   "source": [
    "checker.check_animal_choice(my_choice)"
   ]
  },
  {
   "cell_type": "markdown",
   "metadata": {},
   "source": [
    "### If statements, comparisons"
   ]
  },
  {
   "cell_type": "markdown",
   "metadata": {},
   "source": [
    "The `checker` module stores a value called `x`.\n",
    "\n",
    "This is how to get the value of x:\n",
    "```py\n",
    "checker.x```\n",
    "\n",
    "Write an if statement that sets the value of `maybeis` according to the description:\n",
    "\n",
    "- If x is greater than (or equal to) 100, then maybeis should be \"will be\".\n",
    "\n",
    "- If x is between 100 and 60, then `maybeis` should be \"is\".\n",
    "\n",
    "- If x is smaller than (or equal to) 50, then `maybeis` should be \"is soon\". "
   ]
  },
  {
   "cell_type": "code",
   "execution_count": null,
   "metadata": {},
   "outputs": [],
   "source": [
    "# Put your if statement here:\n",
    "x = checker.x  # store the value of checker.x in x\n",
    "maybeis = ''  # set maybeis to an inintual value\n",
    "..."
   ]
  },
  {
   "cell_type": "code",
   "execution_count": null,
   "metadata": {},
   "outputs": [],
   "source": [
    "checker.check_maybe(maybeis)"
   ]
  },
  {
   "cell_type": "markdown",
   "metadata": {},
   "source": [
    "### Remmargorp - loops and strings"
   ]
  },
  {
   "cell_type": "markdown",
   "metadata": {},
   "source": [
    "Below is a character `c` and a string `ss`. Append (add) `c` to the beginning of `ss` using the operator `+`."
   ]
  },
  {
   "cell_type": "code",
   "execution_count": null,
   "metadata": {},
   "outputs": [],
   "source": [
    "c = 's'\n",
    "ss = 'nake'\n",
    "# Append c to ss here\n",
    "result = ..."
   ]
  },
  {
   "cell_type": "code",
   "execution_count": null,
   "metadata": {},
   "outputs": [],
   "source": [
    "checker.check_appended(result)"
   ]
  },
  {
   "cell_type": "markdown",
   "metadata": {},
   "source": [
    "Appending a letter to the beginning of a string is handy if you want to reverse strings. Let's do that!"
   ]
  },
  {
   "cell_type": "markdown",
   "metadata": {},
   "source": [
    "Start by writing a for loop that iterates over the string `the_string` and, at each iteration, stores the current letter in the variable `result`. So at the first iteration, `result` should be `r`. When the loop is done, the value of `result` should be `p` (the last letter in \"remmargorp\")"
   ]
  },
  {
   "cell_type": "code",
   "execution_count": null,
   "metadata": {},
   "outputs": [],
   "source": [
    "the_string = \"remmargorp\"\n",
    "result = ''\n",
    "# Write your for loop here"
   ]
  },
  {
   "cell_type": "code",
   "execution_count": null,
   "metadata": {},
   "outputs": [],
   "source": [
    "print(result)  # check if result is p"
   ]
  },
  {
   "cell_type": "markdown",
   "metadata": {},
   "source": [
    "Modify the loop, so that instead of setting `result` to the current letter, it appends the current letter to the beginning of `result`."
   ]
  },
  {
   "cell_type": "code",
   "execution_count": null,
   "metadata": {},
   "outputs": [],
   "source": [
    "result = ''\n",
    "the_string = 'remmargorp'\n",
    "# Write your loop here\n",
    "..."
   ]
  },
  {
   "cell_type": "code",
   "execution_count": null,
   "metadata": {},
   "outputs": [],
   "source": [
    "print(result)"
   ]
  },
  {
   "cell_type": "markdown",
   "metadata": {},
   "source": [
    "Aha, \"remmargorp\" makes more sense now! To be able to use it for the decoding, run the cell below."
   ]
  },
  {
   "cell_type": "code",
   "execution_count": null,
   "metadata": {},
   "outputs": [],
   "source": [
    "remmargorp = result"
   ]
  },
  {
   "cell_type": "markdown",
   "metadata": {},
   "source": [
    "### Getting the snake - defining functions,  list indexing"
   ]
  },
  {
   "cell_type": "markdown",
   "metadata": {},
   "source": [
    "Here's a list:"
   ]
  },
  {
   "cell_type": "code",
   "execution_count": null,
   "metadata": {},
   "outputs": [],
   "source": [
    "snakes = ['cobra', 'python', 'anacoda']"
   ]
  },
  {
   "cell_type": "markdown",
   "metadata": {},
   "source": [
    "**Define a function** called `snake_selector`. It should take an index (an integer) as input, and **return** the item at that index in the list above. For example,\n",
    "```py\n",
    "snake_selector(0)\n",
    "```\n",
    "should give you 'cobra'\n",
    "(you are free to ignore the fact that the index might be too large for the list)."
   ]
  },
  {
   "cell_type": "code",
   "execution_count": null,
   "metadata": {},
   "outputs": [],
   "source": [
    "snakes = ['cobra', 'python', 'anaconda']\n",
    "# Define your function here\n",
    "..."
   ]
  },
  {
   "cell_type": "code",
   "execution_count": null,
   "metadata": {},
   "outputs": [],
   "source": [
    "# Test it, this should give you 'cobra'\n",
    "cobra = snake_selector(0)\n",
    "print(cobra)"
   ]
  },
  {
   "cell_type": "code",
   "execution_count": null,
   "metadata": {},
   "outputs": [],
   "source": [
    "# Verify that it works by running this cell\n",
    "the_snake = snake_selector(1)\n",
    "checker.check_snakes(the_snake)"
   ]
  },
  {
   "cell_type": "markdown",
   "metadata": {},
   "source": [
    "### The bonus - Reading files"
   ]
  },
  {
   "cell_type": "markdown",
   "metadata": {},
   "source": [
    "We have now have everything we need in order to decode the message. But to make things even nicer, show that you can open and read a file!"
   ]
  },
  {
   "cell_type": "markdown",
   "metadata": {},
   "source": [
    "The cell below will give you a filename to open. The file is located in the download directory, make sure it can be read by this notebook. Again, just ask an instructor if you're unsure of how to do this."
   ]
  },
  {
   "cell_type": "code",
   "execution_count": null,
   "metadata": {},
   "outputs": [],
   "source": [
    "# Run this cell!\n",
    "filename = 'file{}.txt'.format(my_choice)"
   ]
  },
  {
   "cell_type": "markdown",
   "metadata": {},
   "source": [
    "Now open and read the file with the file name from above, save the content in `output`. Remember that `readlines()` read one line at the time, but you want to read all lines!"
   ]
  },
  {
   "cell_type": "code",
   "execution_count": null,
   "metadata": {},
   "outputs": [],
   "source": [
    "output = ..."
   ]
  },
  {
   "cell_type": "markdown",
   "metadata": {},
   "source": [
    "Check that everything went well:"
   ]
  },
  {
   "cell_type": "code",
   "execution_count": null,
   "metadata": {},
   "outputs": [],
   "source": [
    "checker.check_file(output)"
   ]
  },
  {
   "cell_type": "markdown",
   "metadata": {},
   "source": [
    "### The end"
   ]
  },
  {
   "cell_type": "markdown",
   "metadata": {},
   "source": [
    "You have reached the end! The coded message from the top of the page is repeated here, now as a Python string. \n",
    "Note that there are two lines, one for python 3.6 or higher, and one for lower versions. Run the cell that suits your Python version (or try both, if you're unsure)."
   ]
  },
  {
   "cell_type": "code",
   "execution_count": null,
   "metadata": {},
   "outputs": [],
   "source": [
    "# py3.6 or higher\n",
    "the_code = f\"{name} {maybeis} {chr(the_sum)} {snake_selector(1)} {remmargorp} {chr(the_length)}\""
   ]
  },
  {
   "cell_type": "code",
   "execution_count": null,
   "metadata": {},
   "outputs": [],
   "source": [
    "# lower versions\n",
    "the_code = \"{} {} {} {} {} {}\".format(name, maybeis, chr(the_sum), snake_selector(1), remmargorp, chr(the_length))"
   ]
  },
  {
   "cell_type": "markdown",
   "metadata": {},
   "source": [
    "Ok, now let's print the result! And to celebrate that you can open files, you will get a bonus picture!"
   ]
  },
  {
   "cell_type": "code",
   "execution_count": null,
   "metadata": {},
   "outputs": [],
   "source": [
    "#Run this code to see if you passed!\n",
    "print(the_code)\n",
    "print(output.replace('\\\\n', '\\n'))"
   ]
  }
 ],
 "metadata": {
  "kernelspec": {
   "display_name": "Python 3",
   "language": "python",
   "name": "python3"
  },
  "language_info": {
   "codemirror_mode": {
    "name": "ipython",
    "version": 3
   },
   "file_extension": ".py",
   "mimetype": "text/x-python",
   "name": "python",
   "nbconvert_exporter": "python",
   "pygments_lexer": "ipython3",
   "version": "3.6.8"
  }
 },
 "nbformat": 4,
 "nbformat_minor": 2
}
