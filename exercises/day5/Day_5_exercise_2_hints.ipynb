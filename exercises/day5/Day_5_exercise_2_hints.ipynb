{
 "cells": [
  {
   "cell_type": "markdown",
   "metadata": {},
   "source": [
    "### Exercise 2A"
   ]
  },
  {
   "cell_type": "markdown",
   "metadata": {},
   "source": [
    "The first thing you need to do is to load the `re` module and the text."
   ]
  },
  {
   "cell_type": "code",
   "execution_count": 34,
   "metadata": {},
   "outputs": [],
   "source": [
    "import re\n",
    "txt = \"A boy called Peter lived with his 2 parents in a village on the hillside. His parents, like most of the other people in the village, were sheep farmers.  There were 430 sheep in the village, 33 sheep dogs and 21 humans. Close to the village, there were also 5 wolves.  Everybody in the village took turns to look after the sheep, and when Peter was 10 years old, he was considered old enough to take his turn at shepherding.\""
   ]
  },
  {
   "cell_type": "markdown",
   "metadata": {},
   "source": [
    "#### Find one word consisting of only two letters.\n",
    "\n",
    "First, how do we express \"a word\"?\n",
    "\n",
    "A word is something which is surrounded by whitespace (yes, this is a simplified definition, but we only need\n",
    "to find one such word, so let's assume it's correct).\n",
    "A whitespace is `\\s`, so something - let's call it `X` - surrounded by whitespaces would be `\\sX\\s`.\n",
    "\n",
    "Second, how do we express \"a letter\" as a regular expression?\n",
    "\n",
    "An english letter is one between 'a' and 'z'. We want to express a *class* of with these letters.\n",
    "\n",
    "You can form a class like this:\n",
    "`[0-9]` (any digit) or like this `[abc]` ('a', 'b' or 'c').\n",
    "\n",
    "This gives us:\n",
    "\n",
    "one letter `=>` `[a-z]`\n",
    "\n",
    "two letters `=>` `[a-z][a-z]`\n",
    "\n",
    "Now we have: `\\s[a-z][a-z]\\s`. Two english letters surrounded by whitespace. Let's test it!"
   ]
  },
  {
   "cell_type": "code",
   "execution_count": 3,
   "metadata": {},
   "outputs": [
    {
     "name": "stdout",
     "output_type": "stream",
     "text": [
      "Found the word: ' in '\n"
     ]
    }
   ],
   "source": [
    "p = re.compile('\\s[a-z][a-z]\\s')  # any two english letters surronded by whitespaces\n",
    "match = p.search(txt)\n",
    "if match:\n",
    "    print(\"Found the word: '{}'\".format(match.group()))"
   ]
  },
  {
   "cell_type": "markdown",
   "metadata": {},
   "source": [
    "It works! Next exercise!"
   ]
  },
  {
   "cell_type": "markdown",
   "metadata": {},
   "source": [
    "#### Find all words that contain an 'o'.\n",
    "\n",
    "Again we need to specify\n",
    "what letters are allowed in words. Since last exercise we already have `[a-z]`.\n",
    "\n",
    "Now, \"a word containing o\" could also be expressed as \"any number of letters, then an 'o', then again any number of letter\".\n",
    "\n",
    "Any number is expressed as `*`, the Kleene star. Let's put it together:\n",
    "\n",
    "`[a-z]*` (any number of letters) + `o` + `[a-z]*` (any number of letters)\n",
    "\n",
    "Since the star `*` is greedy, it will consume as many characters as possible. This means that it will match all letters in the word, until the word boundary.\n",
    "\n",
    "`[a-z]*o[a-z]*`: a word containing 'o'.\n",
    "\n",
    "If we want to allow capital letters, we can add the `re.IGNORECASE` flag:"
   ]
  },
  {
   "cell_type": "code",
   "execution_count": 6,
   "metadata": {},
   "outputs": [
    {
     "name": "stdout",
     "output_type": "stream",
     "text": [
      "boy\n",
      "on\n",
      "most\n",
      "of\n",
      "other\n",
      "people\n",
      "dogs\n",
      "Close\n",
      "to\n",
      "also\n",
      "wolves\n",
      "Everybody\n",
      "took\n",
      "to\n",
      "look\n",
      "old\n",
      "considered\n",
      "old\n",
      "enough\n",
      "to\n"
     ]
    }
   ],
   "source": [
    "p = re.compile('[a-z]*o[a-z]*', re.IGNORECASE)  # an 'o' surronded by one or more english letters\n",
    "\n",
    "for match in p.finditer(txt):\n",
    "    print(match.group())"
   ]
  },
  {
   "cell_type": "markdown",
   "metadata": {},
   "source": [
    "#### Find all numbers written with digits\n",
    "\n",
    "We are looking for digits! Digits are be represented with `\\d`.\n",
    "\n",
    "`\\d` will match `1`. But it will not match `2`. How to express that we allow more than one digit?\n",
    "\n",
    "\"One or more\" is expressed as `+`.\n",
    "\n",
    "We thus have `\\d+`."
   ]
  },
  {
   "cell_type": "code",
   "execution_count": 23,
   "metadata": {},
   "outputs": [
    {
     "name": "stdout",
     "output_type": "stream",
     "text": [
      "2\n",
      "430\n",
      "33\n",
      "21\n",
      "5\n",
      "10\n"
     ]
    }
   ],
   "source": [
    "p = re.compile('\\d+')\n",
    "\n",
    "for match in p.finditer(txt):\n",
    "    print(match.group())"
   ]
  },
  {
   "cell_type": "markdown",
   "metadata": {},
   "source": [
    "### Rename Peter to Petter\n",
    "\n",
    "Remember the `p.sub(x, y)` method. It says that the pattern `p` should be replaced with `x` in the string `y`.\n",
    "\n",
    "\n",
    "This requires us to do two things:\n",
    "\n",
    "1. Find \"Peter\" (that is, compile the expression matching \"Peter\")\n",
    "2. Replace that pattern with \"Petter\" in the text.\n",
    "\n",
    "The first task should not be too hard, we are looking for an exact string (\"Peter\"). To compile it, we use\n",
    "\n",
    "```py\n",
    "p = re.compile(\"Peter\")\n",
    "```\n",
    "\n",
    "Then, we go on to the replacement:\n",
    "```py\n",
    "p.sub(\"Petter\", txt)\n",
    "```\n",
    "We substitute \"Peter\" with \"Pette\" in `txt`. Let's try it:"
   ]
  },
  {
   "cell_type": "code",
   "execution_count": 7,
   "metadata": {},
   "outputs": [
    {
     "name": "stdout",
     "output_type": "stream",
     "text": [
      "A boy called Petter lived with his 2 parents in a village on the hillside. His parents, like most of the other people in the village, were sheep farmers.  There were 430 sheep in the village, 33 sheep dogs and 21 humans. Close to the village, there were also 5 wolves.  Everybody in the village took turns to look after the sheep, and when Petter was 10 years old, he was considered old enough to take his turn at shepherding.\n"
     ]
    }
   ],
   "source": [
    "p = re.compile(\"Peter\")  # Match \"Peter\"\n",
    "\n",
    "print(p.sub(\"Petter\", txt))  # Replace with \"Petter\""
   ]
  },
  {
   "cell_type": "markdown",
   "metadata": {},
   "source": [
    "-----\n",
    "### Exercise 2b\n",
    "\n",
    "Here's what we will do:\n",
    "- for each line (that is, for each individual) look for the pattern\n",
    "- if it's found, count it and remember what this variantion looks like.\n",
    "\n",
    "\n",
    "We start by writing a function that reads each line in a file"
   ]
  },
  {
   "cell_type": "code",
   "execution_count": 40,
   "metadata": {},
   "outputs": [],
   "source": [
    "def check_protein(inputfile):\n",
    "    for line in open(inputfile):\n",
    "        if not line.startswith('>'):\n",
    "            # This is where we do something!\n",
    "            ..."
   ]
  },
  {
   "cell_type": "markdown",
   "metadata": {},
   "source": [
    "We now need to decide what pattern to look for. The original pattern is \"TPLTVETLAKT\", but \"VE\" is changed to \"Lx\" (\"x\" means anything), so we have \"TPLTLxTLAKT\".\n",
    "\n",
    "\"Any character\" is expressed by the period `.`, so the changed is expressed as `L.`.\n",
    "\n",
    "We get `TPLTL.TLAKT`. This is the pattern we are looking for, the changed orginial amino acid sequence. Let's compile the pattern:\n",
    "\n",
    "```py\n",
    "p = re.compile('TPLTL.TLAKT')\n",
    "```"
   ]
  },
  {
   "cell_type": "code",
   "execution_count": 41,
   "metadata": {},
   "outputs": [],
   "source": [
    "import re\n",
    "\n",
    "def check_protein(inputfile):\n",
    "    p = re.compile('TPLTL.TLAKT')  # The pattern\n",
    "    for line in open(inputfile):\n",
    "        if not line.startswith('>'):\n",
    "            # This is where we do something!\n",
    "            ...\n",
    "    "
   ]
  },
  {
   "cell_type": "markdown",
   "metadata": {},
   "source": [
    "The first question to answer is:\n",
    "- How many individuals have got this change?\n",
    "\n",
    "  For this, we will need to count, so we need a counter\n",
    "  \n",
    "  ```py\n",
    "  counter = 0```"
   ]
  },
  {
   "cell_type": "markdown",
   "metadata": {},
   "source": [
    "In the beginning of the function, we will have to set this to its start value.\n",
    "```py\n",
    "counter = 0\n",
    "```"
   ]
  },
  {
   "cell_type": "markdown",
   "metadata": {},
   "source": [
    "We now start searching for the pattern, for each line, using `re.search()`:\n",
    "\n",
    "```py\n",
    "    match = p.search(line)\n",
    "```\n",
    "\n",
    "If we get a match, we count it!\n",
    "```py\n",
    "    if match:\n",
    "        var = match.group()\n",
    "        counter += 1\n",
    "```\n"
   ]
  },
  {
   "cell_type": "markdown",
   "metadata": {},
   "source": [
    "That's it, let's print the result:\n",
    "```py\n",
    "    print(f'Found {counter} individuals with changed sequence')\n",
    "```"
   ]
  },
  {
   "cell_type": "markdown",
   "metadata": {},
   "source": [
    "Everything put together:"
   ]
  },
  {
   "cell_type": "code",
   "execution_count": 15,
   "metadata": {},
   "outputs": [],
   "source": [
    "import re\n",
    "\n",
    "\n",
    "def check_protein(inputfile):\n",
    "    count = 0\n",
    "    p = re.compile('TPLTL.TLAKT')\n",
    "    for line in open(inputfile):\n",
    "        if not line.startswith('>'):\n",
    "            match = p.search(line)\n",
    "            if match:\n",
    "                count += 1\n",
    "    print('Found {} individuals with changed sequence'.format(count))"
   ]
  },
  {
   "cell_type": "markdown",
   "metadata": {},
   "source": [
    "The two next questions are:\n",
    "\n",
    "- What variants are there (which values can x take)?\n",
    "\n",
    "  For this one, we will need to collect a number of different patterns (\"LQ\", \"LA\"...). We could use\n",
    "  a list, a set or a dictionary. Since the next question is...:\n",
    "  \n",
    "  \n",
    "- Which variation is the most common one?\n",
    "\n",
    "  ...we will have to remember *how many of each variants* we have seen. This tells us that   a dictionary will be handy. This way, we can store the variants and ther current count together:\n",
    "     ```py\n",
    "     {'LQ': 3, 'LA': 1, ...}```"
   ]
  },
  {
   "cell_type": "markdown",
   "metadata": {},
   "source": [
    "Define the empty dictionary in the beginning of the function, together with the `counter`:\n",
    "\n",
    "```py\n",
    "variants = {}\n",
    "```\n",
    "\n"
   ]
  },
  {
   "cell_type": "markdown",
   "metadata": {},
   "source": [
    "Go back to the code and to the line where you have found a match:\n",
    "```py\n",
    "if match:\n",
    "```\n",
    "\n",
    "If we have a match, we should:\n",
    "- find out what variation it is, exactly. What is the pattern we caught in the string?\n",
    "- if we haven't seen this variation before, add it to our `variants` dictionary\n",
    "- increase the counter for this specific variant\n",
    "\n",
    "To find the pattern:\n",
    "\n",
    "`.group()` will give us the text matched by `p`, that is the variantion we are looking for.\n",
    "\n",
    "```py\n",
    "if match:\n",
    "    var = match.group()\n",
    "    ```\n",
    "\n",
    "Now check if this variation (`var`) has been seen before:\n",
    "```py\n",
    "        if var not in variants:\n",
    "            variants[var] = 0\n",
    "```\n",
    "If not, add it to `variants`.\n",
    "\n",
    "\n",
    "We then increase the count for the variation:\n",
    "```py\n",
    "        variants[var] += 1\n",
    "```"
   ]
  },
  {
   "cell_type": "markdown",
   "metadata": {},
   "source": [
    "Everything put together:"
   ]
  },
  {
   "cell_type": "code",
   "execution_count": 17,
   "metadata": {},
   "outputs": [],
   "source": [
    "import re\n",
    "\n",
    "def check_protein(inputfile):\n",
    "    counter = 0\n",
    "    variants = {}\n",
    "    p = re.compile('TPLTL.TLAKT')\n",
    "    for line in open(inputfile):\n",
    "        if not line.startswith('>'):\n",
    "            match = p.search(line)\n",
    "            if match:\n",
    "                var = match.group()\n",
    "                counter += 1  # if we found a match, count it\n",
    "                if var not in variants:\n",
    "                    variants[var] = 0\n",
    "                variants[var] += 1    # count this one      "
   ]
  },
  {
   "cell_type": "markdown",
   "metadata": {},
   "source": [
    "The loop is done! All variations are now counted and we know how many individuals that have the variationvariations there are. Let's print it:"
   ]
  },
  {
   "cell_type": "markdown",
   "metadata": {},
   "source": [
    " ```py\n",
    "    print('Found {} types of variations'.format(len(variants)))```"
   ]
  },
  {
   "cell_type": "markdown",
   "metadata": {},
   "source": [
    "To answer which variation that is most common, we will loop over the dictionary `variants` and keep track of the maximum number."
   ]
  },
  {
   "cell_type": "markdown",
   "metadata": {},
   "source": [
    "```py\n",
    "    max_num = 0   # the highest frequency we have seen so far\n",
    "    max_variant = ''  # the variation with the highest frequency\n",
    "    for change, count in variants:\n",
    "        if count > max_num:\n",
    "            max_num = count\n",
    "            max_variant = change\n",
    "            ```"
   ]
  },
  {
   "cell_type": "code",
   "execution_count": 31,
   "metadata": {},
   "outputs": [],
   "source": [
    "import re\n",
    "\n",
    "\n",
    "def check_protein(inputfile):\n",
    "    counter = 0\n",
    "    variants = {}\n",
    "    p = re.compile('TPLTL.TLAKT')\n",
    "    for line in open(inputfile):\n",
    "        if not line.startswith('>'):\n",
    "            match = p.search(line)\n",
    "            if match:\n",
    "                counter += 1\n",
    "                var = match.group()\n",
    "                if var not in variants:\n",
    "                    variants[var] = 0\n",
    "                variants[var] += 1\n",
    "    print('Found {} individuals with changed sequence'.format(counter))\n",
    "    print('Found {} types of variations'.format(len(variants)))\n",
    "    max_num = 0\n",
    "    max_variant = ''\n",
    "    for change, count in variants.items():\n",
    "        if count > max_num:\n",
    "            max_num = count\n",
    "            max_variant = change\n",
    "    print('Most common variation: {} ({} instances)'.format(max_variant, max_num))\n"
   ]
  },
  {
   "cell_type": "markdown",
   "metadata": {},
   "source": [
    "To run the code:"
   ]
  },
  {
   "cell_type": "code",
   "execution_count": 39,
   "metadata": {},
   "outputs": [
    {
     "name": "stdout",
     "output_type": "stream",
     "text": [
      "Found 63 individuals with changed sequence\n",
      "Found 19 types of variations\n",
      "Most common variation: TPLTLQTLAKT (6 instances)\n"
     ]
    }
   ],
   "source": [
    "check_protein('../../downloads/proteins.fasta')"
   ]
  },
  {
   "cell_type": "markdown",
   "metadata": {},
   "source": [
    "## Bonus exercise: Exercise 2c"
   ]
  },
  {
   "cell_type": "markdown",
   "metadata": {},
   "source": [
    "### IMDB titles again"
   ]
  },
  {
   "cell_type": "markdown",
   "metadata": {},
   "source": [
    "We're back with IMDB. Again, feel free to reuse your previous code!\n",
    "\n",
    "Use regular expressions to solve the problems and print the results using formatting."
   ]
  },
  {
   "cell_type": "markdown",
   "metadata": {},
   "source": [
    "**a)** Change titles\n",
    "\n",
    "A lot of movie titles contains the word \"and\". Some people find the ampersand \"&\" a lot prettier. Pretend you're one of them and replace all \"and\" with \"&\" in the titles. Print a table with the changed titles, approximately like this:"
   ]
  },
  {
   "cell_type": "markdown",
   "metadata": {},
   "source": [
    "```\n",
    "-- Old title ---- | -- New title ---- \n",
    "\n",
    "   Me and you     |    Me & you\n",
    "   Cat and dog    |    Cat & dog\n",
    "```"
   ]
  },
  {
   "cell_type": "markdown",
   "metadata": {},
   "source": [
    "**b)** Find common titles\n",
    "\n",
    "Titles like \"the grave\", \"the crown\", \"the road\" are popular for movies. The pattern is \"the\" + one word (a noun). Find the three most popular such words.\n",
    "\n",
    "The output should look like this:\n",
    "```\n",
    "* Noun       Count\n",
    "- Crown      3\n",
    "- Cat        1\n",
    "- Dog        1\n",
    "```"
   ]
  },
  {
   "cell_type": "markdown",
   "metadata": {},
   "source": [
    "**c)** Find alliterations\n",
    "\n",
    "Alliteration is a fancy word for repetitions of a sound (or letter) in the beginning of each word, like in *\"Seven sisters slept soundly\"* or *\"Veni, vidi, vici\"*. It is used in poetry as well as in rhetoric. Surely there are some movie titles using alleration as well.\n",
    "\n",
    "Find all titles that are alliterations!"
   ]
  },
  {
   "cell_type": "markdown",
   "metadata": {},
   "source": [
    "We will consider a title as an alliteration if it contains the same letter in the beginning of every word.\n",
    "\n",
    "To make life a bit easier, we only look for alliterations with two words. Case is not important."
   ]
  },
  {
   "cell_type": "markdown",
   "metadata": {},
   "source": [
    "Print the output like this:\n",
    "```\n",
    "Title            |    Letter  \n",
    "My milkshake     |         M    \n",
    "Toxic toy        |         T\n",
    "```"
   ]
  },
  {
   "cell_type": "markdown",
   "metadata": {},
   "source": [
    "### Hints:\n",
    "\n",
    "For each task\n",
    "\n",
    "- first print the header line\n",
    "- then try to figure out what your pattern should look like\n",
    "- now loop through the lines of the input file and search for the pattern\n",
    "- if you get a match, decide wheather you should print it now or save it for later\n",
    "- consider using a `Counter()` from the module `collections` for task **b)**\n",
    "\n",
    "If you find it tricky to get started with the regular expressions, have a look at the documentation:\n",
    "\n",
    "- https://docs.python.org/3/howto/regex.html\n",
    "- https://docs.python.org/3/library/re.html\n",
    "\n",
    "Try listing a few examples of strings you want to match on a piece of paper. For **c)**, you have\n",
    "\n",
    "`My milkshake`\n",
    "\n",
    "`Toxic toy`\n",
    "\n",
    "Step through each line and abstract as much as you can. What characters are important? Which one's do we need to keep track of?\n",
    "\n",
    "\n",
    "#### Capturing groups\n",
    "\n",
    "For **c)**, and possibly **b)**, you will need to use [capturing groups](https://docs.python.org/3.7/howto/regex.html#grouping):"
   ]
  },
  {
   "cell_type": "code",
   "execution_count": 9,
   "metadata": {},
   "outputs": [
    {
     "name": "stdout",
     "output_type": "stream",
     "text": [
      "the group: cat\n",
      "the whole match: a cat\n"
     ]
    }
   ],
   "source": [
    "import re\n",
    "\n",
    "p = re.compile('a ([a-z]*)')  # the parentheses creates a group\n",
    "match = p.search('I see a cat over there.')\n",
    "print('the group:', match.group(1))  # what's in the captured group\n",
    "print('the whole match:', match.group())  # what's in the whole match"
   ]
  },
  {
   "cell_type": "markdown",
   "metadata": {},
   "source": [
    "#### Back references\n",
    "Task **c)** also requires back references (see the end of the section about [grouping](https://docs.python.org/3.7/howto/regex.html#grouping)):"
   ]
  },
  {
   "cell_type": "code",
   "execution_count": 16,
   "metadata": {},
   "outputs": [
    {
     "name": "stdout",
     "output_type": "stream",
     "text": [
      "the group: sleep\n",
      "the whole match: sleep and sleep\n"
     ]
    }
   ],
   "source": [
    "import re\n",
    "\n",
    "# look for a word X, the word 'and' and then the word X again\n",
    "p = re.compile(r'([a-z]+) and \\1') match = p.search('I eat and drink, I sleep and sleep.')\n",
    "print('the group:', match.group(1))  # what's in the captured group\n",
    "print('the whole match:', match.group())  # what's in the whole match"
   ]
  },
  {
   "cell_type": "markdown",
   "metadata": {},
   "source": [
    "\n",
    "**d)** Update your code for finding alliterations to also allow and find titles with more than two words. \n",
    "Print the output like this:\n",
    "```\n",
    "Title                   |    Letter  | Repetitions\n",
    "Mary maid me milkshake  |         M  | 4\n",
    "The toxic toy           |         T  | 3\n",
    "```"
   ]
  },
  {
   "cell_type": "markdown",
   "metadata": {},
   "source": [
    "**e)** So far we have required alliterations to start with the same *letter*. Usually, the definition is more complex as it is based on sound rather than spelling.\n",
    "\n",
    "Include the following criteria in your code:\n",
    "\n",
    "- all vowels are considered to be equivalent. *\"An elephant ate olives\"* is an alliteration.\n",
    "- allow [functions words]( https://en.wikipedia.org/wiki/Function_word) to occur in an alliteration, even if they do not match the current letter. This means that 'The sun sets and Sony speaks' is an alliteration. You do not have to list all function words - just allow five to ten of your choice."
   ]
  }
 ],
 "metadata": {
  "kernelspec": {
   "display_name": "Python 3",
   "language": "python",
   "name": "python3"
  },
  "language_info": {
   "codemirror_mode": {
    "name": "ipython",
    "version": 3
   },
   "file_extension": ".py",
   "mimetype": "text/x-python",
   "name": "python",
   "nbconvert_exporter": "python",
   "pygments_lexer": "ipython3",
   "version": "3.6.8"
  }
 },
 "nbformat": 4,
 "nbformat_minor": 2
}
