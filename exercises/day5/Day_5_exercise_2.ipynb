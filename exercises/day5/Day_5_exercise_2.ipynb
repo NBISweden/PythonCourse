{
 "cells": [
  {
   "cell_type": "markdown",
   "metadata": {},
   "source": [
    "## Exercise 2a"
   ]
  },
  {
   "cell_type": "markdown",
   "metadata": {},
   "source": [
    "### Finding variants in protein sequences"
   ]
  },
  {
   "cell_type": "markdown",
   "metadata": {},
   "source": [
    "The given fasta file (`proteins.fasta`) contains data on aminoacid sequences from 1000 different people. Each line represents one individual.\n",
    "\n",
    "We are interested in finding an amino acid substitution in the sequence \"TPLTVETLAKT\", where \"VE\" changes to \"Lx\" (x here means anything)."
   ]
  },
  {
   "cell_type": "markdown",
   "metadata": {},
   "source": [
    "- How many individuals have got this change?\n",
    "- What variants are there (which values can `x` take)?\n",
    "- Which variation is the most common one?"
   ]
  },
  {
   "cell_type": "markdown",
   "metadata": {},
   "source": [
    "Hints:\n",
    "For the last question, consider using `Counter()` from the module `collections`."
   ]
  },
  {
   "cell_type": "markdown",
   "metadata": {},
   "source": [
    "## Exercise 2b"
   ]
  },
  {
   "cell_type": "markdown",
   "metadata": {},
   "source": [
    "### IMDB titles again"
   ]
  },
  {
   "cell_type": "markdown",
   "metadata": {},
   "source": [
    "We're back with IMDB. Again, feel free to reuse your previous code!\n",
    "\n",
    "Use regular expressions to solve the problems and print the results using formatting."
   ]
  },
  {
   "cell_type": "markdown",
   "metadata": {},
   "source": [
    "**a)** Change titles\n",
    "\n",
    "A lot of movie titles contains the word \"and\". Some people find the ampersand \"&\" a lot prettier. Pretend you're one of them and replace all \"and\" with \"&\" in the titles. Print a table with the changed titles, approximately like this:"
   ]
  },
  {
   "cell_type": "markdown",
   "metadata": {},
   "source": [
    "```\n",
    "-- Old title ---- | -- New title ---- \n",
    "\n",
    "   Me and you     |    Me & you\n",
    "   Cat and dog    |    Cat & dog\n",
    "```"
   ]
  },
  {
   "cell_type": "markdown",
   "metadata": {},
   "source": [
    "**b)** Find common determined nouns\n",
    "\n",
    "Determined nouns (\"the grave\", \"the crown\") are popular in movie titles. Find the three most popular such nouns.\n",
    "\n",
    "The output should look like this:\n",
    "```\n",
    "* Noun       Count\n",
    "- Crown      3\n",
    "- Cat        1\n",
    "- Dog        1\n",
    "```"
   ]
  },
  {
   "cell_type": "markdown",
   "metadata": {},
   "source": [
    "**c)** Find alliterations\n",
    "\n",
    "Alliteration is the repetition of a sound (or letter) in the beginning of each word, like in \"Seven sisters slept soundly\" or \"Veni, vidi, vici\". It is used in poetry as well as in rhetorics. Surely there are some movie titles using alleration as well.\n",
    "\n",
    "Find all titles that are alliterations!"
   ]
  },
  {
   "cell_type": "markdown",
   "metadata": {},
   "source": [
    "We will consider a title as an alliteration if it contains the same letter in the beginning of every word.\n",
    "\n",
    "To make life a bit easier, we only look for alliterations with two words. Case is not important."
   ]
  },
  {
   "cell_type": "markdown",
   "metadata": {},
   "source": [
    "Print the output like this:\n",
    "```\n",
    "Title            |    Letter  \n",
    "My milkshake     |         M    \n",
    "Toxic toy        |         T\n",
    "```"
   ]
  },
  {
   "cell_type": "markdown",
   "metadata": {},
   "source": [
    "#### Hints:\n",
    "\n",
    "For each task\n",
    "\n",
    "- first print the header line\n",
    "- then try to figure out what your pattern should look like\n",
    "- now loop through the lines of the input file and search for the pattern\n",
    "- if you get a match, decide wheather you should print it now or save it for later\n",
    "- consider using a `Counter()` from the module `collections` for task b)\n",
    "\n",
    "If you find it tricky to get started with the regular expressions, try listing a few examples of strings you want to match on a piece of paper. For **c)**, you have\n",
    "\n",
    "`My milkshake`\n",
    "\n",
    "`Toxic toy`\n",
    "\n",
    "Then step through each line and abstract as much as you can. What characters are important? Which one's do we need to keep track of?"
   ]
  }
 ],
 "metadata": {
  "kernelspec": {
   "display_name": "Python 3",
   "language": "python",
   "name": "python3"
  },
  "language_info": {
   "codemirror_mode": {
    "name": "ipython",
    "version": 3
   },
   "file_extension": ".py",
   "mimetype": "text/x-python",
   "name": "python",
   "nbconvert_exporter": "python",
   "pygments_lexer": "ipython3",
   "version": "3.6.5"
  }
 },
 "nbformat": 4,
 "nbformat_minor": 2
}
