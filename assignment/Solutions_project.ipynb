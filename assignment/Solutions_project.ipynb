{
 "cells": [
  {
   "cell_type": "markdown",
   "metadata": {},
   "source": [
    "__1. What is the length of chr7 on the reference sequence?__\n",
    "\n",
    "Answer:\n",
    "Chromosome 7 has 159.345.973 base pairs"
   ]
  },
  {
   "cell_type": "code",
   "execution_count": 1,
   "metadata": {},
   "outputs": [
    {
     "name": "stdout",
     "output_type": "stream",
     "text": [
      "159345973\n"
     ]
    }
   ],
   "source": [
    "fh     = open('C:/Users/Nina/Documents/courses/Python_Beginner_Course/assignment/Homo_sapiens.GRCh38.dna_sm.chromosome.7.fa','r')\n",
    "length = 0\n",
    "for line in fh:\n",
    "    if not line.startswith('>'):\n",
    "        length += len(line.strip())   # add length of line to total length\n",
    "print(length)\n",
    "fh.close()"
   ]
  },
  {
   "cell_type": "markdown",
   "metadata": {},
   "source": [
    "__2. How many genes are annotated in the GTF file?__\n",
    "\n",
    "Answer:\n",
    "There are 58.395 genes annotated in the GTF file"
   ]
  },
  {
   "cell_type": "code",
   "execution_count": 3,
   "metadata": {},
   "outputs": [
    {
     "name": "stdout",
     "output_type": "stream",
     "text": [
      "58395\n"
     ]
    }
   ],
   "source": [
    "fh = open('C:/Users/Nina/Documents/courses/Python_Beginner_Course/assignment/Homo_sapiens.GRCh38.93.gtf','r')\n",
    "genes = 0\n",
    "for line in fh:\n",
    "    if not line.startswith('#'):\n",
    "        t = line.strip().split('\\t')[2]\n",
    "        if t == 'gene':                  # only count lines of type gene\n",
    "            genes += 1\n",
    "print(genes)\n",
    "fh.close()"
   ]
  },
  {
   "cell_type": "markdown",
   "metadata": {},
   "source": [
    "__All the following tasks are now related to the particular gene with id ENSG00000001626 on chromosome 7.__\n",
    "\n",
    "__1. How many transcripts can this gene generate?__\n",
    "\n",
    "Answer:\n",
    "This gene has 11 transcripts"
   ]
  },
  {
   "cell_type": "code",
   "execution_count": 4,
   "metadata": {},
   "outputs": [
    {
     "name": "stdout",
     "output_type": "stream",
     "text": [
      "11\n"
     ]
    }
   ],
   "source": [
    "fh = open('C:/Users/Nina/Documents/courses/Python_Beginner_Course/assignment/Homo_sapiens.GRCh38.93.gtf','r')\n",
    "transcripts = 0\n",
    "for line in fh:\n",
    "    if not line.startswith('#'):\n",
    "        cols = line.strip().split('\\t')\n",
    "        t = cols[2]\n",
    "        gene_id = cols[8].split(';')[0].split(' ')[1]\n",
    "        if gene_id == '\"ENSG00000001626\"' and t == 'transcript':  # check for correct gene id and type transcript\n",
    "            transcripts += 1\n",
    "print(transcripts)\n",
    "\n",
    "fh.close()"
   ]
  },
  {
   "cell_type": "markdown",
   "metadata": {},
   "source": [
    "__2. What is the longest transcript in nucleotides?__\n",
    "\n",
    "Answer: The transcript ENST00000003084 is the longest, spanning 188.703 bp"
   ]
  },
  {
   "cell_type": "code",
   "execution_count": 8,
   "metadata": {},
   "outputs": [
    {
     "name": "stdout",
     "output_type": "stream",
     "text": [
      "(188703, ' transcript_id \"ENST00000003084\"')\n"
     ]
    }
   ],
   "source": [
    "fh = open('C:/Users/Nina/Documents/courses/Python_Beginner_Course/assignment/Homo_sapiens.GRCh38.93.gtf','r')\n",
    "longest_trans = (0, '')\n",
    "for line in fh:\n",
    "    if not line.startswith('#'):\n",
    "        cols = line.strip().split('\\t')\n",
    "        t = cols[2]\n",
    "        gene_id = cols[8].split(';')[0].split(' ')[1]\n",
    "        if gene_id == '\"ENSG00000001626\"' and t == 'transcript':  # identify transcripts for correct gene\n",
    "            trans_id = cols[8].split(';')[2]\n",
    "            length = int(cols[4]) - int(cols[3]) + 1              # calculate length of transcript\n",
    "            if length > longest_trans[0]:                          \n",
    "                longest_trans = (length, trans_id)                # update with longer transcript\n",
    "print(longest_trans)\n",
    "fh.close()"
   ]
  },
  {
   "cell_type": "markdown",
   "metadata": {},
   "source": [
    "__3. Fetch the DNA sequence for that transcript__"
   ]
  },
  {
   "cell_type": "code",
   "execution_count": 9,
   "metadata": {},
   "outputs": [
    {
     "name": "stdout",
     "output_type": "stream",
     "text": [
      "117479963 117668665\n",
      "AATTGGAAGCAAATGACATCACAGCAGGTCAGAGAAAAAGGGTTGAGCGGCAGGCACCCAGAGTAGTAGGTCTTTGGCATTAGGAGCTTGAGCCCAGACGG\n"
     ]
    }
   ],
   "source": [
    "fh = open('C:/Users/Nina/Documents/courses/Python_Beginner_Course/assignment/Homo_sapiens.GRCh38.93.gtf','r')\n",
    "\n",
    "for line in fh:\n",
    "    if not line.startswith('#'):\n",
    "        cols = line.strip().split('\\t')\n",
    "        if cols[2] == 'transcript':\n",
    "            attr     = cols[8].split(';')\n",
    "            trans_id = attr[2].strip().split(' ')[1]\n",
    "            if trans_id == '\"ENST00000003084\"':       # find correct transcript\n",
    "                start = int(cols[3])                  # find start and stop\n",
    "                end   = int(cols[4])\n",
    "print(start,end)\n",
    "fh.close()\n",
    "\n",
    "fh = open('C:/Users/Nina/Documents/courses/Python_Beginner_Course/assignment/Homo_sapiens.GRCh38.dna_sm.chromosome.7.fa','r')\n",
    "sequence = []\n",
    "for line in fh:\n",
    "    if not line.startswith('>'):\n",
    "        sequence.append(line.strip())   # make one sequence of reference\n",
    "s = ''.join(sequence)\n",
    "\n",
    "out = open('C:/Users/Nina/Documents/courses/Python_Beginner_Course/assignment/transcript.ncbi.fasta','w')\n",
    "out.write(s[start-1:end])\n",
    "\n",
    "print(s[start-1:start+100])\n",
    "fh.close()"
   ]
  },
  {
   "cell_type": "code",
   "execution_count": 23,
   "metadata": {},
   "outputs": [
    {
     "name": "stdout",
     "output_type": "stream",
     "text": [
      "The sequences are matching!\n"
     ]
    }
   ],
   "source": [
    "# check so answer is correct\n",
    "from utils import check_answers\n",
    "\n",
    "check_answers.ex3('C:/Users/Nina/Documents/courses/Python_Beginner_Course/assignment/transcript.ncbi.fasta')"
   ]
  },
  {
   "cell_type": "markdown",
   "metadata": {},
   "source": [
    "__4. Fetch all the exons for that transcript, spliced together to one sequence__"
   ]
  },
  {
   "cell_type": "code",
   "execution_count": 11,
   "metadata": {},
   "outputs": [],
   "source": [
    "fh = open('C:/Users/Nina/Documents/courses/Python_Beginner_Course/assignment/Homo_sapiens.GRCh38.93.gtf','r')\n",
    "\n",
    "exons = []\n",
    "\n",
    "for line in fh:\n",
    "    if not line.startswith('#'):\n",
    "        cols = line.strip().split('\\t')\n",
    "        if cols[2] == 'exon':                        \n",
    "            attr     = cols[8].split(';')\n",
    "            trans_id = attr[2].strip().split(' ')[1]\n",
    "            if trans_id == '\"ENST00000003084\"':      # finds exons on correct transcript\n",
    "                start = int(cols[3])          \n",
    "                end   = int(cols[4])\n",
    "                exons.append((start, end))           # append start and end position of exon\n",
    "fh.close()\n",
    "\n",
    "fh = open('C:/Users/Nina/Documents/courses/Python_Beginner_Course/assignment/Homo_sapiens.GRCh38.dna_sm.chromosome.7.fa','r')\n",
    "sequence = []\n",
    "for line in fh:\n",
    "    if not line.startswith('>'):\n",
    "        sequence.append(line.strip())    # make one sequence of ref\n",
    "fh.close()\n",
    "s = ''.join(sequence)\n",
    "\n",
    "# write exon sequences to file\n",
    "out = open('C:/Users/Nina/Documents/courses/Python_Beginner_Course/assignment/result_exons.txt','w')\n",
    "for exon in exons:\n",
    "    out.write(s[exon[0]-1:exon[1]])   # write results, concatenated together for all exons\n",
    "out.close()"
   ]
  },
  {
   "cell_type": "code",
   "execution_count": 25,
   "metadata": {},
   "outputs": [
    {
     "name": "stdout",
     "output_type": "stream",
     "text": [
      "The sequences are matching!\n"
     ]
    }
   ],
   "source": [
    "# check so answer is correct\n",
    "from utils import check_answers\n",
    "\n",
    "check_answers.ex4('C:/Users/Nina/Documents/courses/Python_Beginner_Course/assignment/result_exons.txt')"
   ]
  },
  {
   "cell_type": "markdown",
   "metadata": {},
   "source": [
    "__5. What are the position and sequence of the start_codon and stop_codon from that transcript?__\n",
    "\n",
    "Answer:  \n",
    "Position of start codon is 117.480.095  \n",
    "Position of stop codon is 117.667.106"
   ]
  },
  {
   "cell_type": "code",
   "execution_count": 15,
   "metadata": {},
   "outputs": [
    {
     "name": "stdout",
     "output_type": "stream",
     "text": [
      "117480095\n",
      "117667106\n",
      "Start and stop codons are correct\n",
      "Start codon is: ATG\n",
      "Stop codon is: TAG\n"
     ]
    }
   ],
   "source": [
    "fh = open('C:/Users/Nina/Documents/courses/Python_Beginner_Course/assignment/Homo_sapiens.GRCh38.93.gtf','r')\n",
    "\n",
    "for line in fh:\n",
    "    if not line.startswith('#'):\n",
    "        cols = line.strip().split('\\t')\n",
    "        if cols[2] == 'start_codon' or cols[2] == 'stop_codon':  # check for start or stop codons\n",
    "            attr = cols[8].strip().split(';')\n",
    "            transId = attr[2].strip().split()[1]\n",
    "            if transId == '\"ENST00000003084\"':     # check for correct transcript\n",
    "                if cols[2] == 'start_codon':\n",
    "                    start_codon = int(cols[3])     # save start codon\n",
    "                elif cols[2] == 'stop_codon':\n",
    "                    stop_codon = int(cols[3])      # save stop codon\n",
    "        \n",
    "\n",
    "print(start_codon)\n",
    "print(stop_codon)\n",
    "fh.close()\n",
    "\n",
    "\n",
    "fh = open('C:/Users/Nina/Documents/courses/Python_Beginner_Course/assignment/Homo_sapiens.GRCh38.dna_sm.chromosome.7.fa','r')\n",
    "sequence = []\n",
    "for line in fh:\n",
    "    if not line.startswith('>'):\n",
    "        sequence.append(line.strip())   # make one sequence from ref\n",
    "fh.close()\n",
    "s = ''.join(sequence)\n",
    "\n",
    "#use start and stop codon pos as index in ref seq (mind index start difference)\n",
    "if not s[start_codon-1:start_codon+2] == 'ATG':\n",
    "    print('Warning, incorrect start codon: '+s[start_codon-1:start_codon+2])\n",
    "if not s[stop_codon-1:stop_codon+2] in ['TAG','TAA','TGA']:\n",
    "    print('Warning, incorrect stop codon: '+s[stop_codon-1:stop_codon+2])\n",
    "else:\n",
    "    print('Start and stop codons are correct')\n",
    "    print('Start codon is: '+ s[start_codon-1:start_codon+2])\n",
    "    print('Stop codon is: ' + s[stop_codon-1:stop_codon+2])"
   ]
  },
  {
   "cell_type": "markdown",
   "metadata": {},
   "source": [
    "__6. Translate into amino-acids, using an implementation of the translation table from utils.rna package.__"
   ]
  },
  {
   "cell_type": "code",
   "execution_count": 16,
   "metadata": {},
   "outputs": [],
   "source": [
    "from utils import rna\n",
    "\n",
    "fh = open('C:/Users/Nina/Documents/courses/Python_Beginner_Course/assignment/Homo_sapiens.GRCh38.93.gtf','r')\n",
    "\n",
    "# Identify start and stop codon positions\n",
    "for line in fh:\n",
    "    if not line.startswith('#'):\n",
    "        cols = line.strip().split('\\t')\n",
    "        if cols[2] == 'start_codon' or cols[2] == 'stop_codon':\n",
    "            attr = cols[8].strip().split(';')\n",
    "            transId = attr[2].strip().split()[1]\n",
    "            if transId == '\"ENST00000003084\"':\n",
    "                if cols[2] == 'start_codon':\n",
    "                    start_codon = int(cols[3])\n",
    "                elif cols[2] == 'stop_codon':\n",
    "                    stop_codon = int(cols[3])\n",
    "fh.close()\n",
    "\n",
    "\n",
    "# identify exon positions for transcript\n",
    "fh = open('C:/Users/Nina/Documents/courses/Python_Beginner_Course/assignment/Homo_sapiens.GRCh38.93.gtf','r')\n",
    "exons = []\n",
    "\n",
    "for line in fh:\n",
    "    if not line.startswith('#'):\n",
    "        cols = line.strip().split('\\t')\n",
    "        if cols[2] == 'exon':\n",
    "            attr     = cols[8].split(';')\n",
    "            trans_id = attr[2].strip().split(' ')[1]\n",
    "            if trans_id == '\"ENST00000003084\"':\n",
    "                start = int(cols[3])\n",
    "                end   = int(cols[4])\n",
    "                exons.append((start, end))\n",
    "fh.close()\n",
    "\n",
    "# Build one sequence of reference fasta\n",
    "fh = open('C:/Users/Nina/Documents/courses/Python_Beginner_Course/assignment/Homo_sapiens.GRCh38.dna_sm.chromosome.7.fa','r')\n",
    "sequence = []\n",
    "for line in fh:\n",
    "    if not line.startswith('>'):\n",
    "        sequence.append(line.strip())\n",
    "fh.close()\n",
    "s = ''.join(sequence)\n",
    "\n",
    "# Use exon start and end to extract exon sequences from fasta\n",
    "mrna = ''\n",
    "for exon in exons:\n",
    "    mrna += (s[exon[0]-1:exon[1]])\n",
    "\n",
    "# Translate to aminoacids\n",
    "start = start_codon - exons[0][0]\n",
    "\n",
    "aaSeq = rna.translate_dna(mrna[start:])\n",
    "    \n",
    "out = open('C:/Users/Nina/Documents/courses/Python_Beginner_Course/assignment/result_aa_answer.txt','w')\n",
    "out.write(aaSeq)\n",
    "out.close()\n",
    "print(aaSeq[0:20])"
   ]
  },
  {
   "cell_type": "code",
   "execution_count": 28,
   "metadata": {},
   "outputs": [
    {
     "name": "stdout",
     "output_type": "stream",
     "text": [
      "The sequences are matching!\n"
     ]
    }
   ],
   "source": [
    "# check so answer is correct\n",
    "from utils import check_answers\n",
    "\n",
    "check_answers.ex6('C:/Users/Nina/Documents/courses/Python_Beginner_Course/assignment/result_aa_answer.txt')"
   ]
  },
  {
   "cell_type": "markdown",
   "metadata": {},
   "source": [
    "__Using the python program you have designed above, find which one of the following 5 patients (patient-1, patient-2, patient-3, patient-4, and patient-5) carries a mutation on the CFTR gene, that can cause cystic fibrosis.__"
   ]
  },
  {
   "cell_type": "code",
   "execution_count": 19,
   "metadata": {},
   "outputs": [
    {
     "name": "stdout",
     "output_type": "stream",
     "text": [
      "Patient 3 has a different protein sequence\n",
      "Reference sequence:\n",
      "MQRSPLEKASVVSKLFFSWTRPILRKGYRQRLELSDIYQIPSVDSADNLSEKLEREWDRELASKKNPKLINALRRCFFWRFMFYGIFLYLGEVTKAVQPLLLGRIIASYDPDNKEERSIAIYLGIGLCLLFIVRTLLLHPAIFGLHHIGMQMRIAMFSLIYKKTLKLSSRVLDKISIGQLVSLLSNNLNKFDEGLALAHFVWIAPLQVALLMGLIWELLQASAFCGLGFLIVLALFQAGLGRMMMKYRDQRAGKISERLVITSEMIENIQSVKAYCWEEAMEKMIENLRQTELKLTRKAAYVRYFNSSAFFFSGFFVVFLSVLPYALIKGIILRKIFTTISFCIVLRMAVTRQFPWAVQTWYDSLGAINKIQDFLQKQEYKTLEYNLTTTEVVMENVTAFWEEGFGELFEKAKQNNNNRKTSNGDDSLFFSNFSLLGTPVLKDINFKIERGQLLAVAGSTGAGKTSLLMVIMGELEPSEGKIKHSGRISFCSQFSWIMPGTIKENIIFGVSYDEYRYRSVIKACQLEEDISKFAEKDNIVLGEGGITLSGGQRARISLARAVYKDADLYLLDSPFGYLDVLTEKEIFESCVCKLMANKTRILVTSKMEHLKKADKILILHEGSSYFYGTFSELQNLQPDFSSKLMGCDSFDQFSAERRNSILTETLHRFSLEGDAPVSWTETKKQSFKQTGEFGEKRKNSILNPINSIRKFSIVQKTPLQMNGIEEDSDEPLERRLSLVPDSEQGEAILPRISVISTGPTLQARRRQSVLNLMTHSVNQGQNIHRKTTASTRKVSLAPQANLTELDIYSRRLSQETGLEISEEINEEDLKECFFDDMESIPAVTTWNTYLRYITVHKSLIFVLIWCLVIFLAEVAASLVVLWLLGNTPLQDKGNSTHSRNNSYAVIITSTSSYYVFYIYVGVADTLLAMGFFRGLPLVHTLITVSKILHHKMLHSVLQAPMSTLNTLKAGGILNRFSKDIAILDDLLPLTIFDFIQLLLIVIGAIAVVAVLQPYIFVATVPVIVAFIMLRAYFLQTSQQLKQLESEGRSPIFTHLVTSLKGLWTLRAFGRQPYFETLFHKALNLHTANWFLYLSTLRWFQMRIEMIFVIFFIAVTFISILTTGEGEGRVGIILTLAMNIMSTLQWAVNSSIDVDSLMRSVSRVFKFIDMPTEGKPTKSTKPYKNGQLSKVMIIENSHVKKDDIWPSGGQMTVKDLTAKYTEGGNAILENISFSISPGQRVGLLGRTGSGKSTLLSAFLRLLNTEGEIQIDGVSWDSITLQQWRKAFGVIPQKVFIFSGTFRKNLDPYEQWSDQEIWKVADEVGLRSVIEQFPGKLDFVLVDGGCVLSHGHKQLMCLARSVLSKAKILLLDEPSAHLDPVTYQIIRRTLKQAFADCTVILCEHRIEAMLECQQFLVIEENKVRQYDSIQKLLNERSLFRQAISPSDRVKLFPHRNSSKCKSKPQIAALKEETEEEVQDTRL\n",
      "\n",
      "Patient 3 sequence:\n",
      "MQRSPLEKASVVSKLFFSWTRPILRKGYRQRLELSDIYQIPSVDSADNLSEKLEREWDRELASKKNPKLINALRRCFFWRFMFYGIFLYLGEVTKAVQPLLLGRIIASYDPDN\n"
     ]
    }
   ],
   "source": [
    "from utils import rna\n",
    "\n",
    "def translate(file, exons, start_codon):\n",
    "    fh = open(file, 'r')\n",
    "    sequence = []\n",
    "    for line in fh:\n",
    "        if not line.startswith('>'):\n",
    "            sequence.append(line.strip())\n",
    "    fh.close()\n",
    "    s = ''.join(sequence)\n",
    "\n",
    "    # Use exon start and end to extract exon sequences from fasta\n",
    "    mrna = ''\n",
    "    for exon in exons:\n",
    "        mrna += (s[exon[0]-1:exon[1]])\n",
    "\n",
    "    # Translate to aminoacids\n",
    "    start = start_codon - exons[0][0]  # use start of exon to start counting at beginning of mrna\n",
    "   \n",
    "    # use the translate_dna function from rna to get the aa sequence\n",
    "    aaSeq = rna.translate_dna(mrna[start:]) \n",
    "    \n",
    "    return aaSeq\n",
    "\n",
    "def findStartStopCodons(file, trans_id):\n",
    "    fh = open(file, 'r')\n",
    "    for line in fh:\n",
    "        if not line.startswith('#'):\n",
    "            cols = line.strip().split('\\t')\n",
    "            if cols[2] == 'start_codon' or cols[2] == 'stop_codon':\n",
    "                attr = cols[8].strip().split(';')\n",
    "                transId = attr[2].strip().split()[1]\n",
    "                if transId == trans_id:\n",
    "                    if cols[2] == 'start_codon':\n",
    "                        start_codon = int(cols[3])\n",
    "                    elif cols[2] == 'stop_codon':\n",
    "                        stop_codon = int(cols[3])\n",
    "    fh.close()\n",
    "    \n",
    "    return start_codon, stop_codon\n",
    "\n",
    "\n",
    "def findExonPositions(file, trans_id):\n",
    "    fh = open(file,'r')\n",
    "    exons = []\n",
    "\n",
    "    for line in fh:\n",
    "        if not line.startswith('#'):\n",
    "            cols = line.strip().split('\\t')\n",
    "            if cols[2] == 'exon':\n",
    "                attr     = cols[8].split(';')\n",
    "                transId = attr[2].strip().split(' ')[1]\n",
    "                if transId == trans_id:\n",
    "                    start = int(cols[3])\n",
    "                    end   = int(cols[4])\n",
    "                    exons.append((start, end))\n",
    "    fh.close()\n",
    "    \n",
    "    return exons\n",
    "\n",
    "\n",
    "# identify start and stop codon positions\n",
    "file                    = 'C:/Users/Nina/Documents/courses/Python_Beginner_Course/assignment/Homo_sapiens.GRCh38.93.gtf'\n",
    "start_codon, stop_codon = findStartStopCodons(file, '\"ENST00000003084\"')\n",
    "\n",
    "\n",
    "# identify exon positions for transcript\n",
    "file = 'C:/Users/Nina/Documents/courses/Python_Beginner_Course/assignment/Homo_sapiens.GRCh38.93.gtf'\n",
    "exons = findExonPositions(file, '\"ENST00000003084\"')\n",
    "\n",
    "\n",
    "# save the aa sequence for the reference\n",
    "file     = 'C:/Users/Nina/Documents/courses/Python_Beginner_Course/assignment/Homo_sapiens.GRCh38.dna_sm.chromosome.7.fa'\n",
    "aaSeqRef = translate(file, exons, start_codon)\n",
    "\n",
    "    \n",
    "# do the same for the 5 input patient files\n",
    "aaSeq_list = []\n",
    "i = 1\n",
    "while i < 6:\n",
    "    # Build one aa sequence per patient\n",
    "    file  = 'C:/Users/Nina/Documents/courses/Python_Beginner_Course/assignment/Patient'+str(i)+'.fa'\n",
    "    aaSeq = translate(file, exons, start_codon)\n",
    "    aaSeq_list.append(aaSeq) \n",
    "    i += 1 \n",
    "    \n",
    "# compare patient seq to ref seq\n",
    "for sequence in aaSeq_list:\n",
    "    if not len(sequence) == len(aaSeqRef):\n",
    "        print('Patient '+str(aaSeq_list.index(sequence)+1)+' has a different protein sequence')\n",
    "        print('Reference sequence:')\n",
    "        print(aaSeqRef+'\\n')\n",
    "        print('Patient '+str(aaSeq_list.index(sequence)+1)+' sequence:')\n",
    "        print(sequence)"
   ]
  },
  {
   "cell_type": "markdown",
   "metadata": {},
   "source": [
    "<h2>Solutions using Biopython</h2>"
   ]
  },
  {
   "cell_type": "markdown",
   "metadata": {},
   "source": [
    "__1. What is the length of chr7 on the reference sequence?__"
   ]
  },
  {
   "cell_type": "code",
   "execution_count": 21,
   "metadata": {},
   "outputs": [
    {
     "name": "stdout",
     "output_type": "stream",
     "text": [
      "159345973\n"
     ]
    }
   ],
   "source": [
    "from Bio import SeqIO\n",
    "for seq in SeqIO.parse(\"C:/Users/Nina/Documents/courses/Python_Beginner_Course/assignment/Homo_sapiens.GRCh38.dna_sm.chromosome.7.fa\", \"fasta\"):\n",
    "    print(len(seq))"
   ]
  },
  {
   "cell_type": "markdown",
   "metadata": {},
   "source": [
    "__3. Fetch the DNA sequence for that transcript__"
   ]
  },
  {
   "cell_type": "code",
   "execution_count": 22,
   "metadata": {},
   "outputs": [
    {
     "name": "stdout",
     "output_type": "stream",
     "text": [
      "117479963 117668665\n"
     ]
    },
    {
     "data": {
      "text/plain": [
       "188703"
      ]
     },
     "execution_count": 22,
     "metadata": {},
     "output_type": "execute_result"
    }
   ],
   "source": [
    "from Bio import SeqIO\n",
    "\n",
    "fh = open('C:/Users/Nina/Documents/courses/Python_Beginner_Course/assignment/Homo_sapiens.GRCh38.93.gtf','r')\n",
    "\n",
    "for line in fh:\n",
    "    if not line.startswith('#'):\n",
    "        cols = line.strip().split('\\t')\n",
    "        if cols[2] == 'transcript':\n",
    "            attr     = cols[8].split(';')\n",
    "            trans_id = attr[2].strip().split(' ')[1]\n",
    "            if trans_id == '\"ENST00000003084\"':       # find correct transcript\n",
    "                start = int(cols[3])                  # find start and stop\n",
    "                end   = int(cols[4])\n",
    "print(start,end)\n",
    "fh.close()\n",
    "\n",
    "for seq_record in SeqIO.parse(\"C:/Users/Nina/Documents/courses/Python_Beginner_Course/assignment/Homo_sapiens.GRCh38.dna_sm.chromosome.7.fa\", \"fasta\"):\n",
    "    seq = seq_record  \n",
    "    \n",
    "transcript = seq[start-1:end]\n",
    "\n",
    "out = open('C:/Users/Nina/Documents/courses/Python_Beginner_Course/assignment/transcript.ncbi.fasta','w')\n",
    "out.write(str(transcript.seq))"
   ]
  },
  {
   "cell_type": "markdown",
   "metadata": {},
   "source": [
    "__4. Fetch all the exons for that transcript, spliced together to one sequence__"
   ]
  },
  {
   "cell_type": "code",
   "execution_count": 24,
   "metadata": {},
   "outputs": [],
   "source": [
    "from Bio import SeqIO\n",
    "\n",
    "fh = open('C:/Users/Nina/Documents/courses/Python_Beginner_Course/assignment/Homo_sapiens.GRCh38.93.gtf','r')\n",
    "\n",
    "exons = []\n",
    "\n",
    "for line in fh:\n",
    "    if not line.startswith('#'):\n",
    "        cols = line.strip().split('\\t')\n",
    "        if cols[2] == 'exon':                        \n",
    "            attr     = cols[8].split(';')\n",
    "            trans_id = attr[2].strip().split(' ')[1]\n",
    "            if trans_id == '\"ENST00000003084\"':      # finds exons on correct transcript\n",
    "                start = int(cols[3])          \n",
    "                end   = int(cols[4])\n",
    "                exons.append((start, end))           # append start and end position of exon\n",
    "fh.close()\n",
    "\n",
    "for seq_record in SeqIO.parse(\"C:/Users/Nina/Documents/courses/Python_Beginner_Course/assignment/Homo_sapiens.GRCh38.dna_sm.chromosome.7.fa\", \"fasta\"):\n",
    "    seq = seq_record\n",
    "\n",
    "# write exon sequences to file\n",
    "out = open('C:/Users/Nina/Documents/courses/Python_Beginner_Course/assignment/result_exons.txt','w')\n",
    "for exon in exons:\n",
    "    out.write(str(seq[exon[0]-1:exon[1]].seq))   # write results, concatenated together for all exons\n",
    "out.close()"
   ]
  },
  {
   "cell_type": "markdown",
   "metadata": {},
   "source": [
    "__5. What are the position and sequence of the start_codon and stop_codon from that transcript?__\n",
    "\n",
    "Answer:  \n",
    "Position of start codon is 117.480.095  \n",
    "Position of stop codon is 117.667.106"
   ]
  },
  {
   "cell_type": "code",
   "execution_count": 26,
   "metadata": {},
   "outputs": [
    {
     "name": "stdout",
     "output_type": "stream",
     "text": [
      "117480095\n",
      "117667106\n",
      "Start and stop codons are correct\n"
     ]
    }
   ],
   "source": [
    "from Bio         import SeqIO\n",
    "from Bio.Data    import CodonTable\n",
    "\n",
    "fh = open('C:/Users/Nina/Documents/courses/Python_Beginner_Course/assignment/Homo_sapiens.GRCh38.93.gtf','r')\n",
    "\n",
    "for line in fh:\n",
    "    if not line.startswith('#'):\n",
    "        cols = line.strip().split('\\t')\n",
    "        if cols[2] == 'start_codon' or cols[2] == 'stop_codon':  # check for start or stop codons\n",
    "            attr = cols[8].strip().split(';')\n",
    "            transId = attr[2].strip().split()[1]\n",
    "            if transId == '\"ENST00000003084\"':     # check for correct transcript\n",
    "                if cols[2] == 'start_codon':\n",
    "                    start_codon = int(cols[3])     # save start codon\n",
    "                elif cols[2] == 'stop_codon':\n",
    "                    stop_codon = int(cols[3])      # save stop codon\n",
    "\n",
    "print(start_codon)\n",
    "print(stop_codon)\n",
    "fh.close()\n",
    "\n",
    "\n",
    "for seq_record in SeqIO.parse(\"C:/Users/Nina/Documents/courses/Python_Beginner_Course/assignment/Homo_sapiens.GRCh38.dna_sm.chromosome.7.fa\", \"fasta\"):\n",
    "    seq = seq_record.seq\n",
    "\n",
    "standard_table = CodonTable.unambiguous_dna_by_name[\"Standard\"]\n",
    "\n",
    "#use start and stop codon pos as index in ref seq (mind index start difference)\n",
    "if not seq[start_codon-1:start_codon+2] in standard_table.start_codons:\n",
    "    print('Warning, incorrect start codon: '+seq[start_codon-1:start_codon+2])\n",
    "if not seq[stop_codon-1:stop_codon+2] in standard_table.stop_codons:\n",
    "    print('Warning, incorrect stop codon: '+seq[stop_codon-1:stop_codon+2])\n",
    "else:\n",
    "    print('Start and stop codons are correct')"
   ]
  },
  {
   "cell_type": "markdown",
   "metadata": {},
   "source": [
    "__6. Translate into amino-acids__"
   ]
  },
  {
   "cell_type": "code",
   "execution_count": 27,
   "metadata": {},
   "outputs": [],
   "source": [
    "from Bio         import SeqIO\n",
    "from Bio.Data    import CodonTable\n",
    "\n",
    "fh = open('C:/Users/Nina/Documents/courses/Python_Beginner_Course/assignment/Homo_sapiens.GRCh38.93.gtf','r')\n",
    "\n",
    "# Identify start and stop codon positions\n",
    "for line in fh:\n",
    "    if not line.startswith('#'):\n",
    "        cols = line.strip().split('\\t')\n",
    "        if cols[2] == 'start_codon' or cols[2] == 'stop_codon':\n",
    "            attr = cols[8].strip().split(';')\n",
    "            transId = attr[2].strip().split()[1]\n",
    "            if transId == '\"ENST00000003084\"':\n",
    "                if cols[2] == 'start_codon':\n",
    "                    start_codon = int(cols[3])\n",
    "                elif cols[2] == 'stop_codon':\n",
    "                    stop_codon = int(cols[3])\n",
    "fh.close()\n",
    "\n",
    "\n",
    "# identify exon positions for transcript\n",
    "fh = open('C:/Users/Nina/Documents/courses/Python_Beginner_Course/assignment/Homo_sapiens.GRCh38.93.gtf','r')\n",
    "exons = []\n",
    "\n",
    "for line in fh:\n",
    "    if not line.startswith('#'):\n",
    "        cols = line.strip().split('\\t')\n",
    "        if cols[2] == 'exon':\n",
    "            attr     = cols[8].split(';')\n",
    "            trans_id = attr[2].strip().split(' ')[1]\n",
    "            if trans_id == '\"ENST00000003084\"':\n",
    "                start = int(cols[3])\n",
    "                end   = int(cols[4])\n",
    "                exons.append((start, end))\n",
    "fh.close()\n",
    "\n",
    "\n",
    "# Build one sequence of reference fasta\n",
    "for seq_record in SeqIO.parse(\"C:/Users/Nina/Documents/courses/Python_Beginner_Course/assignment/Homo_sapiens.GRCh38.dna_sm.chromosome.7.fa\", \"fasta\"):\n",
    "    seq = seq_record\n",
    "\n",
    "# Use exon start and end to extract exon sequences from fasta\n",
    "mrna = ''\n",
    "for exon in exons:\n",
    "    mrna += (seq[exon[0]-1:exon[1]])\n",
    "\n",
    "# Translate to aminoacids\n",
    "start = start_codon - exons[0][0]\n",
    "aaSeq = mrna[start:].translate(to_stop=True).seq\n",
    "\n",
    "out = open('C:/Users/Nina/Documents/courses/Python_Beginner_Course/assignment/result_aa_answer.txt','w')\n",
    "out.write(str(aaSeq))\n",
    "out.close()"
   ]
  },
  {
   "cell_type": "markdown",
   "metadata": {},
   "source": [
    "__Using the python program you have designed above, find which one of the following 5 patients (patient-1, patient-2, patient-3, patient-4, and patient-5) carries a mutation on the CFTR gene, that can cause cystic fibrosis.__"
   ]
  },
  {
   "cell_type": "code",
   "execution_count": 29,
   "metadata": {},
   "outputs": [
    {
     "name": "stdout",
     "output_type": "stream",
     "text": [
      "Patient 3 has a different protein sequence\n",
      "Reference sequence:\n",
      "MQRSPLEKASVVSKLFFSWTRPILRKGYRQRLELSDIYQIPSVDSADNLSEKLEREWDRELASKKNPKLINALRRCFFWRFMFYGIFLYLGEVTKAVQPLLLGRIIASYDPDNKEERSIAIYLGIGLCLLFIVRTLLLHPAIFGLHHIGMQMRIAMFSLIYKKTLKLSSRVLDKISIGQLVSLLSNNLNKFDEGLALAHFVWIAPLQVALLMGLIWELLQASAFCGLGFLIVLALFQAGLGRMMMKYRDQRAGKISERLVITSEMIENIQSVKAYCWEEAMEKMIENLRQTELKLTRKAAYVRYFNSSAFFFSGFFVVFLSVLPYALIKGIILRKIFTTISFCIVLRMAVTRQFPWAVQTWYDSLGAINKIQDFLQKQEYKTLEYNLTTTEVVMENVTAFWEEGFGELFEKAKQNNNNRKTSNGDDSLFFSNFSLLGTPVLKDINFKIERGQLLAVAGSTGAGKTSLLMVIMGELEPSEGKIKHSGRISFCSQFSWIMPGTIKENIIFGVSYDEYRYRSVIKACQLEEDISKFAEKDNIVLGEGGITLSGGQRARISLARAVYKDADLYLLDSPFGYLDVLTEKEIFESCVCKLMANKTRILVTSKMEHLKKADKILILHEGSSYFYGTFSELQNLQPDFSSKLMGCDSFDQFSAERRNSILTETLHRFSLEGDAPVSWTETKKQSFKQTGEFGEKRKNSILNPINSIRKFSIVQKTPLQMNGIEEDSDEPLERRLSLVPDSEQGEAILPRISVISTGPTLQARRRQSVLNLMTHSVNQGQNIHRKTTASTRKVSLAPQANLTELDIYSRRLSQETGLEISEEINEEDLKECFFDDMESIPAVTTWNTYLRYITVHKSLIFVLIWCLVIFLAEVAASLVVLWLLGNTPLQDKGNSTHSRNNSYAVIITSTSSYYVFYIYVGVADTLLAMGFFRGLPLVHTLITVSKILHHKMLHSVLQAPMSTLNTLKAGGILNRFSKDIAILDDLLPLTIFDFIQLLLIVIGAIAVVAVLQPYIFVATVPVIVAFIMLRAYFLQTSQQLKQLESEGRSPIFTHLVTSLKGLWTLRAFGRQPYFETLFHKALNLHTANWFLYLSTLRWFQMRIEMIFVIFFIAVTFISILTTGEGEGRVGIILTLAMNIMSTLQWAVNSSIDVDSLMRSVSRVFKFIDMPTEGKPTKSTKPYKNGQLSKVMIIENSHVKKDDIWPSGGQMTVKDLTAKYTEGGNAILENISFSISPGQRVGLLGRTGSGKSTLLSAFLRLLNTEGEIQIDGVSWDSITLQQWRKAFGVIPQKVFIFSGTFRKNLDPYEQWSDQEIWKVADEVGLRSVIEQFPGKLDFVLVDGGCVLSHGHKQLMCLARSVLSKAKILLLDEPSAHLDPVTYQIIRRTLKQAFADCTVILCEHRIEAMLECQQFLVIEENKVRQYDSIQKLLNERSLFRQAISPSDRVKLFPHRNSSKCKSKPQIAALKEETEEEVQDTRL\n",
      "\n",
      "Patient 3 sequence:\n",
      "MQRSPLEKASVVSKLFFSWTRPILRKGYRQRLELSDIYQIPSVDSADNLSEKLEREWDRELASKKNPKLINALRRCFFWRFMFYGIFLYLGEVTKAVQPLLLGRIIASYDPDN\n"
     ]
    }
   ],
   "source": [
    "from Bio         import SeqIO\n",
    "\n",
    "def translate(file, exons, start_codon):\n",
    "    for seq_record in SeqIO.parse(file, \"fasta\"):\n",
    "        seq = seq_record\n",
    "\n",
    "    # Use exon start and end to extract exon sequences from fasta\n",
    "    mrna = ''\n",
    "    for exon in exons:\n",
    "        mrna += (seq[exon[0]-1:exon[1]])\n",
    "\n",
    "    # Translate to aminoacids\n",
    "    start = start_codon - exons[0][0]\n",
    "    aaSeq = mrna[start:].translate(to_stop=True).seq\n",
    "\n",
    "    return aaSeq\n",
    "\n",
    "\n",
    "def findStartStopCodons(file, trans_id):\n",
    "    fh = open(file, 'r')\n",
    "    for line in fh:\n",
    "        if not line.startswith('#'):\n",
    "            cols = line.strip().split('\\t')\n",
    "            if cols[2] == 'start_codon' or cols[2] == 'stop_codon':\n",
    "                attr = cols[8].strip().split(';')\n",
    "                transId = attr[2].strip().split()[1]\n",
    "                if transId == trans_id:\n",
    "                    if cols[2] == 'start_codon':\n",
    "                        start_codon = int(cols[3])\n",
    "                    elif cols[2] == 'stop_codon':\n",
    "                        stop_codon = int(cols[3])\n",
    "    fh.close()\n",
    "    \n",
    "    return start_codon, stop_codon\n",
    "\n",
    "\n",
    "def findExonPositions(file, trans_id):\n",
    "    fh = open(file,'r')\n",
    "    exons = []\n",
    "\n",
    "    for line in fh:\n",
    "        if not line.startswith('#'):\n",
    "            cols = line.strip().split('\\t')\n",
    "            if cols[2] == 'exon':\n",
    "                attr     = cols[8].split(';')\n",
    "                transId = attr[2].strip().split(' ')[1]\n",
    "                if transId == trans_id:\n",
    "                    start = int(cols[3])\n",
    "                    end   = int(cols[4])\n",
    "                    exons.append((start, end))\n",
    "    fh.close()\n",
    "    \n",
    "    return exons\n",
    "\n",
    "\n",
    "# identify start and stop codon positions\n",
    "file                    = 'C:/Users/Nina/Documents/courses/Python_Beginner_Course/assignment/Homo_sapiens.GRCh38.93.gtf'\n",
    "start_codon, stop_codon = findStartStopCodons(file, '\"ENST00000003084\"')\n",
    "\n",
    "\n",
    "# identify exons positions for transcript\n",
    "file = 'C:/Users/Nina/Documents/courses/Python_Beginner_Course/assignment/Homo_sapiens.GRCh38.93.gtf'\n",
    "exons = findExonPositions(file, '\"ENST00000003084\"')\n",
    "\n",
    "\n",
    "# save the aa sequence for the reference\n",
    "file     = 'C:/Users/Nina/Documents/courses/Python_Beginner_Course/assignment/Homo_sapiens.GRCh38.dna_sm.chromosome.7.fa'\n",
    "aaSeqRef = translate(file, exons, start_codon)\n",
    "\n",
    "    \n",
    "# do the same for the 5 input patient files\n",
    "aaSeq_list = []\n",
    "i = 1\n",
    "while i < 6:\n",
    "    # Build one aa sequence per patient\n",
    "    file  = 'C:/Users/Nina/Documents/courses/Python_Beginner_Course/assignment/Patient'+str(i)+'.fa'\n",
    "    aaSeq = translate(file, exons, start_codon)\n",
    "    aaSeq_list.append(aaSeq) \n",
    "    i += 1 \n",
    "    \n",
    "# compare patient seq to ref seq\n",
    "for sequence in aaSeq_list:\n",
    "    if not len(sequence) == len(aaSeqRef):\n",
    "        print('Patient '+str(aaSeq_list.index(sequence)+1)+' has a different protein sequence')\n",
    "        print('Reference sequence:')\n",
    "        print(aaSeqRef+'\\n')\n",
    "        print('Patient '+str(aaSeq_list.index(sequence)+1)+' sequence:')\n",
    "        print(sequence)"
   ]
  }
 ],
 "metadata": {
  "kernelspec": {
   "display_name": "Python 3",
   "language": "python",
   "name": "python3"
  },
  "language_info": {
   "codemirror_mode": {
    "name": "ipython",
    "version": 3
   },
   "file_extension": ".py",
   "mimetype": "text/x-python",
   "name": "python",
   "nbconvert_exporter": "python",
   "pygments_lexer": "ipython3",
   "version": "3.6.2"
  }
 },
 "nbformat": 4,
 "nbformat_minor": 2
}
